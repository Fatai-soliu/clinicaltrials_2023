{
 "cells": [
  {
   "cell_type": "markdown",
   "metadata": {
    "application/vnd.databricks.v1+cell": {
     "cellMetadata": {
      "byteLimit": 2048000,
      "rowLimit": 10000
     },
     "inputWidgets": {},
     "nuid": "998cd5c2-64c5-4a07-8ae5-7a510d06b5a4",
     "showTitle": false,
     "title": ""
    }
   },
   "source": [
    "\n",
    "Using dbutils.fs.ls command to check the file that been uploaded"
   ]
  },
  {
   "cell_type": "code",
   "execution_count": 0,
   "metadata": {
    "application/vnd.databricks.v1+cell": {
     "cellMetadata": {
      "byteLimit": 2048000,
      "rowLimit": 10000
     },
     "inputWidgets": {},
     "nuid": "81fde3b8-3ed9-4d6e-a3a1-3d639940ce0a",
     "showTitle": false,
     "title": ""
    }
   },
   "outputs": [
    {
     "output_type": "stream",
     "name": "stdout",
     "output_type": "stream",
     "text": [
      "Out[110]: [FileInfo(path='dbfs:/FileStore/tables/account-models/', name='account-models/', size=0, modificationTime=0),\n FileInfo(path='dbfs:/FileStore/tables/accounts/', name='accounts/', size=0, modificationTime=0),\n FileInfo(path='dbfs:/FileStore/tables/accounts.zip', name='accounts.zip', size=5297592, modificationTime=1706721501000),\n FileInfo(path='dbfs:/FileStore/tables/accounts2/', name='accounts2/', size=0, modificationTime=0),\n FileInfo(path='dbfs:/FileStore/tables/activations/', name='activations/', size=0, modificationTime=0),\n FileInfo(path='dbfs:/FileStore/tables/activations.zip', name='activations.zip', size=8411369, modificationTime=1706718610000),\n FileInfo(path='dbfs:/FileStore/tables/clinicaltrial_2023.zip', name='clinicaltrial_2023.zip', size=52785750, modificationTime=1709406838000),\n FileInfo(path='dbfs:/FileStore/tables/clinicaltrial_2023___test/', name='clinicaltrial_2023___test/', size=0, modificationTime=0),\n FileInfo(path='dbfs:/FileStore/tables/clinicaltrial_2023___test.zip', name='clinicaltrial_2023___test.zip', size=52785750, modificationTime=1709465069000),\n FileInfo(path='dbfs:/FileStore/tables/flood.csv', name='flood.csv', size=128984, modificationTime=1707931801000),\n FileInfo(path='dbfs:/FileStore/tables/logs/', name='logs/', size=0, modificationTime=0),\n FileInfo(path='dbfs:/FileStore/tables/logs.zip', name='logs.zip', size=18168065, modificationTime=1706721504000),\n FileInfo(path='dbfs:/FileStore/tables/logs2/', name='logs2/', size=0, modificationTime=0),\n FileInfo(path='dbfs:/FileStore/tables/test.json', name='test.json', size=17958, modificationTime=1706113735000),\n FileInfo(path='dbfs:/FileStore/tables/webpage/', name='webpage/', size=0, modificationTime=0),\n FileInfo(path='dbfs:/FileStore/tables/webpage-1.zip', name='webpage-1.zip', size=1582, modificationTime=1707324494000),\n FileInfo(path='dbfs:/FileStore/tables/webpage.zip', name='webpage.zip', size=1582, modificationTime=1707324436000),\n FileInfo(path='dbfs:/FileStore/tables/webpage_files_all/', name='webpage_files_all/', size=0, modificationTime=0),\n FileInfo(path='dbfs:/FileStore/tables/webpage_files_jpg/', name='webpage_files_jpg/', size=0, modificationTime=0)]"
     ]
    }
   ],
   "source": [
    "#Using dbutils.fs.ls command to check the file that been uploaded\n",
    "\n",
    "dbutils.fs.ls(\"/FileStore/tables/\")"
   ]
  },
  {
   "cell_type": "code",
   "execution_count": 0,
   "metadata": {
    "application/vnd.databricks.v1+cell": {
     "cellMetadata": {
      "byteLimit": 2048000,
      "rowLimit": 10000
     },
     "inputWidgets": {},
     "nuid": "ac802750-a9de-4035-be9f-ae67cfd08216",
     "showTitle": false,
     "title": ""
    }
   },
   "outputs": [
    {
     "output_type": "stream",
     "name": "stdout",
     "output_type": "stream",
     "text": [
      "Out[111]: True"
     ]
    }
   ],
   "source": [
    "dbutils.fs.cp(\"/FileStore/tables/clinicaltrial_2023___test.zip\", \"file:/tmp/\")"
   ]
  },
  {
   "cell_type": "markdown",
   "metadata": {
    "application/vnd.databricks.v1+cell": {
     "cellMetadata": {
      "byteLimit": 2048000,
      "rowLimit": 10000
     },
     "inputWidgets": {},
     "nuid": "6e611c74-3b0d-4728-ad05-8921aa22be5c",
     "showTitle": false,
     "title": ""
    }
   },
   "source": [
    "\n",
    "Reusable code to unzip all files"
   ]
  },
  {
   "cell_type": "code",
   "execution_count": 0,
   "metadata": {
    "application/vnd.databricks.v1+cell": {
     "cellMetadata": {
      "byteLimit": 2048000,
      "rowLimit": 10000
     },
     "inputWidgets": {},
     "nuid": "6eac60d3-6018-4938-aeaf-6c04d414e9ad",
     "showTitle": false,
     "title": ""
    }
   },
   "outputs": [],
   "source": [
    "fileroot = \"clinicaltrial_2023___test\"\n",
    "\n",
    "dbutils.fs.cp(\"FileStore/tables/\" + fileroot + \".zip\", \"file:/tmp/\")\n",
    "\n",
    "import os\n",
    "os.environ['fileroot'] = fileroot\n"
   ]
  },
  {
   "cell_type": "code",
   "execution_count": 0,
   "metadata": {
    "application/vnd.databricks.v1+cell": {
     "cellMetadata": {
      "byteLimit": 2048000,
      "rowLimit": 10000
     },
     "inputWidgets": {},
     "nuid": "1d214728-d1ea-41ac-80dc-7b46076dc126",
     "showTitle": false,
     "title": ""
    }
   },
   "outputs": [
    {
     "output_type": "stream",
     "name": "stdout",
     "output_type": "stream",
     "text": [
      "Archive:  /tmp/clinicaltrial_2023___test.zip\n  inflating: /tmp/clinicaltrial_2023.csv  \n"
     ]
    }
   ],
   "source": [
    "%sh\n",
    "\n",
    "unzip -d /tmp /tmp/$fileroot.zip"
   ]
  },
  {
   "cell_type": "code",
   "execution_count": 0,
   "metadata": {
    "application/vnd.databricks.v1+cell": {
     "cellMetadata": {
      "byteLimit": 2048000,
      "rowLimit": 10000
     },
     "inputWidgets": {},
     "nuid": "2c68d828-ed52-44f6-bb4b-f6c2eb0579be",
     "showTitle": false,
     "title": ""
    }
   },
   "outputs": [
    {
     "output_type": "stream",
     "name": "stdout",
     "output_type": "stream",
     "text": [
      "Out[114]: True"
     ]
    }
   ],
   "source": [
    "dbutils.fs.mkdirs(\"FileStore/tables/\" + fileroot)"
   ]
  },
  {
   "cell_type": "code",
   "execution_count": 0,
   "metadata": {
    "application/vnd.databricks.v1+cell": {
     "cellMetadata": {
      "byteLimit": 2048000,
      "rowLimit": 10000
     },
     "inputWidgets": {},
     "nuid": "07b4b7fd-40b9-44d5-8f49-e75ef613528c",
     "showTitle": false,
     "title": ""
    }
   },
   "outputs": [
    {
     "output_type": "stream",
     "name": "stdout",
     "output_type": "stream",
     "text": [
      "Out[115]: True"
     ]
    }
   ],
   "source": [
    "dbutils.fs.mv(\"file:/tmp/clinicaltrial_2023.csv\", \"/FileStore/tables/\" + fileroot, True)"
   ]
  },
  {
   "cell_type": "code",
   "execution_count": 0,
   "metadata": {
    "application/vnd.databricks.v1+cell": {
     "cellMetadata": {
      "byteLimit": 2048000,
      "rowLimit": 10000
     },
     "inputWidgets": {},
     "nuid": "d9d3404f-2073-46a4-b710-517317e83672",
     "showTitle": false,
     "title": ""
    }
   },
   "outputs": [
    {
     "output_type": "stream",
     "name": "stdout",
     "output_type": "stream",
     "text": [
      "[Truncated to first 65536 bytes]\nOut[116]: 'NCT Number \\\\t Study Title \\\\t Acronym \\\\t Study Status \\\\t Conditions \\\\t Interventions \\\\t Sponsor \\\\t Collaborators \\\\t Enrollment \\\\t Funder Type \\\\t Study Type \\\\t Study Design,Start Date,Completion Date\\r\\n\"NCT03630471 \\\\t Effectiveness of a Problem-solving Intervention for Common Adolescent Mental Health Problems in India \\\\t PRIDE \\\\t COMPLETED \\\\t Mental Health Issue (E.G., Depression, Psychosis, Personality Disorder, Substance Abuse) \\\\t BEHAVIORAL: PRIDE \\'Step 1\\' problem-solving intervention|BEHAVIORAL: Enhanced usual care \\\\t Sangath \\\\t Harvard Medical School (HMS and HSDM)|London School of Hygiene and Tropical Medicine \\\\t 250 \\\\t OTHER \\\\t INTERVENTIONAL \\\\t Allocation: RANDOMIZED|Intervention Model: PARALLEL|Masking: DOUBLE (INVESTIGATOR, OUTCOMES_ASSESSOR)|Primary Purpose: TREATMENT\",20 August 2018,28 February 2019\\r\\n\"NCT05992571 \\\\t Oral Ketone Monoester Supplementation and Resting-state Brain Connectivity \\\\t RECRUITING \\\\t Cerebrovascular Function|Cognition \\\\t OTHER: Placebo|DIETARY_SUPPLEMENT: β-OHB \\\\t McMaster University \\\\t Alzheimer\\'s Society of Brant, Haldimand Norfolk, Hamilton Halton \\\\t 30 \\\\t OTHER \\\\t INTERVENTIONAL \\\\t Allocation: RANDOMIZED|Intervention Model: CROSSOVER|Masking: TRIPLE (PARTICIPANT, INVESTIGATOR, OUTCOMES_ASSESSOR)|Primary Purpose: BASIC_SCIENCE\",25 October 2023,2024-08\\r\\nNCT01854671 \\\\t Investigating the Effect of a Prenatal Family Planning Counseling Intervention Led by Community Health Workers on Postpartum Contraceptive Use Among Women in the West Bank \\\\t COMPLETED \\\\t Focus: Contraceptive Counseling|Focus: Postpartum Contraception \\\\t OTHER: family planning counseling let by community health workers \\\\t Planned Parenthood League of Massachusetts \\\\t Society for Family Planning Research Fund \\\\t 176 \\\\t OTHER \\\\t INTERVENTIONAL \\\\t Allocation: NON_RANDOMIZED|Intervention Model: PARALLEL|Masking: NONE|Primary Purpose: ,2013-08,2014-12\\r\\nNCT03820271 \\\\t New Prognostic Predictive Models of Mortality of Decompensated Cirrhotic Patients Waiting for Liver Transplantation \\\\t SUPERMELD \\\\t RECRUITING \\\\t Decompensated Cirrhosis|Liver Transplantation \\\\t OTHER: SuperMELD \\\\t Assistance Publique - Hôpitaux de Paris \\\\t 500 \\\\t OTHER \\\\t INTERVENTIONAL \\\\t Allocation: NA|Intervention Model: SINGLE_GROUP|Masking: NONE|Primary Purpose: OTHER,01 October 2020,01 October 2023\\r\\nNCT01160471 \\\\t Noninvasive Imaging of Heart Failure: A Pilot Study \\\\t COMPLETED \\\\t MRI|Acquired Heart Disease|Myocardial Fibrosis \\\\t National Institutes of Health Clinical Center (CC) \\\\t 62 \\\\t NIH \\\\t OBSERVATIONAL \\\\t Observational Model: |Time Perspective: p,01 July 2010,30 October 2019\\r\\n\"NCT04338971 \\\\t Ipsihand Device Use in Stroke Patients to Assess Functional Motor Outcomes \\\\t COMPLETED \\\\t Stroke \\\\t DEVICE: IpsiHand Therapy \\\\t Neurolutions, Inc. \\\\t 24 \\\\t INDUSTRY \\\\t INTERVENTIONAL \\\\t Allocation: NA|Intervention Model: SINGLE_GROUP|Masking: NONE|Primary Purpose: TREATMENT\",05 May 2017,09 October 2020\\r\\n\"NCT05843071 \\\\t PMCF Study to Evaluate Performance and Safety of \"\"NASAL SPRAYS \"\" Used to Relieve Nasal Congestion and Dryness \\\\t RECRUITING \\\\t Nasal Congestion|Nasal Dryness \\\\t DEVICE: Nasal sprays with sea salts \\\\t C.O.C. Farmaceutici S.r.l. \\\\t 105 \\\\t INDUSTRY \\\\t INTERVENTIONAL \\\\t Allocation: NA|Intervention Model: SINGLE_GROUP|Masking: NONE|Primary Purpose: TREATMENT\",01 September 2022,15 June 2023\\r\\nNCT06174571 \\\\t Evaluation of Pregnancy Associated Plasma Protein A (PAPPA) as a Biomarker in Breast Cancer. \\\\t NOT_YET_RECRUITING \\\\t Breast Cancer \\\\t Assiut University \\\\t 90 \\\\t OTHER \\\\t OBSERVATIONAL \\\\t Observational Model: |Time Perspective: p,01 February 2024,01 March 2026\\r\\nNCT03700671 \\\\t High Intensity Interval Training Versus Circuit Training \\\\t COMPLETED \\\\t High Intensity Interval Training \\\\t OTHER: High intensity interval training|OTHER: Circuit training \\\\t University of Central Lancashire \\\\t University of Hull \\\\t 42 \\\\t OTHER \\\\t INTERVENTIONAL \\\\t Allocation: RANDOMIZED|Intervention Model: PARALLEL|Masking: NONE|Primary Purpose: BASIC_SCIENCE,11 May 2016,13 December 2017\\r\\n\"NCT02633371 \\\\t A Pilot Study Exploring the Efficacy and Safety of Topical Oxybutynin 3% Gel for Primary Focal Hyperhidrosis in Adolescents and Young Adults \\\\t COMPLETED \\\\t Hyperhidrosis \\\\t DRUG: Oxybutynin 3% gel \\\\t University of Colorado, Denver \\\\t Society for Pediatric Dermatology \\\\t 10 \\\\t OTHER \\\\t INTERVENTIONAL \\\\t Allocation: NA|Intervention Model: SINGLE_GROUP|Masking: NONE|Primary Purpose: TREATMENT\",2016-02,2017-05\\r\\n\"NCT03400371 \\\\t Biology of Juvenile Myoclonic Epilepsy \\\\t BIOJUME \\\\t RECRUITING \\\\t Juvenile Myoclonic Epilepsy \\\\t OTHER: Blood draw|OTHER: Existing samples \\\\t King\\'s College London \\\\t King\\'s College Hospital NHS Trust|Charles University, Czech Republic|Hopital Universitaire Robert-Debre|Vestre Viken Hospital Trust|The Hospital for Sick Children|Cardiff University|Odense University Hospital \\\\t 1000 \\\\t OTHER \\\\t OBSERVATIONAL \\\\t Observational Model: |Time Perspective: p\",13 July 2017,30 June 2026\\r\\n\"NCT00221871 \\\\t Proper Dosage of Ketamine in Intravenous Regional Anesthesia \\\\t UNKNOWN \\\\t Pain. \\\\t DRUG: Different dosages of Ketamine \\\\t University Health Network, Toronto \\\\t OTHER \\\\t INTERVENTIONAL \\\\t Allocation: RANDOMIZED|Intervention Model: PARALLEL|Masking: SINGLE|Primary Purpose: TREATMENT\",2004-01,2005-01\\r\\n\"NCT05664971 \\\\t JS004 Combined With Toripalimab and With Standard Chemotherapy Treat Patients With Advanced Lung Cancer \\\\t RECRUITING \\\\t Advanced Lung Cancer \\\\t BIOLOGICAL: Recombinant humanized anti-BTLA monoclonal antibody (JS004) injection|BIOLOGICAL: Toripalimab|DRUG: Docetaxel|DRUG: Pemetrexed|DRUG: Cisplatin|DRUG: Carboplatin|DRUG: Paclitaxel|DRUG: Etoposide \\\\t Shanghai Junshi Bioscience Co., Ltd. \\\\t 240 \\\\t OTHER \\\\t INTERVENTIONAL \\\\t Allocation: NON_RANDOMIZED|Intervention Model: SINGLE_GROUP|Masking: NONE|Primary Purpose: TREATMENT\",09 February 2023,17 November 2024\\r\\nNCT02383771 \\\\t Reversal of the Anti-platelet Effects of Ticagrelor \\\\t REVERSAL \\\\t COMPLETED \\\\t Coronary Artery Disease \\\\t DRUG: Ticagrelor|DRUG: Aspirin + Ticagrelor|DRUG: Control|DRUG: Aspirin + Ticagrelor \\\\t The First Affiliated Hospital with Nanjing Medical University \\\\t National Natural Science Foundation of China \\\\t 64 \\\\t OTHER \\\\t INTERVENTIONAL \\\\t Allocation: RANDOMIZED|Intervention Model: PARALLEL|Masking: SINGLE (INVESTIGATOR)|Primary Purpose: TREATMENT,2015-03,2016-12\\r\\n\"NCT01897571 \\\\t Study of Tazemetostat as Single Agent in Solid Tumors or B-cell Lymphomas and in Combination With Prednisolone in DLBCL \\\\t COMPLETED \\\\t B-cell Lymphomas (Phase 1)|Advanced Solid Tumors (Phase 1)|Diffuse Large B-cell Lymphoma (Phase 2)|Follicular Lymphoma (Phase 2)|Transformed Follicular Lymphoma|Primary Mediastinal Large B-Cell Lymphoma \\\\t DRUG: Tazemetostat|DRUG: Prednisolone|DRUG: Tazemetostat \\\\t Epizyme, Inc. \\\\t 400 \\\\t INDUSTRY \\\\t INTERVENTIONAL \\\\t Allocation: NON_RANDOMIZED|Intervention Model: SINGLE_GROUP|Masking: NONE|Primary Purpose: TREATMENT\",13 June 2013,02 November 2021\\r\\n\"NCT03928171 \\\\t The Effect of Intra-abdominal Pressure on Peritoneal Perfusion During Laparoscopic Colorectal Surgery \\\\t PERFUSION \\\\t COMPLETED \\\\t Laparoscopic Surgery|Pneumoperitoneum \\\\t OTHER: Intra-abdominal pressure during laparoscopy \\\\t Radboud University Medical Center \\\\t 30 \\\\t OTHER \\\\t INTERVENTIONAL \\\\t Allocation: RANDOMIZED|Intervention Model: PARALLEL|Masking: TRIPLE (PARTICIPANT, CARE_PROVIDER, OUTCOMES_ASSESSOR)|Primary Purpose: TREATMENT\",13 June 2018,24 December 2018\\r\\nNCT00848471 \\\\t Validation of the Quark RMR Calorimeter (Cosmed) Versus Deltatrac II (GE Health Care Clinical Systems) \\\\t Protocol Quark \\\\t UNKNOWN \\\\t Healthy|Obesity \\\\t DEVICE: Quark RMR|DEVICE: Deltatrac II \\\\t Hospices Civils de Lyon \\\\t Centre de Recherche en Nutrition Humaine Rhone-Alpe \\\\t 30 \\\\t OTHER \\\\t INTERVENTIONAL \\\\t Allocation: RANDOMIZED|Intervention Model: CROSSOVER|Masking: NONE|Primary Purpose: HEALTH_SERVICES_RESEARCH,2009-01,2009-12\\r\\n\"NCT01189071 \\\\t Preoperative Use of Darifenacin (Enablex) to Alleviate Postoperative Ureteral Stent Pain \\\\t TERMINATED \\\\t Overactive Bladder|Renal Colic|Pain, Postoperative \\\\t DRUG: Darifenacin \\\\t University of Missouri-Columbia \\\\t 3 \\\\t OTHER \\\\t INTERVENTIONAL \\\\t Allocation: RANDOMIZED|Intervention Model: PARALLEL|Masking: DOUBLE (PARTICIPANT, INVESTIGATOR)|Primary Purpose: TREATMENT\",2009-08,2011-07\\r\\n\"NCT01005771 \\\\t Study to Assess the Efficacy and Safety of GF-001001-00 Cream in Secondarily-Infected Traumatic Lesions \\\\t COMPLETED \\\\t Secondarily Infected Traumatic Lesions \\\\t DRUG: GF-001001-00|DRUG: Placebo \\\\t Ferrer Internacional S.A. \\\\t 200 \\\\t INDUSTRY \\\\t INTERVENTIONAL \\\\t Allocation: RANDOMIZED|Intervention Model: PARALLEL|Masking: DOUBLE (PARTICIPANT, INVESTIGATOR)|Primary Purpose: TREATMENT\",2009-09,2010-03\\r\\nNCT05321771 \\\\t Family Caregiver Role in Decreasing Delirium in Older Patients With Fractured Femur Using HELP Principles. \\\\t FamHelp \\\\t RECRUITING \\\\t Delirium|Femoral Fracture \\\\t OTHER: Family caregiver application of HELP principles \\\\t Rambam Health Care Campus \\\\t 50 \\\\t OTHER \\\\t INTERVENTIONAL \\\\t Allocation: NA|Intervention Model: SINGLE_GROUP|Masking: NONE|Primary Purpose: DIAGNOSTIC,02 December 2021,31 December 2023\\r\\nNCT00520871 \\\\t The Water-Blueberry Study \\\\t COMPLETED \\\\t Cardiovascular Disease \\\\t DRUG: Blueberry juice \\\\t University of Oslo \\\\t Ullevaal University Hospital \\\\t 62 \\\\t OTHER \\\\t INTERVENTIONAL \\\\t Allocation: RANDOMIZED|Intervention Model: PARALLEL|Masking: SINGLE|Primary Purpose: PREVENTION,2003-03,2004-04\\r\\nNCT05913271 \\\\t Study on the Correlation Between NAT2(N-acetyltransferase2) Gene Polymorphism and CrCl(Creatine Clreance) and the Efficacy and Safety of Levosimendan in Patients With Severe Heart Failure \\\\t RECRUITING \\\\t Heart Failure|Levosimendan|Efficacy|Safety \\\\t Yi Han \\\\t Qianfoshan Hospital \\\\t 352 \\\\t OTHER \\\\t OBSERVATIONAL \\\\t Observational Model: |Time Perspective: p,30 May 2023,30 May 2025\\r\\n\"NCT04006171 \\\\t Comparison of Serum C Type Natriuretic Peptide Levels Between Polycystic Ovary Syndrome Patients and Healthy Women \\\\t CNP \\\\t COMPLETED \\\\t Polycystic Ovary Syndrome|c Type Natriuretic Peptide|Menstrual Irregularity|Hyperandrogenism \\\\t DIAGNOSTIC_TEST: C type natriuretic peptide \\\\t Near East University, Turkey \\\\t 90 \\\\t OTHER \\\\t INTERVENTIONAL \\\\t Allocation: NON_RANDOMIZED|Intervention Model: PARALLEL|Masking: NONE|Primary Purpose: DIAGNOSTIC\",15 July 2019,01 September 2020\\r\\n\"NCT04340271 \\\\t The Clinical Utility of Extracorporeal Shock Wave Therapy on Burns \\\\t COMPLETED \\\\t Burn Scar \\\\t OTHER: Extracorporeal shock wave therapy|OTHER: conventional occupational therapy \\\\t Hangang Sacred Heart Hospital \\\\t 48 \\\\t OTHER \\\\t INTERVENTIONAL \\\\t Allocation: RANDOMIZED|Intervention Model: PARALLEL|Masking: DOUBLE (PARTICIPANT, OUTCOMES_ASSESSOR)|Primary Purpose: TREATMENT\",15 April 2020,31 May 2020\\r\\nNCT03075371 \\\\t Homeostatic and Non-homeostatic Processing of Food Cues in Anorexia Nervosa \\\\t COMPLETED \\\\t Anorexia Nervosa|Healthy \\\\t OTHER: Glucose|OTHER: Placebo \\\\t University of Heidelberg Medical Center \\\\t German Research Foundation \\\\t 85 \\\\t OTHER \\\\t INTERVENTIONAL \\\\t Allocation: NON_RANDOMIZED|Intervention Model: CROSSOVER|Masking: SINGLE (PARTICIPANT)|Primary Purpose: BASIC_SCIENCE,2014-09,2019-02\\r\\nNCT05966571 \\\\t Ovarian Innervation Study in Patients With Polycystic Ovary Syndrome (PCOS) \\\\t RECRUITING \\\\t Polycystic Ovary Syndrome \\\\t PROCEDURE: Ovary Biopsie \\\\t Albanian University \\\\t 50 \\\\t OTHER \\\\t OBSERVATIONAL \\\\t Observational Model: |Time Perspective: p,01 July 2023,01 December 2024\\r\\nNCT03490071 \\\\t Long-term Follow up of Patients With Longstanding Hip and Groin Pain \\\\t Lund LHGP \\\\t RECRUITING \\\\t Hip Pain Chronic \\\\t Lund University \\\\t 81 \\\\t OTHER \\\\t OBSERVATIONAL \\\\t Observational Model: |Time Perspective: p,01 January 2018,31 December 2024\\r\\nNCT05801471 \\\\t Clinical Evaluation of Visual Field Change in Glaucoma: an Assessment of Different Models of Progression \\\\t RECRUITING \\\\t Glaucoma \\\\t Centervue SpA \\\\t 200 \\\\t INDUSTRY \\\\t OBSERVATIONAL \\\\t Observational Model: |Time Perspective: p,06 May 2022,06 November 2025\\r\\n\"NCT00266071 \\\\t Study of the Cutaneous Microcirculation in Elderly People \\\\t UNKNOWN \\\\t Elderly People \\\\t BEHAVIORAL: Cutaneous response \\\\t University Hospital, Angers \\\\t OTHER_GOV \\\\t OBSERVATIONAL \\\\t Observational Model: |Time Perspective: p\",2005-12,\\r\\nNCT03097471 \\\\t BPK-S Integration (Ceramic) Post Market Clinical Follow-Up \\\\t UNKNOWN \\\\t Restoration if Knee Joint Function \\\\t DEVICE: BPK-S Integration (Ceramic) \\\\t Klemens Trieb \\\\t 40 \\\\t OTHER \\\\t OBSERVATIONAL \\\\t Observational Model: |Time Perspective: p,2011-05,2018-03\\r\\nNCT01746771 \\\\t A Phase I-II Study of HM781-36B Combined With Paclitaxel and Trastuzumab in HER-2 Positive Advanced Gastric Cancer \\\\t COMPLETED \\\\t HER-2 Positive Advanced Gastric Cancer \\\\t DRUG: HM781-36B(Poziotinib)|DRUG: Paclitaxel|DRUG: Trastuzumab \\\\t Hanmi Pharmaceutical Company Limited \\\\t National OncoVenture \\\\t 44 \\\\t INDUSTRY \\\\t INTERVENTIONAL \\\\t Allocation: NA|Intervention Model: SINGLE_GROUP|Masking: NONE|Primary Purpose: TREATMENT,2012-11,2015-08\\r\\n\"NCT01068171 \\\\t Developing a Diabetic Foot Ulcer Protocol \\\\t WITHDRAWN \\\\t Diabetic Foot Ulcers \\\\t OTHER: type of footwear|OTHER: collagen dressing with and without silver \\\\t The University of Texas Health Science Center, Houston \\\\t Harris County Hospital District|Baylor College of Medicine \\\\t 0 \\\\t OTHER \\\\t INTERVENTIONAL \\\\t Allocation: RANDOMIZED|Intervention Model: PARALLEL|Masking: NONE|Primary Purpose: TREATMENT\",2010-05,2012-06\\r\\nNCT00455871 \\\\t Study of Treatment Effects of Combination Therapy of Lucentis Plus Reduced Fluence PDT With Visudyne in Patients With Exudative AMD \\\\t UNKNOWN \\\\t Age-Related Macular Degeneration \\\\t DRUG: reduced fluence photodynamic therapy with Visudyne|DRUG: Lucentis \\\\t Barnes Retina Institute \\\\t QLT Inc. \\\\t 30 \\\\t OTHER \\\\t INTERVENTIONAL \\\\t Allocation: RANDOMIZED|Intervention Model: PARALLEL|Masking: NONE|Primary Purpose: TREATMENT,2007-04,2010-10\\r\\nNCT01334671 \\\\t The Clinical Effect of Intensive Statin Therapy in STEMI Patients Before Emergency PCI \\\\t UNKNOWN \\\\t ST-elevation Myocardial Infarction|(STEMI) \\\\t DRUG: Atorvastatin \\\\t General Hospital of Chinese Armed Police Forces \\\\t 150 \\\\t OTHER \\\\t INTERVENTIONAL \\\\t Allocation: RANDOMIZED|Intervention Model: PARALLEL|Masking: SINGLE (PARTICIPANT)|Primary Purpose: TREATMENT,2011-02,2013-03\\r\\nNCT00553371 \\\\t Follow-up Evaluation Using CT Scans in Patients Who Have Been Treated For Metastatic Testicular Cancer \\\\t UNKNOWN \\\\t Testicular Germ Cell Tumor \\\\t OTHER: biomarker analysis|PROCEDURE: computed tomography \\\\t Royal Marsden NHS Foundation Trust \\\\t 300 \\\\t OTHER \\\\t OBSERVATIONAL \\\\t Observational Model: |Time Perspective: p,2006-04,\\r\\nNCT01993771 \\\\t Monitoring of Anaesthesic Depth in the Cerebral Cortex Using Bispectral Bilateral System. \\\\t COMPLETED \\\\t Breast Surgery \\\\t PROCEDURE: Surgery with general anaesthesia.|PROCEDURE: Raw EEG \\\\t Parc de Salut Mar \\\\t 25 \\\\t OTHER \\\\t OBSERVATIONAL \\\\t Observational Model: |Time Perspective: p,2013-09,2015-10\\r\\n\"NCT00041171 \\\\t Docetaxel and St. John\\'s Wort in Treating Patients With Solid Tumors That Cannot Be Removed By Surgery \\\\t WITHDRAWN \\\\t Adult Solid Tumor|Breast Cancer|Head and Neck Cancer|Kidney and Urinary Cancer|Male Reproductive Cancer|Thorax and Respiratory Cancer \\\\t DRUG: Hypericum perforatum|DRUG: docetaxel|OTHER: placebo \\\\t Alliance for Clinical Trials in Oncology \\\\t National Cancer Institute (NCI) \\\\t 0 \\\\t OTHER \\\\t INTERVENTIONAL \\\\t Allocation: RANDOMIZED|Intervention Model: PARALLEL|Masking: DOUBLE (PARTICIPANT, INVESTIGATOR)|Primary Purpose: TREATMENT\",,\\r\\nNCT03354871 \\\\t Developing Models for Fatigue Monitoring in Obstetrics and Gyne- Cology Residents Using Wearables \\\\t IoT4Resident \\\\t UNKNOWN \\\\t Fatigue \\\\t Hillel Yaffe Medical Center \\\\t International Business Machines (IBM) \\\\t 6 \\\\t OTHER_GOV \\\\t OBSERVATIONAL \\\\t Observational Model: |Time Perspective: p,2017-11,28 February 2018\\r\\nNCT02804971 \\\\t Cardiovascular Comorbidities and Bronchiectasis \\\\t BRONCOCA \\\\t ACTIVE_NOT_RECRUITING \\\\t Bronchiectasis \\\\t Centre Hospitalier Intercommunal Creteil \\\\t 200 \\\\t OTHER \\\\t OBSERVATIONAL \\\\t Observational Model: |Time Perspective: p,25 October 2016,2023-12\\r\\n\"NCT04591171 \\\\t Assessing the Feasibility of N-of-1 Trials in Children With Hypertension and Chronic Kidney Disease \\\\t COMPLETED \\\\t Hypertension|Chronic Kidney Diseases \\\\t PROCEDURE: n-of-1 trial guided clinical decision making \\\\t The University of Texas Health Science Center, Houston \\\\t Children\\'s Hospital of Philadelphia|National Institute of Diabetes and Digestive and Kidney Diseases (NIDDK) \\\\t 9 \\\\t OTHER \\\\t INTERVENTIONAL \\\\t Allocation: NA|Intervention Model: SINGLE_GROUP|Masking: NONE|Primary Purpose: TREATMENT\",25 January 2021,18 February 2022\\r\\n\"NCT04814771 \\\\t Mass Balance Study of TS-142 in Healthy Adult Subjects. \\\\t COMPLETED \\\\t Healthy Male Subjects \\\\t DRUG: [14C] TS-142 \\\\t Taisho Pharmaceutical Co., Ltd. \\\\t 6 \\\\t INDUSTRY \\\\t INTERVENTIONAL \\\\t Allocation: NA|Intervention Model: SINGLE_GROUP|Masking: NONE|Primary Purpose: BASIC_SCIENCE\",19 April 2021,19 May 2021\\r\\nNCT02920671 \\\\t Muscle OXPHOS and Nutrient Homeostasis \\\\t ACTIVE_NOT_RECRUITING \\\\t Mitochondrial Diseases|Obesity \\\\t OTHER: Tracer-enhanced oral glucose tolerance test (OGTT*)|OTHER: Muscle MRI|OTHER: Dual energy x-ray absorptiometry (DXA)|OTHER: Questionnaires \\\\t University of Pennsylvania \\\\t 45 \\\\t OTHER \\\\t OBSERVATIONAL \\\\t Observational Model: |Time Perspective: p,14 February 2017,30 June 2024\\r\\nNCT04756271 \\\\t Safety and Immunogenicity of Oxford AstraZeneca Vaccine Against COVID-19 Infection \\\\t COMPLETED \\\\t Vaccine Adverse Reaction|Seroconversion \\\\t BIOLOGICAL: SARS-Cov-2 neutralizing antibody titer \\\\t Zagazig University \\\\t 246 \\\\t OTHER_GOV \\\\t INTERVENTIONAL \\\\t Allocation: NA|Intervention Model: SINGLE_GROUP|Masking: NONE|Primary Purpose: PREVENTION,11 February 2021,22 December 2021\\r\\nNCT02022371 \\\\t Prostate Cancer Genomic Heterogeneity \\\\t PROGENY \\\\t COMPLETED \\\\t PROSTATE CANCER \\\\t PROCEDURE: Targeted biopsies of the prostate \\\\t University College London Hospitals \\\\t 50 \\\\t OTHER \\\\t INTERVENTIONAL \\\\t Allocation: NA|Intervention Model: SINGLE_GROUP|Masking: NONE|Primary Purpose: DIAGNOSTIC,2014-09,2016-06\\r\\n\"NCT04585971 \\\\t A Study on Hemodynamic Relationship Including Cerebral Blood Flow Using Phase Contrast and Signal Intensity Gradient of Brain Magnetic Resonance Imaging, and Carotid Doppler Ultrasound \\\\t UNKNOWN \\\\t Cerebral Blood Flow \\\\t DIAGNOSTIC_TEST: Signal intensity gradient \\\\t Chonbuk National University Hospital \\\\t Medi Image, Inc \\\\t 30 \\\\t OTHER \\\\t OBSERVATIONAL \\\\t Observational Model: |Time Perspective: p\",03 September 2020,31 January 2021\\r\\n\"NCT05473871 \\\\t Enhancing Capacity in Churches to Implement PA Programs \\\\t RECRUITING \\\\t Cardiovascular Diseases \\\\t BEHAVIORAL: Faith in Action|BEHAVIORAL: Faith in Action+|BEHAVIORAL: Faith in Action++ \\\\t San Diego State University \\\\t Washington University School of Medicine|University of California, Berkeley|University of California, San Diego \\\\t 812 \\\\t OTHER \\\\t INTERVENTIONAL \\\\t Allocation: RANDOMIZED|Intervention Model: PARALLEL|Masking: TRIPLE (PARTICIPANT, INVESTIGATOR, OUTCOMES_ASSESSOR)|Primary Purpose: PREVENTION\",15 November 2022,31 October 2026\\r\\nNCT00103571 \\\\t Olanzapine Versus Aripiprazole in the Treatment of Acutely Ill Patients With Schizophrenia \\\\t COMPLETED \\\\t Schizophrenia \\\\t DRUG: Olanzapine|DRUG: Aripiprazole \\\\t Eli Lilly and Company \\\\t 600 \\\\t INDUSTRY \\\\t INTERVENTIONAL \\\\t Allocation: RANDOMIZED|Intervention Model: PARALLEL|Masking: DOUBLE|Primary Purpose: TREATMENT,2004-07,2006-08\\r\\n\"NCT00000571 \\\\t Trial of Inspiratory Muscle Rest and Exercise in Chronic Obstructive Lung Disease \\\\t COMPLETED \\\\t Lung Diseases|Lung Diseases, Obstructive|Chronic Obstructive Pulmonary Disease \\\\t DEVICE: ventilators, negative pressure \\\\t McGill University \\\\t National Heart, Lung, and Blood Institute (NHLBI) \\\\t OTHER \\\\t INTERVENTIONAL \\\\t Allocation: RANDOMIZED|Intervention Model: |Masking: |Primary Purpose: TREATMENT\",1986-02,\\r\\n\"NCT01053871 \\\\t Propofol Versus Midazolam With Fentanyl for EGD Endomicroscopy \\\\t COMPLETED \\\\t Gastritis|Functional Dyspepsia \\\\t DRUG: propofol|DRUG: midazolam with fentanyl \\\\t Shandong University \\\\t 104 \\\\t OTHER \\\\t INTERVENTIONAL \\\\t Allocation: RANDOMIZED|Intervention Model: PARALLEL|Masking: DOUBLE (PARTICIPANT, INVESTIGATOR)|Primary Purpose: \",2010-01,2010-05\\r\\n\"NCT02370771 \\\\t Proteomic Analysis in Sera From Patients With Erosive Hand Osteoarthritis \\\\t PASEO \\\\t COMPLETED \\\\t Erosive Hand Osteoarthritis \\\\t PROCEDURE: Biological sampling|DEVICE: Radiographic evaluation \\\\t University Hospital, Rouen \\\\t 32 \\\\t OTHER \\\\t INTERVENTIONAL \\\\t Allocation: NA|Intervention Model: SINGLE_GROUP|Masking: NONE|Primary Purpose: DIAGNOSTIC\",09 June 2015,17 November 2019\\r\\nNCT05974371 \\\\t Episodic Memory Integration and Interference \\\\t NOT_YET_RECRUITING \\\\t Episodic Memory \\\\t OTHER: emotional context similarity \\\\t Boston College \\\\t 150 \\\\t OTHER \\\\t INTERVENTIONAL \\\\t Allocation: NA|Intervention Model: SINGLE_GROUP|Masking: NONE|Primary Purpose: BASIC_SCIENCE,2024-08,2027-08\\r\\nNCT03631771 \\\\t Pediatric Risk of Hypothyroidism With Iodinated Contrast Media \\\\t WITHDRAWN \\\\t Hypothyroidism \\\\t DRUG: Iohexol|DRUG: Iodixanol|DRUG: Iopromide|DRUG: Ioversol \\\\t GE Healthcare \\\\t Bayer|Guerbet/Liebel-Flarsheim \\\\t 0 \\\\t INDUSTRY \\\\t INTERVENTIONAL \\\\t Allocation: NA|Intervention Model: SINGLE_GROUP|Masking: NONE|Primary Purpose: OTHER,2022-03,2025-02\\r\\nNCT02645071 \\\\t Brief Program in Reducing Sedentary Behavior and Promoting Physical Exercise \\\\t COMPLETED \\\\t Physical Activity \\\\t BEHAVIORAL: Physical Activity \\\\t The University of Hong Kong \\\\t Hong Kong Jockey Club Charities Trust \\\\t 141 \\\\t OTHER \\\\t INTERVENTIONAL \\\\t Allocation: NA|Intervention Model: SINGLE_GROUP|Masking: NONE|Primary Purpose: PREVENTION,2015-07,2017-07\\r\\n\"NCT04004871 \\\\t Induction Chemotherapy With Nab-paclitaxel, Cisplatin and Fluorouracil for Locoregionally Advanced Nasopharyngeal Carcinoma \\\\t UNKNOWN \\\\t Nasopharyngeal Carcinoma|Nasopharyngeal Cancer|Nasopharynx Cancer \\\\t DRUG: Nab-paclitaxel, Cisplatin and Fluorouracil|RADIATION: concurrent chemoradiotherapy \\\\t Guangxi Medical University \\\\t Second Affiliated Hospital of Guangxi Medical University|Guilin Medical University, China|Liuzhou Workers Hospital|Wuzhou Red Cross Hospital \\\\t 60 \\\\t OTHER \\\\t INTERVENTIONAL \\\\t Allocation: NA|Intervention Model: SINGLE_GROUP|Masking: NONE|Primary Purpose: TREATMENT\",05 July 2019,30 June 2022\\r\\nNCT05953571 \\\\t Laparoscopic Assisted Dismembered Pyeloplasty Versus Open Pyeloplasty in (UPJO) With Poorly Function Kidney in Pediatrics \\\\t COMPLETED \\\\t Uretro-pelvic Junction Obstruction|Poorly Function Kidney \\\\t PROCEDURE: Dismembered Pyeloplasty \\\\t Al-Azhar University \\\\t University Hospital Fattouma Bourguiba \\\\t 65 \\\\t OTHER \\\\t OBSERVATIONAL \\\\t Observational Model: |Time Perspective: p,08 January 2022,30 June 2023\\r\\n\"NCT02570971 \\\\t Mannitol Versus Supportive Care in Ciguatera Fish Poisoning \\\\t UNKNOWN \\\\t Ciguatoxin \\\\t DRUG: Mannitol \\\\t University of South Florida \\\\t Florida Poison Control Center \\\\t 200 \\\\t OTHER \\\\t INTERVENTIONAL \\\\t Allocation: RANDOMIZED|Intervention Model: SINGLE_GROUP|Masking: TRIPLE (PARTICIPANT, CARE_PROVIDER, INVESTIGATOR)|Primary Purpose: TREATMENT\",2015-10,\\r\\n\"NCT01425671 \\\\t Neural Oscillations as Genetic and Functional Biomarkers in Normal and Disease States \\\\t ACTIVE_NOT_RECRUITING \\\\t Schizophrenia|Schizoaffective Disorder|Schizophreniform Disorder \\\\t University of Maryland, Baltimore \\\\t National Institute of Mental Health (NIMH) \\\\t 800 \\\\t OTHER \\\\t OBSERVATIONAL \\\\t Observational Model: |Time Perspective: p\",30 November 2010,2024-06\\r\\nNCT04962971 \\\\t Comparative Effect of 3 Different Cranberry Extracts on Cystitis Related Urinary Comfort in Women \\\\t COMPLETED \\\\t Recurrent Cystitis \\\\t DIETARY_SUPPLEMENT: X|DIETARY_SUPPLEMENT: Y|DIETARY_SUPPLEMENT: Z \\\\t CEN Biotech \\\\t Nexira|CEN Nutriment \\\\t 216 \\\\t INDUSTRY \\\\t OBSERVATIONAL \\\\t Observational Model: |Time Perspective: p,01 September 2020,01 February 2022\\r\\n\"NCT02827071 \\\\t Ocular Imaging Study Using Advanced OCT \\\\t UNKNOWN \\\\t Retinal Vascular Disorder|Macular Degeneration \\\\t University of California, Los Angeles \\\\t 1000 \\\\t OTHER \\\\t OBSERVATIONAL \\\\t Observational Model: |Time Perspective: p\",2016-07,\\r\\nNCT04236271 \\\\t TELEsurveillance of Patients in PostopErative Bridge surgeryAge CoronairE \\\\t TELE-PEACE \\\\t COMPLETED \\\\t Coronary Artery Bypass \n\n*** WARNING: max output size exceeded, skipping output. ***\n\n\\\\t OTHER: early neurological rehabilitation|OTHER: no-early neurological rehabilitation \\\\t Ospedale Generale Di Zona Moriggia-Pelascini \\\\t 80 \\\\t OTHER \\\\t OBSERVATIONAL \\\\t Observational Model: |Time Perspective: p,2016-05,\\r\\n\"NCT05727371 \\\\t Combination of PRP and XLHA Prepared With RegenMatrix Medical Device To Treat Moderate to Severe Knee Osteoarthritis \\\\t RECRUITING \\\\t Knee Osteoarthritis \\\\t COMBINATION_PRODUCT: Regen Matrix-PRP-XLHA|DEVICE: Hylan G-F 20|DRUG: Placebo \\\\t RegenLab France SAS \\\\t 280 \\\\t INDUSTRY \\\\t INTERVENTIONAL \\\\t Allocation: RANDOMIZED|Intervention Model: PARALLEL|Masking: TRIPLE (PARTICIPANT, CARE_PROVIDER, INVESTIGATOR)|Primary Purpose: TREATMENT\",21 August 2023,21 August 2025\\r\\nNCT02269371 \\\\t Auricular Acupuncture in the Treatment of Obesity \\\\t AcupObesity \\\\t COMPLETED \\\\t Obesity \\\\t OTHER: Auricular Acupuncture|OTHER: Sham Acupuncture \\\\t Mike O\\'Callaghan Military Hospital \\\\t 82 \\\\t FED \\\\t INTERVENTIONAL \\\\t Allocation: RANDOMIZED|Intervention Model: PARALLEL|Masking: SINGLE (PARTICIPANT)|Primary Purpose: TREATMENT,2015-02,2016-12\\r\\n\"NCT04550871 \\\\t A Pilot Study Investigating the Detection of Episodes of Severe Patient-Ventilator Asynchrony \\\\t RECRUITING \\\\t Respiratory Failure \\\\t Autonomous Healthcare, Inc. \\\\t 30 \\\\t INDUSTRY \\\\t OBSERVATIONAL \\\\t Observational Model: |Time Perspective: p\",21 July 2021,31 December 2022\\r\\nNCT04242771 \\\\t Mindfulness Meditation for Insomnia \\\\t RECRUITING \\\\t Insomnia \\\\t BEHAVIORAL: Mindfulness \\\\t Beth Israel Deaconess Medical Center \\\\t 12 \\\\t OTHER \\\\t INTERVENTIONAL \\\\t Allocation: NA|Intervention Model: SINGLE_GROUP|Masking: NONE|Primary Purpose: OTHER,02 December 2022,01 December 2023\\r\\nNCT05121571 \\\\t The Efficacy and Safety of HAIC With FOLFOX vs Sorafenib for Patients Who Showed TACE-resistant: a Retrospective Study \\\\t COMPLETED \\\\t Hepatocellular Carcinoma \\\\t PROCEDURE: HAIC|DRUG: Sorafenib \\\\t Sun Yat-sen University \\\\t 114 \\\\t OTHER \\\\t INTERVENTIONAL \\\\t Allocation: NON_RANDOMIZED|Intervention Model: PARALLEL|Masking: NONE|Primary Purpose: TREATMENT,21 April 2016,01 May 2021\\r\\nNCT00912171 \\\\t Efficacy of Oral Leukotriene in Long Term Therapy of Mild and Moderate Obstructive Sleep Apnea Syndrome in Children \\\\t SB-OSAS \\\\t COMPLETED \\\\t Obstructive Sleep Apnea Syndrome \\\\t DRUG: budesonide (Aircort 50 nasal spray)|DRUG: montelukast (Singulair) \\\\t University of Bologna \\\\t 45 \\\\t OTHER \\\\t INTERVENTIONAL \\\\t Allocation: RANDOMIZED|Intervention Model: PARALLEL|Masking: NONE|Primary Purpose: TREATMENT,2009-01,2010-06\\r\\nNCT01640171 \\\\t Anesthesia Preference for Intravitreal Injection: Topical or Subconjunctival \\\\t COMPLETED \\\\t Age-related Macular Degeneration|Central Retinal Vein Occlusion|Diabetic Macular Edema \\\\t PROCEDURE: Xylocaine 2% Injectable Anesthetic|DRUG: Proparacaine Hydrochloride 0.5% Drop|DRUG: Tetravisc 0.5% Gel|DRUG: Acuvail|DRUG: Intra-vitreal Anti-VEGF Drug \\\\t Retina Vitreous Associates of Florida \\\\t 57 \\\\t OTHER \\\\t INTERVENTIONAL \\\\t Allocation: NA|Intervention Model: SINGLE_GROUP|Masking: SINGLE (PARTICIPANT)|Primary Purpose: TREATMENT,2012-07,2013-10\\r\\n\"NCT00734071 \\\\t An Efficacy and Safety Study of Vortioxetine (Lu AA21004) in Treating Generalized Anxiety Disorder \\\\t COMPLETED \\\\t Generalized Anxiety Disorder \\\\t DRUG: Vortioxetine|DRUG: Placebo \\\\t Takeda \\\\t H. Lundbeck A/S \\\\t 304 \\\\t INDUSTRY \\\\t INTERVENTIONAL \\\\t Allocation: RANDOMIZED|Intervention Model: PARALLEL|Masking: DOUBLE (PARTICIPANT, INVESTIGATOR)|Primary Purpose: TREATMENT\",2008-06,2009-03\\r\\nNCT03673371 \\\\t Women\\'s-Specific Footwear With Prosthetic Feet \\\\t WSF \\\\t COMPLETED \\\\t Lower Limb Amputation Below Knee (Injury)|Lower Limb Amputation Above Knee (Injury) \\\\t OTHER: Questionnaire \\\\t Minneapolis Veterans Affairs Medical Center \\\\t United States Department of Defense \\\\t 100 \\\\t FED \\\\t OBSERVATIONAL \\\\t Observational Model: |Time Perspective: p,04 March 2019,06 January 2023\\r\\nNCT05898971 \\\\t Robotic Hand on Hand Functions in Strokes \\\\t ACTIVE_NOT_RECRUITING \\\\t CVA (Cerebrovascular Accident) \\\\t OTHER: Robotic|OTHER: Mirror|OTHER: Traditional Physical Therapy \\\\t Cairo University \\\\t Batterjee Medical College \\\\t 70 \\\\t OTHER \\\\t INTERVENTIONAL \\\\t Allocation: RANDOMIZED|Intervention Model: PARALLEL|Masking: SINGLE (OUTCOMES_ASSESSOR)|Primary Purpose: TREATMENT,12 April 2023,11 October 2023\\r\\nNCT04429971 \\\\t Pre-Exposure Prophylaxis in the Emergency Department \\\\t PrEPPED \\\\t COMPLETED \\\\t HIV/AIDS|PrEP \\\\t OTHER: PrEP screening program|OTHER: PrEP starter pack \\\\t Icahn School of Medicine at Mount Sinai \\\\t 26 \\\\t OTHER \\\\t INTERVENTIONAL \\\\t Allocation: NON_RANDOMIZED|Intervention Model: PARALLEL|Masking: NONE|Primary Purpose: SCREENING,18 March 2020,31 July 2023\\r\\n\"NCT02635971 \\\\t Intra-arterial Versus Intravenous Chemotherapy for Locally Advanced Pancreatic Cancer \\\\t UNKNOWN \\\\t Carcinoma, Pancreatic \\\\t PROCEDURE: Transcatheter arterial infusion|PROCEDURE: Intravenous chemotherapy|DRUG: Gemcitabine|DRUG: Oxaliplatin \\\\t Fudan University \\\\t 168 \\\\t OTHER \\\\t INTERVENTIONAL \\\\t Allocation: RANDOMIZED|Intervention Model: PARALLEL|Masking: NONE|Primary Purpose: TREATMENT\",2015-12,2022-12\\r\\nNCT02528071 \\\\t Prognostic Value of a Diaphragmatic Endurance Test in Patients With Amyotrophic Lateral Sclerosis \\\\t SLA \\\\t TERMINATED \\\\t ALS (Amyotrophic Lateral Sclerosis) \\\\t OTHER: Diaphragmatic endurance test \\\\t Centre Hospitalier Universitaire de Saint Etienne \\\\t 136 \\\\t OTHER \\\\t OBSERVATIONAL \\\\t Observational Model: |Time Perspective: p,29 September 2014,28 October 2020\\r\\nNCT00241371 \\\\t A Phase II Study of Clofarabine in Patients With Relapsed or Refractory Multiple Myeloma \\\\t TERMINATED \\\\t Multiple Myeloma \\\\t DRUG: Clofarabine \\\\t Washington University School of Medicine \\\\t 8 \\\\t OTHER \\\\t INTERVENTIONAL \\\\t Allocation: NON_RANDOMIZED|Intervention Model: SINGLE_GROUP|Masking: NONE|Primary Purpose: TREATMENT,2005-03,2007-12\\r\\n\"NCT02271971 \\\\t Effect of Vitamin D Supplementation on Metabolic Parameters of Patients With Psoriasis \\\\t COMPLETED \\\\t Psoriasis|Metabolic Syndrome|Vitamin D Deficiency \\\\t DIETARY_SUPPLEMENT: Vitamin D3|DIETARY_SUPPLEMENT: Placebo \\\\t Pontificia Universidad Catolica de Chile \\\\t 39 \\\\t OTHER \\\\t INTERVENTIONAL \\\\t Allocation: RANDOMIZED|Intervention Model: PARALLEL|Masking: QUADRUPLE (PARTICIPANT, CARE_PROVIDER, INVESTIGATOR, OUTCOMES_ASSESSOR)|Primary Purpose: TREATMENT\",2014-10,2015-10\\r\\nNCT01866371 \\\\t High Resolution Retinal Imaging \\\\t AOSLO \\\\t RECRUITING \\\\t Stargardts|Retinitis Pigmentosa|Age-related Macular Degeneration|Choroideremia|Geographic Atrophy \\\\t PROCEDURE: Retinal imaging \\\\t University of Pennsylvania \\\\t National Eye Institute (NEI) \\\\t 600 \\\\t OTHER \\\\t OBSERVATIONAL \\\\t Observational Model: |Time Perspective: p,2013-05,2027-12\\r\\n\"NCT00741871 \\\\t A Phase 1 Study of SB1518 for the Treatment of Advanced Lymphoid Malignancies \\\\t COMPLETED \\\\t Lymphoma, Malignant|Hodgkin\\'s Lymphoma|B Cell Lymphoma \\\\t DRUG: SB1518 \\\\t S*BIO \\\\t 35 \\\\t INDUSTRY \\\\t INTERVENTIONAL \\\\t Allocation: NA|Intervention Model: SINGLE_GROUP|Masking: NONE|Primary Purpose: TREATMENT\",2008-07,2011-10\\r\\nNCT03986671 \\\\t Transmembrane Electromyography (TM-EMG) for the Assessment of Neuromuscular Function in the Oropharynx \\\\t COMPLETED \\\\t Obstructive Sleep Apnea|Amyotrophic Lateral Sclerosis|Muscular Dystrophies|Healthy \\\\t DEVICE: Transmembrane EMG Oropharynx Probe \\\\t Powell Mansfield Inc. \\\\t 50 \\\\t OTHER \\\\t INTERVENTIONAL \\\\t Allocation: NA|Intervention Model: SINGLE_GROUP|Masking: NONE|Primary Purpose: DIAGNOSTIC,30 April 2019,26 March 2021\\r\\nNCT03366571 \\\\t Improvement of Hard Endpoint in Chronic Hepatitis B Patients Treated With Antiviral Therapy \\\\t ACTIVE_NOT_RECRUITING \\\\t Chronic Hepatitis B \\\\t DRUG: Nucleos(t)ide Analogues \\\\t Beijing Friendship Hospital \\\\t Peking University First Hospital|Peking University People\\'s Hospital|Beijing YouAn Hospital|Beijing Ditan Hospital \\\\t 600 \\\\t OTHER \\\\t OBSERVATIONAL \\\\t Observational Model: |Time Perspective: p,2016-01,2024-12\\r\\n\"NCT04701671 \\\\t Project THINK: Trajectories of Health, Ingestive Behaviors, and Neurocognition in Kids \\\\t RECRUITING \\\\t Pediatric Obesity|Binge-Eating Disorder \\\\t BEHAVIORAL: Observational (not including MRI scanning)|BEHAVIORAL: Observational (including MRI scanning) \\\\t University of Pittsburgh \\\\t Brown University|The Miriam Hospital|National Institute of Diabetes and Digestive and Kidney Diseases (NIDDK) \\\\t 180 \\\\t OTHER \\\\t OBSERVATIONAL \\\\t Observational Model: |Time Perspective: p\",10 December 2020,09 December 2025\\r\\n\"NCT01982071 \\\\t A Study to Evaluate the Efficacy and Safety of Micafungin Against Invasive Candidiasis or Candidemia \\\\t TERMINATED \\\\t Candidemia|Candidiasis \\\\t DRUG: Micafungin \\\\t Astellas Pharma China, Inc. \\\\t 59 \\\\t INDUSTRY \\\\t INTERVENTIONAL \\\\t Allocation: NA|Intervention Model: SINGLE_GROUP|Masking: NONE|Primary Purpose: TREATMENT\",26 September 2013,28 August 2015\\r\\nNCT00831571 \\\\t Prospective Analysis of Hypersensitivity Reactions to Oxaliplatin \\\\t COMPLETED \\\\t Colorectal Cancer|Esophageal Cancer|Gastric Cancer|Small Bowel Cancer|Pancreatic Cancer \\\\t Dana-Farber Cancer Institute \\\\t Sanofi \\\\t 112 \\\\t OTHER \\\\t OBSERVATIONAL \\\\t Observational Model: |Time Perspective: p,2009-02,2022-04\\r\\n\"NCT03016871 \\\\t Nivolumab, Ifosfamide, Carboplatin, and Etoposide as Second-Line Therapy in Treating Patients With Refractory or Relapsed HL \\\\t ACTIVE_NOT_RECRUITING \\\\t Recurrent Hodgkin Lymphoma|Refractory Hodgkin Lymphoma \\\\t DRUG: Carboplatin|DRUG: Etoposide|DRUG: Ifosfamide|OTHER: Laboratory Biomarker Analysis|BIOLOGICAL: Nivolumab \\\\t City of Hope Medical Center \\\\t National Cancer Institute (NCI) \\\\t 78 \\\\t OTHER \\\\t INTERVENTIONAL \\\\t Allocation: NON_RANDOMIZED|Intervention Model: SEQUENTIAL|Masking: NONE|Primary Purpose: TREATMENT\",24 April 2017,30 January 2026\\r\\n\"NCT01729871 \\\\t A Study Exploring Two Treatment Strategies in Patients With Atrial Fibrillation Who Undergo Catheter Ablation Therapy \\\\t VENTURE-AF \\\\t COMPLETED \\\\t Atrial Fibrillation \\\\t DRUG: rivaroxaban|DRUG: uninterrupted vitamin K antagonist (VKA) \\\\t Janssen Scientific Affairs, LLC \\\\t Bayer \\\\t 253 \\\\t INDUSTRY \\\\t INTERVENTIONAL \\\\t Allocation: RANDOMIZED|Intervention Model: PARALLEL|Masking: NONE|Primary Purpose: TREATMENT\",2013-02,2014-10\\r\\n\"NCT04856371 \\\\t Study of CYH33 in Combination With Endocrine Therapy With or Without Palbociclib in Patients With HR+, HER2- Advanced Breast Cancer \\\\t UNKNOWN \\\\t Advanced Breast Cancer \\\\t DRUG: CYH33|DRUG: Fulvestrant|DRUG: Letrozole|DRUG: Palbociclib \\\\t Haihe Biopharma Co., Ltd. \\\\t 228 \\\\t INDUSTRY \\\\t INTERVENTIONAL \\\\t Allocation: NON_RANDOMIZED|Intervention Model: SEQUENTIAL|Masking: NONE|Primary Purpose: TREATMENT\",2021-04,2022-12\\r\\n\"NCT00769171 \\\\t Dragon Study (the Safety and Efficacy for Treatment of Patients With Complicated Intra Abdominal Infections) \\\\t DRAGON \\\\t COMPLETED \\\\t Infection, Intra-abdominal \\\\t DRUG: Avelox (Moxifloxacin, BAY12-8039)|DRUG: Ceftriaxone + Metronidazole \\\\t Bayer \\\\t 364 \\\\t INDUSTRY \\\\t INTERVENTIONAL \\\\t Allocation: RANDOMIZED|Intervention Model: PARALLEL|Masking: TRIPLE (PARTICIPANT, CARE_PROVIDER, INVESTIGATOR)|Primary Purpose: TREATMENT\",2005-10,2007-01\\r\\nNCT03522571 \\\\t Experimental Gingivitis in Patients With Altered Passive Eruption \\\\t COMPLETED \\\\t Altered Passive Eruption of Teeth \\\\t BEHAVIORAL: Experimental gingivitis \\\\t Rustam Aghazada \\\\t 18 \\\\t OTHER \\\\t INTERVENTIONAL \\\\t Allocation: NON_RANDOMIZED|Intervention Model: PARALLEL|Masking: NONE|Primary Purpose: SCREENING,21 February 2017,19 July 2017\\r\\nNCT00782171 \\\\t Evaluation of Immediate Versus Delayed Loading of Dental Implants With a Modified Surface \\\\t COMPLETED \\\\t Partial Edentulism \\\\t DEVICE: SLActive dental implant \\\\t Institut Straumann AG \\\\t 266 \\\\t INDUSTRY \\\\t INTERVENTIONAL \\\\t Allocation: RANDOMIZED|Intervention Model: PARALLEL|Masking: NONE|Primary Purpose: TREATMENT,2004-07,2010-02\\r\\nNCT00581971 \\\\t Radiosensitization With Celecoxib and Chemoradiation for Head and Neck Cancer \\\\t RAD0201 \\\\t COMPLETED \\\\t Cancer \\\\t DRUG: celecoxib|DRUG: Carboplatin|DRUG: Paclitaxel|RADIATION: Radiation Therapy \\\\t University of Alabama at Birmingham \\\\t Bristol-Myers Squibb|Pharmacia \\\\t 30 \\\\t OTHER \\\\t INTERVENTIONAL \\\\t Allocation: NA|Intervention Model: SINGLE_GROUP|Masking: NONE|Primary Purpose: TREATMENT,2002-09,2012-03\\r\\n\"NCT03066271 \\\\t Pre Radiotherapy Daily Exercise Training in Non-Small Cell Lung Cancer \\\\t PRIME \\\\t ACTIVE_NOT_RECRUITING \\\\t Non-Small Cell Lung Cancer Stage|Chemoradiation \\\\t OTHER: Exercise +|OTHER: Control + \\\\t Rigshospitalet, Denmark \\\\t University of Copenhagen \\\\t 40 \\\\t OTHER \\\\t INTERVENTIONAL \\\\t Allocation: RANDOMIZED|Intervention Model: PARALLEL|Masking: SINGLE (INVESTIGATOR)|Primary Purpose: SUPPORTIVE_CARE\",03 April 2017,31 December 2023\\r\\nNCT02125071 \\\\t Study on the Pharmacokinetic Characteristics of I.V. Hepabig Injection Used for Prevention of Hepatitis B Relapse After Liver Transplantation \\\\t LT \\\\t COMPLETED \\\\t Liver Cirrhosis|Chronic Hepatitis B \\\\t OTHER: Blood Sample Collection \\\\t Dong-Gu Kim \\\\t Green Cross Corporation \\\\t 20 \\\\t OTHER \\\\t OBSERVATIONAL \\\\t Observational Model: |Time Perspective: p,2013-11,2015-09\\r\\n\"NCT01289171 \\\\t Acquired Epidermodysplasia Verruciformis (EV) Syndrome in HIV-infected Pediatric Patients \\\\t COMPLETED \\\\t Flat Warts|HIV \\\\t DRUG: Glycolic acid \\\\t University of Pennsylvania \\\\t NeoStrata Company, Inc.|Penn Center for AIDS Research (CFAR) \\\\t 38 \\\\t OTHER \\\\t INTERVENTIONAL \\\\t Allocation: NA|Intervention Model: SINGLE_GROUP|Masking: NONE|Primary Purpose: TREATMENT\",2009-01,2010-10\\r\\nNCT01801371 \\\\t 68Ga-BNOTA-PRGD2 PET/CT in Diagnosis and Evaluation of Glioma \\\\t GRGDG \\\\t UNKNOWN \\\\t Glioma \\\\t DRUG: 68Ga-BNOTA-PRGD2 \\\\t Peking Union Medical College Hospital \\\\t Beijing Tiantan Hospital \\\\t 30 \\\\t OTHER \\\\t INTERVENTIONAL \\\\t Allocation: NA|Intervention Model: SINGLE_GROUP|Masking: NONE|Primary Purpose: DIAGNOSTIC,2012-10,2017-12\\r\\nNCT05800171 \\\\t Efficacy of Single Use Disposable Elevator Cap (DEC) Duodenoscopy \\\\t RECRUITING \\\\t Cholangitis \\\\t Seoul National University Hospital \\\\t 5000 \\\\t OTHER \\\\t OBSERVATIONAL \\\\t Observational Model: |Time Perspective: p,24 April 2023,21 February 2025\\r\\nNCT04293471 \\\\t Prediction of Outcome by Echocardiography in Left Bundle Branch Block \\\\t EchoLBBB \\\\t RECRUITING \\\\t Left Bundle-Branch Block \\\\t University Hospital of North Norway \\\\t Oslo University Hospital|University of Bergen|Norwegian University of Science and Technology|University of Tromso|KU Leuven \\\\t 2000 \\\\t OTHER \\\\t OBSERVATIONAL \\\\t Observational Model: |Time Perspective: p,15 April 2021,31 December 2036\\r\\n\"NCT02832271 \\\\t Green Tea Extract for Endometriosis Treatment \\\\t COMPLETED \\\\t Endometriosis \\\\t DRUG: SUNPHENON EGCg|DRUG: Placebo \\\\t Chinese University of Hong Kong \\\\t Cancer Institute and Hospital, Chinese Academy of Medical Sciences|Sun Yat-sen University|Guangdong Provincial Hospital of Traditional Chinese Medicine|Jiangxi University of Traditional Chinese Medicine \\\\t 185 \\\\t OTHER \\\\t INTERVENTIONAL \\\\t Allocation: RANDOMIZED|Intervention Model: PARALLEL|Masking: QUADRUPLE (PARTICIPANT, CARE_PROVIDER, INVESTIGATOR, OUTCOMES_ASSESSOR)|Primary Purpose: TREATMENT\",08 December 2016,2022-12\\r\\n\"NCT03118271 \\\\t Comparison of the Effect of Lumbar Traction, Spinal Manipulation, and Surgery in the Treatment of Lumbar Disc Herniation \\\\t TERMINATED \\\\t Lumbar Disc Herniation|Lumbar Traction|Spinal Manipulation|Lumbar Surgery \\\\t DEVICE: lumbar traction|PROCEDURE: spinal manipulation|PROCEDURE: surgery \\\\t Shin Kong Wu Ho-Su Memorial Hospital \\\\t 60 \\\\t OTHER \\\\t INTERVENTIONAL \\\\t Allocation: NON_RANDOMIZED|Intervention Model: PARALLEL|Masking: NONE|Primary Purpose: TREATMENT\",2017-01,2019-12\\r\\n\"NCT00708071 \\\\t Efficacy and Safety Study of Fibrin Sealant With 4 IU/mL Thrombin, Vapor Heated, Solvent Detergent Treated (FS VH S/D 4) in Face-Lift Procedures \\\\t COMPLETED \\\\t Facial Rhytidectomy (Face-lift) \\\\t BIOLOGICAL: Fibrin Sealant with 4 IU/ml Thrombin, Vapor-Heated, Solvent Detergent Treated Containing Synthetic Aprotinin (FS VH S/D 4) \\\\t Baxter Healthcare Corporation \\\\t 45 \\\\t INDUSTRY \\\\t INTERVENTIONAL \\\\t Allocation: RANDOMIZED|Intervention Model: SINGLE_GROUP|Masking: SINGLE (OUTCOMES_ASSESSOR)|Primary Purpose: TREATMENT\",2008-06,2008-09\\r\\n\"NCT01216371 \\\\t Resection of Pulmonary Metastasis in Clear Cell Renal Cell Carcinoma +/-Adjuvant Sunitinib Therapy (SMAT) \\\\t SMAT \\\\t UNKNOWN \\\\t Renal Cell Carcinoma|Pulmonary Metastases \\\\t DRUG: Sunitinib|DRUG: Placebo \\\\t Association of Urologic Oncology (AUO) \\\\t University Hospital, Essen \\\\t 60 \\\\t OTHER \\\\t INTERVENTIONAL \\\\t Allocation: RANDOMIZED|Intervention Model: PARALLEL|Masking: DOUBLE (PARTICIPANT, INVESTIGATOR)|Primary Purpose: TREATMENT\",2010-10,2015-10\\r\\nNCT01465971 \\\\t Monitoring of the Cerebral Tissue Oxygenation and Perfusion in the Adapting Climber During Sleep in High Altitude \\\\t PerOxySleep \\\\t COMPLETED \\\\t Environmental Sleep Disorder|Cheyne-Stokes Respiration|Altitude Sickness \\\\t Goethe University \\\\t 6 \\\\t OTHER \\\\t OBSERVATIONAL \\\\t Observational Model: |Time Perspective: p,2011-05,2011-12\\r\\n\"NCT05958771 \\\\t The Efficacy of Three Doses of Live Attenuated, Oral Rotavirus Vaccine 116E \\\\t RECRUITING \\\\t Rotavirus Gastroenteritis \\\\t DRUG: ROTAVAC 5D|DRUG: Placebo \\\\t University of Chile \\\\t Bharat Biotech International Limited \\\\t 5800 \\\\t OTHER \\\\t INTERVENTIONAL \\\\t Allocation: RANDOMIZED|Intervention Model: PARALLEL|Masking: TRIPLE (PARTICIPANT, CARE_PROVIDER, INVESTIGATOR)|Primary Purpose: PREVENTION\",06 July 2023,01 June 2025\\r\\n\"NCT03532971 \\\\t Prospective Study of BK Virus Disease After Allogeneic Hematopoietic-cell Transplantation: Defining BK Disease\\'s Natural History, Clinical Spectrum, Immunology, and Outcomes \\\\t ACTIVE_NOT_RECRUITING \\\\t BK Virus Infection \\\\t OTHER: Symptom index questionnaire|DIAGNOSTIC_TEST: BK polyomavirus PCR|OTHER: quality of life questionnaires \\\\t Dana-Farber Cancer Institute \\\\t 100 \\\\t OTHER \\\\t OBSERVATIONAL \\\\t Observational Model: |Time Perspective: p\",30 July 2018,31 December 2024\\r\\n\"NCT04039971 \\\\t Tendon-Bone Versus All-Soft-Tissue for ACL Reconstruction: A Patient-Blinded Randomized Clinical Trial \\\\t RECRUITING \\\\t Anterior Cruciate Ligament Injuries|Anterior Cruciate Ligament Rupture|Anterior Cruciate Ligament Tear \\\\t PROCEDURE: ACL Reconstruction \\\\t University of Colorado, Denver \\\\t Children\\'s Hospital Colorado \\\\t 150 \\\\t OTHER \\\\t INTERVENTIONAL \\\\t Allocation: RANDOMIZED|Intervention Model: PARALLEL|Masking: SINGLE (PARTICIPANT)|Primary Purpose: TREATMENT\",01 August 2020,31 August 2029\\r\\nNCT01943071 \\\\t Effects and Costs of a Day Care Centre Program Designed for People With Dementia \\\\t ECOD \\\\t COMPLETED \\\\t Dementia \\\\t BEHAVIORAL: Day care for patients with dementia \\\\t Norwegian Centre for Ageing and Health \\\\t The Research Council of Norway \\\\t 261 \\\\t OTHER \\\\t INTERVENTIONAL \\\\t Allocation: NON_RANDOMIZED|Intervention Model: PARALLEL|Masking: NONE|Primary Purpose: HEALTH_SERVICES_RESEARCH,01 August 2013,31 December 2017\\r\\n\"NCT05451771 \\\\t Venetoclax-Dexamethasone in Relapsed and/or Refractory t(11;14) Amyloidosis \\\\t RECRUITING \\\\t AL Amyloidosis \\\\t DRUG: Venetoclax Oral Tablet, 200 mg|DEVICE: FISH assay|DRUG: Venetoclax Oral Tablet, 400 mg|DRUG: Dexamethasone Oral, 10 mg|DRUG: Dexamethasone Oral, 20 mg|DRUG: Daratumumab Injection|DRUG: Bendamustine|DRUG: Pomalidomide|DRUG: Ixazomib|DRUG: Venetoclax MTD with Dexamethasone \\\\t Rajshekhar Chakraborty, MD \\\\t Genentech, Inc. \\\\t 53 \\\\t OTHER \\\\t INTERVENTIONAL \\\\t Allocation: RANDOMIZED|Intervention Model: PARALLEL|Masking: NONE|Primary Purpose: TREATMENT\",26 October 2022,2026-09\\r\\nNCT02521571 \\\\t The Resilience Alliance \\\\t COMPLETED \\\\t Secondary Traumatic Stress \\\\t BEHAVIORAL: Resiliance Alliance|BEHAVIORAL: Secondary traumatic stress training \\\\t NYU Langone Health \\\\t 357 \\\\t OTHER \\\\t INTERVENTIONAL \\\\t Allocation: NON_RANDOMIZED|Intervention Model: PARALLEL|Masking: NONE|Primary Purpose: SUPPORTIVE_CARE,2011-12,2012-07\\r\\nNCT06197971 \\\\t Instrument Assisted Soft Tissue Mobilization vs Therapeutic Cupping on Hamstring Tightness Among Football Players \\\\t RECRUITING \\\\t Flexibility|Hamstring Tightness|Instrument Assisted Soft Tissue Mobilization|Range of Motion \\\\t OTHER: Instrument Assisted Soft Tissue Mobilization|OTHER: Therapeutic Cupping Technique \\\\t Riphah International University \\\\t 30 \\\\t OTHER \\\\t INTERVENTIONAL \\\\t Allocation: RANDOMIZED|Intervention Model: PARALLEL|Masking: SINGLE (OUTCOMES_ASSESSOR)|Primary Purpose: OTHER,20 October 2023,20 February 2024\\r\\nNCT05284071 \\\\t Actiste® Diabetes Management as a Service (ADMS) Clinical Investigation \\\\t ADMSUK01 \\\\t COMPLETED \\\\t Diabetes type1|Diabetes type2 \\\\t DEVICE: Device: Actiste 1.0 and the Companion app with TBL Backend \\\\t Northern Care Alliance NHS Foundation Trust \\\\t Brighter AB \\\\t 13 \\\\t OTHER \\\\t INTERVENTIONAL \\\\t Allocation: NA|Intervention Model: SINGLE_GROUP|Masking: NONE|Primary Purpose: TREATMENT,14 March 2022,21 December 2022\\r\\n\"NCT03132571 \\\\t Naltrexone-Bupropion Versus Placebo-Bupropion for Weight Loss in Schizophrenia \\\\t NBC \\\\t TERMINATED \\\\t Schizophrenia|Diabetes Mellitus, Type 2|Obesity \\\\t DRUG: Naltrexone|DRUG: Bupropion|OTHER: Placebo \\\\t Yale University \\\\t 5 \\\\t OTHER \\\\t INTERVENTIONAL \\\\t Allocation: RANDOMIZED|Intervention Model: PARALLEL|Masking: QUADRUPLE (PARTICIPANT, CARE_PROVIDER, INVESTIGATOR, OUTCOMES_ASSESSOR)|Primary Purpose: TREATMENT\",01 June 2017,31 July 2018\\r\\n\"NCT04597671 \\\\t Durvalumab and Low-dose PCI vs Durvalumab and Observation in Radically Treated Patients With Stage III NSCLC (NVALT28) \\\\t NVALT28 \\\\t RECRUITING \\\\t Carcinoma, Non-Small-Cell Lung \\\\t DRUG: Durvalumab|RADIATION: low-dose PCI \\\\t Association NVALT Studies \\\\t 170 \\\\t OTHER \\\\t INTERVENTIONAL \\\\t Allocation: RANDOMIZED|Intervention Model: PARALLEL|Masking: NONE|Primary Purpose: PREVENTION\",06 December 2021,2032-12\\r\\nNCT05710471 \\\\t Treatment of Recalcitrant Neovascular AMD Using Brolocizumab With Immediate T&E \\\\t RECRUITING \\\\t Age-Related Macular Degeneration \\\\t DRUG: Brolucizumab|DRUG: Aflibercept \\\\t The University of Hong Kong \\\\t 64 \\\\t OTHER \\\\t INTERVENTIONAL \\\\t Allocation: RANDOMIZED|Intervention Model: PARALLEL|Masking: SINGLE (PARTICIPANT)|Primary Purpose: TREATMENT,25 July 2022,30 August 2023\\r\\n\"NCT03994471 \\\\t Efficacy and Safety of XyloCore Peritoneal Dialysis Solution. \\\\t ELIXIR \\\\t RECRUITING \\\\t End Stage Renal Disease \\\\t DRUG: XyloCore Low Strenght, XyloCore Medium Strenght, XyloCore High Strenght|DRUG: 1.36%, 1.5%, 2.27%, 2.5%, 3.86%, 2.25% Glucose PD Solution \\\\t Iperboreal Pharma Srl \\\\t 170 \\\\t INDUSTRY \\\\t INTERVENTIONAL \\\\t Allocation: RANDOMIZED|Intervention Model: PARALLEL|Masking: SINGLE (OUTCOMES_ASSESSOR)|Primary Purpose: TREATMENT\",14 December 2022,2024-12\\r\\nNCT03474471 \\\\t A Trial on the Effects of Bronchoscopic Lung Volume Reduction in Severe Emphysema. \\\\t SOLVE \\\\t COMPLETED \\\\t Emphysema \\\\t BEHAVIORAL: Pulmonary rehabilitation|DEVICE: EBV treatment \\\\t University Medical Center Groningen \\\\t Maastricht University Medical Center|Center of Expertise for Chronic Organ Failure \\\\t 96 \\\\t OTHER \\\\t INTERVENTIONAL \\\\t Allocation: RANDOMIZED|Intervention Model: PARALLEL|Masking: NONE|Primary Purpose: TREATMENT,31 July 2018,20 April 2023\\r\\n\"NCT06143371 \\\\t A Study to Investigate the Safety and Tolerability of CAN10 Antibody in Healthy Subjects and in Subjects With Plaque Psoriasis. \\\\t RECRUITING \\\\t Healthy|Plaque Psoriasis \\\\t BIOLOGICAL: CAN10|BIOLOGICAL: CAN10 - Placebo \\\\t Cantargia AB \\\\t 80 \\\\t INDUSTRY \\\\t INTERVENTIONAL \\\\t Allocation: RANDOMIZED|Intervention Model: SEQUENTIAL|Masking: QUADRUPLE (PARTICIPANT, CARE_PROVIDER, INVESTIGATOR, OUTCOMES_ASSESSOR)|Primary Purpose: TREATMENT\",21 August 2023,24 April 2025\\r\\nNCT02080871 \\\\t A Study of the Gore VIABAHN BX for Treatment of Occlusive Disease in the Iliac Arteries. \\\\t VBXFLEX \\\\t COMPLETED \\\\t Peripheral Arterial Disease \\\\t DEVICE: Stenting of the Common and/or External Iliac Arteries \\\\t W.L.Gore & Associates \\\\t 134 \\\\t INDUSTRY \\\\t INTERVENTIONAL \\\\t Allocation: NA|Intervention Model: SINGLE_GROUP|Masking: NONE|Primary Purpose: TREATMENT,2014-07,2018-10\\r\\n\"NCT04628871 \\\\t Long Term Follow-up (LTFU) of Subjects Who Received SB-318, SB-913, or SB-FIX \\\\t LTFU \\\\t ACTIVE_NOT_RECRUITING \\\\t Hemophilia B|Mucopolysaccharidosis I|Mucopolysaccharidosis II \\\\t BIOLOGICAL: SB-318|BIOLOGICAL: SB-913|BIOLOGICAL: SB-FIX \\\\t Sangamo Therapeutics \\\\t 13 \\\\t INDUSTRY \\\\t OBSERVATIONAL \\\\t Observational Model: |Time Perspective: p\",03 November 2020,01 January 2030\\r\\nNCT01044771 \\\\t Pilot Study of Raltegravir Switch to Resolve Tenofovir Induced Proteinuria \\\\t RALPIR \\\\t COMPLETED \\\\t HIV Infections|Proteinuria \\\\t DRUG: change from tenofovir to raltegrav'"
     ]
    }
   ],
   "source": [
    "dbutils.fs.head(\"/FileStore/tables/clinicaltrial_2023___test/clinicaltrial_2023.csv\")"
   ]
  },
  {
   "cell_type": "code",
   "execution_count": 0,
   "metadata": {
    "application/vnd.databricks.v1+cell": {
     "cellMetadata": {
      "byteLimit": 2048000,
      "rowLimit": 10000
     },
     "inputWidgets": {},
     "nuid": "fbf8bfbd-5e36-4f2c-a523-1999ab3ef1e1",
     "showTitle": false,
     "title": ""
    }
   },
   "outputs": [
    {
     "output_type": "stream",
     "name": "stdout",
     "output_type": "stream",
     "text": [
      "Out[117]: ['NCT Number \\\\t Study Title \\\\t Acronym \\\\t Study Status \\\\t Conditions \\\\t Interventions \\\\t Sponsor \\\\t Collaborators \\\\t Enrollment \\\\t Funder Type \\\\t Study Type \\\\t Study Design,Start Date,Completion Date',\n '\"NCT03630471 \\\\t Effectiveness of a Problem-solving Intervention for Common Adolescent Mental Health Problems in India \\\\t PRIDE \\\\t COMPLETED \\\\t Mental Health Issue (E.G., Depression, Psychosis, Personality Disorder, Substance Abuse) \\\\t BEHAVIORAL: PRIDE \\'Step 1\\' problem-solving intervention|BEHAVIORAL: Enhanced usual care \\\\t Sangath \\\\t Harvard Medical School (HMS and HSDM)|London School of Hygiene and Tropical Medicine \\\\t 250 \\\\t OTHER \\\\t INTERVENTIONAL \\\\t Allocation: RANDOMIZED|Intervention Model: PARALLEL|Masking: DOUBLE (INVESTIGATOR, OUTCOMES_ASSESSOR)|Primary Purpose: TREATMENT\",20 August 2018,28 February 2019',\n '\"NCT05992571 \\\\t Oral Ketone Monoester Supplementation and Resting-state Brain Connectivity \\\\t RECRUITING \\\\t Cerebrovascular Function|Cognition \\\\t OTHER: Placebo|DIETARY_SUPPLEMENT: β-OHB \\\\t McMaster University \\\\t Alzheimer\\'s Society of Brant, Haldimand Norfolk, Hamilton Halton \\\\t 30 \\\\t OTHER \\\\t INTERVENTIONAL \\\\t Allocation: RANDOMIZED|Intervention Model: CROSSOVER|Masking: TRIPLE (PARTICIPANT, INVESTIGATOR, OUTCOMES_ASSESSOR)|Primary Purpose: BASIC_SCIENCE\",25 October 2023,2024-08']"
     ]
    }
   ],
   "source": [
    "rdd1 = sc.textFile(\"/FileStore/tables/clinicaltrial_2023___test/clinicaltrial_2023.csv\")\n",
    "\n",
    "rdd1.take(3)"
   ]
  },
  {
   "cell_type": "code",
   "execution_count": 0,
   "metadata": {
    "application/vnd.databricks.v1+cell": {
     "cellMetadata": {
      "byteLimit": 2048000,
      "rowLimit": 10000
     },
     "inputWidgets": {},
     "nuid": "cb5ff642-5762-4868-80cf-4822e9b3527e",
     "showTitle": false,
     "title": ""
    }
   },
   "outputs": [
    {
     "output_type": "stream",
     "name": "stdout",
     "output_type": "stream",
     "text": [
      "NCT Number \\t Study Title \\t Acronym \\t Study Status \\t Conditions \\t Interventions \\t Sponsor \\t Collaborators \\t Enrollment \\t Funder Type \\t Study Type \\t Study Design,Start Date,Completion Date\n"
     ]
    }
   ],
   "source": [
    "#Extract header\n",
    "\n",
    "header = rdd1.first()\n",
    "\n",
    "print(header)"
   ]
  },
  {
   "cell_type": "markdown",
   "metadata": {
    "application/vnd.databricks.v1+cell": {
     "cellMetadata": {
      "byteLimit": 2048000,
      "rowLimit": 10000
     },
     "inputWidgets": {},
     "nuid": "f7bfa040-2186-48be-96ca-5a332c99c62b",
     "showTitle": false,
     "title": ""
    }
   },
   "source": [
    "Data Cleansing"
   ]
  },
  {
   "cell_type": "code",
   "execution_count": 0,
   "metadata": {
    "application/vnd.databricks.v1+cell": {
     "cellMetadata": {
      "byteLimit": 2048000,
      "rowLimit": 10000
     },
     "inputWidgets": {},
     "nuid": "030d2193-7d80-4543-b997-f1afc4fab9ca",
     "showTitle": false,
     "title": ""
    }
   },
   "outputs": [
    {
     "output_type": "stream",
     "name": "stdout",
     "output_type": "stream",
     "text": [
      "['NCT Number ', ' Study Title ', ' Acronym ', ' Study Status ', ' Conditions ', ' Interventions ', ' Sponsor ', ' Collaborators ', ' Enrollment ', ' Funder Type ', ' Study Type ', ' Study Design', 'Start Date', 'Completion Date']\n"
     ]
    }
   ],
   "source": [
    "#Let's split Header\n",
    "\n",
    "# Extract header\n",
    "header = rdd1.first()\n",
    "\n",
    "# Split the header based on \\t\n",
    "header_elements = header.split(\"\\\\t\")\n",
    "\n",
    "# Split the last element based on comma\n",
    "last_element_split = header_elements[-1].split(',')\n",
    "\n",
    "# Combine the split elements into the header list\n",
    "header_elements[-1:] = last_element_split\n",
    "\n",
    "# Print the modified header\n",
    "print(header_elements)"
   ]
  },
  {
   "cell_type": "code",
   "execution_count": 0,
   "metadata": {
    "application/vnd.databricks.v1+cell": {
     "cellMetadata": {
      "byteLimit": 2048000,
      "rowLimit": 10000
     },
     "inputWidgets": {},
     "nuid": "551e482a-a7da-4a19-b80e-6ef348c2ddd1",
     "showTitle": false,
     "title": ""
    }
   },
   "outputs": [
    {
     "output_type": "stream",
     "name": "stdout",
     "output_type": "stream",
     "text": [
      "Out[120]: [['NCT Number ',\n  ' Study Title ',\n  ' Acronym ',\n  ' Study Status ',\n  ' Conditions ',\n  ' Interventions ',\n  ' Sponsor ',\n  ' Collaborators ',\n  ' Enrollment ',\n  ' Funder Type ',\n  ' Study Type ',\n  ' Study Design',\n  'Start Date',\n  'Completion Date'],\n ['\"NCT03630471 ',\n  ' Effectiveness of a Problem-solving Intervention for Common Adolescent Mental Health Problems in India ',\n  ' PRIDE ',\n  ' COMPLETED ',\n  ' Mental Health Issue (E.G., Depression, Psychosis, Personality Disorder, Substance Abuse) ',\n  \" BEHAVIORAL: PRIDE 'Step 1' problem-solving intervention|BEHAVIORAL: Enhanced usual care \",\n  ' Sangath ',\n  ' Harvard Medical School (HMS and HSDM)|London School of Hygiene and Tropical Medicine ',\n  ' 250 ',\n  ' OTHER ',\n  ' INTERVENTIONAL ',\n  ' Allocation: RANDOMIZED|Intervention Model: PARALLEL|Masking: DOUBLE (INVESTIGATOR',\n  ' OUTCOMES_ASSESSOR)|Primary Purpose: TREATMENT\"',\n  '20 August 2018',\n  '28 February 2019']]"
     ]
    }
   ],
   "source": [
    "#Define function to split lines in text\n",
    "\n",
    "def split_line(line):\n",
    "    # Split the line by tab character\n",
    "    parts = line.split(\"\\\\t\")\n",
    "    # Split the last part by commas and extend the list\n",
    "    last_part_split = parts[-1].split(\",\")\n",
    "    return parts[:-1] + last_part_split\n",
    "\n",
    "# Apply the split_line function to the input list\n",
    "rdd2 = rdd1.map(split_line)\n",
    "\n",
    "rdd2.take(2)"
   ]
  },
  {
   "cell_type": "code",
   "execution_count": 0,
   "metadata": {
    "application/vnd.databricks.v1+cell": {
     "cellMetadata": {
      "byteLimit": 2048000,
      "rowLimit": 10000
     },
     "inputWidgets": {},
     "nuid": "303d5966-5d00-4b20-bed0-98932071b112",
     "showTitle": false,
     "title": ""
    }
   },
   "outputs": [
    {
     "output_type": "stream",
     "name": "stdout",
     "output_type": "stream",
     "text": [
      "Out[121]: ['Completion Date', '28 February 2019', '2024-08', '2014-12']"
     ]
    }
   ],
   "source": [
    "#Extract first line data\n",
    "first_line = rdd2.map(lambda x: x[-1])\n",
    "\n",
    "first_line.take(4)"
   ]
  },
  {
   "cell_type": "code",
   "execution_count": 0,
   "metadata": {
    "application/vnd.databricks.v1+cell": {
     "cellMetadata": {
      "byteLimit": 2048000,
      "rowLimit": 10000
     },
     "inputWidgets": {},
     "nuid": "b5ef087c-4f34-42aa-9879-5deaf32bed32",
     "showTitle": false,
     "title": ""
    }
   },
   "outputs": [
    {
     "output_type": "stream",
     "name": "stdout",
     "output_type": "stream",
     "text": [
      "[['NCT Number ', ' Study Title ', ' Acronym ', ' Study Status ', ' Conditions ', ' Interventions ', ' Sponsor ', ' Collaborators ', ' Enrollment ', ' Funder Type ', ' Study Type ', ' Study Design', 'Start Date', 'Completion Date']]\n"
     ]
    }
   ],
   "source": [
    "#Check the first row\n",
    "\n",
    "Header_row = rdd2.take(1)\n",
    "\n",
    "print(Header_row)"
   ]
  },
  {
   "cell_type": "code",
   "execution_count": 0,
   "metadata": {
    "application/vnd.databricks.v1+cell": {
     "cellMetadata": {
      "byteLimit": 2048000,
      "rowLimit": 10000
     },
     "inputWidgets": {},
     "nuid": "78d19834-e1b0-4baf-b666-9c971f1ece5f",
     "showTitle": false,
     "title": ""
    }
   },
   "outputs": [
    {
     "output_type": "stream",
     "name": "stdout",
     "output_type": "stream",
     "text": [
      "Out[123]: [('Start Date', 'Completion Date'),\n ('20 August 2018', '28 February 2019'),\n ('25 October 2023', '2024-08'),\n ('2013-08', '2014-12'),\n ('01 October 2020', '01 October 2023'),\n ('01 July 2010', '30 October 2019'),\n ('05 May 2017', '09 October 2020'),\n ('01 September 2022', '15 June 2023'),\n ('01 February 2024', '01 March 2026'),\n ('11 May 2016', '13 December 2017'),\n ('2016-02', '2017-05'),\n ('13 July 2017', '30 June 2026'),\n ('2004-01', '2005-01'),\n ('09 February 2023', '17 November 2024'),\n ('2015-03', '2016-12'),\n ('13 June 2013', '02 November 2021'),\n ('13 June 2018', '24 December 2018'),\n ('2009-01', '2009-12'),\n ('2009-08', '2011-07'),\n ('2009-09', '2010-03'),\n ('02 December 2021', '31 December 2023'),\n ('2003-03', '2004-04'),\n ('30 May 2023', '30 May 2025'),\n ('15 July 2019', '01 September 2020'),\n ('15 April 2020', '31 May 2020'),\n ('2014-09', '2019-02'),\n ('01 July 2023', '01 December 2024'),\n ('01 January 2018', '31 December 2024'),\n ('06 May 2022', '06 November 2025'),\n ('2005-12', ''),\n ('2011-05', '2018-03'),\n ('2012-11', '2015-08'),\n ('2010-05', '2012-06'),\n ('2007-04', '2010-10'),\n ('2011-02', '2013-03'),\n ('2006-04', ''),\n ('2013-09', '2015-10'),\n ('', ''),\n ('2017-11', '28 February 2018'),\n ('25 October 2016', '2023-12'),\n ('25 January 2021', '18 February 2022'),\n ('19 April 2021', '19 May 2021'),\n ('14 February 2017', '30 June 2024'),\n ('11 February 2021', '22 December 2021'),\n ('2014-09', '2016-06'),\n ('03 September 2020', '31 January 2021'),\n ('15 November 2022', '31 October 2026'),\n ('2004-07', '2006-08'),\n ('1986-02', ''),\n ('2010-01', '2010-05'),\n ('09 June 2015', '17 November 2019'),\n ('2024-08', '2027-08'),\n ('2022-03', '2025-02'),\n ('2015-07', '2017-07'),\n ('05 July 2019', '30 June 2022'),\n ('08 January 2022', '30 June 2023'),\n ('2015-10', ''),\n ('30 November 2010', '2024-06'),\n ('01 September 2020', '01 February 2022'),\n ('2016-07', ''),\n ('13 March 2020', '31 December 2022'),\n ('15 December 2021', '31 December 2025'),\n ('2015-09', '2015-10'),\n ('2014-12', '2016-09'),\n ('01 April 2019', '31 December 2022'),\n ('23 February 2022', '31 July 2024'),\n ('10 November 2019', '25 August 2020'),\n ('25 August 2023', '31 March 2024'),\n ('2005-09', '2008-08'),\n ('01 December 2016', '2018-06'),\n ('2016-04', '2017-01'),\n ('26 April 2018', '01 May 2025'),\n ('2014-04', '2018-12'),\n ('15 September 2021', '29 August 2022'),\n ('2003-01', '2004-10'),\n ('08 November 2015', '15 October 2019'),\n ('12 February 2023', '31 December 2024'),\n ('2002-07', '2010-05'),\n ('01 November 2020', '01 May 2021'),\n ('01 January 2024', '31 December 2026'),\n ('2006-08', '2007-05'),\n ('2008-10', ''),\n ('2009-04', '2011-12'),\n ('15 May 2022', '30 May 2025'),\n ('', '2004-11'),\n ('15 July 2023', '15 January 2025'),\n ('2023-12', '2026-11'),\n ('2024-01', '2025-01'),\n ('2013-02', '2018-12'),\n ('31 March 2022', '30 June 2023'),\n ('2014-11', '2020-01'),\n ('29 April 2020', '01 July 2020'),\n ('2015-05', '13 May 2017'),\n ('15 January 2024', '30 June 2024'),\n ('2013-11', '2017-11'),\n ('29 April 2019', '30 December 2020'),\n ('01 February 2014', '30 April 2015'),\n ('2010-10', '2013-06'),\n ('2010-09', '2014-09'),\n ('05 April 2019', '31 August 2021'),\n ('2009-10', '2011-07'),\n ('2014-11', '2015-04'),\n ('2016-05', ''),\n ('21 August 2023', '21 August 2025'),\n ('2015-02', '2016-12'),\n ('21 July 2021', '31 December 2022'),\n ('02 December 2022', '01 December 2023'),\n ('21 April 2016', '01 May 2021'),\n ('2009-01', '2010-06'),\n ('2012-07', '2013-10'),\n ('2008-06', '2009-03'),\n ('04 March 2019', '06 January 2023'),\n ('12 April 2023', '11 October 2023'),\n ('18 March 2020', '31 July 2023'),\n ('2015-12', '2022-12'),\n ('29 September 2014', '28 October 2020'),\n ('2005-03', '2007-12'),\n ('2014-10', '2015-10'),\n ('2013-05', '2027-12'),\n ('2008-07', '2011-10'),\n ('30 April 2019', '26 March 2021'),\n ('2016-01', '2024-12'),\n ('10 December 2020', '09 December 2025'),\n ('26 September 2013', '28 August 2015'),\n ('2009-02', '2022-04'),\n ('24 April 2017', '30 January 2026'),\n ('2013-02', '2014-10'),\n ('2021-04', '2022-12'),\n ('2005-10', '2007-01'),\n ('21 February 2017', '19 July 2017'),\n ('2004-07', '2010-02'),\n ('2002-09', '2012-03'),\n ('03 April 2017', '31 December 2023'),\n ('2013-11', '2015-09'),\n ('2009-01', '2010-10'),\n ('2012-10', '2017-12'),\n ('24 April 2023', '21 February 2025'),\n ('15 April 2021', '31 December 2036'),\n ('08 December 2016', '2022-12'),\n ('2017-01', '2019-12'),\n ('2008-06', '2008-09'),\n ('2010-10', '2015-10'),\n ('2011-05', '2011-12'),\n ('06 July 2023', '01 June 2025'),\n ('30 July 2018', '31 December 2024'),\n ('01 August 2020', '31 August 2029'),\n ('01 August 2013', '31 December 2017'),\n ('26 October 2022', '2026-09'),\n ('2011-12', '2012-07'),\n ('20 October 2023', '20 February 2024'),\n ('14 March 2022', '21 December 2022'),\n ('01 June 2017', '31 July 2018'),\n ('06 December 2021', '2032-12'),\n ('25 July 2022', '30 August 2023'),\n ('14 December 2022', '2024-12'),\n ('31 July 2018', '20 April 2023'),\n ('21 August 2023', '24 April 2025'),\n ('2014-07', '2018-10'),\n ('03 November 2020', '01 January 2030'),\n ('2010-01', '2011-06'),\n ('17 April 2023', '08 December 2023'),\n ('28 March 2018', '30 November 2019'),\n ('2016-11', '24 March 2020'),\n ('05 January 2023', '2025-01'),\n ('25 July 2014', '11 June 2016'),\n ('03 November 2008', '30 November 2024'),\n ('04 April 2022', '01 October 2023'),\n ('2014-02', '2015-07'),\n ('20 August 2020', '20 November 2021'),\n ('25 April 2020', '02 October 2021'),\n ('2005-07', ''),\n ('21 December 2016', '01 April 2019'),\n ('2005-11', '2008-01'),\n ('2003-12', '2007-02'),\n ('29 January 2023', '17 March 2023'),\n ('2006-01', '2010-07'),\n ('2009-07', '2014-09'),\n ('22 January 2020', '22 January 2021'),\n ('01 January 2018', '05 April 2018'),\n ('15 April 2021', '07 May 2022'),\n ('15 August 2017', '28 January 2024'),\n ('01 January 2019', '31 December 2019'),\n ('01 April 2007', '01 May 2010'),\n ('2012-12', '2015-09'),\n ('01 November 2022', '01 July 2023'),\n ('01 February 2023', '2023-12'),\n ('27 July 2017', '27 July 2017'),\n ('2009-11', '2010-10'),\n ('2012-01', '2012-01'),\n ('2015-10', '10 May 2017'),\n ('13 September 2021', '01 December 2023'),\n ('01 July 2022', '2028-01'),\n ('21 November 2014', '14 February 2020'),\n ('01 July 2021', '01 January 2023'),\n ('14 February 2011', '29 November 2017'),\n ('10 March 2022', '2023-12'),\n ('14 January 2021', '2028-01'),\n ('01 February 2019', '31 May 2019'),\n ('2009-06', '2011-07'),\n ('2014-01', '2017-03'),\n ('28 June 2019', '28 June 2022'),\n ('2011-04', '2011-12'),\n ('2009-12', '2010-03'),\n ('25 November 2014', '26 November 2019'),\n ('12 August 2019', '31 March 2021'),\n ('11 June 2021', '31 December 2027'),\n ('01 January 2022', '01 November 2023'),\n ('01 March 2018', '18 December 2020'),\n ('2011-02', '2012-05'),\n ('2007-10', '2012-11'),\n ('01 June 2021', '31 October 2023'),\n ('2011-01', '2016-09'),\n ('2009-04', '2009-09'),\n ('08 January 2024', '01 July 2027'),\n ('01 August 2016', '01 October 2017'),\n ('25 April 2018', '14 March 2019'),\n ('22 October 2018', '13 November 2019'),\n ('05 December 2017', '30 January 2019'),\n ('18 February 2014', '29 December 2023'),\n ('20 April 2017', '27 March 2019'),\n ('1996-06', '1997-12'),\n ('20 July 2005', '24 September 2010'),\n ('2022-05', '2022-11'),\n ('2010-03', '2010-10'),\n ('2011-01', '23 December 2016'),\n ('2009-02', '2009-04'),\n ('2013-04', '28 November 2017'),\n ('07 December 2018', '29 April 2020'),\n ('2016-10', '2017-11'),\n ('2009-02', ''),\n ('15 August 2022', '20 January 2023'),\n ('10 March 2015', '21 October 2020'),\n ('26 April 2023', '30 October 2025'),\n ('2016-09', '2017-11'),\n ('03 August 2018', '21 February 2021'),\n ('02 November 2020', '30 September 2024'),\n ('2007-11', '2008-12'),\n ('2012-12', '2013-12'),\n ('23 November 2021', '31 December 2022'),\n ('2007-12', '2009-02'),\n ('2011-12', '2013-10'),\n ('01 July 2022', '01 December 2022'),\n ('2022-09', '2024-09'),\n ('08 October 2019', '19 December 2019'),\n ('07 September 2023', '25 September 2025'),\n ('2004-06', '2005-08'),\n ('30 May 2018', '2025-03'),\n ('2012-09', '2014-06'),\n ('2001-03', '2006-02'),\n ('19 December 2016', '01 November 2018'),\n ('2008-01', '2012-01'),\n ('2007-10', '30 April 2008'),\n ('01 January 2020', '01 January 2021'),\n ('2025-01', '2026-12'),\n ('2012-03', '2012-10'),\n ('2016-03', '2018-09'),\n ('01 November 2022', '2024-12'),\n ('2014-10', '2015-05'),\n ('2014-12', '2015-09'),\n ('01 January 2017', ''),\n ('16 April 2021', '2022-04'),\n ('04 February 2022', '2023-06'),\n ('2010-07', '2012-08'),\n ('2014-04', '04 June 2021'),\n ('07 December 2016', '16 November 2017'),\n ('01 February 2024', '01 August 2028'),\n ('09 July 2020', '29 March 2025'),\n ('2007-07', '2011-06'),\n ('27 September 2021', '21 June 2022'),\n ('19 March 2014', '23 March 2019'),\n ('2005-09', '2008-10'),\n ('2012-04', '2017-12'),\n ('2020-10', '2021-01'),\n ('01 March 2017', '12 July 2018'),\n ('2016-03', '2016-09'),\n ('2004-06', '2011-02'),\n ('30 April 2015', '05 August 2019'),\n ('03 February 2017', '2018-10'),\n ('01 June 2018', '15 June 2019'),\n ('2012-02', '2024-12'),\n ('2013-06', '2016-12'),\n ('01 October 2019', '01 December 2020'),\n ('2005-01', ''),\n ('2015-02', '28 February 2017'),\n ('2016-10', '2017-07'),\n ('2012-08', '2015-01'),\n ('01 October 2020', '21 December 2022'),\n ('2012-11', '2014-06'),\n ('2012-07', '2014-10'),\n ('01 March 2024', '2025-09'),\n ('18 February 2021', '31 December 2024'),\n ('23 December 2017', '08 April 2036'),\n ('10 June 2009', ''),\n ('2011-05', '2012-01'),\n ('2014-07', '2016-12'),\n ('2012-11', '2020-09'),\n ('10 March 2022', '15 September 2023'),\n ('2013-03', '2014-07'),\n ('01 May 2005', '01 December 2016'),\n ('2015-10', '18 October 2017'),\n ('16 January 2015', '12 January 2017'),\n ('2011-10', '2014-04'),\n ('2016-02', '2017-03'),\n ('11 November 2016', '2019-02'),\n ('31 July 2017', '15 August 2025'),\n ('', ''),\n ('23 December 2019', '02 June 2026'),\n ('25 October 2019', '30 December 2023'),\n ('31 August 2018', '11 December 2019'),\n ('2015-07', '25 February 2020'),\n ('30 March 2022', '12 December 2022'),\n ('2013-07', '2017-04'),\n ('01 June 2019', '30 June 2021'),\n ('28 April 2019', '31 December 2024'),\n ('01 September 2021', '11 October 2022'),\n ('01 December 2022', '31 December 2023'),\n ('01 August 2023', '2023-11'),\n ('11 December 2023', '30 June 2024'),\n ('10 March 2019', '10 February 2020'),\n ('2008-12', '2010-02'),\n ('01 January 2019', '31 December 2023'),\n ('2004-11', '2011-01'),\n ('27 October 2020', '08 August 2023'),\n ('23 May 2022', '2024-12'),\n ('21 February 2018', '07 September 2018'),\n ('2011-01', '2016-01'),\n ('2014-04', '2014-08'),\n ('30 March 2023', '30 January 2024'),\n ('01 March 2011', '23 September 2011'),\n ('13 June 2019', '31 December 2023'),\n ('01 June 2023', '01 June 2026'),\n ('12 August 2010', '16 December 2011'),\n ('2012-01', '2014-04'),\n ('22 November 2018', '01 November 2022'),\n ('2008-01', '2013-10'),\n ('2010-12', '2016-03'),\n ('30 May 2023', '31 May 2027'),\n ('2017-01', '23 August 2018'),\n ('08 November 2017', '01 February 2019'),\n ('2013-06', '2013-07'),\n ('02 October 2023', '2024-05'),\n ('2008-10', '2009-08'),\n ('18 March 2020', '17 April 2020'),\n ('2014-06', '2016-01'),\n ('2013-01', '02 May 2023'),\n ('01 December 2016', '25 November 2019'),\n ('24 November 2009', '06 December 2009'),\n ('2007-09', '2009-05'),\n ('01 October 2023', '2024-03'),\n ('2015-07', '2016-10'),\n ('2013-05', ''),\n ('01 June 2013', '30 July 2020'),\n ('2015-12', '2022-12'),\n ('29 January 2018', '27 September 2019'),\n ('08 November 2021', '01 June 2026'),\n ('03 January 2018', '01 July 2020'),\n ('2016-08', '2017-01'),\n ('11 January 2022', '29 September 2023'),\n ('2002-08', '2004-09'),\n ('2017-09', '2019-09'),\n ('2004-05', '2025-05'),\n ('2007-04', '2010-04'),\n ('2009-07', '2009-11'),\n ('2008-05', '2012-06'),\n ('2013-08', '2014-07'),\n ('01 April 2022', '2023-10'),\n ('2010-12', '2011-04'),\n ('01 June 2020', '01 September 2020'),\n ('01 December 2023', '31 December 2028'),\n ('10 February 2019', '15 February 2019'),\n ('21 February 2023', '2024-06'),\n ('15 September 2010', '2025-09'),\n ('12 December 2017', '26 November 2019'),\n ('18 September 2018', '08 September 2022'),\n ('2014-08', '2016-12'),\n ('1999-06', '2007-05'),\n ('2006-01', '2014-12'),\n ('2004-04', '2006-09'),\n ('2007-11', '2008-09'),\n ('31 October 2019', '2021-07'),\n ('01 August 2023', '31 December 2025'),\n ('17 May 2016', '03 August 2016'),\n ('2004-01', '2006-12'),\n ('29 March 2023', '01 January 2026'),\n ('20 March 2018', '19 November 2018'),\n ('10 August 2021', '31 December 2022'),\n ('31 January 2023', '31 August 2025'),\n ('01 June 2021', '01 October 2021'),\n ('01 September 2021', '14 October 2021'),\n ('13 December 2022', '30 June 2026'),\n ('2012-11', '2013-10'),\n ('01 May 2017', '30 March 2018'),\n ('2024-01', '2025-12'),\n ('2009-06', '2011-09'),\n ('2002-11', '2005-08'),\n ('21 April 2016', '03 July 2017'),\n ('2008-12', '2009-06'),\n ('2015-01', '2016-05'),\n ('01 August 2018', '01 November 2019'),\n ('01 April 2021', '01 November 2021'),\n ('2015-04', '2015-09'),\n ('2012-03', '2015-03'),\n ('26 February 2020', '01 October 2021'),\n ('2014-07', '2016-11'),\n ('26 December 2013', '15 January 2015'),\n ('2008-08', '2009-09'),\n ('06 December 2023', '2026-10'),\n ('11 June 2007', '08 October 2007'),\n ('30 April 2019', '06 June 2021'),\n ('07 January 2021', '07 January 2024'),\n ('2017-01', '01 March 2021'),\n ('1996-04', '1997-06'),\n ('01 November 2018', '30 June 2022'),\n ('2006-01', '2013-11'),\n ('2018-06', '2020-07'),\n ('1999-12', '2009-02'),\n ('2002-05', '2005-03'),\n ('2010-07', '2013-11'),\n ('15 February 2022', '15 December 2022'),\n ('2010-12', '2011-10'),\n ('01 July 2019', '31 January 2026'),\n ('2007-05', '2013-03'),\n ('10 October 2017', '25 September 2019'),\n ('2008-01', ''),\n ('02 March 2021', '30 June 2024'),\n ('01 March 2017', '30 December 2019'),\n ('21 June 2017', '29 September 2020'),\n ('2008-03', '2012-05'),\n ('05 July 2022', '2023-12'),\n ('2013-07', '2014-09'),\n ('2015-08', '2025-08'),\n ('01 December 2023', '01 March 2025'),\n ('2015-06', '2017-11'),\n ('2010-11', '2014-12'),\n ('2005-12', '2007-12'),\n ('2011-03', '19 August 2016'),\n ('2014-07', '2015-07'),\n ('2007-07', '2014-03'),\n ('2007-02', '2011-12'),\n ('2011-08', '2012-12'),\n ('01 July 2022', '06 June 2023'),\n ('13 January 2023', '01 November 2027'),\n ('12 March 2019', '31 January 2020'),\n ('2001-11', '2002-05'),\n ('27 October 2021', '01 December 2021'),\n ('2016-01', '2019-06'),\n ('2007-04', '2008-12'),\n ('01 February 2016', '31 August 2018'),\n ('2011-03', '2012-01'),\n ('12 December 2018', '14 June 2019'),\n ('04 April 2023', '2027-08'),\n ('2001-01', '2002-03'),\n ('2005-05', '2009-06'),\n ('09 February 2021', '15 February 2024'),\n ('01 December 2016', '01 March 2019'),\n ('2015-03', '2018-07'),\n ('2016-08', '2018-07'),\n ('01 September 2020', '31 March 2021'),\n ('2006-02', '2008-08'),\n ('2008-08', '2013-12'),\n ('2013-01', '2013-07'),\n ('20 July 2014', '11 August 2015'),\n ('2014-01', '2015-12'),\n ('27 May 2021', '31 December 2023'),\n ('2007-05', '2015-04'),\n ('01 July 2020', '01 December 2021'),\n ('03 December 2018', '01 November 2019'),\n ('2023-10', '2027-12'),\n ('2009-10', '2010-04'),\n ('02 June 2021', '22 July 2021'),\n ('23 August 2023', '30 June 2027'),\n ('2009-11', '2011-05'),\n ('01 June 2012', '12 August 2014'),\n ('1998-11', ''),\n ('01 May 2010', '18 April 2016'),\n ('21 January 2020', '01 June 2022'),\n ('01 January 2021', '01 June 2021'),\n ('01 August 2019', '30 December 2021'),\n ('01 January 2018', '31 December 2019'),\n ('2011-07', '2015-01'),\n ('01 February 2019', '01 March 2023'),\n ('2001-02', '2002-08'),\n ('18 July 2018', '24 June 2019'),\n ('2013-05', '2015-07'),\n ('05 October 2020', '27 July 2021'),\n ('22 September 2020', '04 May 2023'),\n ('2015-01', '2015-06'),\n ('22 December 2019', '30 December 2021'),\n ('27 February 2018', '30 March 2020'),\n ('2013-05', '2017-04'),\n ('2006-01', '2009-01'),\n ('10 October 2022', '31 December 2024'),\n ('25 June 2016', '2016-09'),\n ('2008-10', '19 November 2015'),\n ('04 June 2018', '04 June 2019'),\n ('2012-07', '2013-07'),\n ('01 August 2022', '2025-05'),\n ('2005-08', ''),\n ('2006-11', '2011-05'),\n ('2012-10', '2016-10'),\n ('01 February 2019', '31 December 2027'),\n ('01 July 2019', '31 December 2024'),\n ('16 February 2020', '01 October 2020'),\n ('29 September 2008', '29 June 2017'),\n ('2015-01', '22 June 2021'),\n ('01 August 2019', '20 August 2021'),\n ('2015-04', '2021-05'),\n ('07 November 2011', '08 March 2012'),\n ('13 July 2023', '25 June 2025'),\n ('13 November 2017', '22 June 2021'),\n ('01 November 2019', '01 December 2021'),\n ('30 May 2011', '30 September 2011'),\n ('2005-06', '2009-06'),\n ('01 September 2021', '16 August 2022'),\n ('17 December 2018', '01 September 2021'),\n ('2005-01', '2009-12'),\n ('2006-07', '2009-09'),\n ('15 June 2023', '24 December 2024'),\n ('15 January 2018', '30 May 2018'),\n ('07 January 2016', '24 July 2019'),\n ('01 October 2020', '30 September 2022'),\n ('2023-12', '2032-09'),\n ('2008-11', '2015-12'),\n ('01 October 2017', '22 February 2023'),\n ('28 October 2021', '03 December 2021'),\n ('2010-12', '2012-12'),\n ('09 May 2023', '20 January 2024'),\n ('23 August 2006', ''),\n ('2015-04', '2015-07'),\n ('2007-04', '2010-01'),\n ('02 March 2023', '2026-03'),\n ('21 November 2018', '31 December 2022'),\n ('22 May 2017', '24 June 2020'),\n ('2014-12', ''),\n ('2013-06', '2018-11'),\n ('2009-05', '2009-07'),\n ('15 May 2022', '01 December 2023'),\n ('2012-03', '2013-04'),\n ('01 March 2020', '2021-01'),\n ('11 November 2019', '31 December 2022'),\n ('2014-02', '2014-04'),\n ('01 May 2018', '01 March 2019'),\n ('2013-06', '2013-07'),\n ('09 May 2022', '2022-09'),\n ('2008-10', '2009-10'),\n ('01 March 2022', '01 January 2023'),\n ('2007-02', ''),\n ('18 March 2019', '18 March 2024'),\n ('2011-01', '2011-03'),\n ('2014-08', '06 May 2015'),\n ('2003-08', ''),\n ('18 October 2019', '10 August 2021'),\n ('2010-08', '2014-12'),\n ('2006-02', '2012-12'),\n ('2009-03', '2013-11'),\n ('05 December 2023', '05 December 2026'),\n ('15 June 2021', '31 December 2023'),\n ('01 January 2023', '01 December 2027'),\n ('2005-04', '2007-06'),\n ('14 October 2017', '15 February 2019'),\n ('2013-05', '2013-06'),\n ('2013-12', '2015-12'),\n ('01 July 2018', '12 December 2021'),\n ('01 December 2023', '01 August 2024'),\n ('21 June 2021', '24 September 2021'),\n ('2013-01', '2019-12'),\n ('2008-03', '2009-01'),\n ('01 January 2021', '01 June 2022'),\n ('07 June 2018', '2025-03'),\n ('2012-03', '2015-08'),\n ('21 March 2018', '29 November 2023'),\n ('27 June 2017', '30 July 2018'),\n ('01 September 2023', '29 February 2024'),\n ('2006-03', '2008-12'),\n ('2014-04', '2017-06'),\n ('01 September 2021', '28 February 2024'),\n ('14 June 2022', '01 October 2024'),\n ('12 November 2018', '20 August 2020'),\n ('25 April 2014', '31 December 2015'),\n ('2005-10', '2007-12'),\n ('01 September 2019', '31 August 2020'),\n ('18 October 2018', '30 December 2023'),\n ('02 July 2018', '28 May 2020'),\n ('02 May 2018', '24 October 2018'),\n ('2008-08', '2010-12'),\n ('2015-12', '2018-05'),\n ('2001-06', '2004-10'),\n ('01 March 2020', '01 July 2020'),\n ('2012-07', '2014-06'),\n ('2004-01', '2004-07'),\n ('01 July 2023', '01 July 2028'),\n ('2015-07', '2016-04'),\n ('12 July 2018', '31 December 2023'),\n ('2023-01', '2025-12'),\n ('25 January 2012', '29 January 2015'),\n ('2008-01', '2013-09'),\n ('2015-02', '2015-07'),\n ('2015-04', '26 June 2020'),\n ('2010-03', '2013-05'),\n ('24 April 2023', '03 December 2024'),\n ('2015-07', '2016-11'),\n ('2022-01', '2022-12'),\n ('2015-01', '2015-04'),\n ('04 February 2019', '31 August 2019'),\n ('2012-08', '2013-01'),\n ('01 September 2017', '31 August 2018'),\n ('15 August 2021', '30 June 2022'),\n ('01 January 2010', '01 December 2017'),\n ('2008-05', '2014-02'),\n ('08 October 2019', '17 July 2021'),\n ('15 December 2018', '30 March 2019'),\n ('15 May 2018', '28 February 2023'),\n ('28 August 2017', '06 July 2019'),\n ('', '2007-01'),\n ('01 October 2022', '22 December 2022'),\n ('06 May 2021', '01 March 2026'),\n ('13 December 2001', '24 March 2009'),\n ('01 June 2019', '31 December 2024'),\n ('01 July 2017', '01 July 2020'),\n ('26 July 2013', '12 August 2014'),\n ('2013-09', '2015-12'),\n ('01 April 2022', '01 December 2022'),\n ('28 February 2016', '31 December 2016'),\n ('2015-04', '2015-12'),\n ('2017-12', '2019-04'),\n ('01 October 2020', '01 December 2023'),\n ('29 January 2021', '02 December 2025'),\n ('2006-06', '2008-04'),\n ('11 May 2021', '08 July 2022'),\n ('2012-01', '2015-04'),\n ('18 August 2020', '31 October 2020'),\n ('2004-09', '2006-12'),\n ('08 November 2018', '19 April 2019'),\n ('2005-10', '2008-09'),\n ('2012-01', ''),\n ('12 February 2018', '30 March 2020'),\n ('2008-01', '2013-10'),\n ('06 May 2020', '20 September 2021'),\n ('2011-01', '2012-05'),\n ('27 February 2023', '31 October 2024'),\n ('2003-06', '2006-10'),\n ('01 January 2017', '01 January 2023'),\n ('07 September 2018', '2021-09'),\n ('2009-05', '2013-02'),\n ('2009-10', '2009-12'),\n ('01 January 2024', '31 December 2027'),\n ('2013-01', ''),\n ('26 April 2019', '01 September 2021'),\n ('2000-01', '2006-04'),\n ('2011-01', '2016-12'),\n ('2004-05', '2005-08'),\n ('09 May 2019', '28 February 2024'),\n ('01 May 2021', '31 December 2024'),\n ('2012-05', '15 May 2020'),\n ('01 August 2017', '01 December 2017'),\n ('2014-03', '2014-07'),\n ('13 October 2022', '30 March 2023'),\n ('2016-07', '01 February 2019'),\n ('2018-10', '2019-12'),\n ('06 January 2020', '31 January 2024'),\n ('2007-02', '2011-07'),\n ('23 March 2020', '16 June 2020'),\n ('22 July 2022', '19 August 2025'),\n ('2015-01', '2016-01'),\n ('2016-04', '2021-12'),\n ('2016-04', '2016-12'),\n ('2012-07', '2014-10'),\n ('05 November 2022', '05 June 2023'),\n ('28 October 2021', '26 July 2023'),\n ('2014-04', '2015-07'),\n ('1991-07', '2001-04'),\n ('2012-01', '2012-12'),\n ('01 May 2021', '01 December 2023'),\n ('15 November 2018', '30 June 2022'),\n ('2003-06', '2006-02'),\n ('18 September 2017', '30 November 2019'),\n ('02 October 2013', '20 April 2021'),\n ('28 February 2023', '31 December 2023'),\n ('28 August 2018', '03 September 2019'),\n ('15 February 2021', '25 May 2026'),\n ('20 September 2021', '02 August 2022'),\n ('21 January 2023', '2027-09'),\n ('18 November 2020', '04 April 2024'),\n ('09 November 2022', '2024-11'),\n ('2008-10', '2012-02'),\n ('13 May 2019', '2023-04'),\n ('04 May 2018', '05 February 2021'),\n ('01 November 2020', '31 December 2021'),\n ('2007-01', '2008-10'),\n ('09 November 2020', '18 February 2022'),\n ('02 February 2021', '30 December 2023'),\n ('2023-10', '2026-12'),\n ('10 January 2023', '02 March 2024'),\n ('01 September 2023', '01 June 2025'),\n ('2020-12', '2021-12'),\n ('03 October 2007', '01 September 2009'),\n ('2020-09', '2021-06'),\n ('2009-10', '2011-08'),\n ('04 May 2020', '02 February 2021'),\n ('2017-01', '01 June 2019'),\n ('18 October 2013', '2017-05'),\n ('2005-12', '2015-12'),\n ('01 October 2021', '01 October 2021'),\n ('01 January 2024', '2026-12'),\n ('2010-02', '2010-12'),\n ('2012-08', '2015-05'),\n ('2016-05', '2018-03'),\n ('2005-05', ''),\n ('2012-05', '2012-08'),\n ('01 November 2022', '31 December 2025'),\n ('2001-09', '2005-07'),\n ('2006-01', '2011-12'),\n ('2007-07', ''),\n ('2002-05', '2007-11'),\n ('13 April 2023', '2024-03'),\n ('2009-10', '2012-01'),\n ('2012-09', '2014-09'),\n ('2008-09', '2010-12'),\n ('01 July 2020', '2024-12'),\n ('2016-05', '2016-06'),\n ('22 March 2019', '31 July 2023'),\n ('2003-07', '2005-01'),\n ('2011-08', '2015-03'),\n ('2007-10', '2009-09'),\n ('08 June 2020', '15 November 2022'),\n ('05 March 2017', '01 December 2018'),\n ('12 April 2022', '2025-09'),\n ('15 June 2020', '15 December 2024'),\n ('2016-07', '2019-10'),\n ('1997-02', '2000-12'),\n ('04 February 2022', '2025-04'),\n ('2013-09', '2014-08'),\n ('01 December 2020', '28 December 2022'),\n ('2012-01', '2013-01'),\n ('01 June 2021', '01 September 2024'),\n ('15 January 2021', '10 May 2023'),\n ('01 March 2023', '01 July 2023'),\n ('18 March 2023', '06 October 2024'),\n ('24 April 2019', '17 May 2019'),\n ('01 January 2014', '30 December 2015'),\n ('11 May 2016', '04 December 2017'),\n ('27 December 2017', '15 September 2020'),\n ('21 March 2017', '20 June 2017'),\n ('2015-03', '2016-08'),\n ('01 May 2013', '01 January 2017'),\n ('01 June 2021', '20 January 2023'),\n ('2002-04', '2006-11'),\n ('01 September 2021', '22 September 2022'),\n ('2003-12', '2011-11'),\n ('20 April 2021', '30 June 2022'),\n ('2013-12', '2015-04'),\n ('1996-03', '2003-07'),\n ('19 October 2020', '28 February 2022'),\n ('2015-03', '2015-07'),\n ('2002-07', '2005-07'),\n ('2014-08', '2018-12'),\n ('28 September 2018', '20 February 2019'),\n ('2010-06', '2012-05'),\n ('27 April 2016', '09 March 2021'),\n ('30 November 2019', '09 March 2020'),\n ('01 April 2023', '02 January 2026'),\n ('01 June 2023', '31 December 2023'),\n ('17 April 2022', '30 May 2023'),\n ('27 May 2016', '09 April 2019'),\n ('15 November 2019', '29 February 2020'),\n ('2012-06', '2013-02'),\n ('2010-02', '2020-02'),\n ('15 December 2023', '31 May 2031'),\n ('19 February 2020', '30 April 2020'),\n ('', '1998-10'),\n ('2014-07', '2022-06'),\n ('30 August 2014', '01 May 2018'),\n ('26 July 2022', '2023-12'),\n ('', ''),\n ('18 December 2019', '2023-12'),\n ('26 April 2021', '26 April 2022'),\n ('15 November 2020', '04 February 2022'),\n ('01 November 2022', '31 December 2026'),\n ('12 September 2019', '19 May 2020'),\n ('16 October 2023', '01 December 2023'),\n ('15 October 2020', '15 February 2021'),\n ('19 June 2017', '2071-01'),\n ('2008-09', '2011-06'),\n ('22 February 2022', '01 September 2024'),\n ('2007-10', '01 April 2014'),\n ('20 September 2017', '2019-10'),\n ('14 June 2008', '08 January 2009'),\n ('27 February 2008', '28 February 2016'),\n ('2014-06', '2014-07'),\n ('2012-05', '2016-06'),\n ('2022-02', '2023-02'),\n ('2008-12', '2013-06'),\n ('2014-01', '2014-04'),\n ('01 April 2024', '15 September 2027'),\n ('18 February 2021', '2025-01'),\n ('19 January 2017', '30 May 2019'),\n ('02 October 2023', '2026-11'),\n ('23 October 2019', '31 October 2023'),\n ('2008-05', '2010-06'),\n ('01 August 2008', '01 September 2009'),\n ('01 June 2015', '01 February 2017'),\n ('18 January 2022', '26 July 2022'),\n ('11 March 2019', '23 April 2019'),\n ('2010-08', '2016-02'),\n ('2013-05', '2013-12'),\n ('01 March 2017', '31 December 2020'),\n ('15 November 2023', '15 November 2025'),\n ('22 November 2016', '04 April 2020'),\n ('1995-03', ''),\n ('01 May 2021', '31 December 2022'),\n ('01 January 2020', '30 May 2022'),\n ('2015-07', '2016-12'),\n ('2000-01', '2016-07'),\n ('16 April 2021', '10 February 2022'),\n ('07 December 2016', '2024-12'),\n ('2009-08', ''),\n ('2011-02', '2012-06'),\n ('26 March 2019', '28 June 2019'),\n ('2011-04', '2011-07'),\n ('30 January 2011', '08 February 2011'),\n ('2009-06', '2012-06'),\n ('2014-05', '2014-09'),\n ('29 November 2022', '29 November 2023'),\n ('25 April 2020', '25 July 2023'),\n ('2006-05', '2016-02'),\n ('2016-10', '08 April 2025'),\n ('2011-04', '2018-12'),\n ('01 September 2020', '01 January 2021'),\n ('15 December 2021', '03 August 2022'),\n ('01 March 2024', '01 June 2025'),\n ('2002-11', '2011-04'),\n ('13 April 2020', '2024-07'),\n ('01 June 2021', '31 December 2024'),\n ('06 October 2017', '28 February 2018'),\n ('16 November 2018', '25 March 2019'),\n ('2015-05', '2020-04'),\n ('2013-05', '2018-01'),\n ('2012-09', '2013-12'),\n ('2009-05', '2013-06'),\n ('2009-08', '2012-01'),\n ('2009-02', '2012-08'),\n ('2004-10', '2006-06'),\n ('01 January 2021', '30 November 2024'),\n ('01 August 2022', '01 January 2027'),\n ('2009-07', '2009-08'),\n ('2008-12', '2010-01'),\n ('14 March 2017', '09 November 2023'),\n ('2005-10', '2012-07'),\n ('01 April 2021', '30 July 2024'),\n ('15 March 2023', '15 September 2025'),\n ('12 January 2021', '2022-04'),\n ('01 July 2023', '2025-08'),\n ('10 June 2015', '01 February 2017'),\n ('2007-09', '2008-12'),\n ('2011-06', '2015-09'),\n ('2002-01', '2004-07'),\n ('2013-07', '2014-10'),\n ('26 June 2023', '2025-06'),\n ('2001-11', '2007-07'),\n ('16 November 2022', '03 December 2022'),\n ('04 January 2022', '31 August 2024'),\n ('2015-12', '2017-02'),\n ('01 January 2015', '01 December 2017'),\n ('2008-11', '2011-01'),\n ('28 September 2020', '20 December 2024'),\n ('10 August 2020', '2026-06'),\n ('2014-02', '2015-10'),\n ('2011-08', '2012-01'),\n ('2018-11', '2019-12'),\n ('10 January 2023', '20 April 2023'),\n ('2008-09', '2013-01'),\n ('01 May 2019', '31 December 2022'),\n ('15 November 2023', '15 April 2024'),\n ('2009-05', '2009-10'),\n ('20 March 2018', '05 July 2022'),\n ('23 July 2015', '29 December 2017'),\n ('2006-12', '2008-06'),\n ('2014-07', '2017-10'),\n ('2007-12', '2008-09'),\n ('26 November 2020', '2023-01'),\n ('13 November 2019', '30 June 2020'),\n ('24 March 2019', '20 February 2022'),\n ('15 July 2020', '2027-08'),\n ('01 August 2023', '01 May 2025'),\n ('2009-06', '2014-05'),\n ('01 October 2018', '31 December 2025'),\n ('08 March 2016', '2018-12'),\n ('2005-04', '2005-05'),\n ('30 June 2021', '20 March 2025'),\n ('2005-05', '2011-01'),\n ('2014-01', '2016-02'),\n ('01 June 2023', '2024-06'),\n ('01 November 2018', '10 December 2018'),\n ('2008-04', '2010-11'),\n ('2006-09', '2012-12'),\n ('2004-09', '2004-09'),\n ('2007-01', '2011-01'),\n ('17 January 2017', '30 January 2027'),\n ('25 February 2020', '30 September 2024'),\n ('01 January 2016', '2018-03'),\n ('2003-03', '2004-01'),\n ('2014-01', '2016-03'),\n ('01 September 2010', '01 March 2019'),\n ('2006-01', '2010-06'),\n ('16 November 2020', '31 January 2022'),\n ('2010-07', '2012-09'),\n ('13 August 2020', '2025-02'),\n ('01 October 2022', '01 December 2024'),\n ('27 June 2022', '2024-04'),\n ('25 March 2022', '2022-09'),\n ('01 September 2022', '31 May 2024'),\n ('2010-09', '2014-08'),\n ('01 February 2020', '20 June 2024'),\n ('09 January 2020', '01 October 2020'),\n ('2009-08', '2013-05'),\n ('2005-09', '2005-11'),\n ('2020-01', '2020-08'),\n ('2010-08', '2012-08'),\n ('06 February 2019', '01 August 2024'),\n ('17 June 2022', '01 December 2027'),\n ('2001-06', '2004-07'),\n ('2008-01', '2008-06'),\n ('20 November 2020', '01 February 2022'),\n ('05 May 2021', '2022-12'),\n ('08 October 2008', '06 April 2009'),\n ('16 January 2015', '14 March 2016'),\n ('2014-12', '2019-10'),\n ('13 March 2019', '15 April 2019'),\n ('13 May 2019', '30 June 2020'),\n ('01 August 2009', '31 December 2023'),\n ('01 June 2023', '01 June 2026'),\n ('2012-09', '2013-08'),\n ('29 March 2023', '29 March 2024'),\n ('16 August 2017', '11 April 2019'),\n ('01 September 2024', '01 June 2027'),\n ('07 October 2019', '13 June 2023'),\n ('10 February 2023', '15 August 2025'),\n ('19 December 2019', '2024-06'),\n ('2015-07', '2016-07'),\n ('21 July 2021', '2024-06'),\n ('30 September 2017', '30 September 2018'),\n ('01 February 2021', '01 December 2025'),\n ('2011-01', '2021-12'),\n ('01 January 2019', '01 January 2025'),\n ('13 March 2018', '03 September 2019'),\n ('24 January 2018', '30 June 2019'),\n ('18 March 2020', '01 September 2022'),\n ('01 May 2023', '2024-03'),\n ('2016-07', '2016-11'),\n ('2011-01', '2015-01'),\n ('2014-03', '2020-04'),\n ('2009-02', '2010-08'),\n ('2007-12', '31 December 2019'),\n ('13 March 2020', '2025-11'),\n ('05 February 2022', '30 December 2023'),\n ('15 November 2019', '2020-09'),\n ('2013-07', '2014-03'),\n ('01 October 2020', '01 October 2022'),\n ('2011-11', '2013-06'),\n ('11 October 2016', '24 June 2020'),\n ('03 March 2013', '20 March 2015'),\n ('01 October 2023', '01 June 2027'),\n ('2014-11', '2017-12'),\n ('2004-01', ''),\n ('2012-05', '2016-12'),\n ('01 January 2020', '01 November 2020'),\n ('14 December 2018', '17 May 2023'),\n ('07 December 2017', '21 July 2021'),\n ('25 July 2023', '31 December 2030'),\n ('2011-11', '2018-08'),\n ('2006-03', '2007-07'),\n ('18 February 2020', '2025-09'),\n ('2014-09', '2015-07'),\n ('03 January 2019', '03 January 2030'),\n ('01 March 2023', '03 April 2024'),\n ('15 October 2020', '08 November 2021'),\n ('2023-12', '2024-08'),\n ('01 May 2016', '01 October 2017'),\n ('', ''),\n ('1999-09', '2002-06'),\n ('24 October 2019', '2024-12'),\n ('2013-01', '2016-02'),\n ('2006-12', '2008-05'),\n ('15 October 2022', '2025-09'),\n ('2003-01', '2005-07'),\n ('29 June 2022', '2024-07'),\n ('2013-10', '2016-01'),\n ('01 September 2023', '31 December 2023'),\n ('2011-04', '2013-01'),\n ('14 December 2018', '26 March 2021'),\n ('2008-10', '2011-06'),\n ('13 September 2020', '04 October 2025'),\n ('01 May 2020', '01 June 2021'),\n ('07 June 2021', '24 March 2022'),\n ('2009-01', '2009-11'),\n ('08 February 2023', '30 September 2025'),\n ('19 June 2020', '31 January 2023'),\n ('2011-09', '2017-09'),\n ('09 December 2021', '2024-12'),\n ('28 March 2017', '13 September 2018'),\n ...]"
     ]
    }
   ],
   "source": [
    "# Extract Start Date and Completion Date\n",
    "\n",
    "rdd3 = rdd2.map(lambda row: (row[-2], row[-1]))\n",
    "\n",
    "rdd3.collect()  #show all data in rdd"
   ]
  },
  {
   "cell_type": "code",
   "execution_count": 0,
   "metadata": {
    "application/vnd.databricks.v1+cell": {
     "cellMetadata": {
      "byteLimit": 2048000,
      "rowLimit": 10000
     },
     "inputWidgets": {},
     "nuid": "338a7648-284e-4440-a347-c55673272f7a",
     "showTitle": false,
     "title": ""
    }
   },
   "outputs": [
    {
     "output_type": "stream",
     "name": "stdout",
     "output_type": "stream",
     "text": [
      "('Start Date', 'Completion Date')\n"
     ]
    }
   ],
   "source": [
    "#Create date without the Header\n",
    "\n",
    "#create Date Header\n",
    "\n",
    "Date_Header = rdd3.first()\n",
    "\n",
    "print(Date_Header)\n",
    "\n",
    "#Extract date without Header\n",
    "\n",
    "rdd4 = rdd3.map(lambda x: x[:2])"
   ]
  },
  {
   "cell_type": "code",
   "execution_count": 0,
   "metadata": {
    "application/vnd.databricks.v1+cell": {
     "cellMetadata": {
      "byteLimit": 2048000,
      "rowLimit": 10000
     },
     "inputWidgets": {},
     "nuid": "8d58bdd6-1e54-4aa4-81b1-1fcb1cf3d886",
     "showTitle": false,
     "title": ""
    }
   },
   "outputs": [
    {
     "output_type": "stream",
     "name": "stdout",
     "output_type": "stream",
     "text": [
      "('Start Date', 'Completion Date')\n('20 August 2018', '28 February 2019')\n('25 October 2023', '01 August 2024')\n('01 August 2013', '01 December 2014')\n('01 October 2020', '01 October 2023')\n('01 July 2010', '30 October 2019')\n('05 May 2017', '09 October 2020')\n('01 September 2022', '15 June 2023')\n('01 February 2024', '01 March 2026')\n('11 May 2016', '13 December 2017')\n('01 February 2016', '01 May 2017')\n('13 July 2017', '30 June 2026')\n('01 January 2004', '01 January 2005')\n('09 February 2023', '17 November 2024')\n('01 March 2015', '01 December 2016')\n('13 June 2013', '02 November 2021')\n('13 June 2018', '24 December 2018')\n('01 January 2009', '01 December 2009')\n('01 August 2009', '01 July 2011')\n('01 September 2009', '01 March 2010')\n('02 December 2021', '31 December 2023')\n('01 March 2003', '01 April 2004')\n('30 May 2023', '30 May 2025')\n('15 July 2019', '01 September 2020')\n('15 April 2020', '31 May 2020')\n('01 September 2014', '01 February 2019')\n('01 July 2023', '01 December 2024')\n('01 January 2018', '31 December 2024')\n('06 May 2022', '06 November 2025')\n('01 December 2005', '')\n('01 May 2011', '01 March 2018')\n('01 November 2012', '01 August 2015')\n('01 May 2010', '01 June 2012')\n('01 April 2007', '01 October 2010')\n('01 February 2011', '01 March 2013')\n('01 April 2006', '')\n('01 September 2013', '01 October 2015')\n('', '')\n('01 November 2017', '28 February 2018')\n('25 October 2016', '01 December 2023')\n('25 January 2021', '18 February 2022')\n('19 April 2021', '19 May 2021')\n('14 February 2017', '30 June 2024')\n('11 February 2021', '22 December 2021')\n('01 September 2014', '01 June 2016')\n('03 September 2020', '31 January 2021')\n('15 November 2022', '31 October 2026')\n('01 July 2004', '01 August 2006')\n('01 February 1986', '')\n('01 January 2010', '01 May 2010')\n('09 June 2015', '17 November 2019')\n('01 August 2024', '01 August 2027')\n('01 March 2022', '01 February 2025')\n('01 July 2015', '01 July 2017')\n('05 July 2019', '30 June 2022')\n('08 January 2022', '30 June 2023')\n('01 October 2015', '')\n('30 November 2010', '01 June 2024')\n('01 September 2020', '01 February 2022')\n('01 July 2016', '')\n('13 March 2020', '31 December 2022')\n('15 December 2021', '31 December 2025')\n('01 September 2015', '01 October 2015')\n('01 December 2014', '01 September 2016')\n('01 April 2019', '31 December 2022')\n('23 February 2022', '31 July 2024')\n('10 November 2019', '25 August 2020')\n('25 August 2023', '31 March 2024')\n('01 September 2005', '01 August 2008')\n('01 December 2016', '01 June 2018')\n('01 April 2016', '01 January 2017')\n('26 April 2018', '01 May 2025')\n('01 April 2014', '01 December 2018')\n('15 September 2021', '29 August 2022')\n('01 January 2003', '01 October 2004')\n('08 November 2015', '15 October 2019')\n('12 February 2023', '31 December 2024')\n('01 July 2002', '01 May 2010')\n('01 November 2020', '01 May 2021')\n('01 January 2024', '31 December 2026')\n('01 August 2006', '01 May 2007')\n('01 October 2008', '')\n('01 April 2009', '01 December 2011')\n('15 May 2022', '30 May 2025')\n('', '01 November 2004')\n('15 July 2023', '15 January 2025')\n('01 December 2023', '01 November 2026')\n('01 January 2024', '01 January 2025')\n('01 February 2013', '01 December 2018')\n('31 March 2022', '30 June 2023')\n('01 November 2014', '01 January 2020')\n('29 April 2020', '01 July 2020')\n('01 May 2015', '13 May 2017')\n('15 January 2024', '30 June 2024')\n('01 November 2013', '01 November 2017')\n('29 April 2019', '30 December 2020')\n('01 February 2014', '30 April 2015')\n('01 October 2010', '01 June 2013')\n('01 September 2010', '01 September 2014')\n('05 April 2019', '31 August 2021')\n('01 October 2009', '01 July 2011')\n('01 November 2014', '01 April 2015')\n('01 May 2016', '')\n('21 August 2023', '21 August 2025')\n('01 February 2015', '01 December 2016')\n('21 July 2021', '31 December 2022')\n('02 December 2022', '01 December 2023')\n('21 April 2016', '01 May 2021')\n('01 January 2009', '01 June 2010')\n('01 July 2012', '01 October 2013')\n('01 June 2008', '01 March 2009')\n('04 March 2019', '06 January 2023')\n('12 April 2023', '11 October 2023')\n('18 March 2020', '31 July 2023')\n('01 December 2015', '01 December 2022')\n('29 September 2014', '28 October 2020')\n('01 March 2005', '01 December 2007')\n('01 October 2014', '01 October 2015')\n('01 May 2013', '01 December 2027')\n('01 July 2008', '01 October 2011')\n('30 April 2019', '26 March 2021')\n('01 January 2016', '01 December 2024')\n('10 December 2020', '09 December 2025')\n('26 September 2013', '28 August 2015')\n('01 February 2009', '01 April 2022')\n('24 April 2017', '30 January 2026')\n('01 February 2013', '01 October 2014')\n('01 April 2021', '01 December 2022')\n('01 October 2005', '01 January 2007')\n('21 February 2017', '19 July 2017')\n('01 July 2004', '01 February 2010')\n('01 September 2002', '01 March 2012')\n('03 April 2017', '31 December 2023')\n('01 November 2013', '01 September 2015')\n('01 January 2009', '01 October 2010')\n('01 October 2012', '01 December 2017')\n('24 April 2023', '21 February 2025')\n('15 April 2021', '31 December 2036')\n('08 December 2016', '01 December 2022')\n('01 January 2017', '01 December 2019')\n('01 June 2008', '01 September 2008')\n('01 October 2010', '01 October 2015')\n('01 May 2011', '01 December 2011')\n('06 July 2023', '01 June 2025')\n('30 July 2018', '31 December 2024')\n('01 August 2020', '31 August 2029')\n('01 August 2013', '31 December 2017')\n('26 October 2022', '01 September 2026')\n('01 December 2011', '01 July 2012')\n('20 October 2023', '20 February 2024')\n('14 March 2022', '21 December 2022')\n('01 June 2017', '31 July 2018')\n('06 December 2021', '01 December 2032')\n('25 July 2022', '30 August 2023')\n('14 December 2022', '01 December 2024')\n('31 July 2018', '20 April 2023')\n('21 August 2023', '24 April 2025')\n('01 July 2014', '01 October 2018')\n('03 November 2020', '01 January 2030')\n('01 January 2010', '01 June 2011')\n('17 April 2023', '08 December 2023')\n('28 March 2018', '30 November 2019')\n('01 November 2016', '24 March 2020')\n('05 January 2023', '01 January 2025')\n('25 July 2014', '11 June 2016')\n('03 November 2008', '30 November 2024')\n('04 April 2022', '01 October 2023')\n('01 February 2014', '01 July 2015')\n('20 August 2020', '20 November 2021')\n('25 April 2020', '02 October 2021')\n('01 July 2005', '')\n('21 December 2016', '01 April 2019')\n('01 November 2005', '01 January 2008')\n('01 December 2003', '01 February 2007')\n('29 January 2023', '17 March 2023')\n('01 January 2006', '01 July 2010')\n('01 July 2009', '01 September 2014')\n('22 January 2020', '22 January 2021')\n('01 January 2018', '05 April 2018')\n('15 April 2021', '07 May 2022')\n('15 August 2017', '28 January 2024')\n('01 January 2019', '31 December 2019')\n('01 April 2007', '01 May 2010')\n('01 December 2012', '01 September 2015')\n('01 November 2022', '01 July 2023')\n('01 February 2023', '01 December 2023')\n('27 July 2017', '27 July 2017')\n('01 November 2009', '01 October 2010')\n('01 January 2012', '01 January 2012')\n('01 October 2015', '10 May 2017')\n('13 September 2021', '01 December 2023')\n('01 July 2022', '01 January 2028')\n('21 November 2014', '14 February 2020')\n('01 July 2021', '01 January 2023')\n('14 February 2011', '29 November 2017')\n('10 March 2022', '01 December 2023')\n('14 January 2021', '01 January 2028')\n('01 February 2019', '31 May 2019')\n('01 June 2009', '01 July 2011')\n('01 January 2014', '01 March 2017')\n('28 June 2019', '28 June 2022')\n('01 April 2011', '01 December 2011')\n('01 December 2009', '01 March 2010')\n('25 November 2014', '26 November 2019')\n('12 August 2019', '31 March 2021')\n('11 June 2021', '31 December 2027')\n('01 January 2022', '01 November 2023')\n('01 March 2018', '18 December 2020')\n('01 February 2011', '01 May 2012')\n('01 October 2007', '01 November 2012')\n('01 June 2021', '31 October 2023')\n('01 January 2011', '01 September 2016')\n('01 April 2009', '01 September 2009')\n('08 January 2024', '01 July 2027')\n('01 August 2016', '01 October 2017')\n('25 April 2018', '14 March 2019')\n('22 October 2018', '13 November 2019')\n('05 December 2017', '30 January 2019')\n('18 February 2014', '29 December 2023')\n('20 April 2017', '27 March 2019')\n('01 June 1996', '01 December 1997')\n('20 July 2005', '24 September 2010')\n('01 May 2022', '01 November 2022')\n('01 March 2010', '01 October 2010')\n('01 January 2011', '23 December 2016')\n('01 February 2009', '01 April 2009')\n('01 April 2013', '28 November 2017')\n('07 December 2018', '29 April 2020')\n('01 October 2016', '01 November 2017')\n('01 February 2009', '')\n('15 August 2022', '20 January 2023')\n('10 March 2015', '21 October 2020')\n('26 April 2023', '30 October 2025')\n('01 September 2016', '01 November 2017')\n('03 August 2018', '21 February 2021')\n('02 November 2020', '30 September 2024')\n('01 November 2007', '01 December 2008')\n('01 December 2012', '01 December 2013')\n('23 November 2021', '31 December 2022')\n('01 December 2007', '01 February 2009')\n('01 December 2011', '01 October 2013')\n('01 July 2022', '01 December 2022')\n('01 September 2022', '01 September 2024')\n('08 October 2019', '19 December 2019')\n('07 September 2023', '25 September 2025')\n('01 June 2004', '01 August 2005')\n('30 May 2018', '01 March 2025')\n('01 September 2012', '01 June 2014')\n('01 March 2001', '01 February 2006')\n('19 December 2016', '01 November 2018')\n('01 January 2008', '01 January 2012')\n('01 October 2007', '30 April 2008')\n('01 January 2020', '01 January 2021')\n('01 January 2025', '01 December 2026')\n('01 March 2012', '01 October 2012')\n('01 March 2016', '01 September 2018')\n('01 November 2022', '01 December 2024')\n('01 October 2014', '01 May 2015')\n('01 December 2014', '01 September 2015')\n('01 January 2017', '')\n('16 April 2021', '01 April 2022')\n('04 February 2022', '01 June 2023')\n('01 July 2010', '01 August 2012')\n('01 April 2014', '04 June 2021')\n('07 December 2016', '16 November 2017')\n('01 February 2024', '01 August 2028')\n('09 July 2020', '29 March 2025')\n('01 July 2007', '01 June 2011')\n('27 September 2021', '21 June 2022')\n('19 March 2014', '23 March 2019')\n('01 September 2005', '01 October 2008')\n('01 April 2012', '01 December 2017')\n('01 October 2020', '01 January 2021')\n('01 March 2017', '12 July 2018')\n('01 March 2016', '01 September 2016')\n('01 June 2004', '01 February 2011')\n('30 April 2015', '05 August 2019')\n('03 February 2017', '01 October 2018')\n('01 June 2018', '15 June 2019')\n('01 February 2012', '01 December 2024')\n('01 June 2013', '01 December 2016')\n('01 October 2019', '01 December 2020')\n('01 January 2005', '')\n('01 February 2015', '28 February 2017')\n('01 October 2016', '01 July 2017')\n('01 August 2012', '01 January 2015')\n('01 October 2020', '21 December 2022')\n('01 November 2012', '01 June 2014')\n('01 July 2012', '01 October 2014')\n('01 March 2024', '01 September 2025')\n('18 February 2021', '31 December 2024')\n('23 December 2017', '08 April 2036')\n('10 June 2009', '')\n('01 May 2011', '01 January 2012')\n('01 July 2014', '01 December 2016')\n('01 November 2012', '01 September 2020')\n('10 March 2022', '15 September 2023')\n('01 March 2013', '01 July 2014')\n('01 May 2005', '01 December 2016')\n('01 October 2015', '18 October 2017')\n('16 January 2015', '12 January 2017')\n('01 October 2011', '01 April 2014')\n('01 February 2016', '01 March 2017')\n('11 November 2016', '01 February 2019')\n('31 July 2017', '15 August 2025')\n('', '')\n('23 December 2019', '02 June 2026')\n('25 October 2019', '30 December 2023')\n('31 August 2018', '11 December 2019')\n('01 July 2015', '25 February 2020')\n('30 March 2022', '12 December 2022')\n('01 July 2013', '01 April 2017')\n('01 June 2019', '30 June 2021')\n('28 April 2019', '31 December 2024')\n('01 September 2021', '11 October 2022')\n('01 December 2022', '31 December 2023')\n('01 August 2023', '01 November 2023')\n('11 December 2023', '30 June 2024')\n('10 March 2019', '10 February 2020')\n('01 December 2008', '01 February 2010')\n('01 January 2019', '31 December 2023')\n('01 November 2004', '01 January 2011')\n('27 October 2020', '08 August 2023')\n('23 May 2022', '01 December 2024')\n('21 February 2018', '07 September 2018')\n('01 January 2011', '01 January 2016')\n('01 April 2014', '01 August 2014')\n('30 March 2023', '30 January 2024')\n('01 March 2011', '23 September 2011')\n('13 June 2019', '31 December 2023')\n('01 June 2023', '01 June 2026')\n('12 August 2010', '16 December 2011')\n('01 January 2012', '01 April 2014')\n('22 November 2018', '01 November 2022')\n('01 January 2008', '01 October 2013')\n('01 December 2010', '01 March 2016')\n('30 May 2023', '31 May 2027')\n('01 January 2017', '23 August 2018')\n('08 November 2017', '01 February 2019')\n('01 June 2013', '01 July 2013')\n('02 October 2023', '01 May 2024')\n('01 October 2008', '01 August 2009')\n('18 March 2020', '17 April 2020')\n('01 June 2014', '01 January 2016')\n('01 January 2013', '02 May 2023')\n('01 December 2016', '25 November 2019')\n('24 November 2009', '06 December 2009')\n('01 September 2007', '01 May 2009')\n('01 October 2023', '01 March 2024')\n('01 July 2015', '01 October 2016')\n('01 May 2013', '')\n('01 June 2013', '30 July 2020')\n('01 December 2015', '01 December 2022')\n('29 January 2018', '27 September 2019')\n('08 November 2021', '01 June 2026')\n('03 January 2018', '01 July 2020')\n('01 August 2016', '01 January 2017')\n('11 January 2022', '29 September 2023')\n('01 August 2002', '01 September 2004')\n('01 September 2017', '01 September 2019')\n('01 May 2004', '01 May 2025')\n('01 April 2007', '01 April 2010')\n('01 July 2009', '01 November 2009')\n('01 May 2008', '01 June 2012')\n('01 August 2013', '01 July 2014')\n('01 April 2022', '01 October 2023')\n('01 December 2010', '01 April 2011')\n('01 June 2020', '01 September 2020')\n('01 December 2023', '31 December 2028')\n('10 February 2019', '15 February 2019')\n('21 February 2023', '01 June 2024')\n('15 September 2010', '01 September 2025')\n('12 December 2017', '26 November 2019')\n('18 September 2018', '08 September 2022')\n('01 August 2014', '01 December 2016')\n('01 June 1999', '01 May 2007')\n('01 January 2006', '01 December 2014')\n('01 April 2004', '01 September 2006')\n('01 November 2007', '01 September 2008')\n('31 October 2019', '01 July 2021')\n('01 August 2023', '31 December 2025')\n('17 May 2016', '03 August 2016')\n('01 January 2004', '01 December 2006')\n('29 March 2023', '01 January 2026')\n('20 March 2018', '19 November 2018')\n('10 August 2021', '31 December 2022')\n('31 January 2023', '31 August 2025')\n('01 June 2021', '01 October 2021')\n('01 September 2021', '14 October 2021')\n('13 December 2022', '30 June 2026')\n('01 November 2012', '01 October 2013')\n('01 May 2017', '30 March 2018')\n('01 January 2024', '01 December 2025')\n('01 June 2009', '01 September 2011')\n('01 November 2002', '01 August 2005')\n('21 April 2016', '03 July 2017')\n('01 December 2008', '01 June 2009')\n('01 January 2015', '01 May 2016')\n('01 August 2018', '01 November 2019')\n('01 April 2021', '01 November 2021')\n('01 April 2015', '01 September 2015')\n('01 March 2012', '01 March 2015')\n('26 February 2020', '01 October 2021')\n('01 July 2014', '01 November 2016')\n('26 December 2013', '15 January 2015')\n('01 August 2008', '01 September 2009')\n('06 December 2023', '01 October 2026')\n('11 June 2007', '08 October 2007')\n('30 April 2019', '06 June 2021')\n('07 January 2021', '07 January 2024')\n('01 January 2017', '01 March 2021')\n('01 April 1996', '01 June 1997')\n('01 November 2018', '30 June 2022')\n('01 January 2006', '01 November 2013')\n('01 June 2018', '01 July 2020')\n('01 December 1999', '01 February 2009')\n('01 May 2002', '01 March 2005')\n('01 July 2010', '01 November 2013')\n('15 February 2022', '15 December 2022')\n('01 December 2010', '01 October 2011')\n('01 July 2019', '31 January 2026')\n('01 May 2007', '01 March 2013')\n('10 October 2017', '25 September 2019')\n('01 January 2008', '')\n('02 March 2021', '30 June 2024')\n('01 March 2017', '30 December 2019')\n('21 June 2017', '29 September 2020')\n('01 March 2008', '01 May 2012')\n('05 July 2022', '01 December 2023')\n('01 July 2013', '01 September 2014')\n('01 August 2015', '01 August 2025')\n('01 December 2023', '01 March 2025')\n('01 June 2015', '01 November 2017')\n('01 November 2010', '01 December 2014')\n('01 December 2005', '01 December 2007')\n('01 March 2011', '19 August 2016')\n('01 July 2014', '01 July 2015')\n('01 July 2007', '01 March 2014')\n('01 February 2007', '01 December 2011')\n('01 August 2011', '01 December 2012')\n('01 July 2022', '06 June 2023')\n('13 January 2023', '01 November 2027')\n('12 March 2019', '31 January 2020')\n('01 November 2001', '01 May 2002')\n('27 October 2021', '01 December 2021')\n('01 January 2016', '01 June 2019')\n('01 April 2007', '01 December 2008')\n('01 February 2016', '31 August 2018')\n('01 March 2011', '01 January 2012')\n('12 December 2018', '14 June 2019')\n('04 April 2023', '01 August 2027')\n('01 January 2001', '01 March 2002')\n('01 May 2005', '01 June 2009')\n('09 February 2021', '15 February 2024')\n('01 December 2016', '01 March 2019')\n('01 March 2015', '01 July 2018')\n('01 August 2016', '01 July 2018')\n('01 September 2020', '31 March 2021')\n('01 February 2006', '01 August 2008')\n('01 August 2008', '01 December 2013')\n('01 January 2013', '01 July 2013')\n('20 July 2014', '11 August 2015')\n('01 January 2014', '01 December 2015')\n('27 May 2021', '31 December 2023')\n('01 May 2007', '01 April 2015')\n('01 July 2020', '01 December 2021')\n('03 December 2018', '01 November 2019')\n('01 October 2023', '01 December 2027')\n('01 October 2009', '01 April 2010')\n('02 June 2021', '22 July 2021')\n('23 August 2023', '30 June 2027')\n('01 November 2009', '01 May 2011')\n('01 June 2012', '12 August 2014')\n('01 November 1998', '')\n('01 May 2010', '18 April 2016')\n('21 January 2020', '01 June 2022')\n('01 January 2021', '01 June 2021')\n('01 August 2019', '30 December 2021')\n('01 January 2018', '31 December 2019')\n('01 July 2011', '01 January 2015')\n('01 February 2019', '01 March 2023')\n('01 February 2001', '01 August 2002')\n('18 July 2018', '24 June 2019')\n('01 May 2013', '01 July 2015')\n('05 October 2020', '27 July 2021')\n('22 September 2020', '04 May 2023')\n('01 January 2015', '01 June 2015')\n('22 December 2019', '30 December 2021')\n('27 February 2018', '30 March 2020')\n('01 May 2013', '01 April 2017')\n('01 January 2006', '01 January 2009')\n('10 October 2022', '31 December 2024')\n('25 June 2016', '01 September 2016')\n('01 October 2008', '19 November 2015')\n('04 June 2018', '04 June 2019')\n('01 July 2012', '01 July 2013')\n('01 August 2022', '01 May 2025')\n('01 August 2005', '')\n('01 November 2006', '01 May 2011')\n('01 October 2012', '01 October 2016')\n('01 February 2019', '31 December 2027')\n('01 July 2019', '31 December 2024')\n('16 February 2020', '01 October 2020')\n('29 September 2008', '29 June 2017')\n('01 January 2015', '22 June 2021')\n('01 August 2019', '20 August 2021')\n('01 April 2015', '01 May 2021')\n('07 November 2011', '08 March 2012')\n('13 July 2023', '25 June 2025')\n('13 November 2017', '22 June 2021')\n('01 November 2019', '01 December 2021')\n('30 May 2011', '30 September 2011')\n('01 June 2005', '01 June 2009')\n('01 September 2021', '16 August 2022')\n('17 December 2018', '01 September 2021')\n('01 January 2005', '01 December 2009')\n('01 July 2006', '01 September 2009')\n('15 June 2023', '24 December 2024')\n('15 January 2018', '30 May 2018')\n('07 January 2016', '24 July 2019')\n('01 October 2020', '30 September 2022')\n('01 December 2023', '01 September 2032')\n('01 November 2008', '01 December 2015')\n('01 October 2017', '22 February 2023')\n('28 October 2021', '03 December 2021')\n('01 December 2010', '01 December 2012')\n('09 May 2023', '20 January 2024')\n('23 August 2006', '')\n('01 April 2015', '01 July 2015')\n('01 April 2007', '01 January 2010')\n('02 March 2023', '01 March 2026')\n('21 November 2018', '31 December 2022')\n('22 May 2017', '24 June 2020')\n('01 December 2014', '')\n('01 June 2013', '01 November 2018')\n('01 May 2009', '01 July 2009')\n('15 May 2022', '01 December 2023')\n('01 March 2012', '01 April 2013')\n('01 March 2020', '01 January 2021')\n('11 November 2019', '31 December 2022')\n('01 February 2014', '01 April 2014')\n('01 May 2018', '01 March 2019')\n('01 June 2013', '01 July 2013')\n('09 May 2022', '01 September 2022')\n('01 October 2008', '01 October 2009')\n('01 March 2022', '01 January 2023')\n('01 February 2007', '')\n('18 March 2019', '18 March 2024')\n('01 January 2011', '01 March 2011')\n('01 August 2014', '06 May 2015')\n('01 August 2003', '')\n('18 October 2019', '10 August 2021')\n('01 August 2010', '01 December 2014')\n('01 February 2006', '01 December 2012')\n('01 March 2009', '01 November 2013')\n('05 December 2023', '05 December 2026')\n('15 June 2021', '31 December 2023')\n('01 January 2023', '01 December 2027')\n('01 April 2005', '01 June 2007')\n('14 October 2017', '15 February 2019')\n('01 May 2013', '01 June 2013')\n('01 December 2013', '01 December 2015')\n('01 July 2018', '12 December 2021')\n('01 December 2023', '01 August 2024')\n('21 June 2021', '24 September 2021')\n('01 January 2013', '01 December 2019')\n('01 March 2008', '01 January 2009')\n('01 January 2021', '01 June 2022')\n('07 June 2018', '01 March 2025')\n('01 March 2012', '01 August 2015')\n('21 March 2018', '29 November 2023')\n('27 June 2017', '30 July 2018')\n('01 September 2023', '29 February 2024')\n('01 March 2006', '01 December 2008')\n('01 April 2014', '01 June 2017')\n('01 September 2021', '28 February 2024')\n('14 June 2022', '01 October 2024')\n('12 November 2018', '20 August 2020')\n('25 April 2014', '31 December 2015')\n('01 October 2005', '01 December 2007')\n('01 September 2019', '31 August 2020')\n('18 October 2018', '30 December 2023')\n('02 July 2018', '28 May 2020')\n('02 May 2018', '24 October 2018')\n('01 August 2008', '01 December 2010')\n('01 December 2015', '01 May 2018')\n('01 June 2001', '01 October 2004')\n('01 March 2020', '01 July 2020')\n('01 July 2012', '01 June 2014')\n('01 January 2004', '01 July 2004')\n('01 July 2023', '01 July 2028')\n('01 July 2015', '01 April 2016')\n('12 July 2018', '31 December 2023')\n('01 January 2023', '01 December 2025')\n('25 January 2012', '29 January 2015')\n('01 January 2008', '01 September 2013')\n('01 February 2015', '01 July 2015')\n('01 April 2015', '26 June 2020')\n('01 March 2010', '01 May 2013')\n('24 April 2023', '03 December 2024')\n('01 July 2015', '01 November 2016')\n('01 January 2022', '01 December 2022')\n('01 January 2015', '01 April 2015')\n('04 February 2019', '31 August 2019')\n('01 August 2012', '01 January 2013')\n('01 September 2017', '31 August 2018')\n('15 August 2021', '30 June 2022')\n('01 January 2010', '01 December 2017')\n('01 May 2008', '01 February 2014')\n('08 October 2019', '17 July 2021')\n('15 December 2018', '30 March 2019')\n('15 May 2018', '28 February 2023')\n('28 August 2017', '06 July 2019')\n('', '01 January 2007')\n('01 October 2022', '22 December 2022')\n('06 May 2021', '01 March 2026')\n('13 December 2001', '24 March 2009')\n('01 June 2019', '31 December 2024')\n('01 July 2017', '01 July 2020')\n('26 July 2013', '12 August 2014')\n('01 September 2013', '01 December 2015')\n('01 April 2022', '01 December 2022')\n('28 February 2016', '31 December 2016')\n('01 April 2015', '01 December 2015')\n('01 December 2017', '01 April 2019')\n('01 October 2020', '01 December 2023')\n('29 January 2021', '02 December 2025')\n('01 June 2006', '01 April 2008')\n('11 May 2021', '08 July 2022')\n('01 January 2012', '01 April 2015')\n('18 August 2020', '31 October 2020')\n('01 September 2004', '01 December 2006')\n('08 November 2018', '19 April 2019')\n('01 October 2005', '01 September 2008')\n('01 January 2012', '')\n('12 February 2018', '30 March 2020')\n('01 January 2008', '01 October 2013')\n('06 May 2020', '20 September 2021')\n('01 January 2011', '01 May 2012')\n('27 February 2023', '31 October 2024')\n('01 June 2003', '01 October 2006')\n('01 January 2017', '01 January 2023')\n('07 September 2018', '01 September 2021')\n('01 May 2009', '01 February 2013')\n('01 October 2009', '01 December 2009')\n('01 January 2024', '31 December 2027')\n('01 January 2013', '')\n('26 April 2019', '01 September 2021')\n('01 January 2000', '01 April 2006')\n('01 January 2011', '01 December 2016')\n('01 May 2004', '01 August 2005')\n('09 May 2019', '28 February 2024')\n('01 May 2021', '31 December 2024')\n('01 May 2012', '15 May 2020')\n('01 August 2017', '01 December 2017')\n('01 March 2014', '01 July 2014')\n('13 October 2022', '30 March 2023')\n('01 July 2016', '01 February 2019')\n('01 October 2018', '01 December 2019')\n('06 January 2020', '31 January 2024')\n('01 February 2007', '01 July 2011')\n('23 March 2020', '16 June 2020')\n('22 July 2022', '19 August 2025')\n('01 January 2015', '01 January 2016')\n('01 April 2016', '01 December 2021')\n('01 April 2016', '01 December 2016')\n('01 July 2012', '01 October 2014')\n('05 November 2022', '05 June 2023')\n('28 October 2021', '26 July 2023')\n('01 April 2014', '01 July 2015')\n('01 July 1991', '01 April 2001')\n('01 January 2012', '01 December 2012')\n('01 May 2021', '01 December 2023')\n('15 November 2018', '30 June 2022')\n('01 June 2003', '01 February 2006')\n('18 September 2017', '30 November 2019')\n('02 \n\n*** WARNING: max output size exceeded, skipping output. ***\n\n '01 October 2024')\n('01 February 2006', '01 June 2010')\n('01 July 2008', '01 July 2012')\n('01 November 2013', '30 September 2019')\n('01 October 2016', '01 December 2020')\n('15 January 2019', '01 December 2019')\n('01 April 2014', '01 December 2015')\n('01 November 2012', '01 June 2013')\n('01 November 2005', '01 November 2007')\n('01 February 2023', '01 December 2023')\n('01 December 2021', '01 June 2026')\n('01 April 2015', '01 August 2018')\n('16 November 2022', '10 May 2023')\n('20 September 2021', '31 August 2026')\n('01 August 2005', '01 December 2017')\n('23 June 2021', '30 June 2022')\n('01 April 2023', '10 May 2023')\n('01 March 2010', '01 November 2015')\n('29 September 2016', '13 June 2018')\n('11 November 2020', '31 March 2024')\n('10 July 2020', '07 August 2020')\n('01 March 2012', '01 May 2013')\n('05 January 2019', '01 June 2022')\n('01 March 2005', '01 October 2006')\n('', '01 October 1999')\n('25 May 2018', '11 April 2022')\n('16 December 2014', '27 January 2023')\n('01 March 2019', '01 May 2021')\n('01 March 2021', '30 November 2021')\n('01 August 2013', '01 October 2015')\n('01 December 2023', '15 March 2024')\n('01 January 2012', '31 December 2032')\n('13 November 2015', '05 April 2017')\n('01 May 2011', '01 December 2014')\n('01 February 2009', '01 October 2009')\n('01 February 2014', '01 August 2014')\n('01 January 2008', '01 September 2015')\n('20 January 2019', '30 December 2020')\n('18 December 2015', '31 August 2021')\n('01 January 2013', '01 December 2019')\n('01 December 2022', '30 December 2023')\n('01 February 2013', '01 December 2016')\n('01 November 2022', '30 May 2023')\n('23 April 2013', '17 November 2020')\n('01 May 2013', '01 August 2013')\n('01 April 2020', '01 August 2020')\n('17 November 2023', '01 July 2025')\n('19 June 2020', '31 December 2020')\n('01 May 2010', '01 May 2015')\n('01 February 2016', '01 December 2021')\n('01 March 2010', '01 February 2014')\n('01 July 2019', '30 June 2022')\n('01 February 2015', '07 November 2017')\n('27 April 2016', '21 July 2020')\n('14 August 2023', '30 September 2026')\n('01 August 2005', '01 August 2006')\n('01 October 2011', '01 January 2020')\n('09 January 2024', '02 May 2024')\n('', '')\n('01 January 2012', '01 February 2019')\n('23 October 2023', '01 January 2025')\n('01 May 2018', '31 December 2018')\n('28 September 2017', '17 April 2018')\n('03 August 2020', '31 May 2025')\n('01 July 2020', '31 December 2020')\n('01 July 2014', '01 December 2020')\n('01 November 2017', '30 September 2021')\n('01 June 2022', '31 December 2024')\n('16 July 2015', '13 February 2020')\n('01 August 2013', '01 July 2014')\n('31 March 2016', '31 December 2016')\n('01 October 2011', '01 November 2011')\n('20 July 2019', '01 December 2023')\n('01 October 2008', '01 December 2011')\n('01 March 2015', '01 June 2019')\n('01 November 2009', '01 January 2014')\n('01 February 2015', '01 August 2015')\n('19 October 2020', '01 September 2021')\n('19 August 2019', '01 January 2021')\n('01 December 1994', '')\n('02 March 2023', '01 March 2029')\n('27 July 2022', '30 June 2023')\n('16 November 2023', '01 November 2024')\n('01 July 2020', '09 July 2021')\n('01 October 2019', '30 September 2020')\n('01 January 2020', '01 June 2022')\n('01 January 2010', '01 April 2019')\n('14 December 2018', '14 December 2018')\n('15 July 2019', '01 December 2023')\n('01 December 2009', '01 August 2013')\n('07 February 2008', '01 March 2015')\n('01 January 2015', '20 May 2020')\n('01 March 2017', '03 October 2017')\n('01 May 2015', '01 December 2015')\n('01 January 2002', '01 December 2012')\n('01 February 2013', '01 April 2014')\n('20 February 2017', '31 December 2023')\n('01 May 2005', '01 June 2008')\n('25 August 2017', '06 April 2020')\n('02 October 2023', '31 August 2024')\n('01 May 2023', '01 October 2024')\n('01 November 2023', '01 May 2024')\n('15 April 2015', '29 December 2016')\n('02 June 2023', '30 December 2024')\n('01 April 2017', '31 March 2019')\n('01 March 2022', '31 May 2023')\n('15 November 2018', '25 October 2020')\n('07 June 2018', '10 April 2020')\n('30 September 2021', '09 September 2022')\n('01 April 2016', '01 August 2017')\n('01 October 2023', '01 December 2025')\n('01 December 1997', '01 November 2000')\n('15 April 2022', '24 May 2022')\n('01 May 2007', '01 March 2015')\n('01 April 2000', '16 December 2014')\n('01 September 2008', '01 June 2009')\n('12 August 2020', '01 November 2021')\n('01 October 2007', '01 October 2010')\n('01 February 2013', '01 February 2014')\n('01 April 2021', '31 December 2022')\n('28 March 2013', '12 February 2019')\n('01 February 2001', '')\n('01 January 2002', '15 September 2003')\n('19 June 2018', '07 September 2018')\n('01 November 2010', '01 November 2013')\n('31 January 2015', '31 January 2018')\n('01 January 2008', '01 November 2015')\n('01 January 2012', '01 November 2013')\n('01 August 2000', '01 July 2006')\n('26 September 2019', '15 January 2020')\n('06 September 2023', '31 January 2024')\n('01 September 2014', '22 October 2017')\n('01 August 2016', '15 September 2020')\n('01 January 2006', '01 November 2011')\n('01 September 2005', '01 June 2008')\n('01 April 2017', '01 November 2018')\n('31 May 2019', '01 August 2024')\n('28 March 2015', '01 December 2024')\n('01 February 2022', '01 December 2022')\n('20 November 2013', '01 January 2018')\n('19 June 2018', '19 February 2021')\n('01 January 2012', '01 January 2032')\n('01 January 2016', '01 February 2017')\n('01 November 2005', '')\n('01 April 2010', '01 May 2011')\n('01 January 2023', '01 June 2023')\n('01 October 2007', '01 April 2010')\n('01 November 2014', '01 August 2016')\n('01 July 2010', '01 August 2012')\n('01 December 2004', '01 October 2010')\n('01 January 2005', '01 December 2022')\n('01 March 2012', '30 August 2015')\n('01 August 2011', '29 December 2017')\n('01 October 2012', '01 October 2013')\n('07 June 2016', '10 December 2020')\n('15 June 2010', '31 May 2013')\n('01 June 2020', '01 September 2025')\n('04 August 2023', '01 November 2025')\n('01 May 2004', '01 January 2009')\n('08 March 2021', '16 December 2021')\n('01 August 2007', '01 April 2011')\n('27 February 2023', '18 October 2023')\n('01 June 2022', '01 June 2024')\n('01 September 2023', '30 December 2024')\n('29 January 2014', '26 June 2019')\n('01 September 2010', '01 November 2011')\n('10 March 2023', '31 December 2025')\n('28 May 2015', '04 December 2017')\n('01 March 2007', '01 February 2010')\n('01 August 2018', '30 March 2020')\n('18 August 2020', '30 June 2021')\n('01 January 2006', '01 January 2006')\n('24 January 2022', '30 November 2024')\n('01 March 2014', '01 February 2020')\n('01 April 2008', '01 September 2008')\n('01 February 2023', '01 February 2024')\n('03 June 2022', '21 September 2023')\n('10 September 2021', '19 November 2021')\n('01 June 2009', '01 May 2010')\n('01 December 2001', '01 December 2001')\n('01 September 2007', '01 January 2009')\n('01 October 2020', '01 May 2022')\n('01 October 2009', '01 September 2010')\n('29 March 2017', '30 December 2018')\n('01 August 2016', '01 August 2024')\n('01 February 2008', '01 June 2009')\n('01 January 2003', '01 December 2008')\n('01 February 2018', '01 May 2021')\n('01 May 2002', '')\n('10 May 2021', '30 April 2023')\n('01 March 2018', '31 May 2020')\n('01 May 2010', '01 July 2014')\n('01 January 2006', '01 December 2011')\n('02 February 2017', '20 July 2021')\n('07 July 2017', '12 February 2020')\n('15 June 2009', '15 October 2017')\n('25 June 2018', '01 December 2022')\n('01 April 2014', '17 October 2017')\n('01 June 2010', '01 November 2010')\n('01 May 2019', '15 October 2020')\n('01 June 2017', '01 December 2017')\n('01 December 2014', '01 October 2016')\n('01 March 2021', '06 August 2021')\n('01 July 2007', '')\n('01 May 2012', '01 May 2017')\n('', '')\n('01 July 2017', '31 December 2018')\n('22 January 2007', '19 February 2007')\n('01 June 2013', '01 December 2013')\n('27 June 2017', '01 December 2065')\n('08 July 2016', '01 December 2017')\n('07 October 2021', '01 December 2023')\n('29 March 2018', '30 June 2022')\n('01 June 2021', '15 October 2021')\n('05 September 2023', '07 November 2024')\n('18 December 2015', '15 April 2019')\n('01 October 2023', '25 February 2024')\n('', '')\n('28 June 2022', '17 October 2022')\n('13 November 2018', '12 December 2018')\n('01 June 2012', '01 December 2013')\n('01 March 2004', '01 November 2007')\n('01 February 2014', '01 December 2019')\n('01 October 2018', '30 March 2019')\n('01 May 2009', '01 July 2010')\n('19 November 2020', '01 April 2027')\n('26 June 2017', '01 September 2020')\n('01 December 2021', '31 December 2024')\n('01 January 2024', '01 December 2026')\n('14 February 2018', '01 January 2022')\n('25 June 2019', '03 December 2020')\n('01 June 2022', '01 November 2023')\n('01 April 2012', '01 June 2016')\n('29 August 2017', '30 December 2018')\n('01 February 2015', '01 April 2016')\n('19 September 2019', '26 March 2020')\n('10 June 2018', '01 June 2024')\n('09 February 2022', '01 September 2022')\n('31 October 2020', '30 June 2021')\n('01 January 2017', '30 November 2020')\n('01 June 2019', '01 December 2023')\n('01 January 2013', '01 December 2013')\n('26 November 2017', '31 December 2025')\n('01 December 2014', '01 December 2026')\n('29 May 2022', '10 November 2022')\n('01 May 2023', '07 July 2023')\n('30 July 2022', '15 February 2023')\n('10 September 2018', '01 May 2024')\n('01 June 2009', '14 December 2015')\n('01 October 2007', '01 December 2008')\n('01 December 2010', '01 June 2018')\n('01 January 2001', '31 July 2021')\n('20 November 2018', '31 March 2020')\n('01 January 2022', '01 April 2023')\n('02 May 2017', '16 July 2018')\n('01 February 2020', '15 June 2020')\n('01 December 2020', '10 January 2022')\n('02 March 2020', '05 February 2021')\n('01 August 2016', '30 March 2018')\n('01 December 2021', '30 June 2022')\n('01 December 2014', '14 February 2022')\n('01 March 2022', '01 July 2022')\n('01 February 2003', '01 March 2005')\n('01 September 1999', '')\n('04 January 2021', '04 January 2025')\n('01 December 2020', '30 June 2023')\n('25 January 2021', '29 October 2021')\n('01 March 2003', '01 November 2015')\n('29 September 2020', '30 June 2021')\n('01 August 2015', '01 December 2015')\n('16 June 2022', '01 June 2025')\n('01 April 2003', '01 May 2007')\n('01 May 2011', '28 May 2012')\n('01 June 2016', '01 August 2017')\n('20 March 2017', '14 January 2023')\n('01 August 2023', '01 December 2024')\n('01 September 2019', '31 December 2021')\n('01 May 2011', '01 October 2015')\n('', '')\n('07 April 2008', '04 February 2009')\n('21 February 2017', '16 March 2018')\n('10 January 2019', '28 February 2023')\n('01 February 2003', '01 November 2007')\n('07 May 2018', '08 August 2018')\n('01 October 2014', '01 January 2018')\n('01 August 2013', '01 August 2018')\n('01 April 2008', '01 January 2009')\n('01 February 2020', '01 June 2023')\n('02 August 2018', '02 August 2018')\n('01 October 2009', '01 June 2012')\n('09 December 2019', '30 September 2020')\n('22 June 2017', '01 December 2030')\n('01 December 2019', '01 January 2022')\n('02 July 2021', '01 June 2026')\n('03 March 2022', '05 May 2022')\n('02 September 2020', '30 July 2030')\n('01 May 2002', '')\n('01 December 2008', '01 December 2012')\n('04 December 2017', '28 February 2022')\n('12 March 2019', '15 June 2024')\n('26 June 2020', '06 May 2021')\n('24 April 2020', '02 April 2021')\n('07 August 2017', '07 August 2021')\n('01 December 2022', '23 June 2023')\n('01 July 2011', '01 October 2015')\n('22 March 2023', '01 August 2024')\n('01 August 2016', '01 February 2017')\n('01 January 2017', '01 December 2019')\n('08 June 2004', '19 December 2017')\n('26 September 2018', '30 April 2019')\n('01 May 2007', '01 September 2010')\n('27 October 2017', '08 March 2019')\n('30 December 2015', '31 December 2020')\n('01 August 2016', '01 December 2016')\n('01 August 2011', '01 December 2012')\n('05 February 2021', '01 May 2022')\n('01 August 2006', '01 April 2008')\n('11 April 2022', '01 November 2023')\n('01 January 2008', '31 December 2014')\n('01 September 2003', '')\n('04 April 2020', '05 June 2020')\n('06 April 2017', '26 February 2018')\n('01 May 2003', '01 January 2012')\n('22 November 2021', '06 May 2022')\n('09 July 2018', '01 January 2021')\n('23 January 2009', '27 August 2014')\n('01 September 2015', '01 October 2015')\n('01 December 2020', '30 December 2022')\n('01 March 2015', '01 August 2021')\n('05 May 2017', '31 May 2022')\n('01 June 2009', '01 October 2011')\n('05 September 2017', '18 January 2018')\n('01 July 2016', '07 November 2017')\n('01 February 2008', '01 December 2009')\n('22 November 2020', '22 November 2022')\n('', '')\n('01 March 2013', '01 April 2014')\n('19 February 2016', '26 May 2017')\n('01 February 2008', '')\n('04 October 2021', '28 December 2022')\n('09 September 2019', '01 February 2024')\n('03 July 2019', '01 May 2020')\n('02 October 2017', '30 September 2018')\n('01 August 2019', '01 March 2025')\n('01 July 2010', '01 April 2023')\n('01 February 2024', '01 July 2027')\n('17 September 2022', '10 February 2023')\n('06 October 2021', '20 October 2022')\n('01 June 2000', '01 December 2001')\n('01 November 2017', '01 November 2020')\n('', '')\n('01 June 2013', '01 February 2015')\n('01 May 2009', '01 February 2014')\n('15 June 2022', '30 September 2025')\n('06 April 2006', '31 October 2016')\n('19 April 2018', '30 April 2020')\n('14 March 2022', '01 December 2022')\n('01 January 2023', '01 January 2029')\n('01 June 2015', '01 May 2018')\n('01 October 2010', '01 April 2012')\n('07 April 2020', '01 September 2021')\n('21 February 2018', '28 February 2019')\n('01 September 2013', '01 December 2021')\n('07 June 2023', '11 November 2023')\n('01 November 2010', '18 January 2018')\n('22 December 2021', '22 December 2023')\n('01 September 2002', '01 November 2025')\n('19 June 2015', '01 September 2023')\n('01 May 2013', '01 May 2019')\n('01 October 2012', '01 October 2020')\n('01 January 2005', '01 June 2008')\n('31 May 2022', '30 January 2025')\n('01 March 2011', '01 April 2011')\n('01 June 2014', '01 April 2016')\n('27 November 2022', '01 December 2025')\n('13 June 2016', '19 December 2019')\n('05 November 2020', '18 December 2020')\n('01 January 2017', '01 June 2022')\n('07 August 2018', '23 August 2019')\n('01 September 2016', '01 September 2019')\n('01 June 2022', '15 April 2023')\n('10 December 2018', '20 July 2019')\n('01 August 2013', '01 June 2015')\n('01 August 2012', '01 October 2013')\n('01 November 2023', '01 February 2025')\n('15 June 2016', '10 July 2018')\n('01 October 2013', '01 September 2014')\n('01 March 2024', '30 June 2025')\n('13 January 2021', '01 November 2022')\n('10 December 2018', '16 May 2019')\n('01 August 2012', '01 July 2015')\n('01 February 2012', '01 September 2012')\n('01 February 2003', '01 February 2005')\n('10 February 2020', '31 December 2023')\n('01 July 2021', '01 December 2022')\n('28 November 2011', '01 May 2012')\n('01 January 2015', '01 December 2018')\n('01 January 2014', '01 April 2014')\n('07 November 2019', '31 May 2021')\n('31 October 2017', '10 May 2018')\n('22 May 2023', '31 December 2025')\n('01 April 2021', '01 March 2024')\n('02 June 2020', '14 December 2020')\n('04 April 2016', '07 October 2016')\n('01 February 1997', '01 April 2011')\n('01 April 2008', '01 January 2012')\n('01 September 2007', '01 February 2011')\n('01 January 2013', '01 August 2015')\n('01 November 2013', '01 November 2016')\n('02 July 2014', '20 March 2018')\n('01 July 2014', '31 December 2020')\n('31 January 2023', '04 April 2023')\n('27 November 2018', '01 November 2023')\n('23 September 2022', '12 December 2022')\n('01 July 2007', '01 December 2019')\n('06 August 2009', '03 September 2010')\n('01 January 2011', '01 April 2013')\n('03 September 2018', '18 December 2018')\n('01 November 2013', '26 October 2017')\n('01 March 2022', '30 January 2023')\n('02 November 2023', '02 January 2024')\n('01 March 2021', '31 July 2022')\n('20 November 2020', '30 September 2021')\n('01 March 2013', '01 August 2015')\n('01 December 2018', '01 February 2023')\n('05 July 2019', '29 December 2020')\n('01 December 2018', '30 December 2023')\n('21 December 2021', '01 March 2023')\n('05 April 2017', '05 April 2019')\n('01 August 2015', '01 April 2016')\n('01 February 2009', '01 July 2010')\n('01 September 2001', '')\n('20 January 2019', '31 August 2021')\n('01 August 2014', '01 November 2015')\n('01 March 2016', '01 May 2017')\n('01 May 2012', '01 September 2013')\n('19 August 2021', '01 July 2024')\n('01 April 2020', '01 December 2022')\n('05 January 2017', '25 May 2019')\n('01 July 2017', '01 March 2020')\n('01 January 2010', '01 August 2010')\n('25 February 2013', '13 July 2017')\n('01 August 2014', '01 December 2015')\n('01 March 2010', '01 December 2018')\n('23 October 2013', '03 July 2014')\n('01 June 2010', '01 August 2011')\n('01 September 2018', '01 September 2020')\n('15 June 2021', '15 June 2023')\n('25 November 2019', '03 October 2022')\n('01 December 2006', '01 July 2009')\n('01 September 2014', '01 October 2014')\n('01 May 2015', '01 June 2022')\n('01 October 2017', '30 August 2018')\n('01 September 2016', '01 September 2017')\n('11 June 2003', '20 June 2006')\n('01 October 2016', '01 August 2020')\n('15 June 2020', '15 April 2021')\n('15 September 2023', '25 November 2023')\n('01 February 2007', '01 September 2012')\n('31 August 2019', '31 March 2022')\n('01 December 2021', '01 July 2023')\n('25 November 2014', '11 March 2021')\n('19 May 2020', '31 December 2021')\n('01 September 2022', '31 January 2025')\n('01 May 2015', '01 June 2021')\n('01 June 2022', '01 February 2023')\n('15 May 2021', '25 January 2022')\n('01 August 2010', '01 March 2013')\n('19 May 2014', '31 May 2026')\n('01 March 2017', '01 February 2018')\n('', '01 February 1990')\n('28 January 2020', '31 October 2024')\n('15 December 2018', '30 December 2019')\n('01 January 2012', '01 December 2025')\n('17 March 2021', '01 August 2022')\n('21 March 2019', '26 February 2025')\n('20 March 2019', '20 June 2024')\n('01 April 2010', '01 April 2017')\n('01 January 2018', '31 March 2022')\n('12 June 2017', '24 June 2021')\n('03 February 2020', '01 February 2021')\n('16 March 2021', '15 November 2022')\n('01 June 2020', '01 February 2021')\n('21 November 2022', '01 January 2027')\n('01 March 2011', '01 January 2012')\n('16 April 2019', '01 August 2023')\n('01 July 2010', '01 September 2011')\n('28 October 2012', '11 February 2019')\n('01 April 2010', '01 October 2010')\n('01 March 2015', '01 January 2016')\n('01 February 2011', '01 September 2016')\n('01 December 2011', '01 April 2016')\n('01 May 2022', '01 May 2024')\n('01 September 2010', '01 January 2013')\n('01 May 2023', '01 September 2024')\n('01 May 2015', '01 May 2015')\n('01 October 2006', '01 December 2007')\n('01 August 2012', '23 May 2018')\n('01 August 2004', '01 June 2009')\n('17 November 2021', '08 December 2025')\n('01 March 2014', '01 December 2019')\n('25 October 2023', '01 October 2025')\n('20 October 2015', '01 October 2017')\n('01 October 2004', '01 February 2006')\n('01 February 2015', '01 February 2016')\n('11 May 2007', '31 December 2008')\n('01 January 2014', '01 December 2017')\n('01 June 2002', '01 April 2008')\n('01 September 2018', '01 July 2023')\n('01 July 2015', '30 December 2016')\n('06 May 2014', '01 March 2019')\n('20 March 2019', '24 April 2019')\n('01 February 2018', '01 January 2020')\n('01 January 2010', '01 June 2013')\n('01 November 2023', '30 December 2025')\n('07 December 2020', '01 July 2022')\n('01 May 2010', '01 June 2013')\n('28 October 2017', '21 December 2018')\n('01 October 2008', '01 December 2008')\n('01 July 2000', '01 October 2000')\n('10 February 2020', '10 February 2022')\n('23 March 2021', '04 February 2022')\n('01 May 2010', '01 January 2020')\n('01 January 2004', '01 August 2004')\n('01 April 2013', '01 November 2014')\n('01 April 2014', '01 September 2014')\n('01 April 2022', '01 March 2023')\n('17 May 2022', '01 June 2023')\n('01 November 2012', '19 September 2019')\n('01 March 2019', '01 June 2028')\n('01 September 2001', '01 July 2020')\n('01 January 1997', '01 March 1999')\n('31 January 2024', '01 June 2025')\n('01 March 2008', '01 October 2010')\n('18 January 2022', '31 March 2023')\n('01 November 2018', '05 June 2019')\n('01 November 2023', '01 December 2025')\n('01 September 2009', '01 December 2011')\n('01 December 2003', '01 May 2010')\n('08 August 2018', '01 February 2021')\n('11 May 2022', '31 August 2025')\n('01 June 2011', '01 January 2022')\n('11 April 2022', '11 July 2024')\n('01 April 2014', '05 August 2016')\n('01 December 2016', '31 October 2020')\n('26 January 2016', '31 August 2016')\n('01 June 2014', '01 September 2015')\n('27 January 2021', '17 June 2021')\n('01 July 2011', '01 April 2013')\n('01 July 2011', '01 July 2012')\n('11 February 2020', '15 September 2020')\n('01 June 2006', '01 December 2009')\n('01 February 2017', '07 May 2018')\n('01 July 2015', '30 December 2019')\n('01 December 2021', '15 May 2028')\n('18 January 2022', '18 October 2023')\n('01 January 2014', '01 January 2016')\n('01 October 2013', '')\n('04 April 2022', '01 December 2024')\n('01 July 2012', '01 April 2018')\n('01 January 2016', '01 March 2035')\n('01 September 2020', '01 April 2021')\n('01 July 1998', '01 June 1999')\n('01 January 2016', '01 December 2017')\n('21 January 2016', '31 August 2017')\n('', '')\n('01 January 2012', '01 March 2014')\n('01 September 2007', '01 September 2013')\n('01 May 2016', '01 December 2018')\n('01 August 2020', '09 April 2023')\n('03 February 2020', '22 June 2023')\n('20 April 2015', '30 December 2020')\n('01 December 2023', '01 February 2027')\n('20 March 2017', '25 November 2019')\n('01 January 2012', '31 December 2020')\n('19 November 2015', '09 August 2017')\n('09 June 2015', '09 November 2022')\n('01 December 2009', '01 January 2011')\n('01 March 2016', '01 June 2017')\n('01 September 2009', '01 September 2013')\n('11 August 2016', '22 December 2017')\n('20 November 2015', '20 December 2018')\n('01 July 2003', '01 May 2004')\n('01 March 2012', '01 April 2013')\n('07 February 2017', '08 June 2018')\n('07 June 2021', '21 February 2022')\n('06 November 2021', '30 December 2023')\n('31 January 2022', '24 February 2023')\n('01 August 2016', '01 April 2024')\n('06 November 2017', '01 September 2020')\n('20 April 2021', '30 September 2022')\n('20 December 2022', '30 October 2023')\n('01 January 2021', '01 November 2021')\n('01 August 2006', '01 December 2008')\n('01 September 2014', '01 September 2016')\n('29 January 2021', '29 January 2024')\n('01 October 2015', '28 February 2021')\n('12 July 2018', '01 December 2021')\n('01 September 2009', '01 September 2009')\n('01 February 2009', '01 March 2012')\n('19 June 2018', '30 June 2022')\n('30 April 2019', '12 November 2021')\n('01 March 2019', '24 April 2019')\n('01 April 2006', '01 August 2006')\n('01 April 2013', '01 March 2014')\n('01 November 2012', '01 December 2020')\n('01 February 2009', '29 November 2016')\n('04 December 2023', '29 March 2024')\n('01 August 2014', '01 December 2019')\n('01 January 2008', '01 November 2008')\n('01 November 2003', '01 November 2007')\n('12 May 2021', '10 August 2022')\n('01 July 2010', '01 June 2012')\n('26 July 2018', '30 June 2023')\n('01 March 2015', '01 April 2017')\n('24 May 2022', '01 March 2027')\n('08 August 2020', '06 August 2021')\n('22 July 2018', '01 December 2023')\n('22 July 2023', '31 December 2024')\n('24 October 2018', '31 December 2021')\n('01 September 2013', '01 December 2013')\n('26 August 1996', '25 June 2019')\n('01 September 2010', '01 October 2013')\n('30 March 2020', '30 June 2021')\n('01 May 2009', '01 November 2009')\n('22 January 2024', '31 December 2024')\n('28 July 2022', '01 June 2024')\n('01 January 2004', '01 July 2008')\n('01 January 2007', '01 January 2008')\n('11 October 2021', '11 October 2023')\n('11 April 2019', '22 March 2021')\n('01 March 2011', '01 March 2014')\n('01 January 2016', '01 January 2019')\n('01 July 2011', '01 December 2012')\n('01 May 2014', '01 March 2018')\n('01 January 2015', '01 March 2016')\n('11 January 2020', '30 March 2021')\n('12 June 2023', '20 March 2024')\n('01 April 2010', '01 September 2017')\n('01 January 2009', '01 July 2009')\n('10 January 2022', '30 October 2028')\n('01 January 2024', '01 January 2027')\n('10 December 2019', '28 February 2020')\n('01 March 2006', '01 September 2008')\n('01 February 2017', '01 April 2018')\n('01 June 2023', '01 January 2024')\n('13 April 2022', '23 June 2022')\n('25 September 2017', '10 December 2017')\n('14 January 2019', '31 March 2021')\n('01 February 2014', '01 February 2015')\n('20 November 2021', '01 August 2022')\n('15 September 2016', '12 May 2022')\n('01 April 2021', '30 June 2023')\n('01 April 2017', '28 February 2020')\n('01 November 2008', '01 June 2011')\n('01 March 2009', '01 December 2009')\n('22 April 2022', '01 December 2022')\n('01 April 2004', '01 December 2009')\n('01 January 2024', '01 March 2027')\n('01 September 2019', '01 December 2020')\n('15 October 2019', '01 January 2022')\n('08 October 2010', '13 June 2011')\n('06 December 2022', '01 October 2023')\n('07 September 2022', '31 December 2024')\n('07 March 2023', '01 December 2025')\n('01 August 2015', '01 October 2015')\n('01 March 2008', '01 August 2010')\n('02 July 2018', '25 May 2022')\n('01 May 2003', '01 May 2004')\n('01 January 2016', '04 May 2017')\n('18 October 2022', '30 December 2024')\n('11 September 2017', '31 March 2019')\n('01 March 2021', '01 June 2021')\n('17 May 2023', '01 September 2026')\n('22 February 2018', '30 September 2020')\n('01 November 2005', '01 July 2017')\n"
     ]
    }
   ],
   "source": [
    "#Clean the date and convert to a consistent date format\n",
    "\n",
    "from datetime import datetime\n",
    "\n",
    "# Define a function to clean date data\n",
    "def clean_date(date_str):\n",
    "    if not date_str:\n",
    "        return \"\"\n",
    "        \n",
    "    formats = ['%d %B %Y', '%Y %m %d', '%d %m %Y', '%Y-%m']\n",
    "    for fmt in formats:\n",
    "        try:\n",
    "            return datetime.strptime(date_str, fmt).strftime('%d %B %Y')\n",
    "        except ValueError:\n",
    "            pass\n",
    "    return date_str\n",
    "\n",
    "# Clean the date data in the RDD\n",
    "cleaned_dates = rdd3.map(lambda x: (clean_date(x[0]), clean_date(x[1])))\n",
    "\n",
    "# Collect and print the cleaned date data\n",
    "for date_pair in cleaned_dates.collect():\n",
    "    print(date_pair)"
   ]
  },
  {
   "cell_type": "code",
   "execution_count": 0,
   "metadata": {
    "application/vnd.databricks.v1+cell": {
     "cellMetadata": {
      "byteLimit": 2048000,
      "rowLimit": 10000
     },
     "inputWidgets": {},
     "nuid": "8d5c1fde-61de-42c5-8af2-fb6a1257b9aa",
     "showTitle": false,
     "title": ""
    }
   },
   "outputs": [
    {
     "output_type": "stream",
     "name": "stdout",
     "output_type": "stream",
     "text": [
      "Out[126]: [['NCT Number ',\n  ' Study Title ',\n  ' Acronym ',\n  ' Study Status ',\n  ' Conditions ',\n  ' Interventions ',\n  ' Sponsor ',\n  ' Collaborators ',\n  ' Enrollment ',\n  ' Funder Type ',\n  ' Study Type ',\n  ' Study Design']]"
     ]
    }
   ],
   "source": [
    "## Create an rdd excluding the 'Start\" and 'Completion\" date\n",
    "\n",
    "rdd5 = rdd2.map(lambda x: x[:12])\n",
    "\n",
    "rdd5.take(1)"
   ]
  },
  {
   "cell_type": "code",
   "execution_count": 0,
   "metadata": {
    "application/vnd.databricks.v1+cell": {
     "cellMetadata": {
      "byteLimit": 2048000,
      "rowLimit": 10000
     },
     "inputWidgets": {},
     "nuid": "d0b2d95c-78a3-4dfe-a981-8332d4bc32a4",
     "showTitle": false,
     "title": ""
    }
   },
   "outputs": [
    {
     "output_type": "stream",
     "name": "stdout",
     "output_type": "stream",
     "text": [
      "Out[129]: [['NCT Number ',\n  ' Study Title ',\n  ' Acronym ',\n  ' Study Status ',\n  ' Conditions ',\n  ' Interventions ',\n  ' Sponsor ',\n  ' Collaborators ',\n  ' Enrollment ',\n  ' Funder Type ',\n  ' Study Type ',\n  ' Study Design',\n  'Start Date',\n  'Completion Date'],\n ['\"NCT03630471 ',\n  ' Effectiveness of a Problem-solving Intervention for Common Adolescent Mental Health Problems in India ',\n  ' PRIDE ',\n  ' COMPLETED ',\n  ' Mental Health Issue (E.G., Depression, Psychosis, Personality Disorder, Substance Abuse) ',\n  \" BEHAVIORAL: PRIDE 'Step 1' problem-solving intervention|BEHAVIORAL: Enhanced usual care \",\n  ' Sangath ',\n  ' Harvard Medical School (HMS and HSDM)|London School of Hygiene and Tropical Medicine ',\n  ' 250 ',\n  ' OTHER ',\n  ' INTERVENTIONAL ',\n  ' Allocation: RANDOMIZED|Intervention Model: PARALLEL|Masking: DOUBLE (INVESTIGATOR',\n  '20 August 2018',\n  '28 February 2019']]"
     ]
    }
   ],
   "source": [
    "#Zip RDDs together and flatten the rdd\n",
    "\n",
    "# Zip the RDDs together column-wise\n",
    "zipped_rdd = rdd5.zip(cleaned_dates)\n",
    "\n",
    "# Add start and completion date columns to each tuple in the zipped RDD as a tuple\n",
    "flattened_rdd = zipped_rdd.map(lambda x: x[0] + list(x[1]))\n",
    "\n",
    "# Output the result\n",
    "flattened_rdd.take(2)"
   ]
  },
  {
   "cell_type": "markdown",
   "metadata": {
    "application/vnd.databricks.v1+cell": {
     "cellMetadata": {
      "byteLimit": 2048000,
      "rowLimit": 10000
     },
     "inputWidgets": {},
     "nuid": "81bf483c-6172-4d78-be16-6fa0772a4feb",
     "showTitle": false,
     "title": ""
    }
   },
   "source": [
    "Exploratory data analysis"
   ]
  },
  {
   "cell_type": "code",
   "execution_count": 0,
   "metadata": {
    "application/vnd.databricks.v1+cell": {
     "cellMetadata": {
      "byteLimit": 2048000,
      "rowLimit": 10000
     },
     "inputWidgets": {},
     "nuid": "f3b6e87d-3b7c-482e-9d49-c4686df834f1",
     "showTitle": false,
     "title": ""
    }
   },
   "outputs": [
    {
     "output_type": "stream",
     "name": "stdout",
     "output_type": "stream",
     "text": [
      "Column 'NCT Number ': 478698\nColumn ' Interventions ': 477801\nColumn ' Sponsor ': 477801\nColumn ' Collaborators ': 477775\nColumn ' Study Design': 467588\nColumn ' Study Title ': 478698\nColumn ' Study Status ': 478698\nColumn ' Funder Type ': 475705\nColumn ' Study Type ': 472627\nColumn 'Completion Date': 438184\nColumn ' Acronym ': 478697\nColumn ' Conditions ': 477815\nColumn ' Enrollment ': 477049\nColumn 'Start Date': 471145\n"
     ]
    }
   ],
   "source": [
    "#Check the count of values by column header\n",
    "\n",
    "# Extract the header row\n",
    "header_row = flattened_rdd.first()\n",
    "\n",
    "# Count the total number of non-empty values for each column\n",
    "column_counts = flattened_rdd.flatMap(lambda row: zip(header_row, row)) \\\n",
    "                   .filter(lambda x: x[1] != '') \\\n",
    "                   .map(lambda x: (x[0], 1)) \\\n",
    "                   .reduceByKey(lambda a, b: a + b) \\\n",
    "                   .collect()\n",
    "\n",
    "# Output the column counts\n",
    "for column, count in column_counts:\n",
    "    print(f\"Column '{column}': {count}\")"
   ]
  },
  {
   "cell_type": "code",
   "execution_count": 0,
   "metadata": {
    "application/vnd.databricks.v1+cell": {
     "cellMetadata": {
      "byteLimit": 2048000,
      "rowLimit": 10000
     },
     "inputWidgets": {},
     "nuid": "cdc52f62-1a28-4a1a-be72-cc78474f6f76",
     "showTitle": false,
     "title": ""
    }
   },
   "outputs": [
    {
     "output_type": "stream",
     "name": "stdout",
     "output_type": "stream",
     "text": [
      "Column ' Study Design': 10187\nColumn ' Interventions ': 882\nColumn ' Sponsor ': 882\nColumn ' Collaborators ': 908\nColumn ' Study Type ': 5174\nColumn 'Completion Date': 12204\nColumn ' Funder Type ': 2096\nColumn 'Start Date': 5182\nColumn ' Enrollment ': 752\nColumn ' Conditions ': 883\nColumn ' Acronym ': 1\n"
     ]
    }
   ],
   "source": [
    "#Likewise, Check missing values by column headers\n",
    "\n",
    "# Extract the header row\n",
    "header_row = flattened_rdd.first()\n",
    "\n",
    "# Count the total number of empty values for each column\n",
    "empty_counts = flattened_rdd.flatMap(lambda row: zip(header_row, row)) \\\n",
    "                  .filter(lambda x: x[1] == '') \\\n",
    "                  .map(lambda x: (x[0], 1)) \\\n",
    "                  .reduceByKey(lambda a, b: a + b) \\\n",
    "                  .collect()\n",
    "\n",
    "# Output the column counts\n",
    "for column, count in empty_counts:\n",
    "    print(f\"Column '{column}': {count}\")"
   ]
  },
  {
   "cell_type": "code",
   "execution_count": 0,
   "metadata": {
    "application/vnd.databricks.v1+cell": {
     "cellMetadata": {
      "byteLimit": 2048000,
      "rowLimit": 10000
     },
     "inputWidgets": {},
     "nuid": "f07e2b5f-be6a-4d70-898c-ac02875629ad",
     "showTitle": false,
     "title": ""
    }
   },
   "outputs": [
    {
     "output_type": "stream",
     "name": "stdout",
     "output_type": "stream",
     "text": [
      "Number of distinct studies: 478684\n"
     ]
    }
   ],
   "source": [
    "##Number of Distinct Studies\n",
    "\n",
    "# Extract the header row\n",
    "header_row = flattened_rdd.first()\n",
    "\n",
    "# Find the index of the 'NCT Number' column\n",
    "nct_number_index = header_row.index('NCT Number ')\n",
    "\n",
    "# Count the number of distinct studies\n",
    "distinct_study_count = flattened_rdd.map(lambda row: row[nct_number_index]) \\\n",
    "                          .distinct() \\\n",
    "                          .count()\n",
    "\n",
    "# Output the number of distinct studies\n",
    "print(\"Number of distinct studies:\", distinct_study_count)"
   ]
  },
  {
   "cell_type": "code",
   "execution_count": 0,
   "metadata": {
    "application/vnd.databricks.v1+cell": {
     "cellMetadata": {},
     "inputWidgets": {},
     "nuid": "aeb759a9-f68d-4e11-b955-155dc3a43c37",
     "showTitle": false,
     "title": ""
    }
   },
   "outputs": [],
   "source": []
  }
 ],
 "metadata": {
  "application/vnd.databricks.v1+notebook": {
   "dashboards": [],
   "language": "python",
   "notebookMetadata": {
    "mostRecentlyExecutedCommandWithImplicitDF": {
     "commandId": 1550655049987058,
     "dataframes": [
      "_sqldf"
     ]
    },
    "pythonIndentUnit": 4
   },
   "notebookName": "Test1",
   "widgets": {}
  }
 },
 "nbformat": 4,
 "nbformat_minor": 0
}
