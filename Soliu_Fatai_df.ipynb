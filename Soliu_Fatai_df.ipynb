{
 "cells": [
  {
   "cell_type": "code",
   "execution_count": 0,
   "metadata": {
    "application/vnd.databricks.v1+cell": {
     "cellMetadata": {
      "byteLimit": 2048000,
      "rowLimit": 10000
     },
     "inputWidgets": {},
     "nuid": "207dd9b8-aba9-4d4a-aa7c-f5f6af8a1439",
     "showTitle": false,
     "title": ""
    }
   },
   "outputs": [
    {
     "output_type": "stream",
     "name": "stdout",
     "output_type": "stream",
     "text": [
      "Out[1]: [FileInfo(path='dbfs:/FileStore/tables/account-models/', name='account-models/', size=0, modificationTime=0),\n FileInfo(path='dbfs:/FileStore/tables/accounts/', name='accounts/', size=0, modificationTime=0),\n FileInfo(path='dbfs:/FileStore/tables/accounts.zip', name='accounts.zip', size=5297592, modificationTime=1706721501000),\n FileInfo(path='dbfs:/FileStore/tables/accounts2/', name='accounts2/', size=0, modificationTime=0),\n FileInfo(path='dbfs:/FileStore/tables/activations/', name='activations/', size=0, modificationTime=0),\n FileInfo(path='dbfs:/FileStore/tables/activations.zip', name='activations.zip', size=8411369, modificationTime=1706718610000),\n FileInfo(path='dbfs:/FileStore/tables/clinicaltrial_2023/', name='clinicaltrial_2023/', size=0, modificationTime=0),\n FileInfo(path='dbfs:/FileStore/tables/clinicaltrial_2023-1.zip', name='clinicaltrial_2023-1.zip', size=52785750, modificationTime=1712308832000),\n FileInfo(path='dbfs:/FileStore/tables/clinicaltrial_2023.zip', name='clinicaltrial_2023.zip', size=52785750, modificationTime=1713180627000),\n FileInfo(path='dbfs:/FileStore/tables/clinicaltrial_2023___test/', name='clinicaltrial_2023___test/', size=0, modificationTime=0),\n FileInfo(path='dbfs:/FileStore/tables/clinicaltrial_2023___test.zip', name='clinicaltrial_2023___test.zip', size=52785750, modificationTime=1709465069000),\n FileInfo(path='dbfs:/FileStore/tables/flood.csv', name='flood.csv', size=128984, modificationTime=1707931801000),\n FileInfo(path='dbfs:/FileStore/tables/logs/', name='logs/', size=0, modificationTime=0),\n FileInfo(path='dbfs:/FileStore/tables/logs.zip', name='logs.zip', size=18168065, modificationTime=1706721504000),\n FileInfo(path='dbfs:/FileStore/tables/logs2/', name='logs2/', size=0, modificationTime=0),\n FileInfo(path='dbfs:/FileStore/tables/pharma/', name='pharma/', size=0, modificationTime=0),\n FileInfo(path='dbfs:/FileStore/tables/pharma-1.zip', name='pharma-1.zip', size=109982, modificationTime=1712749243000),\n FileInfo(path='dbfs:/FileStore/tables/pharma-2.zip', name='pharma-2.zip', size=109982, modificationTime=1712828641000),\n FileInfo(path='dbfs:/FileStore/tables/pharma-3.zip', name='pharma-3.zip', size=109982, modificationTime=1712854877000),\n FileInfo(path='dbfs:/FileStore/tables/pharma-4.zip', name='pharma-4.zip', size=109982, modificationTime=1713035267000),\n FileInfo(path='dbfs:/FileStore/tables/pharma-5.zip', name='pharma-5.zip', size=109982, modificationTime=1713044529000),\n FileInfo(path='dbfs:/FileStore/tables/pharma.zip', name='pharma.zip', size=109982, modificationTime=1713122861000),\n FileInfo(path='dbfs:/FileStore/tables/test.json', name='test.json', size=17958, modificationTime=1706113735000),\n FileInfo(path='dbfs:/FileStore/tables/webpage/', name='webpage/', size=0, modificationTime=0),\n FileInfo(path='dbfs:/FileStore/tables/webpage-1.zip', name='webpage-1.zip', size=1582, modificationTime=1707324494000),\n FileInfo(path='dbfs:/FileStore/tables/webpage.zip', name='webpage.zip', size=1582, modificationTime=1707324436000),\n FileInfo(path='dbfs:/FileStore/tables/webpage_files_all/', name='webpage_files_all/', size=0, modificationTime=0),\n FileInfo(path='dbfs:/FileStore/tables/webpage_files_jpg/', name='webpage_files_jpg/', size=0, modificationTime=0)]"
     ]
    }
   ],
   "source": [
    "#Using dbutils.fs.ls command to check the file that been uploaded\n",
    "\n",
    "dbutils.fs.ls(\"/FileStore/tables/\")"
   ]
  },
  {
   "cell_type": "markdown",
   "metadata": {
    "application/vnd.databricks.v1+cell": {
     "cellMetadata": {
      "byteLimit": 2048000,
      "rowLimit": 10000
     },
     "inputWidgets": {},
     "nuid": "c688c23c-91e6-4d00-94a8-d91be3748846",
     "showTitle": false,
     "title": ""
    }
   },
   "source": [
    "Defining Reusable code to unzip all files"
   ]
  },
  {
   "cell_type": "code",
   "execution_count": 0,
   "metadata": {
    "application/vnd.databricks.v1+cell": {
     "cellMetadata": {
      "byteLimit": 2048000,
      "rowLimit": 10000
     },
     "inputWidgets": {},
     "nuid": "a150a12c-eb2c-4ff4-9da6-a4da613f3841",
     "showTitle": false,
     "title": ""
    }
   },
   "outputs": [],
   "source": [
    "fileroot = \"clinicaltrial_2023\"\n",
    "\n",
    "dbutils.fs.cp(\"FileStore/tables/\" + fileroot + \".zip\", \"file:/tmp/\")\n",
    "#import os library\n",
    "\n",
    "import os\n",
    "os.environ['fileroot'] = fileroot\n"
   ]
  },
  {
   "cell_type": "code",
   "execution_count": 0,
   "metadata": {
    "application/vnd.databricks.v1+cell": {
     "cellMetadata": {
      "byteLimit": 2048000,
      "rowLimit": 10000
     },
     "inputWidgets": {},
     "nuid": "ea7d0cea-00b1-4265-b59f-8ac9fbc26c88",
     "showTitle": false,
     "title": ""
    }
   },
   "outputs": [
    {
     "output_type": "stream",
     "name": "stdout",
     "output_type": "stream",
     "text": [
      "Archive:  /tmp/clinicaltrial_2023.zip\n  inflating: /tmp/clinicaltrial_2023.csv  \n"
     ]
    }
   ],
   "source": [
    "%sh\n",
    "\n",
    "unzip -d /tmp /tmp/$fileroot.zip"
   ]
  },
  {
   "cell_type": "code",
   "execution_count": 0,
   "metadata": {
    "application/vnd.databricks.v1+cell": {
     "cellMetadata": {
      "byteLimit": 2048000,
      "rowLimit": 10000
     },
     "inputWidgets": {},
     "nuid": "402f353c-de04-49be-9cbf-1577f22bc5a9",
     "showTitle": false,
     "title": ""
    }
   },
   "outputs": [
    {
     "output_type": "stream",
     "name": "stdout",
     "output_type": "stream",
     "text": [
      "file:/tmp/hsperfdata_root/\nfile:/tmp/.ICE-unix/\nfile:/tmp/clinicaltrial_2023.csv\nfile:/tmp/.X11-unix/\nfile:/tmp/tmp.yqG28XVDrF\nfile:/tmp/driver-daemon-params\nfile:/tmp/python_lsp_logs/\nfile:/tmp/systemd-private-0309b29f20584f99a3c6a0c6b5accc6b-apache2.service-99piQh/\nfile:/tmp/custom-spark.conf\nfile:/tmp/clinicaltrial_2023.zip\nfile:/tmp/systemd-private-0309b29f20584f99a3c6a0c6b5accc6b-systemd-resolved.service-LIqvAf/\nfile:/tmp/chauffeur-daemon-params\nfile:/tmp/chauffeur-env.sh\nfile:/tmp/chauffeur-daemon.pid\nfile:/tmp/systemd-private-0309b29f20584f99a3c6a0c6b5accc6b-systemd-logind.service-n2gd4e/\nfile:/tmp/.XIM-unix/\nfile:/tmp/RtmpBNopsC/\nfile:/tmp/systemd-private-0309b29f20584f99a3c6a0c6b5accc6b-ntp.service-xq2A9g/\nfile:/tmp/driver-daemon.pid\nfile:/tmp/driver-env.sh\nfile:/tmp/Rserv/\nfile:/tmp/.Test-unix/\nfile:/tmp/.font-unix/\n"
     ]
    }
   ],
   "source": [
    "# List the contents of the /tmp/ directory\n",
    "files_in_tmp = dbutils.fs.ls(\"file:/tmp/\")\n",
    "\n",
    "# Print the list of files and directories in /tmp/\n",
    "for file_info in files_in_tmp:\n",
    "    print(file_info.path)"
   ]
  },
  {
   "cell_type": "code",
   "execution_count": 0,
   "metadata": {
    "application/vnd.databricks.v1+cell": {
     "cellMetadata": {
      "byteLimit": 2048000,
      "rowLimit": 10000
     },
     "inputWidgets": {},
     "nuid": "a03d881e-b44f-4da6-b6b4-ffeb69fc653a",
     "showTitle": false,
     "title": ""
    }
   },
   "outputs": [
    {
     "output_type": "stream",
     "name": "stdout",
     "output_type": "stream",
     "text": [
      "Out[5]: [FileInfo(path='dbfs:/FileStore/tables/clinicaltrial_2023/clinicaltrial_2023.csv', name='clinicaltrial_2023.csv', size=202413369, modificationTime=1713181363000)]"
     ]
    }
   ],
   "source": [
    "#Make directory\n",
    "\n",
    "dbutils.fs.mkdirs(\"FileStore/tables/\" + fileroot)\n",
    "\n",
    "#Move files\n",
    "\n",
    "dbutils.fs.mv(\"file:/tmp/\" + fileroot + \".csv\" , \"/FileStore/tables/\" + fileroot , True)\n",
    "\n",
    "# remove the .zip file\n",
    "\n",
    "dbutils.fs.rm(\"/FileStore/tables/\" + fileroot + \".zip\")\n",
    "\n",
    "dbutils.fs.ls(\"/FileStore/tables/\" + fileroot)"
   ]
  },
  {
   "cell_type": "code",
   "execution_count": 0,
   "metadata": {
    "application/vnd.databricks.v1+cell": {
     "cellMetadata": {
      "byteLimit": 2048000,
      "rowLimit": 10000
     },
     "inputWidgets": {},
     "nuid": "bab33106-d114-4c25-b8a2-455994ccbf5d",
     "showTitle": false,
     "title": ""
    }
   },
   "outputs": [],
   "source": [
    "file = \"/FileStore/tables/clinicaltrial_2023/clinicaltrial_2023.csv\"\n",
    "\n",
    "#dbutils.fs.head(file)"
   ]
  },
  {
   "cell_type": "code",
   "execution_count": 0,
   "metadata": {
    "application/vnd.databricks.v1+cell": {
     "cellMetadata": {
      "byteLimit": 2048000,
      "rowLimit": 10000
     },
     "inputWidgets": {},
     "nuid": "2a104801-3f2a-4f8c-8ca1-fff2b005f120",
     "showTitle": false,
     "title": ""
    }
   },
   "outputs": [
    {
     "output_type": "stream",
     "name": "stdout",
     "output_type": "stream",
     "text": [
      "Out[7]: ['NCT Number \\\\t Study Title \\\\t Acronym \\\\t Study Status \\\\t Conditions \\\\t Interventions \\\\t Sponsor \\\\t Collaborators \\\\t Enrollment \\\\t Funder Type \\\\t Study Type \\\\t Study Design,Start Date,Completion Date',\n '\"NCT03630471 \\\\t Effectiveness of a Problem-solving Intervention for Common Adolescent Mental Health Problems in India \\\\t PRIDE \\\\t COMPLETED \\\\t Mental Health Issue (E.G., Depression, Psychosis, Personality Disorder, Substance Abuse) \\\\t BEHAVIORAL: PRIDE \\'Step 1\\' problem-solving intervention|BEHAVIORAL: Enhanced usual care \\\\t Sangath \\\\t Harvard Medical School (HMS and HSDM)|London School of Hygiene and Tropical Medicine \\\\t 250 \\\\t OTHER \\\\t INTERVENTIONAL \\\\t Allocation: RANDOMIZED|Intervention Model: PARALLEL|Masking: DOUBLE (INVESTIGATOR, OUTCOMES_ASSESSOR)|Primary Purpose: TREATMENT\",20 August 2018,28 February 2019',\n '\"NCT05992571 \\\\t Oral Ketone Monoester Supplementation and Resting-state Brain Connectivity \\\\t RECRUITING \\\\t Cerebrovascular Function|Cognition \\\\t OTHER: Placebo|DIETARY_SUPPLEMENT: β-OHB \\\\t McMaster University \\\\t Alzheimer\\'s Society of Brant, Haldimand Norfolk, Hamilton Halton \\\\t 30 \\\\t OTHER \\\\t INTERVENTIONAL \\\\t Allocation: RANDOMIZED|Intervention Model: CROSSOVER|Masking: TRIPLE (PARTICIPANT, INVESTIGATOR, OUTCOMES_ASSESSOR)|Primary Purpose: BASIC_SCIENCE\",25 October 2023,2024-08']"
     ]
    }
   ],
   "source": [
    "# Create an rdd\n",
    "\n",
    "rdd1 = sc.textFile(file)\n",
    "\n",
    "rdd1.take(3)"
   ]
  },
  {
   "cell_type": "code",
   "execution_count": 0,
   "metadata": {
    "application/vnd.databricks.v1+cell": {
     "cellMetadata": {
      "byteLimit": 2048000,
      "rowLimit": 10000
     },
     "inputWidgets": {},
     "nuid": "8e88e90d-2253-4739-81b3-daf1131754ef",
     "showTitle": false,
     "title": ""
    }
   },
   "outputs": [],
   "source": [
    "header = rdd1.first()\n",
    "\n",
    "colRDD = rdd1 \\\n",
    "        .filter(lambda x: x != header) \\\n",
    "        .flatMap(lambda x: x.split(\"\\n\")) \\\n",
    "        .filter(lambda x: x.strip() != \"\") \\\n",
    "        .map(lambda x: x.split(\"\\\\t\")[:1]) \\\n",
    "\n",
    "colRDD.take(4)\n",
    "df = colRDD.toDF()\n",
    "#df = df.toDF(\"NCT Number\", \"Study Title\",\"Acronym\",\"Study Status\",\"Conditions\",\"Interventions\",\"Sponsor\",\"Collaborators\")\n",
    "df = df.toDF(\"NCT Number\")"
   ]
  },
  {
   "cell_type": "code",
   "execution_count": 0,
   "metadata": {
    "application/vnd.databricks.v1+cell": {
     "cellMetadata": {
      "byteLimit": 2048000,
      "rowLimit": 10000
     },
     "inputWidgets": {},
     "nuid": "b70308af-d4d1-4adb-907e-a203fed521ad",
     "showTitle": false,
     "title": ""
    }
   },
   "outputs": [
    {
     "output_type": "stream",
     "name": "stdout",
     "output_type": "stream",
     "text": [
      "Out[9]: [['\"NCT03630471 '], ['\"NCT05992571 '], ['NCT01854671 '], ['NCT03820271 ']]"
     ]
    }
   ],
   "source": [
    "colRDD.take(4)"
   ]
  },
  {
   "cell_type": "code",
   "execution_count": 0,
   "metadata": {
    "application/vnd.databricks.v1+cell": {
     "cellMetadata": {
      "byteLimit": 2048000,
      "rowLimit": 10000
     },
     "inputWidgets": {},
     "nuid": "880362e3-5eed-4667-a6fe-3f064136fc13",
     "showTitle": false,
     "title": ""
    }
   },
   "outputs": [
    {
     "output_type": "stream",
     "name": "stdout",
     "output_type": "stream",
     "text": [
      "+-------------+\n|NCT Number   |\n+-------------+\n|\"NCT03630471 |\n+-------------+\nonly showing top 1 row\n\n"
     ]
    }
   ],
   "source": [
    "df.show(1, truncate= False)"
   ]
  },
  {
   "cell_type": "code",
   "execution_count": 0,
   "metadata": {
    "application/vnd.databricks.v1+cell": {
     "cellMetadata": {
      "byteLimit": 2048000,
      "rowLimit": 10000
     },
     "inputWidgets": {},
     "nuid": "e7bb9edc-a215-4bf5-8a77-903139090303",
     "showTitle": false,
     "title": ""
    }
   },
   "outputs": [
    {
     "output_type": "stream",
     "name": "stdout",
     "output_type": "stream",
     "text": [
      "root\n |-- NCT Number: string (nullable = true)\n\n"
     ]
    }
   ],
   "source": [
    "df.printSchema()"
   ]
  },
  {
   "cell_type": "code",
   "execution_count": 0,
   "metadata": {
    "application/vnd.databricks.v1+cell": {
     "cellMetadata": {
      "byteLimit": 2048000,
      "rowLimit": 10000
     },
     "inputWidgets": {},
     "nuid": "3fee53c8-07d0-49e9-bc7d-589d8324c642",
     "showTitle": false,
     "title": ""
    },
    "jupyter": {
     "outputs_hidden": true
    }
   },
   "outputs": [],
   "source": [
    "#df = df.withColumn(\"Enrollment\", df.Enrollment.cast(\"int\"))\n",
    "\n",
    "#df.printSchema()"
   ]
  },
  {
   "cell_type": "code",
   "execution_count": 0,
   "metadata": {
    "application/vnd.databricks.v1+cell": {
     "cellMetadata": {
      "byteLimit": 2048000,
      "rowLimit": 10000
     },
     "inputWidgets": {},
     "nuid": "63117d3f-d43e-41ab-8e8c-837d75202a11",
     "showTitle": true,
     "title": "Question 1: Number of Distinct study"
    }
   },
   "outputs": [
    {
     "output_type": "stream",
     "name": "stdout",
     "output_type": "stream",
     "text": [
      "Number of distinct studies: 478697\n"
     ]
    }
   ],
   "source": [
    "from pyspark.sql.functions import col\n",
    "\n",
    "distinct_study_count = df.select(col('NCT Number')).distinct().count()\n",
    "\n",
    "#output\n",
    "print(\"Number of distinct studies:\", distinct_study_count)"
   ]
  },
  {
   "cell_type": "code",
   "execution_count": 0,
   "metadata": {
    "application/vnd.databricks.v1+cell": {
     "cellMetadata": {
      "byteLimit": 2048000,
      "rowLimit": 10000
     },
     "inputWidgets": {},
     "nuid": "2d6ebc47-d1db-4288-97fc-c1589a1584b8",
     "showTitle": true,
     "title": "Question 2: Types of studies and frequencies"
    }
   },
   "outputs": [],
   "source": [
    "header = rdd1.first()\n",
    "\n",
    "colRDD2 = rdd1 \\\n",
    "        .filter(lambda x: x != header) \\\n",
    "        .flatMap(lambda x: x.split(\"\\n\")) \\\n",
    "        .filter(lambda x: x.strip() != \"\") \\\n",
    "        .map(lambda x: x.split(\"\\\\t\")[:9][-2:]) \\\n",
    "\n",
    "colRDD2.take(4)\n",
    "df2 = colRDD2.toDF()\n",
    "#df = df.toDF(\"NCT Number\", \"Study Title\",\"Acronym\",\"Study Status\",\"Conditions\",\"Interventions\",\"Sponsor\",\"Collaborators\")"
   ]
  },
  {
   "cell_type": "code",
   "execution_count": 0,
   "metadata": {
    "application/vnd.databricks.v1+cell": {
     "cellMetadata": {
      "byteLimit": 2048000,
      "rowLimit": 10000
     },
     "inputWidgets": {},
     "nuid": "e6580904-1328-4aec-a444-d65f00e53653",
     "showTitle": false,
     "title": ""
    }
   },
   "outputs": [
    {
     "output_type": "stream",
     "name": "stdout",
     "output_type": "stream",
     "text": [
      "+--------------------+\n|              word_1|\n+--------------------+\n| Harvard Medical ...|\n|London School of ...|\n|                 30 |\n|                176 |\n|                500 |\n|      OBSERVATIONAL |\n|           INDUSTRY |\n|           INDUSTRY |\n|      OBSERVATIONAL |\n|                 42 |\n|                 10 |\n| King's College H...|\n|Charles Universit...|\n|Hopital Universit...|\n|Vestre Viken Hosp...|\n|The Hospital for ...|\n|  Cardiff University|\n|Odense University...|\n|     INTERVENTIONAL |\n|              OTHER |\n| National Natural...|\n|           INDUSTRY |\n|                 30 |\n| Centre de Recher...|\n|              OTHER |\n|           INDUSTRY |\n|                 50 |\n|                 62 |\n|              OTHER |\n|                 90 |\n|              OTHER |\n|                 85 |\n|              OTHER |\n|              OTHER |\n|      OBSERVATIONAL |\n|      OBSERVATIONAL |\n|              OTHER |\n|                 44 |\n|                  0 |\n|                 30 |\n|              OTHER |\n|              OTHER |\n|              OTHER |\n|                  0 |\n|                  6 |\n|              OTHER |\n|                  9 |\n|           INDUSTRY |\n|              OTHER |\n|          OTHER_GOV |\n+--------------------+\nonly showing top 50 rows\n\n"
     ]
    }
   ],
   "source": [
    "from pyspark.sql.functions import explode, split, col, count\n",
    "\n",
    "exploded_df_1 = df2.select(explode(split(col(\"_1\"),\"\\|\")).alias(\"word_1\"))\n",
    "exploded_df_2 = df2.select(explode(split(col(\"_2\"),\"\\|\")).alias(\"word_2\"))\n",
    "\n",
    "exploded_df = exploded_df_1.union(exploded_df_2)\n",
    "\n",
    "exploded_df.show(5)"
   ]
  },
  {
   "cell_type": "code",
   "execution_count": 0,
   "metadata": {
    "application/vnd.databricks.v1+cell": {
     "cellMetadata": {},
     "inputWidgets": {},
     "nuid": "e27c065d-f5d0-4fc3-82c3-cd2b07348d7e",
     "showTitle": false,
     "title": ""
    }
   },
   "outputs": [],
   "source": []
  }
 ],
 "metadata": {
  "application/vnd.databricks.v1+notebook": {
   "dashboards": [],
   "language": "python",
   "notebookMetadata": {
    "mostRecentlyExecutedCommandWithImplicitDF": {
     "commandId": 3287879211855509,
     "dataframes": [
      "_sqldf"
     ]
    },
    "pythonIndentUnit": 4
   },
   "notebookName": "Soliu_Fatai_df",
   "widgets": {}
  }
 },
 "nbformat": 4,
 "nbformat_minor": 0
}
