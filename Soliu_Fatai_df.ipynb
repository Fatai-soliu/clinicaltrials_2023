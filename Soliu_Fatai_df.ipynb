{
 "cells": [
  {
   "cell_type": "code",
   "execution_count": 0,
   "metadata": {
    "application/vnd.databricks.v1+cell": {
     "cellMetadata": {
      "byteLimit": 2048000,
      "rowLimit": 10000
     },
     "inputWidgets": {},
     "nuid": "207dd9b8-aba9-4d4a-aa7c-f5f6af8a1439",
     "showTitle": false,
     "title": ""
    }
   },
   "outputs": [
    {
     "output_type": "stream",
     "name": "stdout",
     "output_type": "stream",
     "text": [
      "Out[1]: [FileInfo(path='dbfs:/FileStore/tables/account-models/', name='account-models/', size=0, modificationTime=0),\n FileInfo(path='dbfs:/FileStore/tables/accounts/', name='accounts/', size=0, modificationTime=0),\n FileInfo(path='dbfs:/FileStore/tables/accounts.zip', name='accounts.zip', size=5297592, modificationTime=1706721501000),\n FileInfo(path='dbfs:/FileStore/tables/accounts2/', name='accounts2/', size=0, modificationTime=0),\n FileInfo(path='dbfs:/FileStore/tables/activations/', name='activations/', size=0, modificationTime=0),\n FileInfo(path='dbfs:/FileStore/tables/activations.zip', name='activations.zip', size=8411369, modificationTime=1706718610000),\n FileInfo(path='dbfs:/FileStore/tables/clinicaltrial_2023/', name='clinicaltrial_2023/', size=0, modificationTime=0),\n FileInfo(path='dbfs:/FileStore/tables/clinicaltrial_2023-1.zip', name='clinicaltrial_2023-1.zip', size=52785750, modificationTime=1712308832000),\n FileInfo(path='dbfs:/FileStore/tables/clinicaltrial_2023.zip', name='clinicaltrial_2023.zip', size=52785750, modificationTime=1713123205000),\n FileInfo(path='dbfs:/FileStore/tables/clinicaltrial_2023___test/', name='clinicaltrial_2023___test/', size=0, modificationTime=0),\n FileInfo(path='dbfs:/FileStore/tables/clinicaltrial_2023___test.zip', name='clinicaltrial_2023___test.zip', size=52785750, modificationTime=1709465069000),\n FileInfo(path='dbfs:/FileStore/tables/flood.csv', name='flood.csv', size=128984, modificationTime=1707931801000),\n FileInfo(path='dbfs:/FileStore/tables/logs/', name='logs/', size=0, modificationTime=0),\n FileInfo(path='dbfs:/FileStore/tables/logs.zip', name='logs.zip', size=18168065, modificationTime=1706721504000),\n FileInfo(path='dbfs:/FileStore/tables/logs2/', name='logs2/', size=0, modificationTime=0),\n FileInfo(path='dbfs:/FileStore/tables/pharma/', name='pharma/', size=0, modificationTime=0),\n FileInfo(path='dbfs:/FileStore/tables/pharma-1.zip', name='pharma-1.zip', size=109982, modificationTime=1712749243000),\n FileInfo(path='dbfs:/FileStore/tables/pharma-2.zip', name='pharma-2.zip', size=109982, modificationTime=1712828641000),\n FileInfo(path='dbfs:/FileStore/tables/pharma-3.zip', name='pharma-3.zip', size=109982, modificationTime=1712854877000),\n FileInfo(path='dbfs:/FileStore/tables/pharma-4.zip', name='pharma-4.zip', size=109982, modificationTime=1713035267000),\n FileInfo(path='dbfs:/FileStore/tables/pharma-5.zip', name='pharma-5.zip', size=109982, modificationTime=1713044529000),\n FileInfo(path='dbfs:/FileStore/tables/pharma.zip', name='pharma.zip', size=109982, modificationTime=1713122861000),\n FileInfo(path='dbfs:/FileStore/tables/test.json', name='test.json', size=17958, modificationTime=1706113735000),\n FileInfo(path='dbfs:/FileStore/tables/webpage/', name='webpage/', size=0, modificationTime=0),\n FileInfo(path='dbfs:/FileStore/tables/webpage-1.zip', name='webpage-1.zip', size=1582, modificationTime=1707324494000),\n FileInfo(path='dbfs:/FileStore/tables/webpage.zip', name='webpage.zip', size=1582, modificationTime=1707324436000),\n FileInfo(path='dbfs:/FileStore/tables/webpage_files_all/', name='webpage_files_all/', size=0, modificationTime=0),\n FileInfo(path='dbfs:/FileStore/tables/webpage_files_jpg/', name='webpage_files_jpg/', size=0, modificationTime=0)]"
     ]
    }
   ],
   "source": [
    "#Using dbutils.fs.ls command to check the file that been uploaded\n",
    "\n",
    "dbutils.fs.ls(\"/FileStore/tables/\")"
   ]
  },
  {
   "cell_type": "markdown",
   "metadata": {
    "application/vnd.databricks.v1+cell": {
     "cellMetadata": {},
     "inputWidgets": {},
     "nuid": "c688c23c-91e6-4d00-94a8-d91be3748846",
     "showTitle": false,
     "title": ""
    }
   },
   "source": [
    "Defining Reusable code to unzip all files"
   ]
  },
  {
   "cell_type": "code",
   "execution_count": 0,
   "metadata": {
    "application/vnd.databricks.v1+cell": {
     "cellMetadata": {
      "byteLimit": 2048000,
      "rowLimit": 10000
     },
     "inputWidgets": {},
     "nuid": "a150a12c-eb2c-4ff4-9da6-a4da613f3841",
     "showTitle": false,
     "title": ""
    }
   },
   "outputs": [],
   "source": [
    "fileroot = \"clinicaltrial_2023\"\n",
    "\n",
    "dbutils.fs.cp(\"FileStore/tables/\" + fileroot + \".zip\", \"file:/tmp/\")\n",
    "#import os library\n",
    "\n",
    "import os\n",
    "os.environ['fileroot'] = fileroot\n"
   ]
  },
  {
   "cell_type": "code",
   "execution_count": 0,
   "metadata": {
    "application/vnd.databricks.v1+cell": {
     "cellMetadata": {
      "byteLimit": 2048000,
      "rowLimit": 10000
     },
     "inputWidgets": {},
     "nuid": "ea7d0cea-00b1-4265-b59f-8ac9fbc26c88",
     "showTitle": false,
     "title": ""
    }
   },
   "outputs": [
    {
     "output_type": "stream",
     "name": "stdout",
     "output_type": "stream",
     "text": [
      "Archive:  /tmp/clinicaltrial_2023.zip\n  inflating: /tmp/clinicaltrial_2023.csv  \n"
     ]
    }
   ],
   "source": [
    "%sh\n",
    "\n",
    "unzip -d /tmp /tmp/$fileroot.zip"
   ]
  },
  {
   "cell_type": "code",
   "execution_count": 0,
   "metadata": {
    "application/vnd.databricks.v1+cell": {
     "cellMetadata": {
      "byteLimit": 2048000,
      "rowLimit": 10000
     },
     "inputWidgets": {},
     "nuid": "402f353c-de04-49be-9cbf-1577f22bc5a9",
     "showTitle": false,
     "title": ""
    }
   },
   "outputs": [
    {
     "output_type": "stream",
     "name": "stdout",
     "output_type": "stream",
     "text": [
      "file:/tmp/hsperfdata_root/\nfile:/tmp/RtmpY3DE5Q/\nfile:/tmp/.XIM-unix/\nfile:/tmp/systemd-private-c7cfb6585b394c1cad096cfd2865a8a9-ntp.service-udjukf/\nfile:/tmp/systemd-private-c7cfb6585b394c1cad096cfd2865a8a9-apache2.service-iwlFrh/\nfile:/tmp/.ICE-unix/\nfile:/tmp/clinicaltrial_2023.zip\nfile:/tmp/systemd-private-c7cfb6585b394c1cad096cfd2865a8a9-systemd-resolved.service-auIGUg/\nfile:/tmp/custom-spark.conf\nfile:/tmp/chauffeur-daemon.pid\nfile:/tmp/.Test-unix/\nfile:/tmp/driver-daemon.pid\nfile:/tmp/.X11-unix/\nfile:/tmp/chauffeur-daemon-params\nfile:/tmp/python_lsp_logs/\nfile:/tmp/tmp.OnFqowtW1c\nfile:/tmp/chauffeur-env.sh\nfile:/tmp/systemd-private-c7cfb6585b394c1cad096cfd2865a8a9-systemd-logind.service-tGinFg/\nfile:/tmp/.font-unix/\nfile:/tmp/driver-daemon-params\nfile:/tmp/clinicaltrial_2023.csv\nfile:/tmp/Rserv/\nfile:/tmp/driver-env.sh\n"
     ]
    }
   ],
   "source": [
    "# List the contents of the /tmp/ directory\n",
    "files_in_tmp = dbutils.fs.ls(\"file:/tmp/\")\n",
    "\n",
    "# Print the list of files and directories in /tmp/\n",
    "for file_info in files_in_tmp:\n",
    "    print(file_info.path)"
   ]
  },
  {
   "cell_type": "code",
   "execution_count": 0,
   "metadata": {
    "application/vnd.databricks.v1+cell": {
     "cellMetadata": {
      "byteLimit": 2048000,
      "rowLimit": 10000
     },
     "inputWidgets": {},
     "nuid": "a03d881e-b44f-4da6-b6b4-ffeb69fc653a",
     "showTitle": false,
     "title": ""
    }
   },
   "outputs": [
    {
     "output_type": "stream",
     "name": "stdout",
     "output_type": "stream",
     "text": [
      "Out[5]: [FileInfo(path='dbfs:/FileStore/tables/clinicaltrial_2023/clinicaltrial_2023.csv', name='clinicaltrial_2023.csv', size=202413369, modificationTime=1713124857000)]"
     ]
    }
   ],
   "source": [
    "#Make directory\n",
    "\n",
    "dbutils.fs.mkdirs(\"FileStore/tables/\" + fileroot)\n",
    "\n",
    "#Move files\n",
    "\n",
    "dbutils.fs.mv(\"file:/tmp/\" + fileroot + \".csv\" , \"/FileStore/tables/\" + fileroot , True)\n",
    "\n",
    "# remove the .zip file\n",
    "\n",
    "dbutils.fs.rm(\"/FileStore/tables/\" + fileroot + \".zip\")\n",
    "\n",
    "dbutils.fs.ls(\"/FileStore/tables/\" + fileroot)"
   ]
  },
  {
   "cell_type": "code",
   "execution_count": 0,
   "metadata": {
    "application/vnd.databricks.v1+cell": {
     "cellMetadata": {
      "byteLimit": 2048000,
      "rowLimit": 10000
     },
     "inputWidgets": {},
     "nuid": "bab33106-d114-4c25-b8a2-455994ccbf5d",
     "showTitle": false,
     "title": ""
    }
   },
   "outputs": [],
   "source": [
    "file = \"/FileStore/tables/clinicaltrial_2023/clinicaltrial_2023.csv\"\n",
    "\n",
    "#dbutils.fs.head(file)"
   ]
  },
  {
   "cell_type": "code",
   "execution_count": 0,
   "metadata": {
    "application/vnd.databricks.v1+cell": {
     "cellMetadata": {
      "byteLimit": 2048000,
      "rowLimit": 10000
     },
     "inputWidgets": {},
     "nuid": "2a104801-3f2a-4f8c-8ca1-fff2b005f120",
     "showTitle": false,
     "title": ""
    }
   },
   "outputs": [
    {
     "output_type": "stream",
     "name": "stdout",
     "output_type": "stream",
     "text": [
      "Out[18]: ['NCT Number \\\\t Study Title \\\\t Acronym \\\\t Study Status \\\\t Conditions \\\\t Interventions \\\\t Sponsor \\\\t Collaborators \\\\t Enrollment \\\\t Funder Type \\\\t Study Type \\\\t Study Design,Start Date,Completion Date',\n '\"NCT03630471 \\\\t Effectiveness of a Problem-solving Intervention for Common Adolescent Mental Health Problems in India \\\\t PRIDE \\\\t COMPLETED \\\\t Mental Health Issue (E.G., Depression, Psychosis, Personality Disorder, Substance Abuse) \\\\t BEHAVIORAL: PRIDE \\'Step 1\\' problem-solving intervention|BEHAVIORAL: Enhanced usual care \\\\t Sangath \\\\t Harvard Medical School (HMS and HSDM)|London School of Hygiene and Tropical Medicine \\\\t 250 \\\\t OTHER \\\\t INTERVENTIONAL \\\\t Allocation: RANDOMIZED|Intervention Model: PARALLEL|Masking: DOUBLE (INVESTIGATOR, OUTCOMES_ASSESSOR)|Primary Purpose: TREATMENT\",20 August 2018,28 February 2019',\n '\"NCT05992571 \\\\t Oral Ketone Monoester Supplementation and Resting-state Brain Connectivity \\\\t RECRUITING \\\\t Cerebrovascular Function|Cognition \\\\t OTHER: Placebo|DIETARY_SUPPLEMENT: β-OHB \\\\t McMaster University \\\\t Alzheimer\\'s Society of Brant, Haldimand Norfolk, Hamilton Halton \\\\t 30 \\\\t OTHER \\\\t INTERVENTIONAL \\\\t Allocation: RANDOMIZED|Intervention Model: CROSSOVER|Masking: TRIPLE (PARTICIPANT, INVESTIGATOR, OUTCOMES_ASSESSOR)|Primary Purpose: BASIC_SCIENCE\",25 October 2023,2024-08']"
     ]
    }
   ],
   "source": [
    "# Create an rdd\n",
    "\n",
    "rdd1 = sc.textFile(file)\n",
    "\n",
    "rdd1.take(3)"
   ]
  },
  {
   "cell_type": "code",
   "execution_count": 0,
   "metadata": {
    "application/vnd.databricks.v1+cell": {
     "cellMetadata": {
      "byteLimit": 2048000,
      "rowLimit": 10000
     },
     "inputWidgets": {},
     "nuid": "8e88e90d-2253-4739-81b3-daf1131754ef",
     "showTitle": false,
     "title": ""
    }
   },
   "outputs": [],
   "source": [
    "colRDD = rdd1 \\\n",
    "        .flatMap(lambda x: x.split(\"\\n\")) \\\n",
    "        .filter(lambda x: x.count(\"\\\\t\") >= 11) \\\n",
    "        .map(lambda x: x.split(\"\\\\t\")) \\\n",
    "\n",
    "colRDD.take(4)\n",
    "df = colRDD.toDF()"
   ]
  },
  {
   "cell_type": "code",
   "execution_count": 0,
   "metadata": {
    "application/vnd.databricks.v1+cell": {
     "cellMetadata": {
      "byteLimit": 2048000,
      "rowLimit": 10000
     },
     "inputWidgets": {},
     "nuid": "b70308af-d4d1-4adb-907e-a203fed521ad",
     "showTitle": false,
     "title": ""
    }
   },
   "outputs": [
    {
     "output_type": "stream",
     "name": "stdout",
     "output_type": "stream",
     "text": [
      "Out[28]: [['NCT Number ',\n  ' Study Title ',\n  ' Acronym ',\n  ' Study Status ',\n  ' Conditions ',\n  ' Interventions ',\n  ' Sponsor ',\n  ' Collaborators ',\n  ' Enrollment ',\n  ' Funder Type ',\n  ' Study Type ',\n  ' Study Design,Start Date,Completion Date'],\n ['\"NCT03630471 ',\n  ' Effectiveness of a Problem-solving Intervention for Common Adolescent Mental Health Problems in India ',\n  ' PRIDE ',\n  ' COMPLETED ',\n  ' Mental Health Issue (E.G., Depression, Psychosis, Personality Disorder, Substance Abuse) ',\n  \" BEHAVIORAL: PRIDE 'Step 1' problem-solving intervention|BEHAVIORAL: Enhanced usual care \",\n  ' Sangath ',\n  ' Harvard Medical School (HMS and HSDM)|London School of Hygiene and Tropical Medicine ',\n  ' 250 ',\n  ' OTHER ',\n  ' INTERVENTIONAL ',\n  ' Allocation: RANDOMIZED|Intervention Model: PARALLEL|Masking: DOUBLE (INVESTIGATOR, OUTCOMES_ASSESSOR)|Primary Purpose: TREATMENT\",20 August 2018,28 February 2019'],\n ['\"NCT03400371 ',\n  ' Biology of Juvenile Myoclonic Epilepsy ',\n  ' BIOJUME ',\n  ' RECRUITING ',\n  ' Juvenile Myoclonic Epilepsy ',\n  ' OTHER: Blood draw|OTHER: Existing samples ',\n  \" King's College London \",\n  \" King's College Hospital NHS Trust|Charles University, Czech Republic|Hopital Universitaire Robert-Debre|Vestre Viken Hospital Trust|The Hospital for Sick Children|Cardiff University|Odense University Hospital \",\n  ' 1000 ',\n  ' OTHER ',\n  ' OBSERVATIONAL ',\n  ' Observational Model: |Time Perspective: p\",13 July 2017,30 June 2026'],\n ['NCT02383771 ',\n  ' Reversal of the Anti-platelet Effects of Ticagrelor ',\n  ' REVERSAL ',\n  ' COMPLETED ',\n  ' Coronary Artery Disease ',\n  ' DRUG: Ticagrelor|DRUG: Aspirin + Ticagrelor|DRUG: Control|DRUG: Aspirin + Ticagrelor ',\n  ' The First Affiliated Hospital with Nanjing Medical University ',\n  ' National Natural Science Foundation of China ',\n  ' 64 ',\n  ' OTHER ',\n  ' INTERVENTIONAL ',\n  ' Allocation: RANDOMIZED|Intervention Model: PARALLEL|Masking: SINGLE (INVESTIGATOR)|Primary Purpose: TREATMENT,2015-03,2016-12']]"
     ]
    }
   ],
   "source": [
    "colRDD.take(4)"
   ]
  },
  {
   "cell_type": "code",
   "execution_count": 0,
   "metadata": {
    "application/vnd.databricks.v1+cell": {
     "cellMetadata": {
      "byteLimit": 2048000,
      "rowLimit": 10000
     },
     "inputWidgets": {},
     "nuid": "880362e3-5eed-4667-a6fe-3f064136fc13",
     "showTitle": false,
     "title": ""
    }
   },
   "outputs": [
    {
     "output_type": "stream",
     "name": "stdout",
     "output_type": "stream",
     "text": [
      "+-----------+-------------+---------+--------------+------------+---------------+---------+---------------+------------+-------------+------------+----------------------------------------+\n|_1         |_2           |_3       |_4            |_5          |_6             |_7       |_8             |_9          |_10          |_11         |_12                                     |\n+-----------+-------------+---------+--------------+------------+---------------+---------+---------------+------------+-------------+------------+----------------------------------------+\n|NCT Number | Study Title | Acronym | Study Status | Conditions | Interventions | Sponsor | Collaborators | Enrollment | Funder Type | Study Type | Study Design,Start Date,Completion Date|\n+-----------+-------------+---------+--------------+------------+---------------+---------+---------------+------------+-------------+------------+----------------------------------------+\nonly showing top 1 row\n\n"
     ]
    }
   ],
   "source": [
    "df.show(1, truncate= False)"
   ]
  },
  {
   "cell_type": "code",
   "execution_count": 0,
   "metadata": {
    "application/vnd.databricks.v1+cell": {
     "cellMetadata": {},
     "inputWidgets": {},
     "nuid": "e7bb9edc-a215-4bf5-8a77-903139090303",
     "showTitle": false,
     "title": ""
    }
   },
   "outputs": [],
   "source": []
  }
 ],
 "metadata": {
  "application/vnd.databricks.v1+notebook": {
   "dashboards": [],
   "language": "python",
   "notebookMetadata": {
    "mostRecentlyExecutedCommandWithImplicitDF": {
     "commandId": 3287879211855509,
     "dataframes": [
      "_sqldf"
     ]
    },
    "pythonIndentUnit": 4
   },
   "notebookName": "Soliu_Fatai_df",
   "widgets": {}
  }
 },
 "nbformat": 4,
 "nbformat_minor": 0
}
