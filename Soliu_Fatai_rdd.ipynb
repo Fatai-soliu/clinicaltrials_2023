{
 "cells": [
  {
   "cell_type": "markdown",
   "metadata": {
    "application/vnd.databricks.v1+cell": {
     "cellMetadata": {
      "byteLimit": 2048000,
      "rowLimit": 10000
     },
     "inputWidgets": {},
     "nuid": "3e1f908c-6a61-400a-ae59-126349806e3b",
     "showTitle": false,
     "title": ""
    }
   },
   "source": [
    "\n",
    "Using dbutils.fs.ls command to check the file that been uploaded"
   ]
  },
  {
   "cell_type": "code",
   "execution_count": 0,
   "metadata": {
    "application/vnd.databricks.v1+cell": {
     "cellMetadata": {
      "byteLimit": 2048000,
      "rowLimit": 10000
     },
     "inputWidgets": {},
     "nuid": "48f04d95-393a-477a-b4f0-545118c66c8f",
     "showTitle": false,
     "title": ""
    }
   },
   "outputs": [
    {
     "output_type": "stream",
     "name": "stdout",
     "output_type": "stream",
     "text": [
      "Out[1]: [FileInfo(path='dbfs:/FileStore/tables/account-models/', name='account-models/', size=0, modificationTime=0),\n FileInfo(path='dbfs:/FileStore/tables/accounts/', name='accounts/', size=0, modificationTime=0),\n FileInfo(path='dbfs:/FileStore/tables/accounts.zip', name='accounts.zip', size=5297592, modificationTime=1706721501000),\n FileInfo(path='dbfs:/FileStore/tables/accounts2/', name='accounts2/', size=0, modificationTime=0),\n FileInfo(path='dbfs:/FileStore/tables/activations/', name='activations/', size=0, modificationTime=0),\n FileInfo(path='dbfs:/FileStore/tables/activations.zip', name='activations.zip', size=8411369, modificationTime=1706718610000),\n FileInfo(path='dbfs:/FileStore/tables/clinicaltrial_2023/', name='clinicaltrial_2023/', size=0, modificationTime=0),\n FileInfo(path='dbfs:/FileStore/tables/clinicaltrial_2023-1.zip', name='clinicaltrial_2023-1.zip', size=52785750, modificationTime=1712308832000),\n FileInfo(path='dbfs:/FileStore/tables/clinicaltrial_2023.zip', name='clinicaltrial_2023.zip', size=52785750, modificationTime=1713090830000),\n FileInfo(path='dbfs:/FileStore/tables/clinicaltrial_2023___test/', name='clinicaltrial_2023___test/', size=0, modificationTime=0),\n FileInfo(path='dbfs:/FileStore/tables/clinicaltrial_2023___test.zip', name='clinicaltrial_2023___test.zip', size=52785750, modificationTime=1709465069000),\n FileInfo(path='dbfs:/FileStore/tables/flood.csv', name='flood.csv', size=128984, modificationTime=1707931801000),\n FileInfo(path='dbfs:/FileStore/tables/logs/', name='logs/', size=0, modificationTime=0),\n FileInfo(path='dbfs:/FileStore/tables/logs.zip', name='logs.zip', size=18168065, modificationTime=1706721504000),\n FileInfo(path='dbfs:/FileStore/tables/logs2/', name='logs2/', size=0, modificationTime=0),\n FileInfo(path='dbfs:/FileStore/tables/pharma/', name='pharma/', size=0, modificationTime=0),\n FileInfo(path='dbfs:/FileStore/tables/pharma-1.zip', name='pharma-1.zip', size=109982, modificationTime=1712749243000),\n FileInfo(path='dbfs:/FileStore/tables/pharma-2.zip', name='pharma-2.zip', size=109982, modificationTime=1712828641000),\n FileInfo(path='dbfs:/FileStore/tables/pharma-3.zip', name='pharma-3.zip', size=109982, modificationTime=1712854877000),\n FileInfo(path='dbfs:/FileStore/tables/pharma-4.zip', name='pharma-4.zip', size=109982, modificationTime=1713035267000),\n FileInfo(path='dbfs:/FileStore/tables/pharma-5.zip', name='pharma-5.zip', size=109982, modificationTime=1713044529000),\n FileInfo(path='dbfs:/FileStore/tables/pharma.zip', name='pharma.zip', size=109982, modificationTime=1713090483000),\n FileInfo(path='dbfs:/FileStore/tables/test.json', name='test.json', size=17958, modificationTime=1706113735000),\n FileInfo(path='dbfs:/FileStore/tables/webpage/', name='webpage/', size=0, modificationTime=0),\n FileInfo(path='dbfs:/FileStore/tables/webpage-1.zip', name='webpage-1.zip', size=1582, modificationTime=1707324494000),\n FileInfo(path='dbfs:/FileStore/tables/webpage.zip', name='webpage.zip', size=1582, modificationTime=1707324436000),\n FileInfo(path='dbfs:/FileStore/tables/webpage_files_all/', name='webpage_files_all/', size=0, modificationTime=0),\n FileInfo(path='dbfs:/FileStore/tables/webpage_files_jpg/', name='webpage_files_jpg/', size=0, modificationTime=0)]"
     ]
    }
   ],
   "source": [
    "#Using dbutils.fs.ls command to check the file that been uploaded\n",
    "\n",
    "dbutils.fs.ls(\"/FileStore/tables/\")"
   ]
  },
  {
   "cell_type": "markdown",
   "metadata": {
    "application/vnd.databricks.v1+cell": {
     "cellMetadata": {
      "byteLimit": 2048000,
      "rowLimit": 10000
     },
     "inputWidgets": {},
     "nuid": "bd341c0f-500e-4c72-8f97-9960e7120d39",
     "showTitle": false,
     "title": ""
    },
    "jupyter": {
     "outputs_hidden": true
    }
   },
   "source": [
    "\n",
    "Defining Reusable code to unzip all files"
   ]
  },
  {
   "cell_type": "code",
   "execution_count": 0,
   "metadata": {
    "application/vnd.databricks.v1+cell": {
     "cellMetadata": {
      "byteLimit": 2048000,
      "rowLimit": 10000
     },
     "inputWidgets": {},
     "nuid": "583b680e-bfb0-4066-9229-1fe83377f5f4",
     "showTitle": false,
     "title": ""
    }
   },
   "outputs": [
    {
     "output_type": "stream",
     "name": "stdout",
     "output_type": "stream",
     "text": [
      "Out[10]: True"
     ]
    }
   ],
   "source": [
    "#Copy unzipped file\n",
    "fileroot = \"pharma\"\n",
    "\n",
    "dbutils.fs.cp(\"FileStore/tables/\" + fileroot + \".zip\", \"file:/tmp/\")"
   ]
  },
  {
   "cell_type": "code",
   "execution_count": 0,
   "metadata": {
    "application/vnd.databricks.v1+cell": {
     "cellMetadata": {
      "byteLimit": 2048000,
      "rowLimit": 10000
     },
     "inputWidgets": {},
     "nuid": "e61a0111-9650-4040-b8e7-5e5fb6184453",
     "showTitle": false,
     "title": ""
    }
   },
   "outputs": [],
   "source": [
    "#import os library\n",
    "\n",
    "import os\n",
    "os.environ['fileroot'] = fileroot\n"
   ]
  },
  {
   "cell_type": "code",
   "execution_count": 0,
   "metadata": {
    "application/vnd.databricks.v1+cell": {
     "cellMetadata": {
      "byteLimit": 2048000,
      "rowLimit": 10000
     },
     "inputWidgets": {},
     "nuid": "557c3673-916e-45dc-929c-1f0723bf5ae2",
     "showTitle": false,
     "title": ""
    }
   },
   "outputs": [
    {
     "output_type": "stream",
     "name": "stdout",
     "output_type": "stream",
     "text": [
      "Archive:  /tmp/pharma.zip\n  inflating: /tmp/pharma.csv         \n"
     ]
    }
   ],
   "source": [
    "%sh\n",
    "\n",
    "unzip -d /tmp /tmp/$fileroot.zip"
   ]
  },
  {
   "cell_type": "code",
   "execution_count": 0,
   "metadata": {
    "application/vnd.databricks.v1+cell": {
     "cellMetadata": {
      "byteLimit": 2048000,
      "rowLimit": 10000
     },
     "inputWidgets": {},
     "nuid": "ce2a11ed-036a-4c1a-9c89-c1f895b441eb",
     "showTitle": false,
     "title": ""
    }
   },
   "outputs": [
    {
     "output_type": "stream",
     "name": "stdout",
     "output_type": "stream",
     "text": [
      "file:/tmp/hsperfdata_root/\nfile:/tmp/clinicaltrial_2023.zip\nfile:/tmp/systemd-private-6968895243c44f39a287f7351fbdddea-systemd-logind.service-rwwAwj/\nfile:/tmp/systemd-private-6968895243c44f39a287f7351fbdddea-apache2.service-M0Fwpf/\nfile:/tmp/.XIM-unix/\nfile:/tmp/tmp.W4xQQlQFlm\nfile:/tmp/custom-spark.conf\nfile:/tmp/driver-daemon.pid\nfile:/tmp/pharma.csv\nfile:/tmp/systemd-private-6968895243c44f39a287f7351fbdddea-ntp.service-SV67of/\nfile:/tmp/python_lsp_logs/\nfile:/tmp/driver-daemon-params\nfile:/tmp/chauffeur-daemon.pid\nfile:/tmp/chauffeur-env.sh\nfile:/tmp/systemd-private-6968895243c44f39a287f7351fbdddea-systemd-resolved.service-1Ccw6e/\nfile:/tmp/.X11-unix/\nfile:/tmp/pharma.zip\nfile:/tmp/.font-unix/\nfile:/tmp/driver-env.sh\nfile:/tmp/.Test-unix/\nfile:/tmp/.ICE-unix/\nfile:/tmp/chauffeur-daemon-params\nfile:/tmp/RtmpO5lnAY/\nfile:/tmp/Rserv/\n"
     ]
    }
   ],
   "source": [
    "# List the contents of the /tmp/ directory\n",
    "files_in_tmp = dbutils.fs.ls(\"file:/tmp/\")\n",
    "\n",
    "# Print the list of files and directories in /tmp/\n",
    "for file_info in files_in_tmp:\n",
    "    print(file_info.path)"
   ]
  },
  {
   "cell_type": "code",
   "execution_count": 0,
   "metadata": {
    "application/vnd.databricks.v1+cell": {
     "cellMetadata": {
      "byteLimit": 2048000,
      "rowLimit": 10000
     },
     "inputWidgets": {},
     "nuid": "614ec6ae-67e4-4858-bc2e-5ec527a0de1a",
     "showTitle": false,
     "title": ""
    }
   },
   "outputs": [
    {
     "output_type": "stream",
     "name": "stdout",
     "output_type": "stream",
     "text": [
      "Out[14]: True"
     ]
    }
   ],
   "source": [
    "#Make directory\n",
    "\n",
    "dbutils.fs.mkdirs(\"FileStore/tables/\" + fileroot)"
   ]
  },
  {
   "cell_type": "code",
   "execution_count": 0,
   "metadata": {
    "application/vnd.databricks.v1+cell": {
     "cellMetadata": {
      "byteLimit": 2048000,
      "rowLimit": 10000
     },
     "inputWidgets": {},
     "nuid": "5387fe44-b2f3-48a5-ab7c-bb3c4a8fc469",
     "showTitle": false,
     "title": ""
    }
   },
   "outputs": [
    {
     "output_type": "stream",
     "name": "stdout",
     "output_type": "stream",
     "text": [
      "Out[15]: True"
     ]
    }
   ],
   "source": [
    "#Move files\n",
    "\n",
    "dbutils.fs.mv(\"file:/tmp/\" + fileroot + \".csv\" , \"/FileStore/tables/\" + fileroot , True)"
   ]
  },
  {
   "cell_type": "code",
   "execution_count": 0,
   "metadata": {
    "application/vnd.databricks.v1+cell": {
     "cellMetadata": {
      "byteLimit": 2048000,
      "rowLimit": 10000
     },
     "inputWidgets": {},
     "nuid": "96e114ea-0250-47f7-b9ce-74f336088966",
     "showTitle": false,
     "title": ""
    }
   },
   "outputs": [
    {
     "output_type": "stream",
     "name": "stdout",
     "output_type": "stream",
     "text": [
      "Out[16]: [FileInfo(path='dbfs:/FileStore/tables/pharma/pharma.csv', name='pharma.csv', size=678999, modificationTime=1713091795000)]"
     ]
    }
   ],
   "source": [
    "# remove the .zip file\n",
    "\n",
    "dbutils.fs.rm(\"/FileStore/tables/\" + fileroot + \".zip\")\n",
    "\n",
    "dbutils.fs.ls(\"/FileStore/tables/\" + fileroot)"
   ]
  },
  {
   "cell_type": "code",
   "execution_count": 0,
   "metadata": {
    "application/vnd.databricks.v1+cell": {
     "cellMetadata": {
      "byteLimit": 2048000,
      "rowLimit": 10000
     },
     "inputWidgets": {},
     "nuid": "339a56ca-b20f-4856-a9e1-d481c245263f",
     "showTitle": false,
     "title": ""
    }
   },
   "outputs": [
    {
     "output_type": "stream",
     "name": "stdout",
     "output_type": "stream",
     "text": [
      "[Truncated to first 65536 bytes]\nOut[9]: 'NCT Number \\\\t Study Title \\\\t Acronym \\\\t Study Status \\\\t Conditions \\\\t Interventions \\\\t Sponsor \\\\t Collaborators \\\\t Enrollment \\\\t Funder Type \\\\t Study Type \\\\t Study Design,Start Date,Completion Date\\r\\n\"NCT03630471 \\\\t Effectiveness of a Problem-solving Intervention for Common Adolescent Mental Health Problems in India \\\\t PRIDE \\\\t COMPLETED \\\\t Mental Health Issue (E.G., Depression, Psychosis, Personality Disorder, Substance Abuse) \\\\t BEHAVIORAL: PRIDE \\'Step 1\\' problem-solving intervention|BEHAVIORAL: Enhanced usual care \\\\t Sangath \\\\t Harvard Medical School (HMS and HSDM)|London School of Hygiene and Tropical Medicine \\\\t 250 \\\\t OTHER \\\\t INTERVENTIONAL \\\\t Allocation: RANDOMIZED|Intervention Model: PARALLEL|Masking: DOUBLE (INVESTIGATOR, OUTCOMES_ASSESSOR)|Primary Purpose: TREATMENT\",20 August 2018,28 February 2019\\r\\n\"NCT05992571 \\\\t Oral Ketone Monoester Supplementation and Resting-state Brain Connectivity \\\\t RECRUITING \\\\t Cerebrovascular Function|Cognition \\\\t OTHER: Placebo|DIETARY_SUPPLEMENT: β-OHB \\\\t McMaster University \\\\t Alzheimer\\'s Society of Brant, Haldimand Norfolk, Hamilton Halton \\\\t 30 \\\\t OTHER \\\\t INTERVENTIONAL \\\\t Allocation: RANDOMIZED|Intervention Model: CROSSOVER|Masking: TRIPLE (PARTICIPANT, INVESTIGATOR, OUTCOMES_ASSESSOR)|Primary Purpose: BASIC_SCIENCE\",25 October 2023,2024-08\\r\\nNCT01854671 \\\\t Investigating the Effect of a Prenatal Family Planning Counseling Intervention Led by Community Health Workers on Postpartum Contraceptive Use Among Women in the West Bank \\\\t COMPLETED \\\\t Focus: Contraceptive Counseling|Focus: Postpartum Contraception \\\\t OTHER: family planning counseling let by community health workers \\\\t Planned Parenthood League of Massachusetts \\\\t Society for Family Planning Research Fund \\\\t 176 \\\\t OTHER \\\\t INTERVENTIONAL \\\\t Allocation: NON_RANDOMIZED|Intervention Model: PARALLEL|Masking: NONE|Primary Purpose: ,2013-08,2014-12\\r\\nNCT03820271 \\\\t New Prognostic Predictive Models of Mortality of Decompensated Cirrhotic Patients Waiting for Liver Transplantation \\\\t SUPERMELD \\\\t RECRUITING \\\\t Decompensated Cirrhosis|Liver Transplantation \\\\t OTHER: SuperMELD \\\\t Assistance Publique - Hôpitaux de Paris \\\\t 500 \\\\t OTHER \\\\t INTERVENTIONAL \\\\t Allocation: NA|Intervention Model: SINGLE_GROUP|Masking: NONE|Primary Purpose: OTHER,01 October 2020,01 October 2023\\r\\nNCT01160471 \\\\t Noninvasive Imaging of Heart Failure: A Pilot Study \\\\t COMPLETED \\\\t MRI|Acquired Heart Disease|Myocardial Fibrosis \\\\t National Institutes of Health Clinical Center (CC) \\\\t 62 \\\\t NIH \\\\t OBSERVATIONAL \\\\t Observational Model: |Time Perspective: p,01 July 2010,30 October 2019\\r\\n\"NCT04338971 \\\\t Ipsihand Device Use in Stroke Patients to Assess Functional Motor Outcomes \\\\t COMPLETED \\\\t Stroke \\\\t DEVICE: IpsiHand Therapy \\\\t Neurolutions, Inc. \\\\t 24 \\\\t INDUSTRY \\\\t INTERVENTIONAL \\\\t Allocation: NA|Intervention Model: SINGLE_GROUP|Masking: NONE|Primary Purpose: TREATMENT\",05 May 2017,09 October 2020\\r\\n\"NCT05843071 \\\\t PMCF Study to Evaluate Performance and Safety of \"\"NASAL SPRAYS \"\" Used to Relieve Nasal Congestion and Dryness \\\\t RECRUITING \\\\t Nasal Congestion|Nasal Dryness \\\\t DEVICE: Nasal sprays with sea salts \\\\t C.O.C. Farmaceutici S.r.l. \\\\t 105 \\\\t INDUSTRY \\\\t INTERVENTIONAL \\\\t Allocation: NA|Intervention Model: SINGLE_GROUP|Masking: NONE|Primary Purpose: TREATMENT\",01 September 2022,15 June 2023\\r\\nNCT06174571 \\\\t Evaluation of Pregnancy Associated Plasma Protein A (PAPPA) as a Biomarker in Breast Cancer. \\\\t NOT_YET_RECRUITING \\\\t Breast Cancer \\\\t Assiut University \\\\t 90 \\\\t OTHER \\\\t OBSERVATIONAL \\\\t Observational Model: |Time Perspective: p,01 February 2024,01 March 2026\\r\\nNCT03700671 \\\\t High Intensity Interval Training Versus Circuit Training \\\\t COMPLETED \\\\t High Intensity Interval Training \\\\t OTHER: High intensity interval training|OTHER: Circuit training \\\\t University of Central Lancashire \\\\t University of Hull \\\\t 42 \\\\t OTHER \\\\t INTERVENTIONAL \\\\t Allocation: RANDOMIZED|Intervention Model: PARALLEL|Masking: NONE|Primary Purpose: BASIC_SCIENCE,11 May 2016,13 December 2017\\r\\n\"NCT02633371 \\\\t A Pilot Study Exploring the Efficacy and Safety of Topical Oxybutynin 3% Gel for Primary Focal Hyperhidrosis in Adolescents and Young Adults \\\\t COMPLETED \\\\t Hyperhidrosis \\\\t DRUG: Oxybutynin 3% gel \\\\t University of Colorado, Denver \\\\t Society for Pediatric Dermatology \\\\t 10 \\\\t OTHER \\\\t INTERVENTIONAL \\\\t Allocation: NA|Intervention Model: SINGLE_GROUP|Masking: NONE|Primary Purpose: TREATMENT\",2016-02,2017-05\\r\\n\"NCT03400371 \\\\t Biology of Juvenile Myoclonic Epilepsy \\\\t BIOJUME \\\\t RECRUITING \\\\t Juvenile Myoclonic Epilepsy \\\\t OTHER: Blood draw|OTHER: Existing samples \\\\t King\\'s College London \\\\t King\\'s College Hospital NHS Trust|Charles University, Czech Republic|Hopital Universitaire Robert-Debre|Vestre Viken Hospital Trust|The Hospital for Sick Children|Cardiff University|Odense University Hospital \\\\t 1000 \\\\t OTHER \\\\t OBSERVATIONAL \\\\t Observational Model: |Time Perspective: p\",13 July 2017,30 June 2026\\r\\n\"NCT00221871 \\\\t Proper Dosage of Ketamine in Intravenous Regional Anesthesia \\\\t UNKNOWN \\\\t Pain. \\\\t DRUG: Different dosages of Ketamine \\\\t University Health Network, Toronto \\\\t OTHER \\\\t INTERVENTIONAL \\\\t Allocation: RANDOMIZED|Intervention Model: PARALLEL|Masking: SINGLE|Primary Purpose: TREATMENT\",2004-01,2005-01\\r\\n\"NCT05664971 \\\\t JS004 Combined With Toripalimab and With Standard Chemotherapy Treat Patients With Advanced Lung Cancer \\\\t RECRUITING \\\\t Advanced Lung Cancer \\\\t BIOLOGICAL: Recombinant humanized anti-BTLA monoclonal antibody (JS004) injection|BIOLOGICAL: Toripalimab|DRUG: Docetaxel|DRUG: Pemetrexed|DRUG: Cisplatin|DRUG: Carboplatin|DRUG: Paclitaxel|DRUG: Etoposide \\\\t Shanghai Junshi Bioscience Co., Ltd. \\\\t 240 \\\\t OTHER \\\\t INTERVENTIONAL \\\\t Allocation: NON_RANDOMIZED|Intervention Model: SINGLE_GROUP|Masking: NONE|Primary Purpose: TREATMENT\",09 February 2023,17 November 2024\\r\\nNCT02383771 \\\\t Reversal of the Anti-platelet Effects of Ticagrelor \\\\t REVERSAL \\\\t COMPLETED \\\\t Coronary Artery Disease \\\\t DRUG: Ticagrelor|DRUG: Aspirin + Ticagrelor|DRUG: Control|DRUG: Aspirin + Ticagrelor \\\\t The First Affiliated Hospital with Nanjing Medical University \\\\t National Natural Science Foundation of China \\\\t 64 \\\\t OTHER \\\\t INTERVENTIONAL \\\\t Allocation: RANDOMIZED|Intervention Model: PARALLEL|Masking: SINGLE (INVESTIGATOR)|Primary Purpose: TREATMENT,2015-03,2016-12\\r\\n\"NCT01897571 \\\\t Study of Tazemetostat as Single Agent in Solid Tumors or B-cell Lymphomas and in Combination With Prednisolone in DLBCL \\\\t COMPLETED \\\\t B-cell Lymphomas (Phase 1)|Advanced Solid Tumors (Phase 1)|Diffuse Large B-cell Lymphoma (Phase 2)|Follicular Lymphoma (Phase 2)|Transformed Follicular Lymphoma|Primary Mediastinal Large B-Cell Lymphoma \\\\t DRUG: Tazemetostat|DRUG: Prednisolone|DRUG: Tazemetostat \\\\t Epizyme, Inc. \\\\t 400 \\\\t INDUSTRY \\\\t INTERVENTIONAL \\\\t Allocation: NON_RANDOMIZED|Intervention Model: SINGLE_GROUP|Masking: NONE|Primary Purpose: TREATMENT\",13 June 2013,02 November 2021\\r\\n\"NCT03928171 \\\\t The Effect of Intra-abdominal Pressure on Peritoneal Perfusion During Laparoscopic Colorectal Surgery \\\\t PERFUSION \\\\t COMPLETED \\\\t Laparoscopic Surgery|Pneumoperitoneum \\\\t OTHER: Intra-abdominal pressure during laparoscopy \\\\t Radboud University Medical Center \\\\t 30 \\\\t OTHER \\\\t INTERVENTIONAL \\\\t Allocation: RANDOMIZED|Intervention Model: PARALLEL|Masking: TRIPLE (PARTICIPANT, CARE_PROVIDER, OUTCOMES_ASSESSOR)|Primary Purpose: TREATMENT\",13 June 2018,24 December 2018\\r\\nNCT00848471 \\\\t Validation of the Quark RMR Calorimeter (Cosmed) Versus Deltatrac II (GE Health Care Clinical Systems) \\\\t Protocol Quark \\\\t UNKNOWN \\\\t Healthy|Obesity \\\\t DEVICE: Quark RMR|DEVICE: Deltatrac II \\\\t Hospices Civils de Lyon \\\\t Centre de Recherche en Nutrition Humaine Rhone-Alpe \\\\t 30 \\\\t OTHER \\\\t INTERVENTIONAL \\\\t Allocation: RANDOMIZED|Intervention Model: CROSSOVER|Masking: NONE|Primary Purpose: HEALTH_SERVICES_RESEARCH,2009-01,2009-12\\r\\n\"NCT01189071 \\\\t Preoperative Use of Darifenacin (Enablex) to Alleviate Postoperative Ureteral Stent Pain \\\\t TERMINATED \\\\t Overactive Bladder|Renal Colic|Pain, Postoperative \\\\t DRUG: Darifenacin \\\\t University of Missouri-Columbia \\\\t 3 \\\\t OTHER \\\\t INTERVENTIONAL \\\\t Allocation: RANDOMIZED|Intervention Model: PARALLEL|Masking: DOUBLE (PARTICIPANT, INVESTIGATOR)|Primary Purpose: TREATMENT\",2009-08,2011-07\\r\\n\"NCT01005771 \\\\t Study to Assess the Efficacy and Safety of GF-001001-00 Cream in Secondarily-Infected Traumatic Lesions \\\\t COMPLETED \\\\t Secondarily Infected Traumatic Lesions \\\\t DRUG: GF-001001-00|DRUG: Placebo \\\\t Ferrer Internacional S.A. \\\\t 200 \\\\t INDUSTRY \\\\t INTERVENTIONAL \\\\t Allocation: RANDOMIZED|Intervention Model: PARALLEL|Masking: DOUBLE (PARTICIPANT, INVESTIGATOR)|Primary Purpose: TREATMENT\",2009-09,2010-03\\r\\nNCT05321771 \\\\t Family Caregiver Role in Decreasing Delirium in Older Patients With Fractured Femur Using HELP Principles. \\\\t FamHelp \\\\t RECRUITING \\\\t Delirium|Femoral Fracture \\\\t OTHER: Family caregiver application of HELP principles \\\\t Rambam Health Care Campus \\\\t 50 \\\\t OTHER \\\\t INTERVENTIONAL \\\\t Allocation: NA|Intervention Model: SINGLE_GROUP|Masking: NONE|Primary Purpose: DIAGNOSTIC,02 December 2021,31 December 2023\\r\\nNCT00520871 \\\\t The Water-Blueberry Study \\\\t COMPLETED \\\\t Cardiovascular Disease \\\\t DRUG: Blueberry juice \\\\t University of Oslo \\\\t Ullevaal University Hospital \\\\t 62 \\\\t OTHER \\\\t INTERVENTIONAL \\\\t Allocation: RANDOMIZED|Intervention Model: PARALLEL|Masking: SINGLE|Primary Purpose: PREVENTION,2003-03,2004-04\\r\\nNCT05913271 \\\\t Study on the Correlation Between NAT2(N-acetyltransferase2) Gene Polymorphism and CrCl(Creatine Clreance) and the Efficacy and Safety of Levosimendan in Patients With Severe Heart Failure \\\\t RECRUITING \\\\t Heart Failure|Levosimendan|Efficacy|Safety \\\\t Yi Han \\\\t Qianfoshan Hospital \\\\t 352 \\\\t OTHER \\\\t OBSERVATIONAL \\\\t Observational Model: |Time Perspective: p,30 May 2023,30 May 2025\\r\\n\"NCT04006171 \\\\t Comparison of Serum C Type Natriuretic Peptide Levels Between Polycystic Ovary Syndrome Patients and Healthy Women \\\\t CNP \\\\t COMPLETED \\\\t Polycystic Ovary Syndrome|c Type Natriuretic Peptide|Menstrual Irregularity|Hyperandrogenism \\\\t DIAGNOSTIC_TEST: C type natriuretic peptide \\\\t Near East University, Turkey \\\\t 90 \\\\t OTHER \\\\t INTERVENTIONAL \\\\t Allocation: NON_RANDOMIZED|Intervention Model: PARALLEL|Masking: NONE|Primary Purpose: DIAGNOSTIC\",15 July 2019,01 September 2020\\r\\n\"NCT04340271 \\\\t The Clinical Utility of Extracorporeal Shock Wave Therapy on Burns \\\\t COMPLETED \\\\t Burn Scar \\\\t OTHER: Extracorporeal shock wave therapy|OTHER: conventional occupational therapy \\\\t Hangang Sacred Heart Hospital \\\\t 48 \\\\t OTHER \\\\t INTERVENTIONAL \\\\t Allocation: RANDOMIZED|Intervention Model: PARALLEL|Masking: DOUBLE (PARTICIPANT, OUTCOMES_ASSESSOR)|Primary Purpose: TREATMENT\",15 April 2020,31 May 2020\\r\\nNCT03075371 \\\\t Homeostatic and Non-homeostatic Processing of Food Cues in Anorexia Nervosa \\\\t COMPLETED \\\\t Anorexia Nervosa|Healthy \\\\t OTHER: Glucose|OTHER: Placebo \\\\t University of Heidelberg Medical Center \\\\t German Research Foundation \\\\t 85 \\\\t OTHER \\\\t INTERVENTIONAL \\\\t Allocation: NON_RANDOMIZED|Intervention Model: CROSSOVER|Masking: SINGLE (PARTICIPANT)|Primary Purpose: BASIC_SCIENCE,2014-09,2019-02\\r\\nNCT05966571 \\\\t Ovarian Innervation Study in Patients With Polycystic Ovary Syndrome (PCOS) \\\\t RECRUITING \\\\t Polycystic Ovary Syndrome \\\\t PROCEDURE: Ovary Biopsie \\\\t Albanian University \\\\t 50 \\\\t OTHER \\\\t OBSERVATIONAL \\\\t Observational Model: |Time Perspective: p,01 July 2023,01 December 2024\\r\\nNCT03490071 \\\\t Long-term Follow up of Patients With Longstanding Hip and Groin Pain \\\\t Lund LHGP \\\\t RECRUITING \\\\t Hip Pain Chronic \\\\t Lund University \\\\t 81 \\\\t OTHER \\\\t OBSERVATIONAL \\\\t Observational Model: |Time Perspective: p,01 January 2018,31 December 2024\\r\\nNCT05801471 \\\\t Clinical Evaluation of Visual Field Change in Glaucoma: an Assessment of Different Models of Progression \\\\t RECRUITING \\\\t Glaucoma \\\\t Centervue SpA \\\\t 200 \\\\t INDUSTRY \\\\t OBSERVATIONAL \\\\t Observational Model: |Time Perspective: p,06 May 2022,06 November 2025\\r\\n\"NCT00266071 \\\\t Study of the Cutaneous Microcirculation in Elderly People \\\\t UNKNOWN \\\\t Elderly People \\\\t BEHAVIORAL: Cutaneous response \\\\t University Hospital, Angers \\\\t OTHER_GOV \\\\t OBSERVATIONAL \\\\t Observational Model: |Time Perspective: p\",2005-12,\\r\\nNCT03097471 \\\\t BPK-S Integration (Ceramic) Post Market Clinical Follow-Up \\\\t UNKNOWN \\\\t Restoration if Knee Joint Function \\\\t DEVICE: BPK-S Integration (Ceramic) \\\\t Klemens Trieb \\\\t 40 \\\\t OTHER \\\\t OBSERVATIONAL \\\\t Observational Model: |Time Perspective: p,2011-05,2018-03\\r\\nNCT01746771 \\\\t A Phase I-II Study of HM781-36B Combined With Paclitaxel and Trastuzumab in HER-2 Positive Advanced Gastric Cancer \\\\t COMPLETED \\\\t HER-2 Positive Advanced Gastric Cancer \\\\t DRUG: HM781-36B(Poziotinib)|DRUG: Paclitaxel|DRUG: Trastuzumab \\\\t Hanmi Pharmaceutical Company Limited \\\\t National OncoVenture \\\\t 44 \\\\t INDUSTRY \\\\t INTERVENTIONAL \\\\t Allocation: NA|Intervention Model: SINGLE_GROUP|Masking: NONE|Primary Purpose: TREATMENT,2012-11,2015-08\\r\\n\"NCT01068171 \\\\t Developing a Diabetic Foot Ulcer Protocol \\\\t WITHDRAWN \\\\t Diabetic Foot Ulcers \\\\t OTHER: type of footwear|OTHER: collagen dressing with and without silver \\\\t The University of Texas Health Science Center, Houston \\\\t Harris County Hospital District|Baylor College of Medicine \\\\t 0 \\\\t OTHER \\\\t INTERVENTIONAL \\\\t Allocation: RANDOMIZED|Intervention Model: PARALLEL|Masking: NONE|Primary Purpose: TREATMENT\",2010-05,2012-06\\r\\nNCT00455871 \\\\t Study of Treatment Effects of Combination Therapy of Lucentis Plus Reduced Fluence PDT With Visudyne in Patients With Exudative AMD \\\\t UNKNOWN \\\\t Age-Related Macular Degeneration \\\\t DRUG: reduced fluence photodynamic therapy with Visudyne|DRUG: Lucentis \\\\t Barnes Retina Institute \\\\t QLT Inc. \\\\t 30 \\\\t OTHER \\\\t INTERVENTIONAL \\\\t Allocation: RANDOMIZED|Intervention Model: PARALLEL|Masking: NONE|Primary Purpose: TREATMENT,2007-04,2010-10\\r\\nNCT01334671 \\\\t The Clinical Effect of Intensive Statin Therapy in STEMI Patients Before Emergency PCI \\\\t UNKNOWN \\\\t ST-elevation Myocardial Infarction|(STEMI) \\\\t DRUG: Atorvastatin \\\\t General Hospital of Chinese Armed Police Forces \\\\t 150 \\\\t OTHER \\\\t INTERVENTIONAL \\\\t Allocation: RANDOMIZED|Intervention Model: PARALLEL|Masking: SINGLE (PARTICIPANT)|Primary Purpose: TREATMENT,2011-02,2013-03\\r\\nNCT00553371 \\\\t Follow-up Evaluation Using CT Scans in Patients Who Have Been Treated For Metastatic Testicular Cancer \\\\t UNKNOWN \\\\t Testicular Germ Cell Tumor \\\\t OTHER: biomarker analysis|PROCEDURE: computed tomography \\\\t Royal Marsden NHS Foundation Trust \\\\t 300 \\\\t OTHER \\\\t OBSERVATIONAL \\\\t Observational Model: |Time Perspective: p,2006-04,\\r\\nNCT01993771 \\\\t Monitoring of Anaesthesic Depth in the Cerebral Cortex Using Bispectral Bilateral System. \\\\t COMPLETED \\\\t Breast Surgery \\\\t PROCEDURE: Surgery with general anaesthesia.|PROCEDURE: Raw EEG \\\\t Parc de Salut Mar \\\\t 25 \\\\t OTHER \\\\t OBSERVATIONAL \\\\t Observational Model: |Time Perspective: p,2013-09,2015-10\\r\\n\"NCT00041171 \\\\t Docetaxel and St. John\\'s Wort in Treating Patients With Solid Tumors That Cannot Be Removed By Surgery \\\\t WITHDRAWN \\\\t Adult Solid Tumor|Breast Cancer|Head and Neck Cancer|Kidney and Urinary Cancer|Male Reproductive Cancer|Thorax and Respiratory Cancer \\\\t DRUG: Hypericum perforatum|DRUG: docetaxel|OTHER: placebo \\\\t Alliance for Clinical Trials in Oncology \\\\t National Cancer Institute (NCI) \\\\t 0 \\\\t OTHER \\\\t INTERVENTIONAL \\\\t Allocation: RANDOMIZED|Intervention Model: PARALLEL|Masking: DOUBLE (PARTICIPANT, INVESTIGATOR)|Primary Purpose: TREATMENT\",,\\r\\nNCT03354871 \\\\t Developing Models for Fatigue Monitoring in Obstetrics and Gyne- Cology Residents Using Wearables \\\\t IoT4Resident \\\\t UNKNOWN \\\\t Fatigue \\\\t Hillel Yaffe Medical Center \\\\t International Business Machines (IBM) \\\\t 6 \\\\t OTHER_GOV \\\\t OBSERVATIONAL \\\\t Observational Model: |Time Perspective: p,2017-11,28 February 2018\\r\\nNCT02804971 \\\\t Cardiovascular Comorbidities and Bronchiectasis \\\\t BRONCOCA \\\\t ACTIVE_NOT_RECRUITING \\\\t Bronchiectasis \\\\t Centre Hospitalier Intercommunal Creteil \\\\t 200 \\\\t OTHER \\\\t OBSERVATIONAL \\\\t Observational Model: |Time Perspective: p,25 October 2016,2023-12\\r\\n\"NCT04591171 \\\\t Assessing the Feasibility of N-of-1 Trials in Children With Hypertension and Chronic Kidney Disease \\\\t COMPLETED \\\\t Hypertension|Chronic Kidney Diseases \\\\t PROCEDURE: n-of-1 trial guided clinical decision making \\\\t The University of Texas Health Science Center, Houston \\\\t Children\\'s Hospital of Philadelphia|National Institute of Diabetes and Digestive and Kidney Diseases (NIDDK) \\\\t 9 \\\\t OTHER \\\\t INTERVENTIONAL \\\\t Allocation: NA|Intervention Model: SINGLE_GROUP|Masking: NONE|Primary Purpose: TREATMENT\",25 January 2021,18 February 2022\\r\\n\"NCT04814771 \\\\t Mass Balance Study of TS-142 in Healthy Adult Subjects. \\\\t COMPLETED \\\\t Healthy Male Subjects \\\\t DRUG: [14C] TS-142 \\\\t Taisho Pharmaceutical Co., Ltd. \\\\t 6 \\\\t INDUSTRY \\\\t INTERVENTIONAL \\\\t Allocation: NA|Intervention Model: SINGLE_GROUP|Masking: NONE|Primary Purpose: BASIC_SCIENCE\",19 April 2021,19 May 2021\\r\\nNCT02920671 \\\\t Muscle OXPHOS and Nutrient Homeostasis \\\\t ACTIVE_NOT_RECRUITING \\\\t Mitochondrial Diseases|Obesity \\\\t OTHER: Tracer-enhanced oral glucose tolerance test (OGTT*)|OTHER: Muscle MRI|OTHER: Dual energy x-ray absorptiometry (DXA)|OTHER: Questionnaires \\\\t University of Pennsylvania \\\\t 45 \\\\t OTHER \\\\t OBSERVATIONAL \\\\t Observational Model: |Time Perspective: p,14 February 2017,30 June 2024\\r\\nNCT04756271 \\\\t Safety and Immunogenicity of Oxford AstraZeneca Vaccine Against COVID-19 Infection \\\\t COMPLETED \\\\t Vaccine Adverse Reaction|Seroconversion \\\\t BIOLOGICAL: SARS-Cov-2 neutralizing antibody titer \\\\t Zagazig University \\\\t 246 \\\\t OTHER_GOV \\\\t INTERVENTIONAL \\\\t Allocation: NA|Intervention Model: SINGLE_GROUP|Masking: NONE|Primary Purpose: PREVENTION,11 February 2021,22 December 2021\\r\\nNCT02022371 \\\\t Prostate Cancer Genomic Heterogeneity \\\\t PROGENY \\\\t COMPLETED \\\\t PROSTATE CANCER \\\\t PROCEDURE: Targeted biopsies of the prostate \\\\t University College London Hospitals \\\\t 50 \\\\t OTHER \\\\t INTERVENTIONAL \\\\t Allocation: NA|Intervention Model: SINGLE_GROUP|Masking: NONE|Primary Purpose: DIAGNOSTIC,2014-09,2016-06\\r\\n\"NCT04585971 \\\\t A Study on Hemodynamic Relationship Including Cerebral Blood Flow Using Phase Contrast and Signal Intensity Gradient of Brain Magnetic Resonance Imaging, and Carotid Doppler Ultrasound \\\\t UNKNOWN \\\\t Cerebral Blood Flow \\\\t DIAGNOSTIC_TEST: Signal intensity gradient \\\\t Chonbuk National University Hospital \\\\t Medi Image, Inc \\\\t 30 \\\\t OTHER \\\\t OBSERVATIONAL \\\\t Observational Model: |Time Perspective: p\",03 September 2020,31 January 2021\\r\\n\"NCT05473871 \\\\t Enhancing Capacity in Churches to Implement PA Programs \\\\t RECRUITING \\\\t Cardiovascular Diseases \\\\t BEHAVIORAL: Faith in Action|BEHAVIORAL: Faith in Action+|BEHAVIORAL: Faith in Action++ \\\\t San Diego State University \\\\t Washington University School of Medicine|University of California, Berkeley|University of California, San Diego \\\\t 812 \\\\t OTHER \\\\t INTERVENTIONAL \\\\t Allocation: RANDOMIZED|Intervention Model: PARALLEL|Masking: TRIPLE (PARTICIPANT, INVESTIGATOR, OUTCOMES_ASSESSOR)|Primary Purpose: PREVENTION\",15 November 2022,31 October 2026\\r\\nNCT00103571 \\\\t Olanzapine Versus Aripiprazole in the Treatment of Acutely Ill Patients With Schizophrenia \\\\t COMPLETED \\\\t Schizophrenia \\\\t DRUG: Olanzapine|DRUG: Aripiprazole \\\\t Eli Lilly and Company \\\\t 600 \\\\t INDUSTRY \\\\t INTERVENTIONAL \\\\t Allocation: RANDOMIZED|Intervention Model: PARALLEL|Masking: DOUBLE|Primary Purpose: TREATMENT,2004-07,2006-08\\r\\n\"NCT00000571 \\\\t Trial of Inspiratory Muscle Rest and Exercise in Chronic Obstructive Lung Disease \\\\t COMPLETED \\\\t Lung Diseases|Lung Diseases, Obstructive|Chronic Obstructive Pulmonary Disease \\\\t DEVICE: ventilators, negative pressure \\\\t McGill University \\\\t National Heart, Lung, and Blood Institute (NHLBI) \\\\t OTHER \\\\t INTERVENTIONAL \\\\t Allocation: RANDOMIZED|Intervention Model: |Masking: |Primary Purpose: TREATMENT\",1986-02,\\r\\n\"NCT01053871 \\\\t Propofol Versus Midazolam With Fentanyl for EGD Endomicroscopy \\\\t COMPLETED \\\\t Gastritis|Functional Dyspepsia \\\\t DRUG: propofol|DRUG: midazolam with fentanyl \\\\t Shandong University \\\\t 104 \\\\t OTHER \\\\t INTERVENTIONAL \\\\t Allocation: RANDOMIZED|Intervention Model: PARALLEL|Masking: DOUBLE (PARTICIPANT, INVESTIGATOR)|Primary Purpose: \",2010-01,2010-05\\r\\n\"NCT02370771 \\\\t Proteomic Analysis in Sera From Patients With Erosive Hand Osteoarthritis \\\\t PASEO \\\\t COMPLETED \\\\t Erosive Hand Osteoarthritis \\\\t PROCEDURE: Biological sampling|DEVICE: Radiographic evaluation \\\\t University Hospital, Rouen \\\\t 32 \\\\t OTHER \\\\t INTERVENTIONAL \\\\t Allocation: NA|Intervention Model: SINGLE_GROUP|Masking: NONE|Primary Purpose: DIAGNOSTIC\",09 June 2015,17 November 2019\\r\\nNCT05974371 \\\\t Episodic Memory Integration and Interference \\\\t NOT_YET_RECRUITING \\\\t Episodic Memory \\\\t OTHER: emotional context similarity \\\\t Boston College \\\\t 150 \\\\t OTHER \\\\t INTERVENTIONAL \\\\t Allocation: NA|Intervention Model: SINGLE_GROUP|Masking: NONE|Primary Purpose: BASIC_SCIENCE,2024-08,2027-08\\r\\nNCT03631771 \\\\t Pediatric Risk of Hypothyroidism With Iodinated Contrast Media \\\\t WITHDRAWN \\\\t Hypothyroidism \\\\t DRUG: Iohexol|DRUG: Iodixanol|DRUG: Iopromide|DRUG: Ioversol \\\\t GE Healthcare \\\\t Bayer|Guerbet/Liebel-Flarsheim \\\\t 0 \\\\t INDUSTRY \\\\t INTERVENTIONAL \\\\t Allocation: NA|Intervention Model: SINGLE_GROUP|Masking: NONE|Primary Purpose: OTHER,2022-03,2025-02\\r\\nNCT02645071 \\\\t Brief Program in Reducing Sedentary Behavior and Promoting Physical Exercise \\\\t COMPLETED \\\\t Physical Activity \\\\t BEHAVIORAL: Physical Activity \\\\t The University of Hong Kong \\\\t Hong Kong Jockey Club Charities Trust \\\\t 141 \\\\t OTHER \\\\t INTERVENTIONAL \\\\t Allocation: NA|Intervention Model: SINGLE_GROUP|Masking: NONE|Primary Purpose: PREVENTION,2015-07,2017-07\\r\\n\"NCT04004871 \\\\t Induction Chemotherapy With Nab-paclitaxel, Cisplatin and Fluorouracil for Locoregionally Advanced Nasopharyngeal Carcinoma \\\\t UNKNOWN \\\\t Nasopharyngeal Carcinoma|Nasopharyngeal Cancer|Nasopharynx Cancer \\\\t DRUG: Nab-paclitaxel, Cisplatin and Fluorouracil|RADIATION: concurrent chemoradiotherapy \\\\t Guangxi Medical University \\\\t Second Affiliated Hospital of Guangxi Medical University|Guilin Medical University, China|Liuzhou Workers Hospital|Wuzhou Red Cross Hospital \\\\t 60 \\\\t OTHER \\\\t INTERVENTIONAL \\\\t Allocation: NA|Intervention Model: SINGLE_GROUP|Masking: NONE|Primary Purpose: TREATMENT\",05 July 2019,30 June 2022\\r\\nNCT05953571 \\\\t Laparoscopic Assisted Dismembered Pyeloplasty Versus Open Pyeloplasty in (UPJO) With Poorly Function Kidney in Pediatrics \\\\t COMPLETED \\\\t Uretro-pelvic Junction Obstruction|Poorly Function Kidney \\\\t PROCEDURE: Dismembered Pyeloplasty \\\\t Al-Azhar University \\\\t University Hospital Fattouma Bourguiba \\\\t 65 \\\\t OTHER \\\\t OBSERVATIONAL \\\\t Observational Model: |Time Perspective: p,08 January 2022,30 June 2023\\r\\n\"NCT02570971 \\\\t Mannitol Versus Supportive Care in Ciguatera Fish Poisoning \\\\t UNKNOWN \\\\t Ciguatoxin \\\\t DRUG: Mannitol \\\\t University of South Florida \\\\t Florida Poison Control Center \\\\t 200 \\\\t OTHER \\\\t INTERVENTIONAL \\\\t Allocation: RANDOMIZED|Intervention Model: SINGLE_GROUP|Masking: TRIPLE (PARTICIPANT, CARE_PROVIDER, INVESTIGATOR)|Primary Purpose: TREATMENT\",2015-10,\\r\\n\"NCT01425671 \\\\t Neural Oscillations as Genetic and Functional Biomarkers in Normal and Disease States \\\\t ACTIVE_NOT_RECRUITING \\\\t Schizophrenia|Schizoaffective Disorder|Schizophreniform Disorder \\\\t University of Maryland, Baltimore \\\\t National Institute of Mental Health (NIMH) \\\\t 800 \\\\t OTHER \\\\t OBSERVATIONAL \\\\t Observational Model: |Time Perspective: p\",30 November 2010,2024-06\\r\\nNCT04962971 \\\\t Comparative Effect of 3 Different Cranberry Extracts on Cystitis Related Urinary Comfort in Women \\\\t COMPLETED \\\\t Recurrent Cystitis \\\\t DIETARY_SUPPLEMENT: X|DIETARY_SUPPLEMENT: Y|DIETARY_SUPPLEMENT: Z \\\\t CEN Biotech \\\\t Nexira|CEN Nutriment \\\\t 216 \\\\t INDUSTRY \\\\t OBSERVATIONAL \\\\t Observational Model: |Time Perspective: p,01 September 2020,01 February 2022\\r\\n\"NCT02827071 \\\\t Ocular Imaging Study Using Advanced OCT \\\\t UNKNOWN \\\\t Retinal Vascular Disorder|Macular Degeneration \\\\t University of California, Los Angeles \\\\t 1000 \\\\t OTHER \\\\t OBSERVATIONAL \\\\t Observational Model: |Time Perspective: p\",2016-07,\\r\\nNCT04236271 \\\\t TELEsurveillance of Patients in PostopErative Bridge surgeryAge CoronairE \\\\t TELE-PEACE \\\\t COMPLETED \\\\t Coronary Artery Bypass \\\\\n\n*** WARNING: max output size exceeded, skipping output. ***\n\n\\\\t OTHER: early neurological rehabilitation|OTHER: no-early neurological rehabilitation \\\\t Ospedale Generale Di Zona Moriggia-Pelascini \\\\t 80 \\\\t OTHER \\\\t OBSERVATIONAL \\\\t Observational Model: |Time Perspective: p,2016-05,\\r\\n\"NCT05727371 \\\\t Combination of PRP and XLHA Prepared With RegenMatrix Medical Device To Treat Moderate to Severe Knee Osteoarthritis \\\\t RECRUITING \\\\t Knee Osteoarthritis \\\\t COMBINATION_PRODUCT: Regen Matrix-PRP-XLHA|DEVICE: Hylan G-F 20|DRUG: Placebo \\\\t RegenLab France SAS \\\\t 280 \\\\t INDUSTRY \\\\t INTERVENTIONAL \\\\t Allocation: RANDOMIZED|Intervention Model: PARALLEL|Masking: TRIPLE (PARTICIPANT, CARE_PROVIDER, INVESTIGATOR)|Primary Purpose: TREATMENT\",21 August 2023,21 August 2025\\r\\nNCT02269371 \\\\t Auricular Acupuncture in the Treatment of Obesity \\\\t AcupObesity \\\\t COMPLETED \\\\t Obesity \\\\t OTHER: Auricular Acupuncture|OTHER: Sham Acupuncture \\\\t Mike O\\'Callaghan Military Hospital \\\\t 82 \\\\t FED \\\\t INTERVENTIONAL \\\\t Allocation: RANDOMIZED|Intervention Model: PARALLEL|Masking: SINGLE (PARTICIPANT)|Primary Purpose: TREATMENT,2015-02,2016-12\\r\\n\"NCT04550871 \\\\t A Pilot Study Investigating the Detection of Episodes of Severe Patient-Ventilator Asynchrony \\\\t RECRUITING \\\\t Respiratory Failure \\\\t Autonomous Healthcare, Inc. \\\\t 30 \\\\t INDUSTRY \\\\t OBSERVATIONAL \\\\t Observational Model: |Time Perspective: p\",21 July 2021,31 December 2022\\r\\nNCT04242771 \\\\t Mindfulness Meditation for Insomnia \\\\t RECRUITING \\\\t Insomnia \\\\t BEHAVIORAL: Mindfulness \\\\t Beth Israel Deaconess Medical Center \\\\t 12 \\\\t OTHER \\\\t INTERVENTIONAL \\\\t Allocation: NA|Intervention Model: SINGLE_GROUP|Masking: NONE|Primary Purpose: OTHER,02 December 2022,01 December 2023\\r\\nNCT05121571 \\\\t The Efficacy and Safety of HAIC With FOLFOX vs Sorafenib for Patients Who Showed TACE-resistant: a Retrospective Study \\\\t COMPLETED \\\\t Hepatocellular Carcinoma \\\\t PROCEDURE: HAIC|DRUG: Sorafenib \\\\t Sun Yat-sen University \\\\t 114 \\\\t OTHER \\\\t INTERVENTIONAL \\\\t Allocation: NON_RANDOMIZED|Intervention Model: PARALLEL|Masking: NONE|Primary Purpose: TREATMENT,21 April 2016,01 May 2021\\r\\nNCT00912171 \\\\t Efficacy of Oral Leukotriene in Long Term Therapy of Mild and Moderate Obstructive Sleep Apnea Syndrome in Children \\\\t SB-OSAS \\\\t COMPLETED \\\\t Obstructive Sleep Apnea Syndrome \\\\t DRUG: budesonide (Aircort 50 nasal spray)|DRUG: montelukast (Singulair) \\\\t University of Bologna \\\\t 45 \\\\t OTHER \\\\t INTERVENTIONAL \\\\t Allocation: RANDOMIZED|Intervention Model: PARALLEL|Masking: NONE|Primary Purpose: TREATMENT,2009-01,2010-06\\r\\nNCT01640171 \\\\t Anesthesia Preference for Intravitreal Injection: Topical or Subconjunctival \\\\t COMPLETED \\\\t Age-related Macular Degeneration|Central Retinal Vein Occlusion|Diabetic Macular Edema \\\\t PROCEDURE: Xylocaine 2% Injectable Anesthetic|DRUG: Proparacaine Hydrochloride 0.5% Drop|DRUG: Tetravisc 0.5% Gel|DRUG: Acuvail|DRUG: Intra-vitreal Anti-VEGF Drug \\\\t Retina Vitreous Associates of Florida \\\\t 57 \\\\t OTHER \\\\t INTERVENTIONAL \\\\t Allocation: NA|Intervention Model: SINGLE_GROUP|Masking: SINGLE (PARTICIPANT)|Primary Purpose: TREATMENT,2012-07,2013-10\\r\\n\"NCT00734071 \\\\t An Efficacy and Safety Study of Vortioxetine (Lu AA21004) in Treating Generalized Anxiety Disorder \\\\t COMPLETED \\\\t Generalized Anxiety Disorder \\\\t DRUG: Vortioxetine|DRUG: Placebo \\\\t Takeda \\\\t H. Lundbeck A/S \\\\t 304 \\\\t INDUSTRY \\\\t INTERVENTIONAL \\\\t Allocation: RANDOMIZED|Intervention Model: PARALLEL|Masking: DOUBLE (PARTICIPANT, INVESTIGATOR)|Primary Purpose: TREATMENT\",2008-06,2009-03\\r\\nNCT03673371 \\\\t Women\\'s-Specific Footwear With Prosthetic Feet \\\\t WSF \\\\t COMPLETED \\\\t Lower Limb Amputation Below Knee (Injury)|Lower Limb Amputation Above Knee (Injury) \\\\t OTHER: Questionnaire \\\\t Minneapolis Veterans Affairs Medical Center \\\\t United States Department of Defense \\\\t 100 \\\\t FED \\\\t OBSERVATIONAL \\\\t Observational Model: |Time Perspective: p,04 March 2019,06 January 2023\\r\\nNCT05898971 \\\\t Robotic Hand on Hand Functions in Strokes \\\\t ACTIVE_NOT_RECRUITING \\\\t CVA (Cerebrovascular Accident) \\\\t OTHER: Robotic|OTHER: Mirror|OTHER: Traditional Physical Therapy \\\\t Cairo University \\\\t Batterjee Medical College \\\\t 70 \\\\t OTHER \\\\t INTERVENTIONAL \\\\t Allocation: RANDOMIZED|Intervention Model: PARALLEL|Masking: SINGLE (OUTCOMES_ASSESSOR)|Primary Purpose: TREATMENT,12 April 2023,11 October 2023\\r\\nNCT04429971 \\\\t Pre-Exposure Prophylaxis in the Emergency Department \\\\t PrEPPED \\\\t COMPLETED \\\\t HIV/AIDS|PrEP \\\\t OTHER: PrEP screening program|OTHER: PrEP starter pack \\\\t Icahn School of Medicine at Mount Sinai \\\\t 26 \\\\t OTHER \\\\t INTERVENTIONAL \\\\t Allocation: NON_RANDOMIZED|Intervention Model: PARALLEL|Masking: NONE|Primary Purpose: SCREENING,18 March 2020,31 July 2023\\r\\n\"NCT02635971 \\\\t Intra-arterial Versus Intravenous Chemotherapy for Locally Advanced Pancreatic Cancer \\\\t UNKNOWN \\\\t Carcinoma, Pancreatic \\\\t PROCEDURE: Transcatheter arterial infusion|PROCEDURE: Intravenous chemotherapy|DRUG: Gemcitabine|DRUG: Oxaliplatin \\\\t Fudan University \\\\t 168 \\\\t OTHER \\\\t INTERVENTIONAL \\\\t Allocation: RANDOMIZED|Intervention Model: PARALLEL|Masking: NONE|Primary Purpose: TREATMENT\",2015-12,2022-12\\r\\nNCT02528071 \\\\t Prognostic Value of a Diaphragmatic Endurance Test in Patients With Amyotrophic Lateral Sclerosis \\\\t SLA \\\\t TERMINATED \\\\t ALS (Amyotrophic Lateral Sclerosis) \\\\t OTHER: Diaphragmatic endurance test \\\\t Centre Hospitalier Universitaire de Saint Etienne \\\\t 136 \\\\t OTHER \\\\t OBSERVATIONAL \\\\t Observational Model: |Time Perspective: p,29 September 2014,28 October 2020\\r\\nNCT00241371 \\\\t A Phase II Study of Clofarabine in Patients With Relapsed or Refractory Multiple Myeloma \\\\t TERMINATED \\\\t Multiple Myeloma \\\\t DRUG: Clofarabine \\\\t Washington University School of Medicine \\\\t 8 \\\\t OTHER \\\\t INTERVENTIONAL \\\\t Allocation: NON_RANDOMIZED|Intervention Model: SINGLE_GROUP|Masking: NONE|Primary Purpose: TREATMENT,2005-03,2007-12\\r\\n\"NCT02271971 \\\\t Effect of Vitamin D Supplementation on Metabolic Parameters of Patients With Psoriasis \\\\t COMPLETED \\\\t Psoriasis|Metabolic Syndrome|Vitamin D Deficiency \\\\t DIETARY_SUPPLEMENT: Vitamin D3|DIETARY_SUPPLEMENT: Placebo \\\\t Pontificia Universidad Catolica de Chile \\\\t 39 \\\\t OTHER \\\\t INTERVENTIONAL \\\\t Allocation: RANDOMIZED|Intervention Model: PARALLEL|Masking: QUADRUPLE (PARTICIPANT, CARE_PROVIDER, INVESTIGATOR, OUTCOMES_ASSESSOR)|Primary Purpose: TREATMENT\",2014-10,2015-10\\r\\nNCT01866371 \\\\t High Resolution Retinal Imaging \\\\t AOSLO \\\\t RECRUITING \\\\t Stargardts|Retinitis Pigmentosa|Age-related Macular Degeneration|Choroideremia|Geographic Atrophy \\\\t PROCEDURE: Retinal imaging \\\\t University of Pennsylvania \\\\t National Eye Institute (NEI) \\\\t 600 \\\\t OTHER \\\\t OBSERVATIONAL \\\\t Observational Model: |Time Perspective: p,2013-05,2027-12\\r\\n\"NCT00741871 \\\\t A Phase 1 Study of SB1518 for the Treatment of Advanced Lymphoid Malignancies \\\\t COMPLETED \\\\t Lymphoma, Malignant|Hodgkin\\'s Lymphoma|B Cell Lymphoma \\\\t DRUG: SB1518 \\\\t S*BIO \\\\t 35 \\\\t INDUSTRY \\\\t INTERVENTIONAL \\\\t Allocation: NA|Intervention Model: SINGLE_GROUP|Masking: NONE|Primary Purpose: TREATMENT\",2008-07,2011-10\\r\\nNCT03986671 \\\\t Transmembrane Electromyography (TM-EMG) for the Assessment of Neuromuscular Function in the Oropharynx \\\\t COMPLETED \\\\t Obstructive Sleep Apnea|Amyotrophic Lateral Sclerosis|Muscular Dystrophies|Healthy \\\\t DEVICE: Transmembrane EMG Oropharynx Probe \\\\t Powell Mansfield Inc. \\\\t 50 \\\\t OTHER \\\\t INTERVENTIONAL \\\\t Allocation: NA|Intervention Model: SINGLE_GROUP|Masking: NONE|Primary Purpose: DIAGNOSTIC,30 April 2019,26 March 2021\\r\\nNCT03366571 \\\\t Improvement of Hard Endpoint in Chronic Hepatitis B Patients Treated With Antiviral Therapy \\\\t ACTIVE_NOT_RECRUITING \\\\t Chronic Hepatitis B \\\\t DRUG: Nucleos(t)ide Analogues \\\\t Beijing Friendship Hospital \\\\t Peking University First Hospital|Peking University People\\'s Hospital|Beijing YouAn Hospital|Beijing Ditan Hospital \\\\t 600 \\\\t OTHER \\\\t OBSERVATIONAL \\\\t Observational Model: |Time Perspective: p,2016-01,2024-12\\r\\n\"NCT04701671 \\\\t Project THINK: Trajectories of Health, Ingestive Behaviors, and Neurocognition in Kids \\\\t RECRUITING \\\\t Pediatric Obesity|Binge-Eating Disorder \\\\t BEHAVIORAL: Observational (not including MRI scanning)|BEHAVIORAL: Observational (including MRI scanning) \\\\t University of Pittsburgh \\\\t Brown University|The Miriam Hospital|National Institute of Diabetes and Digestive and Kidney Diseases (NIDDK) \\\\t 180 \\\\t OTHER \\\\t OBSERVATIONAL \\\\t Observational Model: |Time Perspective: p\",10 December 2020,09 December 2025\\r\\n\"NCT01982071 \\\\t A Study to Evaluate the Efficacy and Safety of Micafungin Against Invasive Candidiasis or Candidemia \\\\t TERMINATED \\\\t Candidemia|Candidiasis \\\\t DRUG: Micafungin \\\\t Astellas Pharma China, Inc. \\\\t 59 \\\\t INDUSTRY \\\\t INTERVENTIONAL \\\\t Allocation: NA|Intervention Model: SINGLE_GROUP|Masking: NONE|Primary Purpose: TREATMENT\",26 September 2013,28 August 2015\\r\\nNCT00831571 \\\\t Prospective Analysis of Hypersensitivity Reactions to Oxaliplatin \\\\t COMPLETED \\\\t Colorectal Cancer|Esophageal Cancer|Gastric Cancer|Small Bowel Cancer|Pancreatic Cancer \\\\t Dana-Farber Cancer Institute \\\\t Sanofi \\\\t 112 \\\\t OTHER \\\\t OBSERVATIONAL \\\\t Observational Model: |Time Perspective: p,2009-02,2022-04\\r\\n\"NCT03016871 \\\\t Nivolumab, Ifosfamide, Carboplatin, and Etoposide as Second-Line Therapy in Treating Patients With Refractory or Relapsed HL \\\\t ACTIVE_NOT_RECRUITING \\\\t Recurrent Hodgkin Lymphoma|Refractory Hodgkin Lymphoma \\\\t DRUG: Carboplatin|DRUG: Etoposide|DRUG: Ifosfamide|OTHER: Laboratory Biomarker Analysis|BIOLOGICAL: Nivolumab \\\\t City of Hope Medical Center \\\\t National Cancer Institute (NCI) \\\\t 78 \\\\t OTHER \\\\t INTERVENTIONAL \\\\t Allocation: NON_RANDOMIZED|Intervention Model: SEQUENTIAL|Masking: NONE|Primary Purpose: TREATMENT\",24 April 2017,30 January 2026\\r\\n\"NCT01729871 \\\\t A Study Exploring Two Treatment Strategies in Patients With Atrial Fibrillation Who Undergo Catheter Ablation Therapy \\\\t VENTURE-AF \\\\t COMPLETED \\\\t Atrial Fibrillation \\\\t DRUG: rivaroxaban|DRUG: uninterrupted vitamin K antagonist (VKA) \\\\t Janssen Scientific Affairs, LLC \\\\t Bayer \\\\t 253 \\\\t INDUSTRY \\\\t INTERVENTIONAL \\\\t Allocation: RANDOMIZED|Intervention Model: PARALLEL|Masking: NONE|Primary Purpose: TREATMENT\",2013-02,2014-10\\r\\n\"NCT04856371 \\\\t Study of CYH33 in Combination With Endocrine Therapy With or Without Palbociclib in Patients With HR+, HER2- Advanced Breast Cancer \\\\t UNKNOWN \\\\t Advanced Breast Cancer \\\\t DRUG: CYH33|DRUG: Fulvestrant|DRUG: Letrozole|DRUG: Palbociclib \\\\t Haihe Biopharma Co., Ltd. \\\\t 228 \\\\t INDUSTRY \\\\t INTERVENTIONAL \\\\t Allocation: NON_RANDOMIZED|Intervention Model: SEQUENTIAL|Masking: NONE|Primary Purpose: TREATMENT\",2021-04,2022-12\\r\\n\"NCT00769171 \\\\t Dragon Study (the Safety and Efficacy for Treatment of Patients With Complicated Intra Abdominal Infections) \\\\t DRAGON \\\\t COMPLETED \\\\t Infection, Intra-abdominal \\\\t DRUG: Avelox (Moxifloxacin, BAY12-8039)|DRUG: Ceftriaxone + Metronidazole \\\\t Bayer \\\\t 364 \\\\t INDUSTRY \\\\t INTERVENTIONAL \\\\t Allocation: RANDOMIZED|Intervention Model: PARALLEL|Masking: TRIPLE (PARTICIPANT, CARE_PROVIDER, INVESTIGATOR)|Primary Purpose: TREATMENT\",2005-10,2007-01\\r\\nNCT03522571 \\\\t Experimental Gingivitis in Patients With Altered Passive Eruption \\\\t COMPLETED \\\\t Altered Passive Eruption of Teeth \\\\t BEHAVIORAL: Experimental gingivitis \\\\t Rustam Aghazada \\\\t 18 \\\\t OTHER \\\\t INTERVENTIONAL \\\\t Allocation: NON_RANDOMIZED|Intervention Model: PARALLEL|Masking: NONE|Primary Purpose: SCREENING,21 February 2017,19 July 2017\\r\\nNCT00782171 \\\\t Evaluation of Immediate Versus Delayed Loading of Dental Implants With a Modified Surface \\\\t COMPLETED \\\\t Partial Edentulism \\\\t DEVICE: SLActive dental implant \\\\t Institut Straumann AG \\\\t 266 \\\\t INDUSTRY \\\\t INTERVENTIONAL \\\\t Allocation: RANDOMIZED|Intervention Model: PARALLEL|Masking: NONE|Primary Purpose: TREATMENT,2004-07,2010-02\\r\\nNCT00581971 \\\\t Radiosensitization With Celecoxib and Chemoradiation for Head and Neck Cancer \\\\t RAD0201 \\\\t COMPLETED \\\\t Cancer \\\\t DRUG: celecoxib|DRUG: Carboplatin|DRUG: Paclitaxel|RADIATION: Radiation Therapy \\\\t University of Alabama at Birmingham \\\\t Bristol-Myers Squibb|Pharmacia \\\\t 30 \\\\t OTHER \\\\t INTERVENTIONAL \\\\t Allocation: NA|Intervention Model: SINGLE_GROUP|Masking: NONE|Primary Purpose: TREATMENT,2002-09,2012-03\\r\\n\"NCT03066271 \\\\t Pre Radiotherapy Daily Exercise Training in Non-Small Cell Lung Cancer \\\\t PRIME \\\\t ACTIVE_NOT_RECRUITING \\\\t Non-Small Cell Lung Cancer Stage|Chemoradiation \\\\t OTHER: Exercise +|OTHER: Control + \\\\t Rigshospitalet, Denmark \\\\t University of Copenhagen \\\\t 40 \\\\t OTHER \\\\t INTERVENTIONAL \\\\t Allocation: RANDOMIZED|Intervention Model: PARALLEL|Masking: SINGLE (INVESTIGATOR)|Primary Purpose: SUPPORTIVE_CARE\",03 April 2017,31 December 2023\\r\\nNCT02125071 \\\\t Study on the Pharmacokinetic Characteristics of I.V. Hepabig Injection Used for Prevention of Hepatitis B Relapse After Liver Transplantation \\\\t LT \\\\t COMPLETED \\\\t Liver Cirrhosis|Chronic Hepatitis B \\\\t OTHER: Blood Sample Collection \\\\t Dong-Gu Kim \\\\t Green Cross Corporation \\\\t 20 \\\\t OTHER \\\\t OBSERVATIONAL \\\\t Observational Model: |Time Perspective: p,2013-11,2015-09\\r\\n\"NCT01289171 \\\\t Acquired Epidermodysplasia Verruciformis (EV) Syndrome in HIV-infected Pediatric Patients \\\\t COMPLETED \\\\t Flat Warts|HIV \\\\t DRUG: Glycolic acid \\\\t University of Pennsylvania \\\\t NeoStrata Company, Inc.|Penn Center for AIDS Research (CFAR) \\\\t 38 \\\\t OTHER \\\\t INTERVENTIONAL \\\\t Allocation: NA|Intervention Model: SINGLE_GROUP|Masking: NONE|Primary Purpose: TREATMENT\",2009-01,2010-10\\r\\nNCT01801371 \\\\t 68Ga-BNOTA-PRGD2 PET/CT in Diagnosis and Evaluation of Glioma \\\\t GRGDG \\\\t UNKNOWN \\\\t Glioma \\\\t DRUG: 68Ga-BNOTA-PRGD2 \\\\t Peking Union Medical College Hospital \\\\t Beijing Tiantan Hospital \\\\t 30 \\\\t OTHER \\\\t INTERVENTIONAL \\\\t Allocation: NA|Intervention Model: SINGLE_GROUP|Masking: NONE|Primary Purpose: DIAGNOSTIC,2012-10,2017-12\\r\\nNCT05800171 \\\\t Efficacy of Single Use Disposable Elevator Cap (DEC) Duodenoscopy \\\\t RECRUITING \\\\t Cholangitis \\\\t Seoul National University Hospital \\\\t 5000 \\\\t OTHER \\\\t OBSERVATIONAL \\\\t Observational Model: |Time Perspective: p,24 April 2023,21 February 2025\\r\\nNCT04293471 \\\\t Prediction of Outcome by Echocardiography in Left Bundle Branch Block \\\\t EchoLBBB \\\\t RECRUITING \\\\t Left Bundle-Branch Block \\\\t University Hospital of North Norway \\\\t Oslo University Hospital|University of Bergen|Norwegian University of Science and Technology|University of Tromso|KU Leuven \\\\t 2000 \\\\t OTHER \\\\t OBSERVATIONAL \\\\t Observational Model: |Time Perspective: p,15 April 2021,31 December 2036\\r\\n\"NCT02832271 \\\\t Green Tea Extract for Endometriosis Treatment \\\\t COMPLETED \\\\t Endometriosis \\\\t DRUG: SUNPHENON EGCg|DRUG: Placebo \\\\t Chinese University of Hong Kong \\\\t Cancer Institute and Hospital, Chinese Academy of Medical Sciences|Sun Yat-sen University|Guangdong Provincial Hospital of Traditional Chinese Medicine|Jiangxi University of Traditional Chinese Medicine \\\\t 185 \\\\t OTHER \\\\t INTERVENTIONAL \\\\t Allocation: RANDOMIZED|Intervention Model: PARALLEL|Masking: QUADRUPLE (PARTICIPANT, CARE_PROVIDER, INVESTIGATOR, OUTCOMES_ASSESSOR)|Primary Purpose: TREATMENT\",08 December 2016,2022-12\\r\\n\"NCT03118271 \\\\t Comparison of the Effect of Lumbar Traction, Spinal Manipulation, and Surgery in the Treatment of Lumbar Disc Herniation \\\\t TERMINATED \\\\t Lumbar Disc Herniation|Lumbar Traction|Spinal Manipulation|Lumbar Surgery \\\\t DEVICE: lumbar traction|PROCEDURE: spinal manipulation|PROCEDURE: surgery \\\\t Shin Kong Wu Ho-Su Memorial Hospital \\\\t 60 \\\\t OTHER \\\\t INTERVENTIONAL \\\\t Allocation: NON_RANDOMIZED|Intervention Model: PARALLEL|Masking: NONE|Primary Purpose: TREATMENT\",2017-01,2019-12\\r\\n\"NCT00708071 \\\\t Efficacy and Safety Study of Fibrin Sealant With 4 IU/mL Thrombin, Vapor Heated, Solvent Detergent Treated (FS VH S/D 4) in Face-Lift Procedures \\\\t COMPLETED \\\\t Facial Rhytidectomy (Face-lift) \\\\t BIOLOGICAL: Fibrin Sealant with 4 IU/ml Thrombin, Vapor-Heated, Solvent Detergent Treated Containing Synthetic Aprotinin (FS VH S/D 4) \\\\t Baxter Healthcare Corporation \\\\t 45 \\\\t INDUSTRY \\\\t INTERVENTIONAL \\\\t Allocation: RANDOMIZED|Intervention Model: SINGLE_GROUP|Masking: SINGLE (OUTCOMES_ASSESSOR)|Primary Purpose: TREATMENT\",2008-06,2008-09\\r\\n\"NCT01216371 \\\\t Resection of Pulmonary Metastasis in Clear Cell Renal Cell Carcinoma +/-Adjuvant Sunitinib Therapy (SMAT) \\\\t SMAT \\\\t UNKNOWN \\\\t Renal Cell Carcinoma|Pulmonary Metastases \\\\t DRUG: Sunitinib|DRUG: Placebo \\\\t Association of Urologic Oncology (AUO) \\\\t University Hospital, Essen \\\\t 60 \\\\t OTHER \\\\t INTERVENTIONAL \\\\t Allocation: RANDOMIZED|Intervention Model: PARALLEL|Masking: DOUBLE (PARTICIPANT, INVESTIGATOR)|Primary Purpose: TREATMENT\",2010-10,2015-10\\r\\nNCT01465971 \\\\t Monitoring of the Cerebral Tissue Oxygenation and Perfusion in the Adapting Climber During Sleep in High Altitude \\\\t PerOxySleep \\\\t COMPLETED \\\\t Environmental Sleep Disorder|Cheyne-Stokes Respiration|Altitude Sickness \\\\t Goethe University \\\\t 6 \\\\t OTHER \\\\t OBSERVATIONAL \\\\t Observational Model: |Time Perspective: p,2011-05,2011-12\\r\\n\"NCT05958771 \\\\t The Efficacy of Three Doses of Live Attenuated, Oral Rotavirus Vaccine 116E \\\\t RECRUITING \\\\t Rotavirus Gastroenteritis \\\\t DRUG: ROTAVAC 5D|DRUG: Placebo \\\\t University of Chile \\\\t Bharat Biotech International Limited \\\\t 5800 \\\\t OTHER \\\\t INTERVENTIONAL \\\\t Allocation: RANDOMIZED|Intervention Model: PARALLEL|Masking: TRIPLE (PARTICIPANT, CARE_PROVIDER, INVESTIGATOR)|Primary Purpose: PREVENTION\",06 July 2023,01 June 2025\\r\\n\"NCT03532971 \\\\t Prospective Study of BK Virus Disease After Allogeneic Hematopoietic-cell Transplantation: Defining BK Disease\\'s Natural History, Clinical Spectrum, Immunology, and Outcomes \\\\t ACTIVE_NOT_RECRUITING \\\\t BK Virus Infection \\\\t OTHER: Symptom index questionnaire|DIAGNOSTIC_TEST: BK polyomavirus PCR|OTHER: quality of life questionnaires \\\\t Dana-Farber Cancer Institute \\\\t 100 \\\\t OTHER \\\\t OBSERVATIONAL \\\\t Observational Model: |Time Perspective: p\",30 July 2018,31 December 2024\\r\\n\"NCT04039971 \\\\t Tendon-Bone Versus All-Soft-Tissue for ACL Reconstruction: A Patient-Blinded Randomized Clinical Trial \\\\t RECRUITING \\\\t Anterior Cruciate Ligament Injuries|Anterior Cruciate Ligament Rupture|Anterior Cruciate Ligament Tear \\\\t PROCEDURE: ACL Reconstruction \\\\t University of Colorado, Denver \\\\t Children\\'s Hospital Colorado \\\\t 150 \\\\t OTHER \\\\t INTERVENTIONAL \\\\t Allocation: RANDOMIZED|Intervention Model: PARALLEL|Masking: SINGLE (PARTICIPANT)|Primary Purpose: TREATMENT\",01 August 2020,31 August 2029\\r\\nNCT01943071 \\\\t Effects and Costs of a Day Care Centre Program Designed for People With Dementia \\\\t ECOD \\\\t COMPLETED \\\\t Dementia \\\\t BEHAVIORAL: Day care for patients with dementia \\\\t Norwegian Centre for Ageing and Health \\\\t The Research Council of Norway \\\\t 261 \\\\t OTHER \\\\t INTERVENTIONAL \\\\t Allocation: NON_RANDOMIZED|Intervention Model: PARALLEL|Masking: NONE|Primary Purpose: HEALTH_SERVICES_RESEARCH,01 August 2013,31 December 2017\\r\\n\"NCT05451771 \\\\t Venetoclax-Dexamethasone in Relapsed and/or Refractory t(11;14) Amyloidosis \\\\t RECRUITING \\\\t AL Amyloidosis \\\\t DRUG: Venetoclax Oral Tablet, 200 mg|DEVICE: FISH assay|DRUG: Venetoclax Oral Tablet, 400 mg|DRUG: Dexamethasone Oral, 10 mg|DRUG: Dexamethasone Oral, 20 mg|DRUG: Daratumumab Injection|DRUG: Bendamustine|DRUG: Pomalidomide|DRUG: Ixazomib|DRUG: Venetoclax MTD with Dexamethasone \\\\t Rajshekhar Chakraborty, MD \\\\t Genentech, Inc. \\\\t 53 \\\\t OTHER \\\\t INTERVENTIONAL \\\\t Allocation: RANDOMIZED|Intervention Model: PARALLEL|Masking: NONE|Primary Purpose: TREATMENT\",26 October 2022,2026-09\\r\\nNCT02521571 \\\\t The Resilience Alliance \\\\t COMPLETED \\\\t Secondary Traumatic Stress \\\\t BEHAVIORAL: Resiliance Alliance|BEHAVIORAL: Secondary traumatic stress training \\\\t NYU Langone Health \\\\t 357 \\\\t OTHER \\\\t INTERVENTIONAL \\\\t Allocation: NON_RANDOMIZED|Intervention Model: PARALLEL|Masking: NONE|Primary Purpose: SUPPORTIVE_CARE,2011-12,2012-07\\r\\nNCT06197971 \\\\t Instrument Assisted Soft Tissue Mobilization vs Therapeutic Cupping on Hamstring Tightness Among Football Players \\\\t RECRUITING \\\\t Flexibility|Hamstring Tightness|Instrument Assisted Soft Tissue Mobilization|Range of Motion \\\\t OTHER: Instrument Assisted Soft Tissue Mobilization|OTHER: Therapeutic Cupping Technique \\\\t Riphah International University \\\\t 30 \\\\t OTHER \\\\t INTERVENTIONAL \\\\t Allocation: RANDOMIZED|Intervention Model: PARALLEL|Masking: SINGLE (OUTCOMES_ASSESSOR)|Primary Purpose: OTHER,20 October 2023,20 February 2024\\r\\nNCT05284071 \\\\t Actiste® Diabetes Management as a Service (ADMS) Clinical Investigation \\\\t ADMSUK01 \\\\t COMPLETED \\\\t Diabetes type1|Diabetes type2 \\\\t DEVICE: Device: Actiste 1.0 and the Companion app with TBL Backend \\\\t Northern Care Alliance NHS Foundation Trust \\\\t Brighter AB \\\\t 13 \\\\t OTHER \\\\t INTERVENTIONAL \\\\t Allocation: NA|Intervention Model: SINGLE_GROUP|Masking: NONE|Primary Purpose: TREATMENT,14 March 2022,21 December 2022\\r\\n\"NCT03132571 \\\\t Naltrexone-Bupropion Versus Placebo-Bupropion for Weight Loss in Schizophrenia \\\\t NBC \\\\t TERMINATED \\\\t Schizophrenia|Diabetes Mellitus, Type 2|Obesity \\\\t DRUG: Naltrexone|DRUG: Bupropion|OTHER: Placebo \\\\t Yale University \\\\t 5 \\\\t OTHER \\\\t INTERVENTIONAL \\\\t Allocation: RANDOMIZED|Intervention Model: PARALLEL|Masking: QUADRUPLE (PARTICIPANT, CARE_PROVIDER, INVESTIGATOR, OUTCOMES_ASSESSOR)|Primary Purpose: TREATMENT\",01 June 2017,31 July 2018\\r\\n\"NCT04597671 \\\\t Durvalumab and Low-dose PCI vs Durvalumab and Observation in Radically Treated Patients With Stage III NSCLC (NVALT28) \\\\t NVALT28 \\\\t RECRUITING \\\\t Carcinoma, Non-Small-Cell Lung \\\\t DRUG: Durvalumab|RADIATION: low-dose PCI \\\\t Association NVALT Studies \\\\t 170 \\\\t OTHER \\\\t INTERVENTIONAL \\\\t Allocation: RANDOMIZED|Intervention Model: PARALLEL|Masking: NONE|Primary Purpose: PREVENTION\",06 December 2021,2032-12\\r\\nNCT05710471 \\\\t Treatment of Recalcitrant Neovascular AMD Using Brolocizumab With Immediate T&E \\\\t RECRUITING \\\\t Age-Related Macular Degeneration \\\\t DRUG: Brolucizumab|DRUG: Aflibercept \\\\t The University of Hong Kong \\\\t 64 \\\\t OTHER \\\\t INTERVENTIONAL \\\\t Allocation: RANDOMIZED|Intervention Model: PARALLEL|Masking: SINGLE (PARTICIPANT)|Primary Purpose: TREATMENT,25 July 2022,30 August 2023\\r\\n\"NCT03994471 \\\\t Efficacy and Safety of XyloCore Peritoneal Dialysis Solution. \\\\t ELIXIR \\\\t RECRUITING \\\\t End Stage Renal Disease \\\\t DRUG: XyloCore Low Strenght, XyloCore Medium Strenght, XyloCore High Strenght|DRUG: 1.36%, 1.5%, 2.27%, 2.5%, 3.86%, 2.25% Glucose PD Solution \\\\t Iperboreal Pharma Srl \\\\t 170 \\\\t INDUSTRY \\\\t INTERVENTIONAL \\\\t Allocation: RANDOMIZED|Intervention Model: PARALLEL|Masking: SINGLE (OUTCOMES_ASSESSOR)|Primary Purpose: TREATMENT\",14 December 2022,2024-12\\r\\nNCT03474471 \\\\t A Trial on the Effects of Bronchoscopic Lung Volume Reduction in Severe Emphysema. \\\\t SOLVE \\\\t COMPLETED \\\\t Emphysema \\\\t BEHAVIORAL: Pulmonary rehabilitation|DEVICE: EBV treatment \\\\t University Medical Center Groningen \\\\t Maastricht University Medical Center|Center of Expertise for Chronic Organ Failure \\\\t 96 \\\\t OTHER \\\\t INTERVENTIONAL \\\\t Allocation: RANDOMIZED|Intervention Model: PARALLEL|Masking: NONE|Primary Purpose: TREATMENT,31 July 2018,20 April 2023\\r\\n\"NCT06143371 \\\\t A Study to Investigate the Safety and Tolerability of CAN10 Antibody in Healthy Subjects and in Subjects With Plaque Psoriasis. \\\\t RECRUITING \\\\t Healthy|Plaque Psoriasis \\\\t BIOLOGICAL: CAN10|BIOLOGICAL: CAN10 - Placebo \\\\t Cantargia AB \\\\t 80 \\\\t INDUSTRY \\\\t INTERVENTIONAL \\\\t Allocation: RANDOMIZED|Intervention Model: SEQUENTIAL|Masking: QUADRUPLE (PARTICIPANT, CARE_PROVIDER, INVESTIGATOR, OUTCOMES_ASSESSOR)|Primary Purpose: TREATMENT\",21 August 2023,24 April 2025\\r\\nNCT02080871 \\\\t A Study of the Gore VIABAHN BX for Treatment of Occlusive Disease in the Iliac Arteries. \\\\t VBXFLEX \\\\t COMPLETED \\\\t Peripheral Arterial Disease \\\\t DEVICE: Stenting of the Common and/or External Iliac Arteries \\\\t W.L.Gore & Associates \\\\t 134 \\\\t INDUSTRY \\\\t INTERVENTIONAL \\\\t Allocation: NA|Intervention Model: SINGLE_GROUP|Masking: NONE|Primary Purpose: TREATMENT,2014-07,2018-10\\r\\n\"NCT04628871 \\\\t Long Term Follow-up (LTFU) of Subjects Who Received SB-318, SB-913, or SB-FIX \\\\t LTFU \\\\t ACTIVE_NOT_RECRUITING \\\\t Hemophilia B|Mucopolysaccharidosis I|Mucopolysaccharidosis II \\\\t BIOLOGICAL: SB-318|BIOLOGICAL: SB-913|BIOLOGICAL: SB-FIX \\\\t Sangamo Therapeutics \\\\t 13 \\\\t INDUSTRY \\\\t OBSERVATIONAL \\\\t Observational Model: |Time Perspective: p\",03 November 2020,01 January 2030\\r\\nNCT01044771 \\\\t Pilot Study of Raltegravir Switch to Resolve Tenofovir Induced Proteinuria \\\\t RALPIR \\\\t COMPLETED \\\\t HIV Infections|Proteinuria \\\\t DRUG: change from tenofovir to raltegrav'"
     ]
    }
   ],
   "source": [
    "file = \"/FileStore/tables/clinicaltrial_2023/clinicaltrial_2023.csv\"\n",
    "\n",
    "dbutils.fs.head(file)"
   ]
  },
  {
   "cell_type": "code",
   "execution_count": 0,
   "metadata": {
    "application/vnd.databricks.v1+cell": {
     "cellMetadata": {
      "byteLimit": 2048000,
      "rowLimit": 10000
     },
     "inputWidgets": {},
     "nuid": "10091503-d489-443e-a969-5b9a2647e47b",
     "showTitle": false,
     "title": ""
    }
   },
   "outputs": [
    {
     "output_type": "stream",
     "name": "stdout",
     "output_type": "stream",
     "text": [
      "Out[22]: ['NCT Number \\\\t Study Title \\\\t Acronym \\\\t Study Status \\\\t Conditions \\\\t Interventions \\\\t Sponsor \\\\t Collaborators \\\\t Enrollment \\\\t Funder Type \\\\t Study Type \\\\t Study Design,Start Date,Completion Date',\n '\"NCT03630471 \\\\t Effectiveness of a Problem-solving Intervention for Common Adolescent Mental Health Problems in India \\\\t PRIDE \\\\t COMPLETED \\\\t Mental Health Issue (E.G., Depression, Psychosis, Personality Disorder, Substance Abuse) \\\\t BEHAVIORAL: PRIDE \\'Step 1\\' problem-solving intervention|BEHAVIORAL: Enhanced usual care \\\\t Sangath \\\\t Harvard Medical School (HMS and HSDM)|London School of Hygiene and Tropical Medicine \\\\t 250 \\\\t OTHER \\\\t INTERVENTIONAL \\\\t Allocation: RANDOMIZED|Intervention Model: PARALLEL|Masking: DOUBLE (INVESTIGATOR, OUTCOMES_ASSESSOR)|Primary Purpose: TREATMENT\",20 August 2018,28 February 2019',\n '\"NCT05992571 \\\\t Oral Ketone Monoester Supplementation and Resting-state Brain Connectivity \\\\t RECRUITING \\\\t Cerebrovascular Function|Cognition \\\\t OTHER: Placebo|DIETARY_SUPPLEMENT: β-OHB \\\\t McMaster University \\\\t Alzheimer\\'s Society of Brant, Haldimand Norfolk, Hamilton Halton \\\\t 30 \\\\t OTHER \\\\t INTERVENTIONAL \\\\t Allocation: RANDOMIZED|Intervention Model: CROSSOVER|Masking: TRIPLE (PARTICIPANT, INVESTIGATOR, OUTCOMES_ASSESSOR)|Primary Purpose: BASIC_SCIENCE\",25 October 2023,2024-08']"
     ]
    }
   ],
   "source": [
    "# Create rdd\n",
    "\n",
    "rdd1 = sc.textFile(file)\n",
    "\n",
    "rdd1.take(3)"
   ]
  },
  {
   "cell_type": "code",
   "execution_count": 0,
   "metadata": {
    "application/vnd.databricks.v1+cell": {
     "cellMetadata": {
      "byteLimit": 2048000,
      "rowLimit": 10000
     },
     "inputWidgets": {},
     "nuid": "7e1c4b09-d2da-47b9-b3dd-82438e196733",
     "showTitle": false,
     "title": ""
    }
   },
   "outputs": [
    {
     "output_type": "stream",
     "name": "stdout",
     "output_type": "stream",
     "text": [
      "NCT Number \\t Study Title \\t Acronym \\t Study Status \\t Conditions \\t Interventions \\t Sponsor \\t Collaborators \\t Enrollment \\t Funder Type \\t Study Type \\t Study Design,Start Date,Completion Date\n"
     ]
    }
   ],
   "source": [
    "#Extract header\n",
    "\n",
    "header = rdd1.first()\n",
    "\n",
    "print(header)"
   ]
  },
  {
   "cell_type": "markdown",
   "metadata": {
    "application/vnd.databricks.v1+cell": {
     "cellMetadata": {
      "byteLimit": 2048000,
      "rowLimit": 10000
     },
     "inputWidgets": {},
     "nuid": "c25deb1e-f010-4bb7-a7d2-18ac16c6d950",
     "showTitle": false,
     "title": ""
    }
   },
   "source": [
    "\n",
    "Data Cleaning"
   ]
  },
  {
   "cell_type": "code",
   "execution_count": 0,
   "metadata": {
    "application/vnd.databricks.v1+cell": {
     "cellMetadata": {
      "byteLimit": 2048000,
      "rowLimit": 10000
     },
     "inputWidgets": {},
     "nuid": "2932e833-26cb-4400-bd26-5d73fdef14eb",
     "showTitle": false,
     "title": ""
    }
   },
   "outputs": [
    {
     "output_type": "stream",
     "name": "stdout",
     "output_type": "stream",
     "text": [
      "['NCT Number \\\\t Study Title \\\\t Acronym \\\\t Study Status \\\\t Conditions \\\\t Interventions \\\\t Sponsor \\\\t Collaborators \\\\t Enrollment \\\\t Funder Type \\\\t Study Type \\\\t Study Design', 'Start Date', 'Completion Date']\n"
     ]
    }
   ],
   "source": [
    "#Let's split Header\n",
    "\n",
    "# Extract header\n",
    "header = rdd1.first()\n",
    "\n",
    "# Split the header based on \\t\n",
    "header_elements = header.split(\"\\t\")\n",
    "\n",
    "# Split the last element based on comma\n",
    "last_element_split = header_elements[-1].split(',')\n",
    "\n",
    "# Combine the split elements into the header list\n",
    "header_elements[-1:] = last_element_split\n",
    "\n",
    "# Print the modified header\n",
    "print(header_elements)"
   ]
  },
  {
   "cell_type": "code",
   "execution_count": 0,
   "metadata": {
    "application/vnd.databricks.v1+cell": {
     "cellMetadata": {
      "byteLimit": 2048000,
      "rowLimit": 10000
     },
     "inputWidgets": {},
     "nuid": "aee1584c-9497-4b39-9586-c30c4e8d4f81",
     "showTitle": false,
     "title": ""
    }
   },
   "outputs": [
    {
     "output_type": "stream",
     "name": "stdout",
     "output_type": "stream",
     "text": [
      "Out[25]: [['NCT Number ',\n  ' Study Title ',\n  ' Acronym ',\n  ' Study Status ',\n  ' Conditions ',\n  ' Interventions ',\n  ' Sponsor ',\n  ' Collaborators ',\n  ' Enrollment ',\n  ' Funder Type ',\n  ' Study Type ',\n  ' Study Design',\n  'Start Date',\n  'Completion Date'],\n ['\"NCT03630471 ',\n  ' Effectiveness of a Problem-solving Intervention for Common Adolescent Mental Health Problems in India ',\n  ' PRIDE ',\n  ' COMPLETED ',\n  ' Mental Health Issue (E.G., Depression, Psychosis, Personality Disorder, Substance Abuse) ',\n  \" BEHAVIORAL: PRIDE 'Step 1' problem-solving intervention|BEHAVIORAL: Enhanced usual care \",\n  ' Sangath ',\n  ' Harvard Medical School (HMS and HSDM)|London School of Hygiene and Tropical Medicine ',\n  ' 250 ',\n  ' OTHER ',\n  ' INTERVENTIONAL ',\n  ' Allocation: RANDOMIZED|Intervention Model: PARALLEL|Masking: DOUBLE (INVESTIGATOR',\n  ' OUTCOMES_ASSESSOR)|Primary Purpose: TREATMENT\"',\n  '20 August 2018',\n  '28 February 2019']]"
     ]
    }
   ],
   "source": [
    "#Define function to split lines in text\n",
    "\n",
    "def split_line(line):\n",
    "    # Split the line by tab character\n",
    "    parts = line.split(\"\\\\t\")\n",
    "    # Split the last part by commas and extend the list\n",
    "    last_part_split = parts[-1].split(\",\")\n",
    "    return parts[:-1] + last_part_split\n",
    "\n",
    "# Apply the split_line function to the input list and save as rdd2\n",
    "rdd2 = rdd1.map(split_line)\n",
    "\n",
    "rdd2.take(2)"
   ]
  },
  {
   "cell_type": "code",
   "execution_count": 0,
   "metadata": {
    "application/vnd.databricks.v1+cell": {
     "cellMetadata": {
      "byteLimit": 2048000,
      "rowLimit": 10000
     },
     "inputWidgets": {},
     "nuid": "95a7b56a-b567-4d49-a1ad-51d11ebd7d74",
     "showTitle": false,
     "title": ""
    }
   },
   "outputs": [
    {
     "output_type": "stream",
     "name": "stdout",
     "output_type": "stream",
     "text": [
      "Out[26]: ['Completion Date', '28 February 2019', '2024-08', '2014-12']"
     ]
    }
   ],
   "source": [
    "#Cleaning date\n",
    "#Extract first line data\n",
    "first_line = rdd2.map(lambda x: x[-1])\n",
    "\n",
    "first_line.take(4)"
   ]
  },
  {
   "cell_type": "code",
   "execution_count": 0,
   "metadata": {
    "application/vnd.databricks.v1+cell": {
     "cellMetadata": {
      "byteLimit": 2048000,
      "rowLimit": 10000
     },
     "inputWidgets": {},
     "nuid": "b4842098-3db4-490d-bf53-969caed568ba",
     "showTitle": false,
     "title": ""
    }
   },
   "outputs": [
    {
     "output_type": "stream",
     "name": "stdout",
     "output_type": "stream",
     "text": [
      "[['NCT Number ', ' Study Title ', ' Acronym ', ' Study Status ', ' Conditions ', ' Interventions ', ' Sponsor ', ' Collaborators ', ' Enrollment ', ' Funder Type ', ' Study Type ', ' Study Design', 'Start Date', 'Completion Date']]\n"
     ]
    }
   ],
   "source": [
    "#Check the first row\n",
    "\n",
    "Header_row = rdd2.take(1)\n",
    "\n",
    "print(Header_row)"
   ]
  },
  {
   "cell_type": "code",
   "execution_count": 0,
   "metadata": {
    "application/vnd.databricks.v1+cell": {
     "cellMetadata": {
      "byteLimit": 2048000,
      "rowLimit": 10000
     },
     "inputWidgets": {},
     "nuid": "9728a7c4-678e-4505-aa6a-690dd676cea6",
     "showTitle": false,
     "title": ""
    }
   },
   "outputs": [
    {
     "output_type": "stream",
     "name": "stdout",
     "output_type": "stream",
     "text": [
      "Out[28]: [('Start Date', 'Completion Date'),\n ('20 August 2018', '28 February 2019'),\n ('25 October 2023', '2024-08'),\n ('2013-08', '2014-12'),\n ('01 October 2020', '01 October 2023'),\n ('01 July 2010', '30 October 2019'),\n ('05 May 2017', '09 October 2020'),\n ('01 September 2022', '15 June 2023'),\n ('01 February 2024', '01 March 2026'),\n ('11 May 2016', '13 December 2017')]"
     ]
    }
   ],
   "source": [
    "# Extract Start Date and Completion Date\n",
    "\n",
    "rdd3 = rdd2.map(lambda row: (row[-2], row[-1]))\n",
    "\n",
    "rdd3.take(10)  #show all data in rdd to examine date format that exist"
   ]
  },
  {
   "cell_type": "code",
   "execution_count": 0,
   "metadata": {
    "application/vnd.databricks.v1+cell": {
     "cellMetadata": {
      "byteLimit": 2048000,
      "rowLimit": 10000
     },
     "inputWidgets": {},
     "nuid": "0ab98aca-e099-4d51-b5d0-93be8cd8bfa5",
     "showTitle": false,
     "title": ""
    }
   },
   "outputs": [
    {
     "output_type": "stream",
     "name": "stdout",
     "output_type": "stream",
     "text": [
      "('Start Date', 'Completion Date')\n"
     ]
    }
   ],
   "source": [
    "#Create date without the Header\n",
    "\n",
    "#create Date Header\n",
    "\n",
    "Date_Header = rdd3.first()\n",
    "\n",
    "print(Date_Header)"
   ]
  },
  {
   "cell_type": "code",
   "execution_count": 0,
   "metadata": {
    "application/vnd.databricks.v1+cell": {
     "cellMetadata": {
      "byteLimit": 2048000,
      "rowLimit": 10000
     },
     "inputWidgets": {},
     "nuid": "a541f2b0-d9ea-44b7-b90d-f164d53caae4",
     "showTitle": false,
     "title": ""
    }
   },
   "outputs": [
    {
     "output_type": "stream",
     "name": "stdout",
     "output_type": "stream",
     "text": [
      "Out[30]: [('Start Date', 'Completion Date'),\n ('20 August 2018', '28 February 2019'),\n ('25 October 2023', '2024-08')]"
     ]
    }
   ],
   "source": [
    "rdd4 = rdd3.map(lambda x: x[:2])\n",
    "\n",
    "rdd4.take(3)"
   ]
  },
  {
   "cell_type": "code",
   "execution_count": 0,
   "metadata": {
    "application/vnd.databricks.v1+cell": {
     "cellMetadata": {
      "byteLimit": 2048000,
      "rowLimit": 10000
     },
     "inputWidgets": {},
     "nuid": "d6a4ab8c-bea5-4b1c-9082-4a86f0979abb",
     "showTitle": false,
     "title": ""
    }
   },
   "outputs": [
    {
     "output_type": "stream",
     "name": "stdout",
     "output_type": "stream",
     "text": [
      "('Start Date', 'Completion Date')\n('20 August 2018', '28 February 2019')\n('25 October 2023', '01 August 2024')\n('01 August 2013', '01 December 2014')\n('01 October 2020', '01 October 2023')\n('01 July 2010', '30 October 2019')\n('05 May 2017', '09 October 2020')\n('01 September 2022', '15 June 2023')\n('01 February 2024', '01 March 2026')\n('11 May 2016', '13 December 2017')\n"
     ]
    }
   ],
   "source": [
    "#Function to clean the date and convert to a consistent date format\n",
    "\n",
    "from datetime import datetime\n",
    "\n",
    "# Define a function to clean date data\n",
    "def clean_date(date_str):\n",
    "    if not date_str:\n",
    "        return \"\"\n",
    "        \n",
    "    formats = ['%d %B %Y', '%Y %m %d', '%d %m %Y', '%Y-%m']\n",
    "    for fmt in formats:\n",
    "        try:\n",
    "            return datetime.strptime(date_str, fmt).strftime('%d %B %Y')\n",
    "        except ValueError:\n",
    "            pass\n",
    "    return date_str\n",
    "\n",
    "# Clean the date data in the RDD\n",
    "cleaned_dates = rdd3.map(lambda x: (clean_date(x[0]), clean_date(x[1])))\n",
    "\n",
    "# Collect and print the cleaned date data\n",
    "for date_pair in cleaned_dates.take(10):\n",
    "    print(date_pair)"
   ]
  },
  {
   "cell_type": "code",
   "execution_count": 0,
   "metadata": {
    "application/vnd.databricks.v1+cell": {
     "cellMetadata": {
      "byteLimit": 2048000,
      "rowLimit": 10000
     },
     "inputWidgets": {},
     "nuid": "4c018a95-cacf-4215-8901-c99327875327",
     "showTitle": false,
     "title": ""
    }
   },
   "outputs": [
    {
     "output_type": "stream",
     "name": "stdout",
     "output_type": "stream",
     "text": [
      "Out[32]: [['NCT Number ',\n  ' Study Title ',\n  ' Acronym ',\n  ' Study Status ',\n  ' Conditions ',\n  ' Interventions ',\n  ' Sponsor ',\n  ' Collaborators ',\n  ' Enrollment ',\n  ' Funder Type ',\n  ' Study Type ',\n  ' Study Design',\n  'Start Date',\n  'Completion Date'],\n ['\"NCT03630471 ',\n  ' Effectiveness of a Problem-solving Intervention for Common Adolescent Mental Health Problems in India ',\n  ' PRIDE ',\n  ' COMPLETED ',\n  ' Mental Health Issue (E.G., Depression, Psychosis, Personality Disorder, Substance Abuse) ',\n  \" BEHAVIORAL: PRIDE 'Step 1' problem-solving intervention|BEHAVIORAL: Enhanced usual care \",\n  ' Sangath ',\n  ' Harvard Medical School (HMS and HSDM)|London School of Hygiene and Tropical Medicine ',\n  ' 250 ',\n  ' OTHER ',\n  ' INTERVENTIONAL ',\n  ' Allocation: RANDOMIZED|Intervention Model: PARALLEL|Masking: DOUBLE (INVESTIGATOR',\n  ' OUTCOMES_ASSESSOR)|Primary Purpose: TREATMENT\"',\n  '20 August 2018',\n  '28 February 2019'],\n ['\"NCT05992571 ',\n  ' Oral Ketone Monoester Supplementation and Resting-state Brain Connectivity ',\n  ' RECRUITING ',\n  ' Cerebrovascular Function|Cognition ',\n  ' OTHER: Placebo|DIETARY_SUPPLEMENT: β-OHB ',\n  ' McMaster University ',\n  \" Alzheimer's Society of Brant, Haldimand Norfolk, Hamilton Halton \",\n  ' 30 ',\n  ' OTHER ',\n  ' INTERVENTIONAL ',\n  ' Allocation: RANDOMIZED|Intervention Model: CROSSOVER|Masking: TRIPLE (PARTICIPANT',\n  ' INVESTIGATOR',\n  ' OUTCOMES_ASSESSOR)|Primary Purpose: BASIC_SCIENCE\"',\n  '25 October 2023',\n  '2024-08'],\n ['NCT01854671 ',\n  ' Investigating the Effect of a Prenatal Family Planning Counseling Intervention Led by Community Health Workers on Postpartum Contraceptive Use Among Women in the West Bank ',\n  ' COMPLETED ',\n  ' Focus: Contraceptive Counseling|Focus: Postpartum Contraception ',\n  ' OTHER: family planning counseling let by community health workers ',\n  ' Planned Parenthood League of Massachusetts ',\n  ' Society for Family Planning Research Fund ',\n  ' 176 ',\n  ' OTHER ',\n  ' INTERVENTIONAL ',\n  ' Allocation: NON_RANDOMIZED|Intervention Model: PARALLEL|Masking: NONE|Primary Purpose: ',\n  '2013-08',\n  '2014-12'],\n ['NCT03820271 ',\n  ' New Prognostic Predictive Models of Mortality of Decompensated Cirrhotic Patients Waiting for Liver Transplantation ',\n  ' SUPERMELD ',\n  ' RECRUITING ',\n  ' Decompensated Cirrhosis|Liver Transplantation ',\n  ' OTHER: SuperMELD ',\n  ' Assistance Publique - Hôpitaux de Paris ',\n  ' 500 ',\n  ' OTHER ',\n  ' INTERVENTIONAL ',\n  ' Allocation: NA|Intervention Model: SINGLE_GROUP|Masking: NONE|Primary Purpose: OTHER',\n  '01 October 2020',\n  '01 October 2023']]"
     ]
    }
   ],
   "source": [
    "## Create an rdd excluding the 'Start\" and 'Completion\" date\n",
    "\n",
    "rdd5 = rdd2.map(lambda x: x[:11])\n",
    "\n",
    "rdd2.take(5)"
   ]
  },
  {
   "cell_type": "code",
   "execution_count": 0,
   "metadata": {
    "application/vnd.databricks.v1+cell": {
     "cellMetadata": {
      "byteLimit": 2048000,
      "rowLimit": 10000
     },
     "inputWidgets": {},
     "nuid": "67fb011a-abc5-42ca-9ebc-032ba3ffe1a1",
     "showTitle": false,
     "title": ""
    }
   },
   "outputs": [
    {
     "output_type": "stream",
     "name": "stdout",
     "output_type": "stream",
     "text": [
      "Out[34]: [['NCT Number ',\n  ' Study Title ',\n  ' Acronym ',\n  ' Study Status ',\n  ' Conditions ',\n  ' Interventions ',\n  ' Sponsor ',\n  ' Collaborators ',\n  ' Enrollment ',\n  ' Funder Type ',\n  ' Study Type ',\n  'Start Date',\n  'Completion Date'],\n ['\"NCT03630471 ',\n  ' Effectiveness of a Problem-solving Intervention for Common Adolescent Mental Health Problems in India ',\n  ' PRIDE ',\n  ' COMPLETED ',\n  ' Mental Health Issue (E.G., Depression, Psychosis, Personality Disorder, Substance Abuse) ',\n  \" BEHAVIORAL: PRIDE 'Step 1' problem-solving intervention|BEHAVIORAL: Enhanced usual care \",\n  ' Sangath ',\n  ' Harvard Medical School (HMS and HSDM)|London School of Hygiene and Tropical Medicine ',\n  ' 250 ',\n  ' OTHER ',\n  ' INTERVENTIONAL ',\n  '20 August 2018',\n  '28 February 2019'],\n ['\"NCT05992571 ',\n  ' Oral Ketone Monoester Supplementation and Resting-state Brain Connectivity ',\n  ' RECRUITING ',\n  ' Cerebrovascular Function|Cognition ',\n  ' OTHER: Placebo|DIETARY_SUPPLEMENT: β-OHB ',\n  ' McMaster University ',\n  \" Alzheimer's Society of Brant, Haldimand Norfolk, Hamilton Halton \",\n  ' 30 ',\n  ' OTHER ',\n  ' INTERVENTIONAL ',\n  ' Allocation: RANDOMIZED|Intervention Model: CROSSOVER|Masking: TRIPLE (PARTICIPANT',\n  '25 October 2023',\n  '01 August 2024'],\n ['NCT01854671 ',\n  ' Investigating the Effect of a Prenatal Family Planning Counseling Intervention Led by Community Health Workers on Postpartum Contraceptive Use Among Women in the West Bank ',\n  ' COMPLETED ',\n  ' Focus: Contraceptive Counseling|Focus: Postpartum Contraception ',\n  ' OTHER: family planning counseling let by community health workers ',\n  ' Planned Parenthood League of Massachusetts ',\n  ' Society for Family Planning Research Fund ',\n  ' 176 ',\n  ' OTHER ',\n  ' INTERVENTIONAL ',\n  ' Allocation: NON_RANDOMIZED|Intervention Model: PARALLEL|Masking: NONE|Primary Purpose: ',\n  '01 August 2013',\n  '01 December 2014'],\n ['NCT03820271 ',\n  ' New Prognostic Predictive Models of Mortality of Decompensated Cirrhotic Patients Waiting for Liver Transplantation ',\n  ' SUPERMELD ',\n  ' RECRUITING ',\n  ' Decompensated Cirrhosis|Liver Transplantation ',\n  ' OTHER: SuperMELD ',\n  ' Assistance Publique - Hôpitaux de Paris ',\n  ' 500 ',\n  ' OTHER ',\n  ' INTERVENTIONAL ',\n  ' Allocation: NA|Intervention Model: SINGLE_GROUP|Masking: NONE|Primary Purpose: OTHER',\n  '01 October 2020',\n  '01 October 2023'],\n ['NCT01160471 ',\n  ' Noninvasive Imaging of Heart Failure: A Pilot Study ',\n  ' COMPLETED ',\n  ' MRI|Acquired Heart Disease|Myocardial Fibrosis ',\n  ' National Institutes of Health Clinical Center (CC) ',\n  ' 62 ',\n  ' NIH ',\n  ' OBSERVATIONAL ',\n  ' Observational Model: |Time Perspective: p',\n  '01 July 2010',\n  '30 October 2019',\n  '01 July 2010',\n  '30 October 2019'],\n ['\"NCT04338971 ',\n  ' Ipsihand Device Use in Stroke Patients to Assess Functional Motor Outcomes ',\n  ' COMPLETED ',\n  ' Stroke ',\n  ' DEVICE: IpsiHand Therapy ',\n  ' Neurolutions, Inc. ',\n  ' 24 ',\n  ' INDUSTRY ',\n  ' INTERVENTIONAL ',\n  ' Allocation: NA|Intervention Model: SINGLE_GROUP|Masking: NONE|Primary Purpose: TREATMENT\"',\n  '05 May 2017',\n  '05 May 2017',\n  '09 October 2020'],\n ['\"NCT05843071 ',\n  ' PMCF Study to Evaluate Performance and Safety of \"\"NASAL SPRAYS \"\" Used to Relieve Nasal Congestion and Dryness ',\n  ' RECRUITING ',\n  ' Nasal Congestion|Nasal Dryness ',\n  ' DEVICE: Nasal sprays with sea salts ',\n  ' C.O.C. Farmaceutici S.r.l. ',\n  ' 105 ',\n  ' INDUSTRY ',\n  ' INTERVENTIONAL ',\n  ' Allocation: NA|Intervention Model: SINGLE_GROUP|Masking: NONE|Primary Purpose: TREATMENT\"',\n  '01 September 2022',\n  '01 September 2022',\n  '15 June 2023'],\n ['NCT06174571 ',\n  ' Evaluation of Pregnancy Associated Plasma Protein A (PAPPA) as a Biomarker in Breast Cancer. ',\n  ' NOT_YET_RECRUITING ',\n  ' Breast Cancer ',\n  ' Assiut University ',\n  ' 90 ',\n  ' OTHER ',\n  ' OBSERVATIONAL ',\n  ' Observational Model: |Time Perspective: p',\n  '01 February 2024',\n  '01 March 2026',\n  '01 February 2024',\n  '01 March 2026'],\n ['NCT03700671 ',\n  ' High Intensity Interval Training Versus Circuit Training ',\n  ' COMPLETED ',\n  ' High Intensity Interval Training ',\n  ' OTHER: High intensity interval training|OTHER: Circuit training ',\n  ' University of Central Lancashire ',\n  ' University of Hull ',\n  ' 42 ',\n  ' OTHER ',\n  ' INTERVENTIONAL ',\n  ' Allocation: RANDOMIZED|Intervention Model: PARALLEL|Masking: NONE|Primary Purpose: BASIC_SCIENCE',\n  '11 May 2016',\n  '13 December 2017'],\n ['\"NCT02633371 ',\n  ' A Pilot Study Exploring the Efficacy and Safety of Topical Oxybutynin 3% Gel for Primary Focal Hyperhidrosis in Adolescents and Young Adults ',\n  ' COMPLETED ',\n  ' Hyperhidrosis ',\n  ' DRUG: Oxybutynin 3% gel ',\n  ' University of Colorado, Denver ',\n  ' Society for Pediatric Dermatology ',\n  ' 10 ',\n  ' OTHER ',\n  ' INTERVENTIONAL ',\n  ' Allocation: NA|Intervention Model: SINGLE_GROUP|Masking: NONE|Primary Purpose: TREATMENT\"',\n  '01 February 2016',\n  '01 May 2017'],\n ['\"NCT03400371 ',\n  ' Biology of Juvenile Myoclonic Epilepsy ',\n  ' BIOJUME ',\n  ' RECRUITING ',\n  ' Juvenile Myoclonic Epilepsy ',\n  ' OTHER: Blood draw|OTHER: Existing samples ',\n  \" King's College London \",\n  \" King's College Hospital NHS Trust|Charles University, Czech Republic|Hopital Universitaire Robert-Debre|Vestre Viken Hospital Trust|The Hospital for Sick Children|Cardiff University|Odense University Hospital \",\n  ' 1000 ',\n  ' OTHER ',\n  ' OBSERVATIONAL ',\n  '13 July 2017',\n  '30 June 2026'],\n ['\"NCT00221871 ',\n  ' Proper Dosage of Ketamine in Intravenous Regional Anesthesia ',\n  ' UNKNOWN ',\n  ' Pain. ',\n  ' DRUG: Different dosages of Ketamine ',\n  ' University Health Network, Toronto ',\n  ' OTHER ',\n  ' INTERVENTIONAL ',\n  ' Allocation: RANDOMIZED|Intervention Model: PARALLEL|Masking: SINGLE|Primary Purpose: TREATMENT\"',\n  '2004-01',\n  '2005-01',\n  '01 January 2004',\n  '01 January 2005'],\n ['\"NCT05664971 ',\n  ' JS004 Combined With Toripalimab and With Standard Chemotherapy Treat Patients With Advanced Lung Cancer ',\n  ' RECRUITING ',\n  ' Advanced Lung Cancer ',\n  ' BIOLOGICAL: Recombinant humanized anti-BTLA monoclonal antibody (JS004) injection|BIOLOGICAL: Toripalimab|DRUG: Docetaxel|DRUG: Pemetrexed|DRUG: Cisplatin|DRUG: Carboplatin|DRUG: Paclitaxel|DRUG: Etoposide ',\n  ' Shanghai Junshi Bioscience Co., Ltd. ',\n  ' 240 ',\n  ' OTHER ',\n  ' INTERVENTIONAL ',\n  ' Allocation: NON_RANDOMIZED|Intervention Model: SINGLE_GROUP|Masking: NONE|Primary Purpose: TREATMENT\"',\n  '09 February 2023',\n  '09 February 2023',\n  '17 November 2024'],\n ['NCT02383771 ',\n  ' Reversal of the Anti-platelet Effects of Ticagrelor ',\n  ' REVERSAL ',\n  ' COMPLETED ',\n  ' Coronary Artery Disease ',\n  ' DRUG: Ticagrelor|DRUG: Aspirin + Ticagrelor|DRUG: Control|DRUG: Aspirin + Ticagrelor ',\n  ' The First Affiliated Hospital with Nanjing Medical University ',\n  ' National Natural Science Foundation of China ',\n  ' 64 ',\n  ' OTHER ',\n  ' INTERVENTIONAL ',\n  '01 March 2015',\n  '01 December 2016'],\n ['\"NCT01897571 ',\n  ' Study of Tazemetostat as Single Agent in Solid Tumors or B-cell Lymphomas and in Combination With Prednisolone in DLBCL ',\n  ' COMPLETED ',\n  ' B-cell Lymphomas (Phase 1)|Advanced Solid Tumors (Phase 1)|Diffuse Large B-cell Lymphoma (Phase 2)|Follicular Lymphoma (Phase 2)|Transformed Follicular Lymphoma|Primary Mediastinal Large B-Cell Lymphoma ',\n  ' DRUG: Tazemetostat|DRUG: Prednisolone|DRUG: Tazemetostat ',\n  ' Epizyme, Inc. ',\n  ' 400 ',\n  ' INDUSTRY ',\n  ' INTERVENTIONAL ',\n  ' Allocation: NON_RANDOMIZED|Intervention Model: SINGLE_GROUP|Masking: NONE|Primary Purpose: TREATMENT\"',\n  '13 June 2013',\n  '13 June 2013',\n  '02 November 2021'],\n ['\"NCT03928171 ',\n  ' The Effect of Intra-abdominal Pressure on Peritoneal Perfusion During Laparoscopic Colorectal Surgery ',\n  ' PERFUSION ',\n  ' COMPLETED ',\n  ' Laparoscopic Surgery|Pneumoperitoneum ',\n  ' OTHER: Intra-abdominal pressure during laparoscopy ',\n  ' Radboud University Medical Center ',\n  ' 30 ',\n  ' OTHER ',\n  ' INTERVENTIONAL ',\n  ' Allocation: RANDOMIZED|Intervention Model: PARALLEL|Masking: TRIPLE (PARTICIPANT',\n  '13 June 2018',\n  '24 December 2018'],\n ['NCT00848471 ',\n  ' Validation of the Quark RMR Calorimeter (Cosmed) Versus Deltatrac II (GE Health Care Clinical Systems) ',\n  ' Protocol Quark ',\n  ' UNKNOWN ',\n  ' Healthy|Obesity ',\n  ' DEVICE: Quark RMR|DEVICE: Deltatrac II ',\n  ' Hospices Civils de Lyon ',\n  ' Centre de Recherche en Nutrition Humaine Rhone-Alpe ',\n  ' 30 ',\n  ' OTHER ',\n  ' INTERVENTIONAL ',\n  '01 January 2009',\n  '01 December 2009'],\n ['\"NCT01189071 ',\n  ' Preoperative Use of Darifenacin (Enablex) to Alleviate Postoperative Ureteral Stent Pain ',\n  ' TERMINATED ',\n  ' Overactive Bladder|Renal Colic|Pain, Postoperative ',\n  ' DRUG: Darifenacin ',\n  ' University of Missouri-Columbia ',\n  ' 3 ',\n  ' OTHER ',\n  ' INTERVENTIONAL ',\n  ' Allocation: RANDOMIZED|Intervention Model: PARALLEL|Masking: DOUBLE (PARTICIPANT',\n  ' INVESTIGATOR)|Primary Purpose: TREATMENT\"',\n  '01 August 2009',\n  '01 July 2011'],\n ['\"NCT01005771 ',\n  ' Study to Assess the Efficacy and Safety of GF-001001-00 Cream in Secondarily-Infected Traumatic Lesions ',\n  ' COMPLETED ',\n  ' Secondarily Infected Traumatic Lesions ',\n  ' DRUG: GF-001001-00|DRUG: Placebo ',\n  ' Ferrer Internacional S.A. ',\n  ' 200 ',\n  ' INDUSTRY ',\n  ' INTERVENTIONAL ',\n  ' Allocation: RANDOMIZED|Intervention Model: PARALLEL|Masking: DOUBLE (PARTICIPANT',\n  ' INVESTIGATOR)|Primary Purpose: TREATMENT\"',\n  '01 September 2009',\n  '01 March 2010']]"
     ]
    }
   ],
   "source": [
    "#Zip RDDs together and flatten the rdd\n",
    "\n",
    "# Zip the RDDs together column-wise\n",
    "zipped_rdd = rdd5.zip(cleaned_dates)\n",
    "\n",
    "# Add start and completion date columns to each tuple in the zipped RDD as a tuple\n",
    "flattened_rdd = zipped_rdd.map(lambda x: x[0] + list(x[1]))\n",
    "\n",
    "# Output the result\n",
    "flattened_rdd.take(20)"
   ]
  },
  {
   "cell_type": "markdown",
   "metadata": {
    "application/vnd.databricks.v1+cell": {
     "cellMetadata": {
      "byteLimit": 2048000,
      "rowLimit": 10000
     },
     "inputWidgets": {},
     "nuid": "28fa12a4-8c57-42ee-aea0-d8fea24a093d",
     "showTitle": false,
     "title": ""
    }
   },
   "source": [
    "Exploratory data analysis"
   ]
  },
  {
   "cell_type": "code",
   "execution_count": 0,
   "metadata": {
    "application/vnd.databricks.v1+cell": {
     "cellMetadata": {
      "byteLimit": 2048000,
      "rowLimit": 10000
     },
     "inputWidgets": {},
     "nuid": "cc8f3262-e45e-4b4d-96b0-1845b85ee0df",
     "showTitle": false,
     "title": ""
    }
   },
   "outputs": [
    {
     "output_type": "stream",
     "name": "stdout",
     "output_type": "stream",
     "text": [
      "Column 'NCT Number ': 478698\nColumn ' Interventions ': 477801\nColumn ' Sponsor ': 477801\nColumn ' Collaborators ': 477775\nColumn ' Study Title ': 478698\nColumn ' Study Status ': 478698\nColumn ' Funder Type ': 475705\nColumn ' Study Type ': 472627\nColumn 'Completion Date': 461176\nColumn ' Acronym ': 478697\nColumn ' Conditions ': 477815\nColumn ' Enrollment ': 477049\nColumn 'Start Date': 473470\n"
     ]
    }
   ],
   "source": [
    "#Check the count of values by column header\n",
    "\n",
    "# Extract the header row\n",
    "header_row = flattened_rdd.first()\n",
    "\n",
    "# Count the total number of non-empty values for each column\n",
    "column_counts = flattened_rdd.flatMap(lambda row: zip(header_row, row)) \\\n",
    "                   .filter(lambda x: x[1] != '') \\\n",
    "                   .map(lambda x: (x[0], 1)) \\\n",
    "                   .reduceByKey(lambda a, b: a + b) \\\n",
    "                   .collect()\n",
    "\n",
    "# Output the column counts\n",
    "for column, count in column_counts:\n",
    "    print(f\"Column '{column}': {count}\")"
   ]
  },
  {
   "cell_type": "code",
   "execution_count": 0,
   "metadata": {
    "application/vnd.databricks.v1+cell": {
     "cellMetadata": {
      "byteLimit": 2048000,
      "rowLimit": 10000
     },
     "inputWidgets": {},
     "nuid": "bc49a405-2b5e-4097-bcb3-a7e99adba974",
     "showTitle": false,
     "title": ""
    }
   },
   "outputs": [
    {
     "output_type": "stream",
     "name": "stdout",
     "output_type": "stream",
     "text": [
      "Column ' Interventions ': 882\nColumn ' Sponsor ': 882\nColumn ' Collaborators ': 908\nColumn ' Study Type ': 5174\nColumn 'Completion Date': 15151\nColumn ' Funder Type ': 2096\nColumn 'Start Date': 4305\nColumn ' Enrollment ': 752\nColumn ' Conditions ': 883\nColumn ' Acronym ': 1\n"
     ]
    }
   ],
   "source": [
    "#Likewise, Check missing values by column headers\n",
    "\n",
    "# Extract the header row\n",
    "header_row = flattened_rdd.first()\n",
    "\n",
    "# Count the total number of empty values for each column\n",
    "empty_counts = flattened_rdd.flatMap(lambda row: zip(header_row, row)) \\\n",
    "                  .filter(lambda x: x[1] == '') \\\n",
    "                  .map(lambda x: (x[0], 1)) \\\n",
    "                  .reduceByKey(lambda a, b: a + b) \\\n",
    "                  .collect()\n",
    "\n",
    "# Output the column counts\n",
    "for column, count in empty_counts:\n",
    "    print(f\"Column '{column}': {count}\")"
   ]
  },
  {
   "cell_type": "code",
   "execution_count": 0,
   "metadata": {
    "application/vnd.databricks.v1+cell": {
     "cellMetadata": {
      "byteLimit": 2048000,
      "rowLimit": 10000
     },
     "inputWidgets": {},
     "nuid": "31ff65ce-fd70-4ce3-aef6-4e4d7a4e52e8",
     "showTitle": false,
     "title": ""
    }
   },
   "outputs": [
    {
     "output_type": "stream",
     "name": "stdout",
     "output_type": "stream",
     "text": [
      "Out[37]: ['NCT01160471 \\\\t Noninvasive Imaging of Heart Failure: A Pilot Study \\\\t COMPLETED \\\\t MRI|Acquired Heart Disease|Myocardial Fibrosis \\\\t National Institutes of Health Clinical Center (CC) \\\\t 62 \\\\t NIH \\\\t OBSERVATIONAL \\\\t Observational Model: |Time Perspective: p,01 July 2010,30 October 2019',\n '\"NCT04338971 \\\\t Ipsihand Device Use in Stroke Patients to Assess Functional Motor Outcomes \\\\t COMPLETED \\\\t Stroke \\\\t DEVICE: IpsiHand Therapy \\\\t Neurolutions, Inc. \\\\t 24 \\\\t INDUSTRY \\\\t INTERVENTIONAL \\\\t Allocation: NA|Intervention Model: SINGLE_GROUP|Masking: NONE|Primary Purpose: TREATMENT\",05 May 2017,09 October 2020',\n '\"NCT05843071 \\\\t PMCF Study to Evaluate Performance and Safety of \"\"NASAL SPRAYS \"\" Used to Relieve Nasal Congestion and Dryness \\\\t RECRUITING \\\\t Nasal Congestion|Nasal Dryness \\\\t DEVICE: Nasal sprays with sea salts \\\\t C.O.C. Farmaceutici S.r.l. \\\\t 105 \\\\t INDUSTRY \\\\t INTERVENTIONAL \\\\t Allocation: NA|Intervention Model: SINGLE_GROUP|Masking: NONE|Primary Purpose: TREATMENT\",01 September 2022,15 June 2023',\n 'NCT06174571 \\\\t Evaluation of Pregnancy Associated Plasma Protein A (PAPPA) as a Biomarker in Breast Cancer. \\\\t NOT_YET_RECRUITING \\\\t Breast Cancer \\\\t Assiut University \\\\t 90 \\\\t OTHER \\\\t OBSERVATIONAL \\\\t Observational Model: |Time Perspective: p,01 February 2024,01 March 2026',\n '\"NCT00221871 \\\\t Proper Dosage of Ketamine in Intravenous Regional Anesthesia \\\\t UNKNOWN \\\\t Pain. \\\\t DRUG: Different dosages of Ketamine \\\\t University Health Network, Toronto \\\\t OTHER \\\\t INTERVENTIONAL \\\\t Allocation: RANDOMIZED|Intervention Model: PARALLEL|Masking: SINGLE|Primary Purpose: TREATMENT\",2004-01,2005-01']"
     ]
    }
   ],
   "source": [
    "rdd1_splitline = rdd1 \\\n",
    "    .flatMap(lambda x: x.split('\\n')) \\\n",
    "    .filter(lambda line: line.count(\"\\\\t\") < 10)\n",
    "\n",
    "rdd1_splitline.take(5)"
   ]
  },
  {
   "cell_type": "code",
   "execution_count": 0,
   "metadata": {
    "application/vnd.databricks.v1+cell": {
     "cellMetadata": {
      "byteLimit": 2048000,
      "rowLimit": 10000
     },
     "inputWidgets": {},
     "nuid": "4d9ec836-3b94-4ec9-87f7-7b7d4ef5c464",
     "showTitle": false,
     "title": ""
    }
   },
   "outputs": [
    {
     "output_type": "stream",
     "name": "stdout",
     "output_type": "stream",
     "text": [
      "Out[39]: ['NCT Number \\\\t Study Title \\\\t Acronym \\\\t Study Status \\\\t Conditions \\\\t Interventions \\\\t Sponsor \\\\t Collaborators \\\\t Enrollment \\\\t Funder Type \\\\t Study Type \\\\t Study Design,Start Date,Completion Date',\n '\"NCT03630471 \\\\t Effectiveness of a Problem-solving Intervention for Common Adolescent Mental Health Problems in India \\\\t PRIDE \\\\t COMPLETED \\\\t Mental Health Issue (E.G., Depression, Psychosis, Personality Disorder, Substance Abuse) \\\\t BEHAVIORAL: PRIDE \\'Step 1\\' problem-solving intervention|BEHAVIORAL: Enhanced usual care \\\\t Sangath \\\\t Harvard Medical School (HMS and HSDM)|London School of Hygiene and Tropical Medicine \\\\t 250 \\\\t OTHER \\\\t INTERVENTIONAL \\\\t Allocation: RANDOMIZED|Intervention Model: PARALLEL|Masking: DOUBLE (INVESTIGATOR, OUTCOMES_ASSESSOR)|Primary Purpose: TREATMENT\",20 August 2018,28 February 2019',\n '\"NCT05992571 \\\\t Oral Ketone Monoester Supplementation and Resting-state Brain Connectivity \\\\t RECRUITING \\\\t Cerebrovascular Function|Cognition \\\\t OTHER: Placebo|DIETARY_SUPPLEMENT: β-OHB \\\\t McMaster University \\\\t Alzheimer\\'s Society of Brant, Haldimand Norfolk, Hamilton Halton \\\\t 30 \\\\t OTHER \\\\t INTERVENTIONAL \\\\t Allocation: RANDOMIZED|Intervention Model: CROSSOVER|Masking: TRIPLE (PARTICIPANT, INVESTIGATOR, OUTCOMES_ASSESSOR)|Primary Purpose: BASIC_SCIENCE\",25 October 2023,2024-08',\n 'NCT01854671 \\\\t Investigating the Effect of a Prenatal Family Planning Counseling Intervention Led by Community Health Workers on Postpartum Contraceptive Use Among Women in the West Bank \\\\t COMPLETED \\\\t Focus: Contraceptive Counseling|Focus: Postpartum Contraception \\\\t OTHER: family planning counseling let by community health workers \\\\t Planned Parenthood League of Massachusetts \\\\t Society for Family Planning Research Fund \\\\t 176 \\\\t OTHER \\\\t INTERVENTIONAL \\\\t Allocation: NON_RANDOMIZED|Intervention Model: PARALLEL|Masking: NONE|Primary Purpose: ,2013-08,2014-12',\n 'NCT03820271 \\\\t New Prognostic Predictive Models of Mortality of Decompensated Cirrhotic Patients Waiting for Liver Transplantation \\\\t SUPERMELD \\\\t RECRUITING \\\\t Decompensated Cirrhosis|Liver Transplantation \\\\t OTHER: SuperMELD \\\\t Assistance Publique - Hôpitaux de Paris \\\\t 500 \\\\t OTHER \\\\t INTERVENTIONAL \\\\t Allocation: NA|Intervention Model: SINGLE_GROUP|Masking: NONE|Primary Purpose: OTHER,01 October 2020,01 October 2023']"
     ]
    }
   ],
   "source": [
    "# Apply a FlatMap operation to examine conditions\n",
    "\n",
    "rdd_condition = rdd1 \\\n",
    "    .flatMap(lambda x: x.split('\\n'))\n",
    "rdd_condition.take(5)"
   ]
  },
  {
   "cell_type": "code",
   "execution_count": 0,
   "metadata": {
    "application/vnd.databricks.v1+cell": {
     "cellMetadata": {
      "byteLimit": 2048000,
      "rowLimit": 10000
     },
     "inputWidgets": {},
     "nuid": "3e392fc4-04d4-4532-acc4-bbb33f83e42e",
     "showTitle": false,
     "title": ""
    }
   },
   "outputs": [
    {
     "output_type": "stream",
     "name": "stdout",
     "output_type": "stream",
     "text": [
      "Out[40]: ['NCT Number \\\\t Study Title \\\\t Acronym \\\\t Study Status \\\\t Conditions \\\\t Interventions \\\\t Sponsor \\\\t Collaborators \\\\t Enrollment \\\\t Funder Type \\\\t Study Type \\\\t Study Design,Start Date,Completion Date',\n '\"NCT03630471 \\\\t Effectiveness of a Problem-solving Intervention for Common Adolescent Mental Health Problems in India \\\\t PRIDE \\\\t COMPLETED \\\\t Mental Health Issue (E.G., Depression, Psychosis, Personality Disorder, Substance Abuse) \\\\t BEHAVIORAL: PRIDE \\'Step 1\\' problem-solving intervention|BEHAVIORAL: Enhanced usual care \\\\t Sangath \\\\t Harvard Medical School (HMS and HSDM)|London School of Hygiene and Tropical Medicine \\\\t 250 \\\\t OTHER \\\\t INTERVENTIONAL \\\\t Allocation: RANDOMIZED|Intervention Model: PARALLEL|Masking: DOUBLE (INVESTIGATOR, OUTCOMES_ASSESSOR)|Primary Purpose: TREATMENT\",20 August 2018,28 February 2019',\n '\"NCT03400371 \\\\t Biology of Juvenile Myoclonic Epilepsy \\\\t BIOJUME \\\\t RECRUITING \\\\t Juvenile Myoclonic Epilepsy \\\\t OTHER: Blood draw|OTHER: Existing samples \\\\t King\\'s College London \\\\t King\\'s College Hospital NHS Trust|Charles University, Czech Republic|Hopital Universitaire Robert-Debre|Vestre Viken Hospital Trust|The Hospital for Sick Children|Cardiff University|Odense University Hospital \\\\t 1000 \\\\t OTHER \\\\t OBSERVATIONAL \\\\t Observational Model: |Time Perspective: p\",13 July 2017,30 June 2026',\n 'NCT02383771 \\\\t Reversal of the Anti-platelet Effects of Ticagrelor \\\\t REVERSAL \\\\t COMPLETED \\\\t Coronary Artery Disease \\\\t DRUG: Ticagrelor|DRUG: Aspirin + Ticagrelor|DRUG: Control|DRUG: Aspirin + Ticagrelor \\\\t The First Affiliated Hospital with Nanjing Medical University \\\\t National Natural Science Foundation of China \\\\t 64 \\\\t OTHER \\\\t INTERVENTIONAL \\\\t Allocation: RANDOMIZED|Intervention Model: PARALLEL|Masking: SINGLE (INVESTIGATOR)|Primary Purpose: TREATMENT,2015-03,2016-12',\n 'NCT00848471 \\\\t Validation of the Quark RMR Calorimeter (Cosmed) Versus Deltatrac II (GE Health Care Clinical Systems) \\\\t Protocol Quark \\\\t UNKNOWN \\\\t Healthy|Obesity \\\\t DEVICE: Quark RMR|DEVICE: Deltatrac II \\\\t Hospices Civils de Lyon \\\\t Centre de Recherche en Nutrition Humaine Rhone-Alpe \\\\t 30 \\\\t OTHER \\\\t INTERVENTIONAL \\\\t Allocation: RANDOMIZED|Intervention Model: CROSSOVER|Masking: NONE|Primary Purpose: HEALTH_SERVICES_RESEARCH,2009-01,2009-12']"
     ]
    }
   ],
   "source": [
    "rdd_condition = rdd1 \\\n",
    "    .flatMap(lambda x: x.split('\\n')) \\\n",
    "    .filter(lambda line: line.count(\"\\\\t\") > 10)\n",
    "\n",
    "rdd_condition.take(5)"
   ]
  },
  {
   "cell_type": "code",
   "execution_count": 0,
   "metadata": {
    "application/vnd.databricks.v1+cell": {
     "cellMetadata": {
      "byteLimit": 2048000,
      "rowLimit": 10000
     },
     "inputWidgets": {},
     "nuid": "4e25b14e-7712-48ab-9e68-0562d83ebdd2",
     "showTitle": true,
     "title": "Question 1 : What is the Number of Distinct Studies in the Dataset"
    }
   },
   "outputs": [
    {
     "output_type": "stream",
     "name": "stdout",
     "output_type": "stream",
     "text": [
      "Number of distinct studies: 476396\n"
     ]
    }
   ],
   "source": [
    "# Extract the header row\n",
    "header_row = flattened_rdd.first()\n",
    "\n",
    "# Find the index of the 'Study Title' column\n",
    "study_title_index = header_row.index(' Study Title ')\n",
    "\n",
    "# Count the number of distinct studies\n",
    "distinct_study_count = flattened_rdd.map(lambda row: row[study_title_index]) \\\n",
    "                          .distinct() \\\n",
    "                          .count()\n",
    "\n",
    "# Output the number of distinct studies\n",
    "print(\"Number of distinct studies:\", distinct_study_count)"
   ]
  },
  {
   "cell_type": "code",
   "execution_count": 0,
   "metadata": {
    "application/vnd.databricks.v1+cell": {
     "cellMetadata": {
      "byteLimit": 2048000,
      "rowLimit": 10000
     },
     "inputWidgets": {},
     "nuid": "10555a29-cf50-4879-8b97-8d7e767d4642",
     "showTitle": false,
     "title": ""
    }
   },
   "outputs": [
    {
     "output_type": "stream",
     "name": "stdout",
     "output_type": "stream",
     "text": [
      "Total number of lines with length 9: 25988\nTotal number of lines with length 10: 234595\nTotal number of lines with length 11: 167935\nTotal number of lines with length 12: 47809\n"
     ]
    }
   ],
   "source": [
    "#Checking the count of length of each line after split so that we don't lose on data\n",
    "types = rdd1 \\\n",
    "    .map(lambda x: x.split(\"\\\\t\")) \\\n",
    "\n",
    "# Initialize counters\n",
    "len_9_count = 0\n",
    "len_10_count = 0\n",
    "len_11_count = 0\n",
    "len_12_count = 0\n",
    "\n",
    "# Count the number of lines with different lengths\n",
    "for line in types.collect():\n",
    "    if len(line) == 9:\n",
    "        len_9_count += 1\n",
    "    elif len(line) == 10:\n",
    "        len_10_count += 1\n",
    "    elif len(line) == 11:\n",
    "        len_11_count += 1\n",
    "    elif len(line) == 12:\n",
    "        len_12_count += 1\n",
    "\n",
    "# Print total counts\n",
    "print(f\"Total number of lines with length 9: {len_9_count}\")\n",
    "print(f\"Total number of lines with length 10: {len_10_count}\")\n",
    "print(f\"Total number of lines with length 11: {len_11_count}\")\n",
    "print(f\"Total number of lines with length 12: {len_12_count}\")\n",
    "\n",
    "\n",
    "#It was found that after split, the lines have between 9-12 length. Majority of the lines have length 10 & 11"
   ]
  },
  {
   "cell_type": "code",
   "execution_count": 0,
   "metadata": {
    "application/vnd.databricks.v1+cell": {
     "cellMetadata": {
      "byteLimit": 2048000,
      "rowLimit": 10000
     },
     "inputWidgets": {},
     "nuid": "4d3c2d8c-a107-4c69-b438-0d440a1fb61c",
     "showTitle": false,
     "title": "Question 2: Frequency of Types of studies in dataset"
    }
   },
   "outputs": [
    {
     "output_type": "stream",
     "name": "stdout",
     "output_type": "stream",
     "text": [
      "Study_Type: INTERVENTIONAL, Frequency: 186900\nStudy_Type: OBSERVATIONAL, Frequency: 47673\nStudy_Type: OTHER, Frequency: 14\n"
     ]
    }
   ],
   "source": [
    "#First Attempt 1 on Question 2 using only lines with length 10, study types index position in this case is 8\n",
    "\n",
    "types = rdd1_splitline \\\n",
    "    .map(lambda x: x.split(\"\\\\t\")) \\\n",
    "    .filter(lambda x: len(x) == 10) \\\n",
    "    .map(lambda x: x[8]) \\\n",
    "    .flatMap(lambda x: x.split(\"|\")) \\\n",
    "    .filter(lambda x: x.strip() != 'Allocated') \\\n",
    "    .filter(lambda x: x.strip() != 'INDUSTRY') \\\n",
    "    .filter(lambda x: x.strip() != 'FED') \\\n",
    "    .map(lambda x: (x.strip(), 1)) \\\n",
    "    .reduceByKey(lambda x, y: x + y) \\\n",
    "    .map(lambda x: (x[1], x[0])) \\\n",
    "    .sortByKey(ascending=False) \\\n",
    "    .map(lambda x: (x[1], x[0]))\n",
    "\n",
    "\n",
    "# Output the top 5\n",
    "study_types = types.take(5)\n",
    "\n",
    "for types, frequency in study_types:\n",
    "    print(f\"Study_Type: {types}, Frequency: {frequency}\")\n"
   ]
  },
  {
   "cell_type": "code",
   "execution_count": 0,
   "metadata": {
    "application/vnd.databricks.v1+cell": {
     "cellMetadata": {
      "byteLimit": 2048000,
      "rowLimit": 10000
     },
     "inputWidgets": {},
     "nuid": "fd96f548-5059-432b-8ad0-a22c7aece71c",
     "showTitle": true,
     "title": "Question 2: Frequency of Types of studies in dataset"
    }
   },
   "outputs": [
    {
     "output_type": "stream",
     "name": "stdout",
     "output_type": "stream",
     "text": [
      "Study_Type: INTERVENTIONAL, Frequency: 189457\nStudy_Type: OBSERVATIONAL, Frequency: 70860\nStudy_Type: OTHER, Frequency: 132\n"
     ]
    }
   ],
   "source": [
    "#Using all lines in the dataset and adjusting the index position to capture study types.\n",
    "# At the end, I filter values that are not study types\n",
    "\n",
    "# For lines with length 10\n",
    "types_len_10 = rdd1_splitline \\\n",
    "    .map(lambda x: x.split(\"\\\\t\")) \\\n",
    "    .filter(lambda x: len(x) == 10) \\\n",
    "    .map(lambda x: x[8]) \\\n",
    "    .flatMap(lambda x: x.split(\"|\")) \\\n",
    "    .filter(lambda x: x.strip() != 'Allocated') \\\n",
    "    .map(lambda x: (x.strip(), 1)) \\\n",
    "    .reduceByKey(lambda x, y: x + y) \\\n",
    "    .map(lambda x: (x[1], x[0])) \\\n",
    "    .sortByKey(ascending=False) \\\n",
    "    .map(lambda x: (x[1], x[0]))\n",
    "\n",
    "# For lines with length 9\n",
    "types_len_9 = rdd1_splitline \\\n",
    "    .map(lambda x: x.split(\"\\\\t\")) \\\n",
    "    .filter(lambda x: len(x) == 9) \\\n",
    "    .map(lambda x: x[7]) \\\n",
    "    .flatMap(lambda x: x.split(\"|\")) \\\n",
    "    .filter(lambda x: x.strip() != 'Allocated') \\\n",
    "    .map(lambda x: (x.strip(), 1)) \\\n",
    "    .reduceByKey(lambda x, y: x + y) \\\n",
    "    .map(lambda x: (x[1], x[0])) \\\n",
    "    .sortByKey(ascending=False) \\\n",
    "    .map(lambda x: (x[1], x[0]))\n",
    "\n",
    "# For lines with length 11\n",
    "types_len_11 = rdd1_splitline \\\n",
    "    .map(lambda x: x.split(\"\\\\t\")) \\\n",
    "    .filter(lambda x: len(x) == 11) \\\n",
    "    .map(lambda x: x[9]) \\\n",
    "    .flatMap(lambda x: x.split(\"|\")) \\\n",
    "    .filter(lambda x: x.strip() != 'Allocated') \\\n",
    "    .map(lambda x: (x.strip(), 1)) \\\n",
    "    .reduceByKey(lambda x, y: x + y) \\\n",
    "    .map(lambda x: (x[1], x[0])) \\\n",
    "    .sortByKey(ascending=False) \\\n",
    "    .map(lambda x: (x[1], x[0]))\n",
    "\n",
    "# For lines with length 12\n",
    "types_len_12 = rdd1_splitline \\\n",
    "    .map(lambda x: x.split(\"\\\\t\")) \\\n",
    "    .filter(lambda x: len(x) == 12) \\\n",
    "    .map(lambda x: x[10]) \\\n",
    "    .flatMap(lambda x: x.split(\"|\")) \\\n",
    "    .filter(lambda x: x.strip() != 'Allocated') \\\n",
    "    .map(lambda x: (x.strip(), 1)) \\\n",
    "    .reduceByKey(lambda x, y: x + y) \\\n",
    "    .map(lambda x: (x[1], x[0])) \\\n",
    "    .sortByKey(ascending=False) \\\n",
    "    .map(lambda x: (x[1], x[0]))\n",
    "\n",
    "# Combine results for all lengths\n",
    "all_types = types_len_10.union(types_len_9).union(types_len_11).union(types_len_12)\n",
    "\n",
    "# Aggregate frequencies for each study type\n",
    "aggregated_types = all_types.reduceByKey(lambda x, y: x + y)\n",
    "\n",
    "# Sort aggregated types by frequency in ascending order\n",
    "sorted_types = aggregated_types.sortBy(lambda x: x[1], ascending=False)\n",
    "\n",
    "# Output the sorted results\n",
    "for study_type, frequency in sorted_types.take(3):\n",
    "    print(f\"Study_Type: {study_type}, Frequency: {frequency}\")"
   ]
  },
  {
   "cell_type": "code",
   "execution_count": 0,
   "metadata": {
    "application/vnd.databricks.v1+cell": {
     "cellMetadata": {
      "byteLimit": 2048000,
      "rowLimit": 10000
     },
     "inputWidgets": {},
     "nuid": "061cca8c-13c1-4b8a-af3d-9a71f8b54cd3",
     "showTitle": true,
     "title": "Question 3: The Top 5 Conditions with their frequencies"
    }
   },
   "outputs": [
    {
     "output_type": "stream",
     "name": "stdout",
     "output_type": "stream",
     "text": [
      "Condition: Healthy, Frequency: 7003\nCondition: Breast Cancer, Frequency: 3454\nCondition: Obesity, Frequency: 2863\nCondition: Pain, Frequency: 2379\nCondition: HIV Infections, Frequency: 1992\n"
     ]
    }
   ],
   "source": [
    "#Question 3: The Top 5 Conditions with their frequencies and filter out values that are not condition\n",
    "\n",
    "top5 = rdd1_splitline \\\n",
    "    .map(lambda x: x.split(\"\\\\t\")) \\\n",
    "    .filter(lambda x: len(x) > 3) \\\n",
    "    .map(lambda x: x[3]) \\\n",
    "    .flatMap(lambda x: x.split(\"|\")) \\\n",
    "    .filter(lambda x: x.strip() != 'COMPLETED') \\\n",
    "    .map(lambda x: (x.strip(), 1)) \\\n",
    "    .reduceByKey(lambda x, y: x + y) \\\n",
    "    .map(lambda x: (x[1], x[0])) \\\n",
    "    .sortByKey(ascending=False) \\\n",
    "    .map(lambda x: (x[1], x[0]))\n",
    "\n",
    "\n",
    "# Output the top 5\n",
    "top_5_conditions = top5.take(5)\n",
    "\n",
    "for condition, frequency in top_5_conditions:\n",
    "    print(f\"Condition: {condition}, Frequency: {frequency}\")\n"
   ]
  },
  {
   "cell_type": "code",
   "execution_count": 0,
   "metadata": {
    "application/vnd.databricks.v1+cell": {
     "cellMetadata": {
      "byteLimit": 2048000,
      "rowLimit": 10000
     },
     "inputWidgets": {},
     "nuid": "e6e1079e-710f-427e-8953-eb873e1a0690",
     "showTitle": true,
     "title": "10 Most common sponsors that are not pharmacetical companies"
    }
   },
   "outputs": [
    {
     "output_type": "stream",
     "name": "stdout",
     "output_type": "stream",
     "text": [
      "[Truncated to first 65536 bytes]\nOut[51]: '\"Company\",\"Parent_Company\",\"Penalty_Amount\",\"Subtraction_From_Penalty\",\"Penalty_Amount_Adjusted_For_Eliminating_Multiple_Counting\",\"Penalty_Year\",\"Penalty_Date\",\"Offense_Group\",\"Primary_Offense\",\"Secondary_Offense\",\"Description\",\"Level_of_Government\",\"Action_Type\",\"Agency\",\"Civil/Criminal\",\"Prosecution_Agreement\",\"Court\",\"Case_ID\",\"Private_Litigation_Case_Title\",\"Lawsuit_Resolution\",\"Facility_State\",\"City\",\"Address\",\"Zip\",\"NAICS_Code\",\"NAICS_Translation\",\"HQ_Country_of_Parent\",\"HQ_State_of_Parent\",\"Ownership_Structure\",\"Parent_Company_Stock_Ticker\",\"Major_Industry_of_Parent\",\"Specific_Industry_of_Parent\",\"Info_Source\",\"Notes\"\\n\"Abbott Laboratories\",\"Abbott Laboratories\",\"$5,475,000\",\"$0\",\"$5,475,000\",\"2013\",\"20131227\",\"government-contracting-related offenses\",\"False Claims Act and related\",\"kickbacks and bribery\",\"Abbott Laboratories agreed to $5.475 million to resolve allegations that it violated the False Claims Act by paying kickbacks to induce doctors to implant the company\\'s carotid, biliary and peripheral vascular products.\",\"federal\",\"agency action\",\"Justice Department Civil Division\",\"civil\",\"\",\"\",\"\",\"\",\"\",\"\",\"\",\"\",\"\",\"\",\"\",\"USA\",\"Illinois\",\"publicly traded\",\"ABT\",\"pharmaceuticals\",\"pharmaceuticals\",\"https://www.justice.gov/opa/pr/abbott-laboratories-pays-us-5475-million-settle-claims-company-paid-kickbacks-physicians\",\"\"\\n\"Abbott Laboratories Inc.\",\"AbbVie\",\"$1,500,000,000\",\"$0\",\"$1,500,000,000\",\"2012\",\"20120507\",\"healthcare-related offenses\",\"off-label or unapproved promotion of medical products\",\"\",\"Global Health Care Company Abbott Laboratories Inc. has pleaded guilty and agreed to pay $1.5 billion to resolve its criminal and civil liability arising from the company\\'s unlawful promotion of the prescription drug Depakote for uses not approved as safe and effective by the Food and Drug Administration. The resolution - the second largest payment by a drug company - includes a criminal fine and forfeiture totaling $700 million and civil settlements with the federal government and the states totaling $800 million. Abbott also will be subject to court-supervised probation and reporting obligations for Abbotts CEO and Board of Directors.\",\"federal\",\"agency action\",\"Food and Drug Administration referral to the Justice Department\",\"civil and criminal\",\"\",\"\",\"\",\"\",\"\",\"\",\"\",\"\",\"\",\"\",\"\",\"USA\",\"Illinois\",\"publicly traded\",\"ABBV\",\"pharmaceuticals\",\"pharmaceuticals\",\"http://www.justice.gov/opa/pr/abbott-labs-pay-15-billion-resolve-criminal-civil-investigations-label-promotion-depakote\",\"\"\\n\"Abbott Laboratories Inc.\",\"AbbVie\",\"$126,500,000\",\"$0\",\"$126,500,000\",\"2010\",\"20101207\",\"government-contracting-related offenses\",\"False Claims Act and related\",\"\",\"Abbott Laboratories Inc., B. Braun Medical Inc. and Roxane Laboratories Inc. n/k/a Boehringer Ingelheim Roxane Inc. and affiliated entities agreed to pay $421 million to settle False Claims Act allegations, that they engaged in a scheme to report false and inflated prices for numerous pharmaceutical products knowing that federal healthcare programs relied on those reported prices to set payment rates.\",\"federal\",\"agency action\",\"Justice Department Civil Division\",\"civil\",\"\",\"\",\"\",\"\",\"\",\"\",\"\",\"\",\"\",\"\",\"\",\"USA\",\"Illinois\",\"publicly traded\",\"ABBV\",\"pharmaceuticals\",\"pharmaceuticals\",\"https://www.justice.gov/opa/pr/pharmaceutical-manufacturers-pay-4212-million-settle-false-claims-act-cases\",\"\"\\n\"Abbott Laboratories Puerto Rico, Inc.\",\"Abbott Laboratories\",\"$49,045\",\"$0\",\"$49,045\",\"2009\",\"20090305\",\"employment-related offenses\",\"wage and hour violation\",\"Fair Labor Standards Act\",\"\",\"federal\",\"agency action\",\"Labor Department Wage and Hour Division\",\"civil\",\"\",\"\",\"1527129\",\"\",\"\",\"Puerto Rico\",\"San Juan\",\"\",\"\",\"423450\",\"423450: Medical, Dental, and Hospital Equipment and Supplies Merchant Wholesalers\",\"USA\",\"Illinois\",\"publicly traded\",\"ABT\",\"pharmaceuticals\",\"pharmaceuticals\",\"March 7, 2017 download of a dataset posted by the Wage and Hour Division at https://enforcedata.dol.gov/views/data_summary.php\",\"Date and year are the Findings End Date in the dataset posted by the Wage and Hour Division, which does not provide case opening or closing dates. The company name is the Legal Name provided by the dataset unless that field is blank, in which case the Trade Name is used. The dataset provides only one address and does not indicate whether it is the company headquarters address or the establishment address. The penalty amount is the total of civil monetary penalties and mandated back wages. The original dataset provides a breakdown.\"\\n\"Acclarent Inc.\",\"Johnson & Johnson\",\"$18,000,000\",\"$0\",\"$18,000,000\",\"2016\",\"20160722\",\"government-contracting-related offenses\",\"False Claims Act and related\",\"\",\"California-based medical device manufacturer Acclarent Inc., a subsidiary of Johnson & Johnson, agreed to pay $18 million to resolve allegations that the company caused health care providers to submit false claims to Medicare and other federal health care programs by marketing and distributing its sinus spacer product for use as a drug delivery device without Food and Drug Administration approval.\",\"federal\",\"agency action\",\"Justice Department Civil Division\",\"civil\",\"\",\"\",\"\",\"\",\"\",\"\",\"\",\"\",\"\",\"\",\"\",\"USA\",\"New Jersey\",\"publicly traded\",\"JNJ\",\"pharmaceuticals\",\"pharmaceuticals\",\"https://www.justice.gov/opa/pr/johnson-johnson-subsidiary-acclarent-inc-pays-government-18-million-settle-false-claims-act\",\"\"\\n\"Advanced Medical Optics\",\"Abbott Laboratories\",\"$16,800\",\"$0\",\"$16,800\",\"2004\",\"20040412\",\"employment-related offenses\",\"labor relations violation\",\"\",\"back pay award in unfair labor practices case\",\"federal\",\"agency action\",\"National Labor Relations Board\",\"civil\",\"\",\"\",\"21-CA-36104-001\",\"\",\"\",\"California\",\"Irvine\",\"\",\"92606\",\"333314\",\"333314: Optical Instrument and Lens Manufacturing\",\"USA\",\"Illinois\",\"publicly traded\",\"ABT\",\"pharmaceuticals\",\"pharmaceuticals\",\"Extracted from an NLRB dataset covering 1999-2011 downloaded at https://catalog.data.gov/dataset/nlrb-cats-final-c-case-data-bulk-19990101-20110930-in-xml\",\"\"\\n\"Advanced Neuromodulation Systems, Inc.\",\"Abbott Laboratories\",\"$2,950,000\",\"$0\",\"$2,950,000\",\"2007\",\"20070702\",\"healthcare-related offenses\",\"HHS civil monetary penalties\",\"kickbacks and bribery\",\"The HHS Inspector General announced that Advanced Neuromodulation Systems, Inc.,  a medical device manufacturer specializing in spinal cord stimulation used for pain management, agreed to pay $2.95 million to settle allegations that it paid kickbacks to physicians in violation of the Civil Monetary Penalties Law (CMPL). The company also entered into a 3-year Corporate Integrity Agreement.\",\"federal\",\"agency action\",\"Health & Human Services Department Office of Inspector General\",\"civil\",\"\",\"\",\"\",\"\",\"\",\"\",\"\",\"\",\"\",\"\",\"\",\"USA\",\"Illinois\",\"publicly traded\",\"ABT\",\"pharmaceuticals\",\"pharmaceuticals\",\"https://oig.hhs.gov/publications/docs/press/2007/ANS%20Press%20Release.pdf\",\"\"\\n\"Advanced Sterilization Products\",\"Johnson & Johnson\",\"$136,800\",\"$0\",\"$136,800\",\"2014\",\"20140520\",\"environment-related offenses\",\"environmental violation\",\"\",\"The U.S. Environmental Protection Agency announced that an Irvine, Calif. company, Advanced Sterilization Products, has agreed to pay a $136,800 penalty for the sale and distribution of unregistered and misbranded pesticides to veterinary clinics and laboratories nationwide.\",\"federal\",\"agency action\",\"Environmental Protection Agency\",\"civil\",\"\",\"\",\"\",\"\",\"\",\"California\",\"Irvine\",\"\",\"\",\"\",\"\",\"USA\",\"New Jersey\",\"publicly traded\",\"JNJ\",\"pharmaceuticals\",\"pharmaceuticals\",\"https://archive.epa.gov/epapages/newsroom_archive/newsreleases/8e820317c86e4c5685257cde00717855.html\",\"\"\\n\"Advanced Sterilization Products, a division of Ethicon Inc.\",\"Johnson & Johnson\",\"$1,200,000\",\"$0\",\"$1,200,000\",\"2013\",\"20131204\",\"safety-related offenses\",\"drug or medical equipment safety violation\",\"\",\"Settlement of a civil money penalty action against Advanced Sterilization Products, a division of Ethicon Inc., a Johnson & Johnson company, and two of ASP\\'s executives alleging that ASP manufactured and distributed adulterated and misbranded sterilization monitoring products.\",\"federal\",\"agency action\",\"Food and Drug Administration\",\"civil\",\"\",\"\",\"\",\"\",\"\",\"California\",\"Irvine\",\"\",\"\",\"\",\"\",\"USA\",\"New Jersey\",\"publicly traded\",\"JNJ\",\"pharmaceuticals\",\"pharmaceuticals\",\"http://www.fda.gov/NewsEvents/Newsroom/PressAnnouncements/ucm377588.htm\",\"\"\\n\"Alere San Diego Inc.\",\"Abbott Laboratories\",\"$10,572\",\"$0\",\"$10,572\",\"2017\",\"20170309\",\"employment-related offenses\",\"wage and hour violation\",\"Fair Labor Standards Act\",\"\",\"federal\",\"agency action\",\"Labor Department Wage and Hour Division\",\"civil\",\"\",\"\",\"1813371\",\"\",\"\",\"California\",\"Pomona\",\"828 Towne Center Dr.\",\"91767\",\"\",\"\",\"USA\",\"Illinois\",\"publicly traded\",\"ABT\",\"pharmaceuticals\",\"pharmaceuticals\",\"July 23, 2017 download of a dataset posted by the Wage and Hour Division at https://enforcedata.dol.gov/views/data_summary.php\",\"Date and year are the Findings End Date in the dataset posted by the Wage and Hour Division, which does not provide case opening or closing dates. The company name is the Legal Name provided by the dataset unless that field is blank, in which case the Trade Name is used. The dataset provides only one address and does not indicate whether it is the company headquarters address or the establishment address. The penalty amount is the total of civil monetary penalties and mandated back wages. The original dataset provides a breakdown.\"\\n\"Allergan Inc.\",\"AbbVie\",\"$600,000,000\",\"$0\",\"$600,000,000\",\"2010\",\"20100901\",\"healthcare-related offenses\",\"off-label or unapproved promotion of medical products\",\"\",\"American pharmaceutical manufacturer Allergan Inc. has agreed to plead guilty and pay $600 million to resolve its criminal and civil liability arising from the company\\'s unlawful promotion of its biological product, Botox Therapeutic, for uses not approved as safe and effective by the Food and Drug Administration. The resolution included a criminal fine and forfeiture totaling $375 million and a civil settlement with the federal government and the states of $225 million.\",\"federal\",\"agency action\",\"Food and Drug Administration referral to the Justice Department\",\"civil and criminal\",\"\",\"\",\"\",\"\",\"\",\"\",\"\",\"\",\"\",\"\",\"\",\"USA\",\"Illinois\",\"publicly traded\",\"ABBV\",\"pharmaceuticals\",\"pharmaceuticals\",\"http://www.justice.gov/opa/pr/allergan-agrees-plead-guilty-and-pay-600-million-resolve-allegations-label-promotion-botox\",\"\"\\n\"Allergan Inc.\",\"AbbVie\",\"$15,000,000\",\"$0\",\"$15,000,000\",\"2017\",\"20170117\",\"financial offenses\",\"investor protection violation\",\"\",\"Allergan Inc. admitted securities law violations and agreed to pay a $15 million penalty for disclosure failures in the wake of a hostile takeover bid.\",\"federal\",\"agency action\",\"Securities and Exchange Commission\",\"civil\",\"\",\"\",\"\",\"\",\"\",\"\",\"\",\"\",\"\",\"\",\"\",\"USA\",\"Illinois\",\"publicly traded\",\"ABBV\",\"pharmaceuticals\",\"pharmaceuticals\",\"https://www.sec.gov/news/pressrelease/2017-16.html\",\"\"\\n\"Alpharma Inc.\",\"Pfizer\",\"$42,500,000\",\"$0\",\"$42,500,000\",\"2010\",\"20100316\",\"government-contracting-related offenses\",\"False Claims Act and related\",\"kickbacks and bribery\",\"Alpharma Inc. agreed to pay $42.5 million to resolve False Claims Act allegations in connection with the marketing of the morphine-based drug Kadian. The settlement resolved allegations that between January 1, 2000 and December 29, 2008 Alpharma paid health care providers to induce them to promote or prescribe Kadian, and made misrepresentations about the safety and efficacy of the drug. \",\"federal\",\"agency action\",\"Justice Department Civil Division\",\"civil\",\"\",\"\",\"\",\"\",\"\",\"\",\"\",\"\",\"\",\"\",\"\",\"USA\",\"New York\",\"publicly traded\",\"PFE\",\"pharmaceuticals\",\"pharmaceuticals\",\"https://www.justice.gov/opa/pr/alpharma-pay-425-million-resolve-false-claims-act-allegations-connection-promotion-drug\",\"\"\\n\"Alpharma, Inc.\",\"Pfizer\",\"$2,500,000\",\"$0\",\"$2,500,000\",\"2004\",\"20040812\",\"competition-related offenses\",\"price-fixing or anti-competitive practices\",\"consumer protection violation\",\"Generic drug manufacturers Alpharma Inc. and Perrigo Company agreed to give up a total of $6.25 million in illegal profits to settle Federal Trade Commission allegations that their agreement to limit competition for over-the-counter store-brand children\\'s liquid ibuprofen drove up prices and violated federal law.\",\"federal\",\"agency action\",\"Federal Trade Commission\",\"civil\",\"\",\"\",\"\",\"\",\"\",\"\",\"\",\"\",\"\",\"\",\"\",\"USA\",\"New York\",\"publicly traded\",\"PFE\",\"pharmaceuticals\",\"pharmaceuticals\",\"https://www.ftc.gov/news-events/press-releases/2004/08/generic-drug-marketers-settle-ftc-charges\",\"\"\\n\"American Pharmaceutical Partners, Inc.\",\"Bristol-Myers Squibb\",\"$160,203\",\"$0\",\"$160,203\",\"2004\",\"20041226\",\"employment-related offenses\",\"wage and hour violation\",\"Fair Labor Standards Act\",\"\",\"federal\",\"agency action\",\"Labor Department Wage and Hour Division\",\"civil\",\"\",\"\",\"1379241\",\"\",\"\",\"New York\",\"Grand Island\",\"\",\"14072\",\"32541\",\"32541: Pharmaceutical and Medicine Manufacturing\",\"USA\",\"New York\",\"publicly traded\",\"BMY\",\"pharmaceuticals\",\"pharmaceuticals\",\"March 7, 2017 download of a dataset posted by the Wage and Hour Division at https://enforcedata.dol.gov/views/data_summary.php\",\"Date and year are the Findings End Date in the dataset posted by the Wage and Hour Division, which does not provide case opening or closing dates. The company name is the Legal Name provided by the dataset unless that field is blank, in which case the Trade Name is used. The dataset provides only one address and does not indicate whether it is the company headquarters address or the establishment address. The penalty amount is the total of civil monetary penalties and mandated back wages. The original dataset provides a breakdown.\"\\n\"Amgen Inc.\",\"Amgen\",\"$762,000,000\",\"$0\",\"$762,000,000\",\"2012\",\"20121219\",\"healthcare-related offenses\",\"off-label or unapproved promotion of medical products\",\"\",\"U.S. District Judge Sterling Johnson, Jr. accepted a guilty plea by American biotechnology giant Amgen Inc. for illegally introducing a misbranded drug into interstate commerce. The plea is part of a global settlement with the United States in which Amgen agreed to pay $762 million to resolve criminal and civil liability arising from its sale and promotion of certain drugs.\",\"federal\",\"agency action\",\"Food and Drug Administration referral to the Justice Department\",\"civil and criminal\",\"\",\"\",\"\",\"\",\"\",\"\",\"\",\"\",\"\",\"\",\"\",\"USA\",\"California\",\"publicly traded\",\"AMGN\",\"pharmaceuticals\",\"pharmaceuticals\",\"http://www.justice.gov/opa/pr/amgen-inc-pleads-guilty-federal-charge-brooklyn-ny-pays-762-million-resolve-criminal\",\"\"\\n\"Amgen Inc.\",\"Amgen\",\"$24,900,000\",\"$0\",\"$24,900,000\",\"2013\",\"20130416\",\"government-contracting-related offenses\",\"False Claims Act and related\",\"kickbacks and bribery\",\"Amgen Inc. agreed to pay the United States $24.9 million to settle allegations that it violated the False Claims Act. The company was accused of paying kickbacks  to long-term care pharmacy providers Omnicare Inc., PharMerica Corporation and Kindred Healthcare Inc. in return for implementing \"\"therapeutic interchange\"\" programs that were designed to switch Medicare and Medicaid beneficiaries from a competitor drug to Amgen\\'s Aranesp.\",\"federal\",\"agency action\",\"Justice Department Civil Division\",\"civil\",\"\",\"\",\"\",\"\",\"\",\"\",\"\",\"\",\"\",\"\",\"\",\"USA\",\"California\",\"publicly traded\",\"AMGN\",\"pharmaceuticals\",\"pharmaceuticals\",\"https://www.justice.gov/opa/pr/amgen-pay-us-249-million-resolve-false-claims-act-allegations\",\"\"\\n\"Amgen, Inc.\",\"Amgen\",\"$40,000\",\"$0\",\"$40,000\",\"2011\",\"20110302\",\"employment-related offenses\",\"labor relations violation\",\"\",\"back pay award in unfair labor practices case\",\"federal\",\"agency action\",\"National Labor Relations Board\",\"civil\",\"\",\"\",\"14-CA-30273-001\",\"\",\"\",\"Missouri\",\"St. Louis\",\"\",\"63130\",\"541720\",\"541720: Research and Development in the Social Sciences and Humanities\",\"USA\",\"California\",\"publicly traded\",\"AMGN\",\"pharmaceuticals\",\"pharmaceuticals\",\"Extracted from an NLRB dataset covering 1999-2011 downloaded at https://catalog.data.gov/dataset/nlrb-cats-final-c-case-data-bulk-19990101-20110930-in-xml\",\"\"\\n\"Amneal Pharmaceuticals of NY, LLC\",\"Amneal Pharmaceuticals\",\"$99,000\",\"$0\",\"$99,000\",\"2015\",\"20150930\",\"employment-related offenses\",\"employment discrimination\",\"\",\"\",\"federal\",\"agency action\",\"Office of Federal Contract Compliance Programs\",\"civil\",\"\",\"\",\"\",\"\",\"\",\"\",\"\",\"\",\"\",\"\",\"\",\"USA\",\"New Jersey\",\"publicly traded\",\"AMRX\",\"pharmaceuticals\",\"pharmaceuticals\",\"https://www.dol.gov/ofccp/foia/files/AmnealPharmaceuticalsCA_Redacted.pdf\",\"\"\\n\"Astellas Pharma US Inc.\",\"Astellas Pharma\",\"$7,300,000\",\"$0\",\"$7,300,000\",\"2014\",\"20140416\",\"government-contracting-related offenses\",\"False Claims Act and related\",\"off-label or unapproved promotion of medical products\",\"Astellas Pharma US Inc. agreed to pay $7.3 million to resolve allegations that it violated the False Claims Act in connection with its marketing and promotion of the drug Mycamine for pediatric use, which had not received FDA approval.\",\"federal\",\"agency action\",\"Justice Department Civil Division\",\"civil\",\"\",\"\",\"\",\"\",\"\",\"\",\"\",\"\",\"\",\"\",\"\",\"Japan\",\"\",\"publicly traded\",\"\",\"pharmaceuticals\",\"pharmaceuticals\",\"https://www.justice.gov/opa/pr/astellas-pharma-us-inc-pay-73-million-resolve-false-claims-act-allegations-relating-marketing\",\"\"\\n\"AstraZeneca\",\"AstraZeneca\",\"$250,000\",\"$0\",\"$250,000\",\"2011\",\"20110606\",\"employment-related offenses\",\"employment discrimination\",\"\",\"AstraZeneca agreed to pay $250,000 to 124 women who allegedly were subjected to pay discrimination while working at the corporation\\'s Philadelphia Business Center in Wayne, Pa. The action resolved a lawsuit filed by the U.S. Department of Labor in May 2010 alleging that the company discriminated against female sales specialists by paying them salaries that were, on average, $1,700 less than their male counterparts. \",\"federal\",\"agency action\",\"Office of Federal Contract Compliance Programs\",\"civil\",\"\",\"\",\"\",\"\",\"\",\"Pennsylvania\",\"Wayne\",\"\",\"\",\"\",\"\",\"United Kingdom\",\"\",\"publicly traded\",\"LSE: AZN\",\"pharmaceuticals\",\"pharmaceuticals\",\"https://www.dol.gov/opa/media/press/ofccp/OFCCP20110829.htm\",\"\"\\n\"AstraZeneca LP\",\"AstraZeneca\",\"$520,000,000\",\"$0\",\"$520,000,000\",\"2010\",\"20100427\",\"healthcare-related offenses\",\"off-label or unapproved promotion of medical products\",\"\",\"AstraZeneca LP and AstraZeneca Pharmaceuticals LP will pay $520 million to resolve allegations that AstraZeneca illegally marketed the anti-psychotic drug Seroquel for uses not approved as safe and effective by the Food and Drug Administration, the Departments of Justice and Health and Human Services\\' Health Care Fraud Enforcement Action Team.\",\"federal\",\"agency action\",\"Food and Drug Administration referral to the Justice Department\",\"civil\",\"\",\"\",\"\",\"\",\"\",\"\",\"\",\"\",\"\",\"\",\"\",\"United Kingdom\",\"\",\"publicly traded\",\"LSE: AZN\",\"pharmaceuticals\",\"pharmaceuticals\",\"http://www.justice.gov/opa/pr/pharmaceutical-giant-astrazeneca-pay-520-million-label-drug-marketing\",\"\"\\n\"AstraZeneca LP\",\"AstraZeneca\",\"$46,500,000\",\"$0\",\"$46,500,000\",\"2015\",\"20150706\",\"government-contracting-related offenses\",\"False Claims Act and related\",\"\",\"AstraZeneca LP agreed to pay the United States and participating states a total of $46.5 million, plus interest, to resolve allegations that it knowingly underpaid rebates owed under the Medicaid Drug Rebate Program.\",\"federal\",\"agency action\",\"Justice Department Civil Division\",\"civil\",\"\",\"\",\"\",\"\",\"\",\"\",\"\",\"\",\"\",\"\",\"\",\"United Kingdom\",\"\",\"publicly traded\",\"LSE: AZN\",\"pharmaceuticals\",\"pharmaceuticals\",\"https://www.justice.gov/opa/pr/astrazeneca-and-cephalon-pay-465-million-and-75-million-respectively-allegedly-underpaying\",\"\"\\n\"AstraZeneca LP\",\"AstraZeneca\",\"$7,900,000\",\"$0\",\"$7,900,000\",\"2015\",\"20150211\",\"government-contracting-related offenses\",\"False Claims Act and related\",\"kickbacks and bribery\",\"AstraZeneca LP, a pharmaceutical manufacturer based in Delaware, agreed to pay the government $7.9 million to settle allegations that it engaged in a kickback scheme in violation of the False Claims Act.\",\"federal\",\"agency action\",\"Justice Department Civil Division\",\"civil\",\"\",\"\",\"\",\"\",\"\",\"\",\"\",\"\",\"\",\"\",\"\",\"United Kingdom\",\"\",\"publicly traded\",\"LSE: AZN\",\"pharmaceuticals\",\"pharmaceuticals\",\"https://www.justice.gov/opa/pr/astrazeneca-pay-79-million-resolve-kickback-allegations\",\"\"\\n\"AstraZeneca Pharmaceuticals\",\"AstraZeneca\",\"$2,600,000\",\"$0\",\"$2,600,000\",\"2009\",\"20091019\",\"government-contracting-related offenses\",\"False Claims Act and related\",\"\",\"Mylan Pharmaceuticals, UDL Laboratories, AstraZeneca Pharmaceuticals and Ortho McNeil Pharmaceutical entered into settlement agreements for a total of $124 million to resolve claims that they violated the False Claims Act by failing to pay appropriate rebates to state Medicaid programs for drugs paid for by those programs.\",\"federal\",\"agency action\",\"Justice Department Civil Division\",\"civil\",\"\",\"\",\"\",\"\",\"\",\"\",\"\",\"\",\"\",\"\",\"\",\"United Kingdom\",\"\",\"publicly traded\",\"LSE: AZN\",\"pharmaceuticals\",\"pharmaceuticals\",\"https://www.justice.gov/opa/pr/four-pharmaceutical-companies-pay-124-million-submission-false-claims-medicaid\",\"\"\\n\"AstraZeneca Pharmaceuticals LP\",\"AstraZeneca\",\"$354,900,000\",\"$0\",\"$354,900,000\",\"2003\",\"20030620\",\"government-contracting-related offenses\",\"False Claims Act and related\",\"\",\"AstraZeneca Pharmaceuticals LP pleaded guilty in federal district court in Wilmington, Delaware and agreed to pay $354.9 million to resolve criminal charges and civil liabilities in connection with its drug pricing and marketing practices with regard to Zoladex, a drug used primarily for the treatment of prostate cancer. AstraZeneca agreed to pay a criminal fine of $63.9 million as part of pleaded guilty to conspiring to violate the Prescription Drug Marketing Act by causing to be submitted claims for payment for the prescription of Zoladex which had been provided as free samples to urologists. AstraZeneca agreed to settle its federal civil False Claim Act liabilities and to pay the U.S. government $266.1 million to resolve allegations it caused false and fraudulent claims to be filed with the Medicare; another $24.9 million was to be paid to states to resolve similar claims concerning Medicaid.\",\"federal\",\"agency action\",\"Justice Department Civil Division\",\"civil and criminal\",\"\",\"\",\"\",\"\",\"\",\"\",\"\",\"\",\"\",\"\",\"\",\"United Kingdom\",\"\",\"publicly traded\",\"LSE: AZN\",\"pharmaceuticals\",\"pharmaceuticals\",\"https://www.justice.gov/archive/opa/pr/2003/June/03_civ_371.htm\",\"\"\\n\"AstraZeneca PLC\",\"AstraZeneca\",\"$5,522,000\",\"$0\",\"$5,522,000\",\"2016\",\"20160830\",\"competition-related offenses\",\"kickbacks and bribery\",\"\",\"\",\"federal\",\"agency action\",\"Securities and Exchange Commission\",\"civil\",\"\",\"\",\"\",\"\",\"\",\"\",\"\",\"\",\"\",\"\",\"\",\"United Kingdom\",\"\",\"publicly traded\",\"LSE: AZN\",\"pharmaceuticals\",\"pharmaceuticals\",\"https://www.sec.gov/litigation/admin/2016/34-78730.pdf\",\"\"\\n\"Aventis Pharmaceutical Inc.\",\"Sanofi\",\"$95,500,000\",\"$0\",\"$95,500,000\",\"2009\",\"20090528\",\"government-contracting-related offenses\",\"False Claims Act and related\",\"\",\"Aventis Pharmaceutical Inc. agreed to pay the United States $95.5 million to settle allegations that it violated the False Claims Act by misreporting drug prices in order to reduce its Medicaid Drug Rebate obligations.\",\"federal\",\"agency action\",\"Justice Department Civil Division\",\"civil\",\"\",\"\",\"\",\"\",\"\",\"\",\"\",\"\",\"\",\"\",\"\",\"France\",\"\",\"publicly traded\",\"\",\"pharmaceuticals\",\"pharmaceuticals\",\"https://www.justice.gov/opa/pr/aventis-pharmaceutical-pay-us-955-million-settle-false-claims-act-allegations\",\"\"\\n\"Aventis Pharmaceuticals Inc.\",\"Sanofi\",\"$190,000,000\",\"$0\",\"$190,000,000\",\"2007\",\"20070910\",\"government-contracting-related offenses\",\"False Claims Act and related\",\"fraud\",\"Aventis Pharmaceuticals Inc. paid the United States and a number of states, as well as the District of Columbia, over $190 million to resolve allegations that the company caused false claims to be filed with Medicare and other federal health programs as a result of the company\\'s alleged fraudulent pricing and marketing of drugs. Aventis, which changed its name to Sanofi-Aventis,  agreed to settle False Claims Act allegations concerning its pricing and marketing of Anzemet, an antiemetic drug used primarily in conjunction with oncology and radiation treatment to prevent nausea and vomiting. \",\"federal\",\"agency action\",\"Justice Department Civil Division\",\"civil\",\"\",\"\",\"\",\"\",\"\",\"\",\"\",\"\",\"\",\"\",\"\",\"France\",\"\",\"publicly traded\",\"\",\"pharmaceuticals\",\"pharmaceuticals\",\"https://www.justice.gov/archive/opa/pr/2007/September/07_civ_694.html\",\"\"\\n\"AVEO Pharmaceuticals Inc.\",\"AVEO Pharmaceuticals\",\"$4,000,000\",\"$0\",\"$4,000,000\",\"2016\",\"20160329\",\"financial offenses\",\"investor protection violation\",\"\",\"The SEC announced fraud charges against a Massachusetts-based biotech\n\n*** WARNING: max output size exceeded, skipping output. ***\n\n$1,200,000,000\",\"$0\",\"$1,200,000,000\",\"2015\",\"20150528\",\"consumer-protection-related offenses\",\"consumer protection violation\",\"price-fixing or anti-competitive practices\",\"The Federal Trade Commission reached a settlement resolving a suit accusing Cephalon, Inc. of illegally blocking generic competition to its blockbuster sleep-disorder drug Provigil. The settlement ensures that Teva Pharmaceutical Industries, Ltd., which acquired Cephalon in 2012, will make a total of $1.2 billion available to compensate purchasers, including drug wholesalers, pharmacies, and insurers, who overpaid because of Cephalon\\'s illegal conduct.\",\"federal\",\"agency action\",\"Federal Trade Commission\",\"civil\",\"\",\"\",\"\",\"\",\"\",\"\",\"\",\"\",\"\",\"\",\"\",\"Israel\",\"\",\"publicly traded\",\"TEVA\",\"pharmaceuticals\",\"pharmaceuticals\",\"https://www.ftc.gov/news-events/press-releases/2015/05/ftc-settlement-cephalon-pay-delay-case-ensures-12-billion-ill\",\"\"\\n\"CHEROKEE PHARMACEUTICALS LLC\",\"Merck\",\"$10,001\",\"$0\",\"$10,001\",\"2011\",\"20110613\",\"employment-related offenses\",\"benefit plan administrator violation\",\"\",\"Deficient Filer\",\"federal\",\"agency action\",\"Employee Benefits Security Administration\",\"civil\",\"\",\"\",\"\",\"\",\"\",\"Pennsylvania\",\"\",\"\",\"\",\"\",\"\",\"USA\",\"New Jersey\",\"publicly traded\",\"MRK\",\"pharmaceuticals\",\"pharmaceuticals\",\"Included in a dataset downloaded at https://enforcedata.dol.gov/views/data_summary.php\",\"Company is plan administrator. Penalty amount reported in range of $10,001 to $50,000. \"\\n\"Chiron Corporation Ltd\",\"Novartis\",\"$168,500\",\"$0\",\"$168,500\",\"2004\",\"20040604\",\"financial offenses\",\"economic sanction violation\",\"\",\"\",\"federal\",\"agency action\",\"Office of Foreign Assets Control\",\"civil\",\"\",\"\",\"\",\"\",\"\",\"\",\"\",\"\",\"\",\"\",\"\",\"Switzerland\",\"\",\"publicly traded\",\"NYSE: NVS\",\"pharmaceuticals\",\"pharmaceuticals\",\"https://www.treasury.gov/resource-center/sanctions/OFAC-Enforcement/Documents/06042004.pdf\",\"\"\\n\"Cypress Pharmaceutical Inc.\",\"Currax Pharmaceuticals\",\"$2,800,000\",\"$0\",\"$2,800,000\",\"2012\",\"20120328\",\"healthcare-related offenses\",\"off-label or unapproved promotion of medical products\",\"\",\"Mississippi-based Cypress Pharmaceutical Inc., its subsidiary Hawthorn Pharmaceuticals Inc. and its CEO, Max Draughn, have agreed to pay $2.8 million to resolve civil allegations under the False Claims Act, the Justice Department announced. The government alleged that between 2003 and 2009, Cypress, Hawthorn and Draughn were responsible for marketing three pharmaceutical products that were not approved as safe and effective by the Food and Drug Administration (FDA). The products were Hylira, a gel used for the treatment of dry skin, Zaclir, an acne treatment and Zacare, another acne treatment.\",\"federal\",\"agency action\",\"Food and Drug Administration referral to the Justice Department\",\"civil\",\"\",\"\",\"\",\"\",\"\",\"\",\"\",\"\",\"\",\"\",\"\",\"USA\",\"New Jersey\",\"privately held\",\"\",\"pharmaceuticals\",\"pharmaceuticals\",\"http://www.justice.gov/opa/pr/mississippi-pharmaceutical-firm-and-ceo-pay-28-million-resolve-allegations-illegal-marketing\",\"\"\\n\"Daiichi Sankyo Inc.\",\"Daiichi Sankyo\",\"$39,000,000\",\"$0\",\"$39,000,000\",\"2015\",\"20150109\",\"government-contracting-related offenses\",\"False Claims Act and related\",\"kickbacks and bribery\",\"Daiichi Sankyo Inc., a global pharmaceutical company with its U.S. headquarters in New Jersey, agreed to pay the United States and state Medicaid programs $39 million to resolve allegations that it violated the False Claims Act by paying kickbacks to induce physicians to prescribe Daiichi drugs.\",\"federal\",\"agency action\",\"Justice Department Civil Division\",\"civil\",\"\",\"\",\"\",\"\",\"\",\"\",\"\",\"\",\"\",\"\",\"\",\"Japan\",\"\",\"publicly traded\",\"\",\"pharmaceuticals\",\"pharmaceuticals\",\"https://www.justice.gov/opa/pr/daiichi-sankyo-inc-agrees-pay-39-million-settle-kickback-allegations-under-false-claims-act\",\"\"\\n\"Dava Pharmaceuticals Inc.\",\"Endo International\",\"$11,000,000\",\"$0\",\"$11,000,000\",\"2012\",\"20120208\",\"government-contracting-related offenses\",\"False Claims Act and related\",\"\",\"Dava Pharmaceuticals Inc. agreed to pay the United States $11 million to settle allegations that it violated the False Claims Act by misreporting drug prices in order to reduce its Medicaid Drug Rebate obligations.\",\"federal\",\"agency action\",\"Justice Department Civil Division\",\"civil\",\"\",\"\",\"\",\"\",\"\",\"\",\"\",\"\",\"\",\"\",\"\",\"Ireland\",\"\",\"publicly traded\",\"ENDP\",\"pharmaceuticals\",\"pharmaceuticals\",\"https://www.justice.gov/opa/pr/dava-pharmaceuticals-pay-us-11-million-settle-false-claims-act-allegations\",\"\"\\n\"Dey Inc.\",\"Viatris\",\"$280,000,000\",\"$0\",\"$280,000,000\",\"2010\",\"20101220\",\"government-contracting-related offenses\",\"False Claims Act and related\",\"\",\"Dey Inc., Dey Pharma L.P. and Dey L.P. Inc. agreed to pay $280 million to settle False Claims Act allegations that they engaged in a scheme to report false and inflated prices for numerous pharmaceutical products, knowing that federal health care programs relied on those reported prices to set payment rates.\",\"federal\",\"agency action\",\"Justice Department Civil Division\",\"civil\",\"\",\"\",\"\",\"\",\"\",\"\",\"\",\"\",\"\",\"\",\"\",\"USA\",\"Pennsylvania\",\"publicly traded\",\"VTRS\",\"pharmaceuticals\",\"pharmaceuticals\",\"https://www.justice.gov/opa/pr/pharmaceutical-manufacturer-pay-280-million-settle-false-claims-act-case\",\"\"\\n\"Dey, Inc.\",\"Viatris\",\"$18,500,000\",\"$0\",\"$18,500,000\",\"2003\",\"20030611\",\"government-contracting-related offenses\",\"False Claims Act and related\",\"fraud\",\"Dey, Inc., a manufacturer of prescription drugs for the treatment of allergies and respiratory diseases, agreed to pay the United States and the state of Texas $18.5 million to settle allegations of health care fraud.\",\"federal\",\"agency action\",\"Justice Department Civil Division\",\"civil\",\"\",\"\",\"\",\"\",\"\",\"\",\"\",\"\",\"\",\"\",\"\",\"USA\",\"Pennsylvania\",\"publicly traded\",\"VTRS\",\"pharmaceuticals\",\"pharmaceuticals\",\"https://www.justice.gov/archive/opa/pr/2003/June/03_civ_350.htm\",\"\"\\n\"DuPont Pharmaceuticals Company\",\"Bristol-Myers Squibb\",\"$6,600\",\"$0\",\"$6,600\",\"2004\",\"20040806\",\"financial offenses\",\"economic sanction violation\",\"\",\"\",\"federal\",\"agency action\",\"Office of Foreign Assets Control\",\"civil\",\"\",\"\",\"\",\"\",\"\",\"\",\"\",\"\",\"\",\"\",\"\",\"USA\",\"New York\",\"publicly traded\",\"BMY\",\"pharmaceuticals\",\"pharmaceuticals\",\"https://www.treasury.gov/resource-center/sanctions/OFAC-Enforcement/Documents/08062004.pdf\",\"\"\\n\"Eisai Inc.\",\"Eisai\",\"$11,000,000\",\"$0\",\"$11,000,000\",\"2010\",\"20101215\",\"healthcare-related offenses\",\"off-label or unapproved promotion of medical products\",\"\",\"Irish pharmaceutical manufacturer Elan Corporation PLC and its U.S. subsidiary Elan Pharmaceuticals Inc. agreed to pay more than $203 million to resolve criminal and civil liability arising from the illegal promotion of the epilepsy drug Zonegran. In a separate civil settlement, Japanese drug marketer Eisai Inc., which purchased the drug from Elan, will pay $11 million to resolve civil liability for off-label marketing of Zonegran.\",\"federal\",\"agency action\",\"Food and Drug Administration referral to the Justice Department\",\"civil and criminal\",\"\",\"\",\"\",\"\",\"\",\"\",\"\",\"\",\"\",\"\",\"\",\"Japan\",\"\",\"publicly traded\",\"\",\"pharmaceuticals\",\"pharmaceuticals\",\"http://www.justice.gov/opa/pr/pharmaceutical-companies-pay-2145-million-resolve-allegations-label-promotion-zonegran\",\"\"\\n\"Elan Pharmaceuticals Inc.\",\"Perrigo\",\"$31,000\",\"$0\",\"$31,000\",\"2005\",\"20050620\",\"competition-related offenses\",\"export control violation\",\"\",\"\",\"federal\",\"agency action\",\"Bureau of Industry and Security\",\"civil\",\"\",\"\",\"\",\"\",\"\",\"\",\"\",\"\",\"\",\"\",\"\",\"Ireland\",\"\",\"publicly traded\",\"PRGO\",\"pharmaceuticals\",\"pharmaceuticals\",\"FOIA204\",\"Source document obtained through a Freedom of Information Act request to the agency.\"\\n\"Elan Corporation PLC\",\"Perrigo\",\"$203,000,000\",\"$0\",\"$203,000,000\",\"2010\",\"20101215\",\"healthcare-related offenses\",\"off-label or unapproved promotion of medical products\",\"\",\"Irish pharmaceutical manufacturer Elan Corporation PLC and its U.S. subsidiary Elan Pharmaceuticals Inc. agreed to pay more than $203 million to resolve criminal and civil liability arising from the illegal promotion of the epilepsy drug Zonegran. In a separate civil settlement, Japanese drug marketer Eisai Inc., which purchased the drug from Elan, will pay $11 million to resolve civil liability for off-label marketing of Zonegran.\",\"federal\",\"agency action\",\"Food and Drug Administration referral to the Justice Department\",\"civil and criminal\",\"\",\"\",\"\",\"\",\"\",\"\",\"\",\"\",\"\",\"\",\"\",\"Ireland\",\"\",\"publicly traded\",\"PRGO\",\"pharmaceuticals\",\"pharmaceuticals\",\"http://www.justice.gov/opa/pr/pharmaceutical-companies-pay-2145-million-resolve-allegations-label-promotion-zonegran\",\"\"\\n\"Elan Corporation, plc\",\"Perrigo\",\"$15,000,000\",\"$0\",\"$15,000,000\",\"2005\",\"20050208\",\"financial offenses\",\"accounting fraud or deficiencies\",\"\",\"\",\"federal\",\"agency action\",\"Securities and Exchange Commission\",\"civil\",\"\",\"\",\"\",\"\",\"\",\"\",\"\",\"\",\"\",\"\",\"\",\"Ireland\",\"\",\"publicly traded\",\"PRGO\",\"pharmaceuticals\",\"pharmaceuticals\",\"https://www.sec.gov/litigation/litreleases/lr19066.htm\",\"\"\\n\"Eli Lilly and Company\",\"Eli Lilly\",\"$1,415,000,000\",\"$0\",\"$1,415,000,000\",\"2009\",\"20090115\",\"healthcare-related offenses\",\"off-label or unapproved promotion of medical products\",\"\",\"Eli Lilly and Company agreed to plead guilty and pay $1.415 billion for promoting its drug Zyprexa for uses not approved by the Food and Drug Administration. This resolution included a criminal fine of $515 million, the forfeiture of $100 million in assets, and up to $800 million in a civil settlement with the federal government and the states.\",\"federal\",\"agency action\",\"Justice Department Civil Division\",\"civil and criminal\",\"\",\"\",\"\",\"\",\"\",\"\",\"\",\"\",\"\",\"\",\"\",\"USA\",\"Indiana\",\"publicly traded\",\"LLY\",\"pharmaceuticals\",\"pharmaceuticals\",\"https://www.justice.gov/opa/pr/eli-lilly-and-company-agrees-pay-1415-billion-resolve-allegations-label-promotion-zyprexa\",\"\"\\n\"Eli Lilly and Company\",\"Eli Lilly\",\"$36,000,000\",\"$0\",\"$36,000,000\",\"2005\",\"20051221\",\"healthcare-related offenses\",\"off-label or unapproved promotion of medical products\",\"\",\"Eli Lilly and Company agreed to plead guilty and to pay $36 million in connection with its illegal promotion of its pharmaceutical drug Evista.\",\"federal\",\"agency action\",\"Justice Department Criminal Division\",\"criminal\",\"\",\"\",\"\",\"\",\"\",\"\",\"\",\"\",\"\",\"\",\"\",\"USA\",\"Indiana\",\"publicly traded\",\"LLY\",\"pharmaceuticals\",\"pharmaceuticals\",\"https://www.justice.gov/archive/opa/pr/2005/December/05_civ_685.html\",\"\"\\n\"Eli Lilly and Company\",\"Eli Lilly\",\"$29,398,734\",\"$0\",\"$29,398,734\",\"2012\",\"20121220\",\"competition-related offenses\",\"Foreign Corrupt Practices Act\",\"\",\"\",\"federal\",\"agency action\",\"Securities and Exchange Commission\",\"civil\",\"\",\"\",\"\",\"\",\"\",\"\",\"\",\"\",\"\",\"\",\"\",\"USA\",\"Indiana\",\"publicly traded\",\"LLY\",\"pharmaceuticals\",\"pharmaceuticals\",\"https://www.sec.gov/News/PressRelease/Detail/PressRelease/1365171487116\",\"\"\\n\"EMD CHEMICALS INCORPORATED\",\"Merck KGaA (EMD)\",\"$13,170\",\"$0\",\"$13,170\",\"2004\",\"20041229\",\"safety-related offenses\",\"motor vehicle safety violation\",\"\",\"OH-2004-0250-US0482\",\"federal\",\"agency action\",\"Federal Motor Carrier Safety Administration\",\"civil\",\"\",\"\",\"\",\"\",\"\",\"Ohio\",\"CINCINNATI\",\"\",\"\",\"\",\"\",\"Germany\",\"\",\"publicly traded\",\"\",\"pharmaceuticals\",\"pharmaceuticals\",\"https://www.fmcsa.dot.gov/regulations/enforcement/national-listing-enforcement-cases-subject-name-closed-fiscal-year-2005-pdf\",\"\"\\n\"EMD CHEMICALS INCORPORATED\",\"Merck KGaA (EMD)\",\"$7,614\",\"$0\",\"$7,614\",\"2006\",\"20060523\",\"safety-related offenses\",\"motor vehicle safety violation\",\"\",\"OH-2006-0107-US0482\",\"federal\",\"agency action\",\"Federal Motor Carrier Safety Administration\",\"civil\",\"\",\"\",\"\",\"\",\"\",\"Ohio\",\"CINCINNATI\",\"\",\"\",\"\",\"\",\"Germany\",\"\",\"publicly traded\",\"\",\"pharmaceuticals\",\"pharmaceuticals\",\"https://www.fmcsa.dot.gov/regulations/enforcement/national-listing-enforcement-cases-subject-name-closed-fiscal-year-2006-pdf\",\"Year is fiscal year. Date is closing date.\"\\n\"EMD Chemicals, Inc.\",\"Merck KGaA (EMD)\",\"$8,250\",\"$0\",\"$8,250\",\"2007\",\"20070202\",\"financial offenses\",\"economic sanction violation\",\"\",\"\",\"federal\",\"agency action\",\"Office of Foreign Assets Control\",\"civil\",\"\",\"\",\"\",\"\",\"\",\"\",\"\",\"\",\"\",\"\",\"\",\"Germany\",\"\",\"publicly traded\",\"\",\"pharmaceuticals\",\"pharmaceuticals\",\"https://www.treasury.gov/resource-center/sanctions/OFAC-Enforcement/Documents/02022007.pdf\",\"\"\\n\"EMD Chemicals, Inc.\",\"Merck KGaA (EMD)\",\"$44,000\",\"$0\",\"$44,000\",\"2007\",\"20070309\",\"competition-related offenses\",\"export control violation\",\"\",\"\",\"federal\",\"agency action\",\"Bureau of Industry and Security\",\"civil\",\"\",\"\",\"\",\"\",\"\",\"\",\"\",\"\",\"\",\"\",\"\",\"Germany\",\"\",\"publicly traded\",\"\",\"pharmaceuticals\",\"pharmaceuticals\",\"https://efoia.bis.doc.gov/index.php/component/docman/?task=doc_download&gid=341&Itemid=\",\"\"\\n\"EMD Millipore Corp.\",\"Merck KGaA (EMD)\",\"$385,000\",\"$0\",\"$385,000\",\"2017\",\"20170206\",\"environment-related offenses\",\"environmental violation\",\"\",\"Under the terms of a Consent Decree lodged in federal court, EMD Millipore Corp. of Jaffrey, N.H., agreed to upgrade its on-site wastewater treatment system to comply with the terms of the company\\'s industrial wastewater discharge permit and prevent pretreatment violations of the federal Clean Water Act (CWA). The company also agreed to pay a civil penalty of $385,000 for alleged violations of the CWA.\",\"federal\",\"agency action\",\"Environmental Protection Agency referral to the Justice Department\",\"civil\",\"\",\"\",\"\",\"\",\"\",\"New Hampshire\",\"Jaffrey\",\"\",\"\",\"\",\"\",\"Germany\",\"\",\"publicly traded\",\"\",\"pharmaceuticals\",\"pharmaceuticals\",\"https://www.epa.gov/enforcement/reference-news-release-jaffrey-nh-facility-upgrade-its-wastewater-treatment-systems\",\"\"\\n\"EMD Millipore Corporation\",\"Merck KGaA (EMD)\",\"$2,681,500\",\"$0\",\"$2,681,500\",\"2013\",\"20130731\",\"environment-related offenses\",\"environmental violation\",\"\",\"EMD Millipore Corporation, of Billerica, Mass., has agreed to pay $2,681,500 in civil penalties to settle EPA allegations that it violated the federal pesticide law and regulations on numerous instances over many years.\",\"federal\",\"agency action\",\"Environmental Protection Agency\",\"civil\",\"\",\"\",\"\",\"\",\"\",\"Massachusetts\",\"Billerica\",\"\",\"\",\"\",\"\",\"Germany\",\"\",\"publicly traded\",\"\",\"pharmaceuticals\",\"pharmaceuticals\",\"https://archive.epa.gov/epapages/newsroom_archive/newsreleases/ce0d13ac337fe52685257bb900603f21.html\",\"\"\\n\"Endo Health Solutions Inc.\",\"Endo International\",\"$192,700,000\",\"$0\",\"$192,700,000\",\"2014\",\"20140221\",\"healthcare-related offenses\",\"off-label or unapproved promotion of medical products\",\"\",\"Pharmaceutical company Endo Health Solutions Inc. and its subsidiary Endo Pharmaceuticals Inc. agreed to pay $192.7 million to resolve criminal and civil liability arising from Endo\\'s marketing of the prescription drug Lidoderm for uses not approved as safe and effective by the Food and Drug Administration. The resolution included a deferred prosecution agreement and forfeiture totaling $20.8 million and civil false claims settlements with the federal government and the states and the District of Columbia totaling $171.9 million. \",\"federal\",\"agency action\",\"Food and Drug Administration referral to the Justice Department\",\"civil and criminal\",\"deferred prosecution agreement\",\"\",\"\",\"\",\"\",\"\",\"\",\"\",\"\",\"\",\"\",\"Ireland\",\"\",\"publicly traded\",\"ENDP\",\"pharmaceuticals\",\"pharmaceuticals\",\"http://www.justice.gov/opa/pr/endo-pharmaceuticals-and-endo-health-solutions-pay-1927-million-resolve-criminal-and-civil\",\"\"\\n\"Endo Pharmaceuticals Inc. and Vintage Pharmaceuticals, LLC d/b/a Qualitest Pharmaceuticals\",\"Endo International\",\"$39,000,000\",\"$0\",\"$39,000,000\",\"2015\",\"20151216\",\"safety-related offenses\",\"drug or medical equipment safety violation\",\"fraud\",\"The United States Attorney for the Southern District of New York and the Office of Inspector General for the Department of Health and Human Services announced a $39 million settlement against Vintage Pharmaceuticals, LLC d/b/a Qualitest Pharmaceuticals and  Vintage\\'s corporate parent Endo Pharmaceuticals, Inc. in a civil fraud lawsuit.\",\"federal\",\"agency action\",\"U.S. Attorney-Southern District of New York\",\"civil\",\"\",\"\",\"\",\"\",\"\",\"\",\"\",\"\",\"\",\"\",\"\",\"Ireland\",\"\",\"publicly traded\",\"ENDP\",\"pharmaceuticals\",\"pharmaceuticals\",\"https://www.justice.gov/usao-sdny/pr/manhattan-us-attorney-announces-39-million-civil-fraud-settlement-against-qualitest\",\"\"\\n\"Eon Labs Inc.\",\"Novartis\",\"$3,500,000\",\"$0\",\"$3,500,000\",\"2010\",\"20100222\",\"government-contracting-related offenses\",\"False Claims Act and related\",\"\",\"Eon Labs Inc. agreed to pay the United States $3.5 million to resolve False Claims Act allegations relating to the company\\'s drug Nitroglycerin Sustained Release (SR) capsules.\",\"federal\",\"agency action\",\"Justice Department Civil Division\",\"civil\",\"\",\"\",\"\",\"\",\"\",\"\",\"\",\"\",\"\",\"\",\"\",\"Switzerland\",\"\",\"publicly traded\",\"NYSE: NVS\",\"pharmaceuticals\",\"pharmaceuticals\",\"https://www.justice.gov/opa/pr/eon-labs-pays-us-35-million-settle-allegations-submitting-false-claims-medicaid\",\"\"\\n\"Ethex Corporation\",\"KV Pharmaceutical\",\"$27,600,000\",\"$0\",\"$27,600,000\",\"2010\",\"20100302\",\"safety-related offenses\",\"drug or medical equipment safety violation\",\"\",\"Ethex Corporation, a wholly owned subsidiary of St. Louis-based drug manufacturer, KV Pharmaceutical Company, pleaded guilty to two felonies and was sentenced in connection with the manufacturing of oversized prescription drug tablets. The government had charged that, despite having knowledge that the two drugs did not meet required specifications, Ethex violated the law by intentionally withholding this information from the Food and Drug Administration (FDA). Given the seriousness of Ethex\\'s conduct and the risk it posed to consumers of its drugs, the Justice Department pursued felony charges. According to charges presented in U.S. District Court in St. Louis, Ethex failed to submit required \"\"field alert reports\"\" to the FDA in 2008 concerning two drugs, propafenone and dextroamphetamine sulfate.  Following the recommendations of a plea agreement, Judge E. Richard Webber sentenced Ethex to pay a fine of more than $23.4 million, pay approximately $2.3 million in restitution to Medicare and Medicaid for their approximate losses, and forfeit nearly $1.8 million to the United States.\",\"federal\",\"agency action\",\"Food and Drug Administration referral to the Justice Department\",\"criminal\",\"\",\"\",\"\",\"\",\"\",\"\",\"\",\"\",\"\",\"\",\"\",\"USA\",\"Missouri\",\"out of business\",\"\",\"pharmaceuticals\",\"pharmaceuticals\",\"http://www.justice.gov/opa/pr/kv-pharmaceutical-subsidiary-pleads-guilty-two-felonies-regarding-oversized-drugs\",\"\"\\n\"ExecuPharm, Inc.\",\"Parexel International\",\"$5,900\",\"$0\",\"$5,900\",\"2017\",\"20170401\",\"employment-related offenses\",\"Family and Medical Leave Act\",\"\",\"\",\"federal\",\"agency action\",\"Labor Department Wage and Hour Division\",\"civil\",\"\",\"\",\"1808162\",\"\",\"\",\"Pennsylvania\",\"King of Prussia\",\"610 Freedom Business Center Suite 200\",\"19406\",\"\",\"\",\"USA\",\"Massachusetts\",\"privately held\",\"\",\"pharmaceuticals\",\"pharmaceuticals\",\"July 23, 2017 download of a dataset posted by the Wage and Hour Division at https://enforcedata.dol.gov/views/data_summary.php\",\"Date and year are the Findings End Date in the dataset posted by the Wage and Hour Division, which does not provide case opening or closing dates. The company name is the Legal Name provided by the dataset unless that field is blank, in which case the Trade Name is used. The dataset provides only one address and does not indicate whether it is the company headquarters address or the establishment address. The penalty amount is the total of civil monetary penalties and mandated back wages. The original dataset provides a breakdown.\"\\n\"Forest Laboratories and Forest Pharmaceuticals\",\"AbbVie\",\"$38,000,000\",\"$0\",\"$38,000,000\",\"2016\",\"20161215\",\"government-contracting-related offenses\",\"False Claims Act and related\",\"kickbacks and bribery\",\"Forest Laboratories LLC, located in New York, New York, and its subsidiary, Forest Pharmaceuticals Inc., agreed to pay $38 million to resolve allegations that they violated the False Claims Act by paying kickbacks to induce physicians to prescribe the drugs Bystolic, Savella, and Namenda.\",\"federal\",\"agency action\",\"Justice Department Civil Division\",\"civil\",\"\",\"\",\"\",\"\",\"\",\"\",\"\",\"\",\"\",\"\",\"\",\"USA\",\"Illinois\",\"publicly traded\",\"ABBV\",\"pharmaceuticals\",\"pharmaceuticals\",\"https://www.justice.gov/opa/pr/forest-laboratories-and-forest-pharmaceuticals-pay-38-million-resolve-kickback-allegations\",\"\"\\n\"Forest Pharmaceuticals Inc.\",\"AbbVie\",\"$164,000,000\",\"$0\",\"$164,000,000\",\"2011\",\"20110302\",\"healthcare-related offenses\",\"off-label or unapproved promotion of medical products\",\"\",\"Drug manufacturer Forest Pharmaceuticals Inc. was sentenced by U.S. District Judge Nancy Gertner to pay a criminal fine of $150 million and forfeit assets of $14 million following the company\\'s guilty plea in November 2010 to one felony count of obstructing justice, one misdemeanor count of distributing an unapproved new drug in interstate commerce and one misdemeanor count of distributing a misbranded drug in interstate commerce, the Justice Department announced. The company, a subsidiary of New York City-based Forest Laboratories Inc., pleaded guilty to charges related to obstruction of an FDA regulatory inspection, to the distribution of Levothroid, which at the time was an unapproved new drug, and to the illegal promotion of the anti-depressant drug Celexa for use in treating children and adolescents.\",\"federal\",\"agency action\",\"Food and Drug Administration referral to the Justice Department\",\"civil and criminal\",\"\",\"\",\"\",\"\",\"\",\"\",\"\",\"\",\"\",\"\",\"\",\"USA\",\"Illinois\",\"publicly traded\",\"ABBV\",\"pharmaceuticals\",\"pharmaceuticals\",\"http://www.justice.gov/opa/pr/forest-pharmaceuticals-sentenced-pay-164-million-criminal-violations\",\"\"\\n\"Fort Dodge Animal Health\",\"Zoetis\",\"$26,956\",\"$0\",\"$26,956\",\"2004\",\"20041105\",\"financial offenses\",\"economic sanction violation\",\"\",\"\",\"federal\",\"agency action\",\"Office of Foreign Assets Control\",\"civil\",\"\",\"\",\"\",\"\",\"\",\"\",\"\",\"\",\"\",\"\",\"\",\"USA\",\"New Jersey\",\"publicly traded\",\"ZTS\",\"pharmaceuticals\",\"animal health products\",\"https://www.treasury.gov/resource-center/sanctions/OFAC-Enforcement/Documents/11052004.pdf\",\"\"\\n\"Galena Biopharma, Inc.\",\"SELLAS Life Sciences Group\",\"$200,000\",\"$0\",\"$200,000\",\"2017\",\"20170410\",\"financial offenses\",\"accounting fraud or deficiencies\",\"\",\"\",\"federal\",\"agency action\",\"Securities and Exchange Commission\",\"civil\",\"\",\"\",\"\",\"\",\"\",\"\",\"\",\"\",\"\",\"\",\"\",\"USA\",\"New York\",\"publicly traded\",\"SLS\",\"pharmaceuticals\",\"pharmaceuticals\",\"https://www.sec.gov/litigation/admin/2017/33-10337.pdf\",\"\"\\n\"Genentech Inc.\",\"Roche\",\"$33,500,000\",\"$0\",\"$33,500,000\",\"2016\",\"20160606\",\"government-contracting-related offenses\",\"False Claims Act and related\",\"\",\"Pharmaceutical companies Genentech Inc. and OSI Pharmaceuticals LLC agreed to pay $67 million to resolve False Claims Act allegations that they made misleading statements about the effectiveness of the drug Tarceva to treat non-small cell lung cancer. The announcement did not indicate how much each company would pay. Here we assume the total was split evenly between them.\",\"federal\",\"agency action\",\"Justice Department Civil Division\",\"civil\",\"\",\"\",\"\",\"\",\"\",\"\",\"\",\"\",\"\",\"\",\"\",\"Switzerland\",\"\",\"publicly traded\",\"\",\"pharmaceuticals\",\"pharmaceuticals\",\"https://www.justice.gov/opa/pr/pharmaceutical-companies-pay-67-million-resolve-false-claims-act-allegations-relating-tarceva\",\"\"\\n\"Genzyme Corp.\",\"Sanofi\",\"$22,280,000\",\"$0\",\"$22,280,000\",\"2013\",\"20131220\",\"government-contracting-related offenses\",\"False Claims Act and related\",\"\",\"Genzyme Corp. agreed to pay $22.28 million to resolve allegations that it marketed, and caused false claims to be submitted to federal and state health care programs for use of, a \"\"slurry\"\" version of its Seprafilm adhesion barrier.\",\"federal\",\"agency action\",\"Justice Department Civil Division\",\"civil\",\"\",\"\",\"\",\"\",\"\",\"\",\"\",\"\",\"\",\"\",\"\",\"France\",\"\",\"publicly traded\",\"\",\"pharmaceuticals\",\"pharmaceuticals\",\"https://www.justice.gov/opa/pr/genzyme-corp-pay-2228-million-resolve-false-claims-allegations-related-slurry-used-patients\",\"\"\\n\"Genzyme Corporation\",\"Sanofi\",\"$32,587,439\",\"$0\",\"$32,587,439\",\"2015\",\"20150903\",\"safety-related offenses\",\"drug or medical equipment safety violation\",\"\",\"Genzyme Corporation, a wholly-owned biotechnology subsidiary of French pharmaceutical company Sanofi, agreed to resolve criminal charges that it violated the federal Food, Drug and Cosmetic Act with regard to the unlawful distribution of Seprafilm, a surgical device it marketed and promoted. As part of the agreed resolution, the department filed a two-count criminal information in the U.S. District Court for the Middle District of Florida charging that between 2005 and 2010, Genzyme caused a medical device to become adulterated and misbranded while being held for sale.  The conduct occurred prior to Sanofi\\'s acquisition of Genzyme, based in Cambridge, Massachusetts, in 2011.  To resolve these charges, Genzyme agreed to'"
     ]
    }
   ],
   "source": [
    "#Pharma unzipped, Let's view the file\n",
    "\n",
    "pharma_file = \"/FileStore/tables/pharma/pharma.csv\"\n",
    "\n",
    "dbutils.fs.head(pharma_file)"
   ]
  },
  {
   "cell_type": "code",
   "execution_count": 0,
   "metadata": {
    "application/vnd.databricks.v1+cell": {
     "cellMetadata": {
      "byteLimit": 2048000,
      "rowLimit": 10000
     },
     "inputWidgets": {},
     "nuid": "a5d5a6fb-cf2a-4bf9-b491-4d312ae16f4f",
     "showTitle": false,
     "title": ""
    }
   },
   "outputs": [
    {
     "output_type": "stream",
     "name": "stdout",
     "output_type": "stream",
     "text": [
      "Out[48]: ['\"Company\",\"Parent_Company\",\"Penalty_Amount\",\"Subtraction_From_Penalty\",\"Penalty_Amount_Adjusted_For_Eliminating_Multiple_Counting\",\"Penalty_Year\",\"Penalty_Date\",\"Offense_Group\",\"Primary_Offense\",\"Secondary_Offense\",\"Description\",\"Level_of_Government\",\"Action_Type\",\"Agency\",\"Civil/Criminal\",\"Prosecution_Agreement\",\"Court\",\"Case_ID\",\"Private_Litigation_Case_Title\",\"Lawsuit_Resolution\",\"Facility_State\",\"City\",\"Address\",\"Zip\",\"NAICS_Code\",\"NAICS_Translation\",\"HQ_Country_of_Parent\",\"HQ_State_of_Parent\",\"Ownership_Structure\",\"Parent_Company_Stock_Ticker\",\"Major_Industry_of_Parent\",\"Specific_Industry_of_Parent\",\"Info_Source\",\"Notes\"',\n '\"Abbott Laboratories\",\"Abbott Laboratories\",\"$5,475,000\",\"$0\",\"$5,475,000\",\"2013\",\"20131227\",\"government-contracting-related offenses\",\"False Claims Act and related\",\"kickbacks and bribery\",\"Abbott Laboratories agreed to $5.475 million to resolve allegations that it violated the False Claims Act by paying kickbacks to induce doctors to implant the company\\'s carotid, biliary and peripheral vascular products.\",\"federal\",\"agency action\",\"Justice Department Civil Division\",\"civil\",\"\",\"\",\"\",\"\",\"\",\"\",\"\",\"\",\"\",\"\",\"\",\"USA\",\"Illinois\",\"publicly traded\",\"ABT\",\"pharmaceuticals\",\"pharmaceuticals\",\"https://www.justice.gov/opa/pr/abbott-laboratories-pays-us-5475-million-settle-claims-company-paid-kickbacks-physicians\",\"\"',\n '\"Abbott Laboratories Inc.\",\"AbbVie\",\"$1,500,000,000\",\"$0\",\"$1,500,000,000\",\"2012\",\"20120507\",\"healthcare-related offenses\",\"off-label or unapproved promotion of medical products\",\"\",\"Global Health Care Company Abbott Laboratories Inc. has pleaded guilty and agreed to pay $1.5 billion to resolve its criminal and civil liability arising from the company\\'s unlawful promotion of the prescription drug Depakote for uses not approved as safe and effective by the Food and Drug Administration. The resolution - the second largest payment by a drug company - includes a criminal fine and forfeiture totaling $700 million and civil settlements with the federal government and the states totaling $800 million. Abbott also will be subject to court-supervised probation and reporting obligations for Abbotts CEO and Board of Directors.\",\"federal\",\"agency action\",\"Food and Drug Administration referral to the Justice Department\",\"civil and criminal\",\"\",\"\",\"\",\"\",\"\",\"\",\"\",\"\",\"\",\"\",\"\",\"USA\",\"Illinois\",\"publicly traded\",\"ABBV\",\"pharmaceuticals\",\"pharmaceuticals\",\"http://www.justice.gov/opa/pr/abbott-labs-pay-15-billion-resolve-criminal-civil-investigations-label-promotion-depakote\",\"\"']"
     ]
    }
   ],
   "source": [
    "#Create rdd\n",
    "\n",
    "pharma_rdd = sc.textFile(pharma_file)\n",
    "\n",
    "pharma_rdd.take(3)"
   ]
  },
  {
   "cell_type": "code",
   "execution_count": 0,
   "metadata": {
    "application/vnd.databricks.v1+cell": {
     "cellMetadata": {
      "byteLimit": 2048000,
      "rowLimit": 10000
     },
     "inputWidgets": {},
     "nuid": "46046cd1-5d7b-4fe3-8b0a-a5e7d55d958b",
     "showTitle": false,
     "title": ""
    }
   },
   "outputs": [
    {
     "output_type": "stream",
     "name": "stdout",
     "output_type": "stream",
     "text": [
      "Out[50]: [['\"Company\"',\n  '\"Parent_Company\"',\n  '\"Penalty_Amount\"',\n  '\"Subtraction_From_Penalty\"',\n  '\"Penalty_Amount_Adjusted_For_Eliminating_Multiple_Counting\"',\n  '\"Penalty_Year\"',\n  '\"Penalty_Date\"',\n  '\"Offense_Group\"',\n  '\"Primary_Offense\"',\n  '\"Secondary_Offense\"',\n  '\"Description\"',\n  '\"Level_of_Government\"',\n  '\"Action_Type\"',\n  '\"Agency\"',\n  '\"Civil/Criminal\"',\n  '\"Prosecution_Agreement\"',\n  '\"Court\"',\n  '\"Case_ID\"',\n  '\"Private_Litigation_Case_Title\"',\n  '\"Lawsuit_Resolution\"',\n  '\"Facility_State\"',\n  '\"City\"',\n  '\"Address\"',\n  '\"Zip\"',\n  '\"NAICS_Code\"',\n  '\"NAICS_Translation\"',\n  '\"HQ_Country_of_Parent\"',\n  '\"HQ_State_of_Parent\"',\n  '\"Ownership_Structure\"',\n  '\"Parent_Company_Stock_Ticker\"',\n  '\"Major_Industry_of_Parent\"',\n  '\"Specific_Industry_of_Parent\"',\n  '\"Info_Source\"',\n  '\"Notes\"'],\n ['\"Abbott Laboratories\"',\n  '\"Abbott Laboratories\"',\n  '\"$5',\n  '475',\n  '000\"',\n  '\"$0\"',\n  '\"$5',\n  '475',\n  '000\"',\n  '\"2013\"',\n  '\"20131227\"',\n  '\"government-contracting-related offenses\"',\n  '\"False Claims Act and related\"',\n  '\"kickbacks and bribery\"',\n  '\"Abbott Laboratories agreed to $5.475 million to resolve allegations that it violated the False Claims Act by paying kickbacks to induce doctors to implant the company\\'s carotid',\n  ' biliary and peripheral vascular products.\"',\n  '\"federal\"',\n  '\"agency action\"',\n  '\"Justice Department Civil Division\"',\n  '\"civil\"',\n  '\"\"',\n  '\"\"',\n  '\"\"',\n  '\"\"',\n  '\"\"',\n  '\"\"',\n  '\"\"',\n  '\"\"',\n  '\"\"',\n  '\"\"',\n  '\"\"',\n  '\"USA\"',\n  '\"Illinois\"',\n  '\"publicly traded\"',\n  '\"ABT\"',\n  '\"pharmaceuticals\"',\n  '\"pharmaceuticals\"',\n  '\"https://www.justice.gov/opa/pr/abbott-laboratories-pays-us-5475-million-settle-claims-company-paid-kickbacks-physicians\"',\n  '\"\"'],\n ['\"Abbott Laboratories Inc.\"',\n  '\"AbbVie\"',\n  '\"$1',\n  '500',\n  '000',\n  '000\"',\n  '\"$0\"',\n  '\"$1',\n  '500',\n  '000',\n  '000\"',\n  '\"2012\"',\n  '\"20120507\"',\n  '\"healthcare-related offenses\"',\n  '\"off-label or unapproved promotion of medical products\"',\n  '\"\"',\n  '\"Global Health Care Company Abbott Laboratories Inc. has pleaded guilty and agreed to pay $1.5 billion to resolve its criminal and civil liability arising from the company\\'s unlawful promotion of the prescription drug Depakote for uses not approved as safe and effective by the Food and Drug Administration. The resolution - the second largest payment by a drug company - includes a criminal fine and forfeiture totaling $700 million and civil settlements with the federal government and the states totaling $800 million. Abbott also will be subject to court-supervised probation and reporting obligations for Abbotts CEO and Board of Directors.\"',\n  '\"federal\"',\n  '\"agency action\"',\n  '\"Food and Drug Administration referral to the Justice Department\"',\n  '\"civil and criminal\"',\n  '\"\"',\n  '\"\"',\n  '\"\"',\n  '\"\"',\n  '\"\"',\n  '\"\"',\n  '\"\"',\n  '\"\"',\n  '\"\"',\n  '\"\"',\n  '\"\"',\n  '\"USA\"',\n  '\"Illinois\"',\n  '\"publicly traded\"',\n  '\"ABBV\"',\n  '\"pharmaceuticals\"',\n  '\"pharmaceuticals\"',\n  '\"http://www.justice.gov/opa/pr/abbott-labs-pay-15-billion-resolve-criminal-civil-investigations-label-promotion-depakote\"',\n  '\"\"']]"
     ]
    }
   ],
   "source": [
    "#Split by line and delimiter\n",
    "\n",
    "pharma_rdd1 = pharma_rdd \\\n",
    "    .flatMap(lambda x: x.split('\\n')) \\\n",
    "    .map(lambda line: line.split(\",\"))\n",
    "\n",
    "pharma_rdd1.take(3)"
   ]
  },
  {
   "cell_type": "code",
   "execution_count": 0,
   "metadata": {
    "application/vnd.databricks.v1+cell": {
     "cellMetadata": {
      "byteLimit": 2048000,
      "rowLimit": 10000
     },
     "inputWidgets": {},
     "nuid": "373008a1-8efc-4651-ad2a-2718b3224c5d",
     "showTitle": false,
     "title": ""
    }
   },
   "outputs": [
    {
     "output_type": "stream",
     "name": "stdout",
     "output_type": "stream",
     "text": [
      "Out[145]: ['Parent_Company', 'Abbott Laboratories']"
     ]
    }
   ],
   "source": [
    "# Pharma list\n",
    "\n",
    "pharma_list = pharma_rdd1 \\\n",
    "    .map(lambda x: (x[1][1:-1])) \\\n",
    "    .filter(lambda x: x[0].strip() != \"\") \\\n",
    "\n",
    "pharma_list.take(2)"
   ]
  },
  {
   "cell_type": "code",
   "execution_count": 0,
   "metadata": {
    "application/vnd.databricks.v1+cell": {
     "cellMetadata": {
      "byteLimit": 2048000,
      "rowLimit": 10000
     },
     "inputWidgets": {},
     "nuid": "0a74d6f5-c0f0-4c72-b833-561564fa95f4",
     "showTitle": false,
     "title": ""
    }
   },
   "outputs": [
    {
     "output_type": "stream",
     "name": "stdout",
     "output_type": "stream",
     "text": [
      "Out[143]: [' Interventions ',\n ' Sponsor ',\n \" BEHAVIORAL: PRIDE 'Step 1' problem-solving intervention|BEHAVIORAL: Enhanced usual care \",\n ' Sangath ',\n ' McMaster University ',\n \" Alzheimer's Society of Brant, Haldimand Norfolk, Hamilton Halton \",\n ' Planned Parenthood League of Massachusetts ',\n ' Society for Family Planning Research Fund ',\n ' OTHER: SuperMELD ',\n ' Assistance Publique - Hôpitaux de Paris ']"
     ]
    }
   ],
   "source": [
    "#Sponsor list\n",
    "\n",
    "def extract_sponsor(line):\n",
    "    if len(line) > 6:\n",
    "        return [line[5], line[6]]\n",
    "    elif len(line) > 7:\n",
    "        return [line[5], line[6], line[7]]\n",
    "    elif len(line) > 8:\n",
    "        return [line[5], line[6], line[7], line[8]]\n",
    "    else:\n",
    "        return []\n",
    "\n",
    "# Extract sponsors from each line based on multiple index positions\n",
    "sponsor_list = rdd1 \\\n",
    "    .flatMap(lambda x: x.split('\\n')) \\\n",
    "    .filter(lambda line: line.count(\"\\\\t\") > 9) \\\n",
    "    .map(lambda line: line.split(\"\\\\t\")) \\\n",
    "    .filter(lambda x: len(x) > 9) \\\n",
    "    .flatMap(extract_sponsor) \\\n",
    "    .filter(lambda x: x != \"\") \\\n",
    "\n",
    "# Output the sponsor counts\n",
    "sponsor_list.take(10)"
   ]
  },
  {
   "cell_type": "code",
   "execution_count": 0,
   "metadata": {
    "application/vnd.databricks.v1+cell": {
     "cellMetadata": {
      "byteLimit": 2048000,
      "rowLimit": 10000
     },
     "inputWidgets": {},
     "nuid": "438db353-af1e-416d-8ad5-586e287db6d7",
     "showTitle": false,
     "title": ""
    }
   },
   "outputs": [
    {
     "output_type": "stream",
     "name": "stdout",
     "output_type": "stream",
     "text": [
      "Out[75]: [('Inc.', 142),\n ('Merck', 64),\n ('Pfizer', 52),\n ('Johnson & Johnson', 39),\n ('AbbVie', 38),\n ('INC.', 38),\n ('Teva Pharmaceutical Industries', 36),\n ('Bristol-Myers Squibb', 36),\n ('Novartis', 34),\n ('GlaxoSmithKline', 31),\n ('Viatris', 31),\n ('Merck KGaA (EMD)', 29),\n ('Abbott Laboratories', 26),\n ('LLC', 26),\n ('Sanofi', 24),\n ('AstraZeneca', 22),\n ('Takeda Pharmaceutical', 17),\n ('Eli Lilly', 16),\n ('Roche', 16),\n ('Endo International', 15),\n ('Perrigo', 14),\n ('Mallinckrodt', 13),\n ('Amgen', 12),\n ('Bausch Health', 11),\n ('Purdue Pharma', 9),\n ('Novo Holdings A/S', 8),\n ('Otsuka Pharmaceutical', 8),\n ('INC', 8),\n ('Eisai', 7),\n ('KV Pharmaceutical', 7),\n ('Astellas Pharma', 7),\n ('Zoetis', 7),\n ('Phibro Animal Health', 7),\n ('Boehringer Ingelheim', 6),\n ('Daiichi Sankyo', 5),\n ('Alcami', 5),\n ('UCB', 5),\n ('Sun Pharmaceuticals', 4),\n ('Lannett Co.', 4),\n ('Amneal Pharmaceuticals', 4),\n ('Inc', 4),\n ('Hikma Pharmaceuticals', 4),\n ('Amryt Pharma', 3),\n ('Insys Therapeutics', 3),\n ('Inc. et al.', 3),\n ('CSL Limited', 2),\n ('Anika Therapeutics', 2),\n ('Aceto', 2),\n ('Apotex Corp.', 2),\n ('L.P.', 2),\n ('Elanco Animal Health', 2),\n ('Biogen Idec', 2),\n ('Currax Pharmaceuticals', 2),\n ('LLC.', 2),\n ('Jazz Pharmaceuticals', 2),\n ('Amphastar Pharmaceuticals', 2),\n ('Gilead Sciences', 2),\n ('Organon & Co.', 2),\n ('Indivior Inc.', 2),\n ('a division of Ethicon Inc.', 1),\n ('AVEO Pharmaceuticals', 1),\n ('plc', 1),\n ('LLC d/b/a Qualitest Pharmaceuticals', 1),\n (\"INC. EMPLOYEES' 401(K) SAVINGS PLAN\", 1),\n ('Div of Ethicon', 1),\n ('NC.', 1),\n ('Limited', 1),\n ('CIDR', 1),\n ('Arbor Pharmaceuticals', 1),\n ('LLC and Actavis Elizabet', 1),\n ('LP', 1),\n ('Inc. and Aventis Behrin', 1),\n ('L', 1),\n ('Janssen Pharmaceutical Products L', 1),\n ('Inc. and Pharmacia Corporation', 1),\n ('Inc. and Purdue Pharm', 1),\n ('n/k/a Actavis Elizabet', 1),\n ('Wockhardt Limited', 1),\n ('et al.', 1),\n ('Parent_Company', 1),\n ('Clovis Oncology', 1),\n ('Sharp & Dohme', 1),\n ('SciClone Pharmaceuticals', 1),\n ('S.A.', 1),\n ('INC. (SB)', 1),\n ('INC. ( SB)', 1),\n ('N.A', 1),\n ('SELLAS Life Sciences Group', 1),\n (\"Dr. Reddy's Laboratories\", 1),\n ('United Therapeutics', 1),\n ('CytRx', 1),\n ('Lundbeck', 1),\n ('Inc. and Purepac Pharmaceutical Co.', 1),\n ('Inc. and Duramed Pharmaceutical', 1),\n ('Inc. and Mylan Pharmaceutical', 1),\n ('Taro Pharmaceutical Industries', 1),\n ('IVAX Corporatio', 1),\n ('Pacira BioSciences', 1),\n ('Incorporated', 1),\n ('Incyte Corp.', 1)]"
     ]
    }
   ],
   "source": [
    "#Extract Parent Company\n",
    "pharma_rdd2 = pharma_rdd1 \\\n",
    "    .map(lambda x: (x[1][1:-1], 1)) \\\n",
    "    .filter(lambda x: x[0].strip() != \"\") \\\n",
    "    .reduceByKey(lambda x, y: x + y) \\\n",
    "    .sortBy(lambda x: x[1], ascending=False) \\\n",
    "\n",
    "pharma_rdd2.collect()\n",
    "#pharma_rdd2.distinct().count()"
   ]
  },
  {
   "cell_type": "code",
   "execution_count": 0,
   "metadata": {
    "application/vnd.databricks.v1+cell": {
     "cellMetadata": {
      "byteLimit": 2048000,
      "rowLimit": 10000
     },
     "inputWidgets": {},
     "nuid": "15c33df1-52a8-4286-abce-d74f02e7417e",
     "showTitle": false,
     "title": ""
    }
   },
   "outputs": [
    {
     "output_type": "stream",
     "name": "stdout",
     "output_type": "stream",
     "text": [
      "Sponsor:  National Cancer Institute (NCI) , Count: 6901\nSponsor:  Assistance Publique - Hôpitaux de Paris , Count: 2479\nSponsor:  M.D. Anderson Cancer Center , Count: 1808\nSponsor:  AstraZeneca , Count: 1533\nSponsor:  University of California, San Francisco , Count: 1405\nSponsor:  Massachusetts General Hospital , Count: 1382\nSponsor:  Hospices Civils de Lyon , Count: 1252\nSponsor:  Pfizer , Count: 1211\nSponsor:  National Institute of Mental Health (NIMH) , Count: 1161\nSponsor:  Merck Sharp & Dohme LLC , Count: 1160\n"
     ]
    }
   ],
   "source": [
    "#From rdd1 extract NCT Number and sponsor and count number of studies sponsored\n",
    "def extract_sponsor(line):\n",
    "    if len(line) > 6:\n",
    "        return [line[5], line[6]]\n",
    "    elif len(line) > 7:\n",
    "        return [line[5], line[6], line[7]]\n",
    "    elif len(line) > 8:\n",
    "        return [line[5], line[6], line[7], line[8]]\n",
    "    else:\n",
    "        return []\n",
    "\n",
    "# Extract sponsors from each line based on multiple index positions\n",
    "sponsor_counts_tests = rdd1 \\\n",
    "    .flatMap(lambda x: x.split('\\n')) \\\n",
    "    .filter(lambda line: line.count(\"\\\\t\") > 9) \\\n",
    "    .map(lambda line: line.split(\"\\\\t\")) \\\n",
    "    .filter(lambda x: len(x) > 9) \\\n",
    "    .flatMap(extract_sponsor) \\\n",
    "    .map(lambda x: (x, 1)) \\\n",
    "    .reduceByKey(lambda x, y: x + y) \\\n",
    "    .sortBy(lambda x: x[1], ascending=False) \\\n",
    "\n",
    "# Output the sponsor counts\n",
    "for sponsor, count in sponsor_counts_tests.take(10):\n",
    "    print(f\"Sponsor: {sponsor}, Count: {count}\")\n"
   ]
  },
  {
   "cell_type": "code",
   "execution_count": 0,
   "metadata": {
    "application/vnd.databricks.v1+cell": {
     "cellMetadata": {
      "byteLimit": 2048000,
      "rowLimit": 10000
     },
     "inputWidgets": {},
     "nuid": "30295f75-8d8e-4381-b93a-78532a1801c6",
     "showTitle": true,
     "title": "Answer: 10 Most common sponsors that are not pharmacetical companies"
    }
   },
   "outputs": [
    {
     "output_type": "stream",
     "name": "stdout",
     "output_type": "stream",
     "text": [
      "Sponsor:  National Cancer Institute (NCI) , Frequency: 6901\nSponsor:  Assistance Publique - Hôpitaux de Paris , Frequency: 2479\nSponsor:  M.D. Anderson Cancer Center , Frequency: 1808\nSponsor:  AstraZeneca , Frequency: 1533\nSponsor:  University of California, San Francisco , Frequency: 1405\nSponsor:  Massachusetts General Hospital , Frequency: 1382\nSponsor:  Hospices Civils de Lyon , Frequency: 1252\nSponsor:  Pfizer , Frequency: 1211\nSponsor:  National Institute of Mental Health (NIMH) , Frequency: 1161\nSponsor:  Merck Sharp & Dohme LLC , Frequency: 1160\n"
     ]
    }
   ],
   "source": [
    "# Collect the pharma_list on the driver node\n",
    "pharma_list_local = pharma_list.collect()\n",
    "\n",
    "filtered_sponsor = sponsor_list.filter(lambda x: x not in pharma_list_local)\n",
    "\n",
    "filtered_sponsor_counts = filtered_sponsor.map(lambda x: (x, 1)).reduceByKey(lambda x, y: x + y)\n",
    "\n",
    "sorted_filtered_sponsor_counts = filtered_sponsor_counts.sortBy(lambda x: x[1], ascending=False)\n",
    "\n",
    "# Take the top 10 sponsors\n",
    "top_10_sponsors_not_pharma = sorted_filtered_sponsor_counts.take(10)\n",
    "\n",
    "# Print the top 10 sponsors and their frequencies\n",
    "for sponsor, frequency in top_10_sponsors_not_pharma:\n",
    "    print(f\"Sponsor: {sponsor}, Frequency: {frequency}\")\n",
    "\n",
    "\n",
    "#I collect the pharma_list RDD into a local Python list (pharma_list_local) on the driver node before filtering the sponsor list."
   ]
  },
  {
   "cell_type": "code",
   "execution_count": 0,
   "metadata": {
    "application/vnd.databricks.v1+cell": {
     "cellMetadata": {
      "byteLimit": 2048000,
      "rowLimit": 10000
     },
     "inputWidgets": {},
     "nuid": "be108ab9-9cb1-48de-bcc1-ff09e71140f1",
     "showTitle": true,
     "title": "Number of completed studies for each month in 2023"
    }
   },
   "outputs": [],
   "source": [
    "#flattened_rdd.take(5)"
   ]
  },
  {
   "cell_type": "code",
   "execution_count": 0,
   "metadata": {
    "application/vnd.databricks.v1+cell": {
     "cellMetadata": {
      "byteLimit": 2048000,
      "rowLimit": 10000
     },
     "inputWidgets": {},
     "nuid": "534dd07f-b299-4f97-850b-db327cfd2e9e",
     "showTitle": false,
     "title": ""
    }
   },
   "outputs": [
    {
     "output_type": "stream",
     "name": "stdout",
     "output_type": "stream",
     "text": [
      "Month: January, Count: 2554\nMonth: April, Count: 2378\nMonth: September, Count: 2905\nMonth: June, Count: 3624\nMonth: December, Count: 10285\nMonth: August, Count: 2695\nMonth: March, Count: 2957\nMonth: November, Count: 2327\nMonth: October, Count: 2627\nMonth: July, Count: 2742\nMonth: May, Count: 2608\nMonth: February, Count: 2098\n"
     ]
    }
   ],
   "source": [
    "#flattened_rdd.take(5)\n",
    "\n",
    "header = flattened_rdd.first()\n",
    "rdd = flattened_rdd.filter(lambda x: x != header)\n",
    "\n",
    "# Extract the last column (completion date) and the first column (NCT Number)\n",
    "nct_completion_rdd = rdd.map(lambda x: (x[-1], x[0]))\n",
    "nct_completion_2023_rdd = nct_completion_rdd.filter(lambda x: x[0].endswith('2023'))\n",
    "nct_month_count_rdd = nct_completion_2023_rdd.map(lambda x: (x[0].split()[-2], 1))\n",
    "monthly_nct_counts_rdd = nct_month_count_rdd.reduceByKey(lambda x, y: x + y)\n",
    "\n",
    "# Output the results\n",
    "for month, count in monthly_nct_counts_rdd.collect():\n",
    "    print(f\"Month: {month}, Count: {count}\")"
   ]
  }
 ],
 "metadata": {
  "application/vnd.databricks.v1+notebook": {
   "dashboards": [],
   "language": "python",
   "notebookMetadata": {
    "mostRecentlyExecutedCommandWithImplicitDF": {
     "commandId": 1401034296588560,
     "dataframes": [
      "_sqldf"
     ]
    },
    "pythonIndentUnit": 4
   },
   "notebookName": "Soliu_Fatai_rdd",
   "widgets": {}
  }
 },
 "nbformat": 4,
 "nbformat_minor": 0
}
