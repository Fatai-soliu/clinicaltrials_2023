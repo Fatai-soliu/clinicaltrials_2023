{
 "cells": [
  {
   "cell_type": "markdown",
   "metadata": {
    "application/vnd.databricks.v1+cell": {
     "cellMetadata": {
      "byteLimit": 2048000,
      "rowLimit": 10000
     },
     "inputWidgets": {},
     "nuid": "3e1f908c-6a61-400a-ae59-126349806e3b",
     "showTitle": false,
     "title": ""
    }
   },
   "source": [
    "\n",
    "Using dbutils.fs.ls command to check the file that been uploaded"
   ]
  },
  {
   "cell_type": "code",
   "execution_count": 0,
   "metadata": {
    "application/vnd.databricks.v1+cell": {
     "cellMetadata": {
      "byteLimit": 2048000,
      "rowLimit": 10000
     },
     "inputWidgets": {},
     "nuid": "dd496b09-199f-404a-ad4d-c4f14c628084",
     "showTitle": false,
     "title": ""
    }
   },
   "outputs": [],
   "source": [
    "# Remove the directories\n",
    "#dbutils.fs.rm(\"dbfs:/FileStore/tables/clinicaltrial_2023/\", recurse=True)"
   ]
  },
  {
   "cell_type": "code",
   "execution_count": 0,
   "metadata": {
    "application/vnd.databricks.v1+cell": {
     "cellMetadata": {
      "byteLimit": 2048000,
      "rowLimit": 10000
     },
     "inputWidgets": {},
     "nuid": "48f04d95-393a-477a-b4f0-545118c66c8f",
     "showTitle": false,
     "title": ""
    }
   },
   "outputs": [
    {
     "output_type": "stream",
     "name": "stdout",
     "output_type": "stream",
     "text": [
      "Out[83]: [FileInfo(path='dbfs:/FileStore/tables/account-models/', name='account-models/', size=0, modificationTime=0),\n FileInfo(path='dbfs:/FileStore/tables/accounts/', name='accounts/', size=0, modificationTime=0),\n FileInfo(path='dbfs:/FileStore/tables/accounts.zip', name='accounts.zip', size=5297592, modificationTime=1706721501000),\n FileInfo(path='dbfs:/FileStore/tables/accounts2/', name='accounts2/', size=0, modificationTime=0),\n FileInfo(path='dbfs:/FileStore/tables/activations/', name='activations/', size=0, modificationTime=0),\n FileInfo(path='dbfs:/FileStore/tables/activations.zip', name='activations.zip', size=8411369, modificationTime=1706718610000),\n FileInfo(path='dbfs:/FileStore/tables/clinicaltrial_2023/', name='clinicaltrial_2023/', size=0, modificationTime=0),\n FileInfo(path='dbfs:/FileStore/tables/flood.csv', name='flood.csv', size=128984, modificationTime=1707931801000),\n FileInfo(path='dbfs:/FileStore/tables/logs/', name='logs/', size=0, modificationTime=0),\n FileInfo(path='dbfs:/FileStore/tables/logs.zip', name='logs.zip', size=18168065, modificationTime=1706721504000),\n FileInfo(path='dbfs:/FileStore/tables/logs2/', name='logs2/', size=0, modificationTime=0),\n FileInfo(path='dbfs:/FileStore/tables/pharma/', name='pharma/', size=0, modificationTime=0),\n FileInfo(path='dbfs:/FileStore/tables/pharma.zip', name='pharma.zip', size=109982, modificationTime=1713286585000),\n FileInfo(path='dbfs:/FileStore/tables/test.json', name='test.json', size=17958, modificationTime=1706113735000),\n FileInfo(path='dbfs:/FileStore/tables/webpage/', name='webpage/', size=0, modificationTime=0),\n FileInfo(path='dbfs:/FileStore/tables/webpage-1.zip', name='webpage-1.zip', size=1582, modificationTime=1707324494000),\n FileInfo(path='dbfs:/FileStore/tables/webpage.zip', name='webpage.zip', size=1582, modificationTime=1707324436000),\n FileInfo(path='dbfs:/FileStore/tables/webpage_files_all/', name='webpage_files_all/', size=0, modificationTime=0),\n FileInfo(path='dbfs:/FileStore/tables/webpage_files_jpg/', name='webpage_files_jpg/', size=0, modificationTime=0)]"
     ]
    }
   ],
   "source": [
    "#Using dbutils.fs.ls command to check the file that been uploaded\n",
    "\n",
    "dbutils.fs.ls(\"/FileStore/tables/\")"
   ]
  },
  {
   "cell_type": "markdown",
   "metadata": {
    "application/vnd.databricks.v1+cell": {
     "cellMetadata": {
      "byteLimit": 2048000,
      "rowLimit": 10000
     },
     "inputWidgets": {},
     "nuid": "bd341c0f-500e-4c72-8f97-9960e7120d39",
     "showTitle": false,
     "title": ""
    },
    "jupyter": {
     "outputs_hidden": true
    }
   },
   "source": [
    "\n",
    "Defining Reusable code to unzip all files"
   ]
  },
  {
   "cell_type": "code",
   "execution_count": 0,
   "metadata": {
    "application/vnd.databricks.v1+cell": {
     "cellMetadata": {
      "byteLimit": 2048000,
      "rowLimit": 10000
     },
     "inputWidgets": {},
     "nuid": "583b680e-bfb0-4066-9229-1fe83377f5f4",
     "showTitle": false,
     "title": ""
    }
   },
   "outputs": [
    {
     "output_type": "stream",
     "name": "stdout",
     "output_type": "stream",
     "text": [
      "Out[84]: True"
     ]
    }
   ],
   "source": [
    "#Copy unzipped file\n",
    "#fileroot = \"clinicaltrial_2023\"\n",
    "fileroot = \"pharma\"\n",
    "\n",
    "dbutils.fs.cp(\"FileStore/tables/\" + fileroot + \".zip\", \"file:/tmp/\")"
   ]
  },
  {
   "cell_type": "code",
   "execution_count": 0,
   "metadata": {
    "application/vnd.databricks.v1+cell": {
     "cellMetadata": {
      "byteLimit": 2048000,
      "rowLimit": 10000
     },
     "inputWidgets": {},
     "nuid": "e61a0111-9650-4040-b8e7-5e5fb6184453",
     "showTitle": false,
     "title": ""
    }
   },
   "outputs": [],
   "source": [
    "#import os library\n",
    "\n",
    "import os\n",
    "os.environ['fileroot'] = fileroot\n"
   ]
  },
  {
   "cell_type": "code",
   "execution_count": 0,
   "metadata": {
    "application/vnd.databricks.v1+cell": {
     "cellMetadata": {
      "byteLimit": 2048000,
      "rowLimit": 10000
     },
     "inputWidgets": {},
     "nuid": "557c3673-916e-45dc-929c-1f0723bf5ae2",
     "showTitle": false,
     "title": ""
    }
   },
   "outputs": [
    {
     "output_type": "stream",
     "name": "stdout",
     "output_type": "stream",
     "text": [
      "Archive:  /tmp/pharma.zip\n  inflating: /tmp/pharma.csv         \n"
     ]
    }
   ],
   "source": [
    "%sh\n",
    "\n",
    "unzip -d /tmp /tmp/$fileroot.zip"
   ]
  },
  {
   "cell_type": "code",
   "execution_count": 0,
   "metadata": {
    "application/vnd.databricks.v1+cell": {
     "cellMetadata": {
      "byteLimit": 2048000,
      "rowLimit": 10000
     },
     "inputWidgets": {},
     "nuid": "ce2a11ed-036a-4c1a-9c89-c1f895b441eb",
     "showTitle": false,
     "title": ""
    }
   },
   "outputs": [
    {
     "output_type": "stream",
     "name": "stdout",
     "output_type": "stream",
     "text": [
      "file:/tmp/hsperfdata_root/\nfile:/tmp/tmp.vEl3kE20R8\nfile:/tmp/systemd-private-e8f3f32b906f44e68af1dd331edb355c-apache2.service-Q7Hchg/\nfile:/tmp/systemd-private-e8f3f32b906f44e68af1dd331edb355c-systemd-logind.service-J39G2i/\nfile:/tmp/RtmpUPPRhG/\nfile:/tmp/driver-env.sh\nfile:/tmp/chauffeur-daemon.pid\nfile:/tmp/.X11-unix/\nfile:/tmp/pharma.zip\nfile:/tmp/Rserv/\nfile:/tmp/systemd-private-e8f3f32b906f44e68af1dd331edb355c-systemd-resolved.service-nUaFfj/\nfile:/tmp/.Test-unix/\nfile:/tmp/driver-daemon-params\nfile:/tmp/chauffeur-env.sh\nfile:/tmp/driver-daemon.pid\nfile:/tmp/.font-unix/\nfile:/tmp/systemd-private-e8f3f32b906f44e68af1dd331edb355c-ntp.service-7Bgb4f/\nfile:/tmp/.XIM-unix/\nfile:/tmp/clinicaltrial_2023.zip\nfile:/tmp/.ICE-unix/\nfile:/tmp/python_lsp_logs/\nfile:/tmp/custom-spark.conf\nfile:/tmp/chauffeur-daemon-params\nfile:/tmp/pharma.csv\n"
     ]
    }
   ],
   "source": [
    "# List the contents of the /tmp/ directory\n",
    "files_in_tmp = dbutils.fs.ls(\"file:/tmp/\")\n",
    "\n",
    "# Print the list of files and directories in /tmp/\n",
    "for file_info in files_in_tmp:\n",
    "    print(file_info.path)"
   ]
  },
  {
   "cell_type": "code",
   "execution_count": 0,
   "metadata": {
    "application/vnd.databricks.v1+cell": {
     "cellMetadata": {
      "byteLimit": 2048000,
      "rowLimit": 10000
     },
     "inputWidgets": {},
     "nuid": "614ec6ae-67e4-4858-bc2e-5ec527a0de1a",
     "showTitle": false,
     "title": ""
    }
   },
   "outputs": [
    {
     "output_type": "stream",
     "name": "stdout",
     "output_type": "stream",
     "text": [
      "Out[88]: True"
     ]
    }
   ],
   "source": [
    "#Make directory\n",
    "\n",
    "dbutils.fs.mkdirs(\"FileStore/tables/\" + fileroot)"
   ]
  },
  {
   "cell_type": "code",
   "execution_count": 0,
   "metadata": {
    "application/vnd.databricks.v1+cell": {
     "cellMetadata": {
      "byteLimit": 2048000,
      "rowLimit": 10000
     },
     "inputWidgets": {},
     "nuid": "5387fe44-b2f3-48a5-ab7c-bb3c4a8fc469",
     "showTitle": false,
     "title": ""
    }
   },
   "outputs": [
    {
     "output_type": "stream",
     "name": "stdout",
     "output_type": "stream",
     "text": [
      "Out[89]: True"
     ]
    }
   ],
   "source": [
    "#Move files\n",
    "\n",
    "dbutils.fs.mv(\"file:/tmp/\" + fileroot + \".csv\" , \"/FileStore/tables/\" + fileroot , True)"
   ]
  },
  {
   "cell_type": "code",
   "execution_count": 0,
   "metadata": {
    "application/vnd.databricks.v1+cell": {
     "cellMetadata": {
      "byteLimit": 2048000,
      "rowLimit": 10000
     },
     "inputWidgets": {},
     "nuid": "96e114ea-0250-47f7-b9ce-74f336088966",
     "showTitle": false,
     "title": ""
    }
   },
   "outputs": [
    {
     "output_type": "stream",
     "name": "stdout",
     "output_type": "stream",
     "text": [
      "Out[90]: [FileInfo(path='dbfs:/FileStore/tables/pharma/pharma.csv', name='pharma.csv', size=678999, modificationTime=1713286659000)]"
     ]
    }
   ],
   "source": [
    "# remove the .zip file\n",
    "\n",
    "dbutils.fs.rm(\"/FileStore/tables/\" + fileroot + \".zip\")\n",
    "\n",
    "dbutils.fs.ls(\"/FileStore/tables/\" + fileroot)"
   ]
  },
  {
   "cell_type": "code",
   "execution_count": 0,
   "metadata": {
    "application/vnd.databricks.v1+cell": {
     "cellMetadata": {
      "byteLimit": 2048000,
      "rowLimit": 10000
     },
     "inputWidgets": {},
     "nuid": "339a56ca-b20f-4856-a9e1-d481c245263f",
     "showTitle": false,
     "title": ""
    }
   },
   "outputs": [
    {
     "output_type": "stream",
     "name": "stdout",
     "output_type": "stream",
     "text": [
      "[Truncated to first 65536 bytes]\nOut[39]: '\"Id\\tStudy Title\\tAcronym\\tStatus\\tConditions\\tInterventions\\tSponsor\\tCollaborators\\tEnrollment\\tFunder Type\\tType\\tStudy Design\\tStart\\tCompletion\",,,,,,,,,,,,,,,,,,,,,,,,,,,,,,,,,,,,,,,,,,,,,,,,,,,,,,,,,,,,,,,,,,,,,,,,,,,,,,,,,,,,,,,,,,,,,,,,,,,,,,,,,,,,,,,,,,,,,,,,,,,,,,,,,,,,,,,,,,,,,,,,,,,,,,,,,,,,,,,,,,,,,,,,,,,,,,,,,,,,,,,,,,,,,,,,,,,,,,,,,,,,,,,,,,\\r\\n\"NCT03630471\\tEffectiveness of a Problem-solving Intervention for Common Adolescent Mental Health Problems in India\\tPRIDE\\tCOMPLETED\\tMental Health Issue (E.G.\", Depression, Psychosis, Personality Disorder,\" Substance Abuse)\\tBEHAVIORAL: PRIDE \\'Step 1\\' problem-solving intervention|BEHAVIORAL: Enhanced usual care\\tSangath\\tHarvard Medical School (HMS and HSDM)|London School of Hygiene and Tropical Medicine\\t250.0\\tOTHER\\tINTERVENTIONAL\\tAllocation: RANDOMIZED|Intervention Model: PARALLEL|Masking: DOUBLE (INVESTIGATOR\",\" OUTCOMES_ASSESSOR)|Primary Purpose: TREATMENT\\t2018-08-20\\t2019-02-28\",,,,,,,,,,,,,,,,,,,,,,,,,,,,,,,,,,,,,,,,,,,,,,,,,,,,,,,,,,,,,,,,,,,,,,,,,,,,,,,,,,,,,,,,,,,,,,,,,,,,,,,,,,,,,,,,,,,,,,,,,,,,,,,,,,,,,,,,,,,,,,,,,,,,,,,,,,,,,,,,,,,,,,,,,,,,,,,,,,,,,,,,,,,,,,,,,,,,,,,,,,,,,\\r\\n\"NCT05992571\\tOral Ketone Monoester Supplementation and Resting-state Brain Connectivity\\t\\tRECRUITING\\tCerebrovascular Function|Cognition\\tOTHER: Placebo|DIETARY_SUPPLEMENT: β-OHB\\tMcMaster University\\tAlzheimer\\'s Society of Brant\", Haldimand Norfolk,\" Hamilton Halton\\t30.0\\tOTHER\\tINTERVENTIONAL\\tAllocation: RANDOMIZED|Intervention Model: CROSSOVER|Masking: TRIPLE (PARTICIPANT\", INVESTIGATOR,\" OUTCOMES_ASSESSOR)|Primary Purpose: BASIC_SCIENCE\\t2023-10-25\\t2024-08\",,,,,,,,,,,,,,,,,,,,,,,,,,,,,,,,,,,,,,,,,,,,,,,,,,,,,,,,,,,,,,,,,,,,,,,,,,,,,,,,,,,,,,,,,,,,,,,,,,,,,,,,,,,,,,,,,,,,,,,,,,,,,,,,,,,,,,,,,,,,,,,,,,,,,,,,,,,,,,,,,,,,,,,,,,,,,,,,,,,,,,,,,,,,,,,,,,,,,,,,,,,,,,\\r\\n\"NCT00237471\\tImpact of Tight Glycaemic Control in Acute Myocardial Infarction\\t\\tTERMINATED\\tMyocardial Infarct|Hyperglycemia\\tDRUG: Insulin (tight blood glucose control)\\tMelbourne Health\\tNational Health and Medical Research Council\",\" Australia|Bristol-Myers Squibb\\t40.0\\tOTHER\\tINTERVENTIONAL\\tAllocation: RANDOMIZED|Intervention Model: PARALLEL|Masking: NONE|Primary Purpose: TREATMENT\\t2005-10\\t2006-05\",,,,,,,,,,,,,,,,,,,,,,,,,,,,,,,,,,,,,,,,,,,,,,,,,,,,,,,,,,,,,,,,,,,,,,,,,,,,,,,,,,,,,,,,,,,,,,,,,,,,,,,,,,,,,,,,,,,,,,,,,,,,,,,,,,,,,,,,,,,,,,,,,,,,,,,,,,,,,,,,,,,,,,,,,,,,,,,,,,,,,,,,,,,,,,,,,,,,,,,,,,,,,,,,,\\r\\n\"NCT03820271\\tNew Prognostic Predictive Models of Mortality of Decompensated Cirrhotic Patients Waiting for Liver Transplantation\\tSUPERMELD\\tRECRUITING\\tDecompensated Cirrhosis|Liver Transplantation\\tOTHER: SuperMELD\\tAssistance Publique - Hôpitaux de Paris\\t\\t500.0\\tOTHER\\tINTERVENTIONAL\\tAllocation: NA|Intervention Model: SINGLE_GROUP|Masking: NONE|Primary Purpose: OTHER\\t2020-10-01\\t2023-10-01\",,,,,,,,,,,,,,,,,,,,,,,,,,,,,,,,,,,,,,,,,,,,,,,,,,,,,,,,,,,,,,,,,,,,,,,,,,,,,,,,,,,,,,,,,,,,,,,,,,,,,,,,,,,,,,,,,,,,,,,,,,,,,,,,,,,,,,,,,,,,,,,,,,,,,,,,,,,,,,,,,,,,,,,,,,,,,,,,,,,,,,,,,,,,,,,,,,,,,,,,,,,,,,,,,,\\r\\n\"NCT06229171\\tInTake Care: Development and Validation of an Innovative\",\" Personalized Digital Health Solution for Medication Adherence Support in Cardiovascular Prevention\\tInTakeCare\\tNOT_YET_RECRUITING\\tHypertension|Treatment Adherence and Compliance|Digital Health\\tOTHER: adherence support system based on a vocal assistant\\tIstituto Auxologico Italiano\\tIstituti Clinici Scientifici Maugeri SpA|Politecnico di Milano\\t206.0\\tOTHER\\tINTERVENTIONAL\\tAllocation: RANDOMIZED|Intervention Model: PARALLEL|Masking: NONE|Primary Purpose: OTHER\\t2024-10-01\\t2026-04-01\",,,,,,,,,,,,,,,,,,,,,,,,,,,,,,,,,,,,,,,,,,,,,,,,,,,,,,,,,,,,,,,,,,,,,,,,,,,,,,,,,,,,,,,,,,,,,,,,,,,,,,,,,,,,,,,,,,,,,,,,,,,,,,,,,,,,,,,,,,,,,,,,,,,,,,,,,,,,,,,,,,,,,,,,,,,,,,,,,,,,,,,,,,,,,,,,,,,,,,,,,,,,,,,,,\\r\\n\"NCT02945371\\tTailored Inhibitory Control Training to Reverse EA-linked Deficits in Mid-life\\tREV\\tCOMPLETED\\tSmoking|Alcohol Drinking|Prescription Drug Abuse|Substance-Related Disorders|Oral Intake Reduced\\tBEHAVIORAL: Person-centered inhibitory control training|BEHAVIORAL: Active behavioral response training\\tUniversity of Oregon\\t\\t103.0\\tOTHER\\tINTERVENTIONAL\\tAllocation: RANDOMIZED|Intervention Model: PARALLEL|Masking: SINGLE (PARTICIPANT)|Primary Purpose: PREVENTION\\t2014-09\\t2016-05\",,,,,,,,,,,,,,,,,,,,,,,,,,,,,,,,,,,,,,,,,,,,,,,,,,,,,,,,,,,,,,,,,,,,,,,,,,,,,,,,,,,,,,,,,,,,,,,,,,,,,,,,,,,,,,,,,,,,,,,,,,,,,,,,,,,,,,,,,,,,,,,,,,,,,,,,,,,,,,,,,,,,,,,,,,,,,,,,,,,,,,,,,,,,,,,,,,,,,,,,,,,,,,,,,,\\r\\n\"NCT01055171\\tNeuromodulation of Trauma Memories in PTSD & Alcohol Dependence\\t\\tCOMPLETED\\tAlcohol Dependence|PTSD\\tDRUG: Propranolol|DRUG: Placebo\\tMedical University of South Carolina\\tNational Institute on Alcohol Abuse and Alcoholism (NIAAA)\\t44.0\\tOTHER\\tINTERVENTIONAL\\tAllocation: RANDOMIZED|Intervention Model: PARALLEL|Masking: QUADRUPLE (PARTICIPANT\", CARE_PROVIDER, INVESTIGATOR,\" OUTCOMES_ASSESSOR)|Primary Purpose: TREATMENT\\t2010-01\\t2012-08\",,,,,,,,,,,,,,,,,,,,,,,,,,,,,,,,,,,,,,,,,,,,,,,,,,,,,,,,,,,,,,,,,,,,,,,,,,,,,,,,,,,,,,,,,,,,,,,,,,,,,,,,,,,,,,,,,,,,,,,,,,,,,,,,,,,,,,,,,,,,,,,,,,,,,,,,,,,,,,,,,,,,,,,,,,,,,,,,,,,,,,,,,,,,,,,,,,,,,,,,,,,,,,,\\r\\n\"NCT01125371\\tComputerized Brief Alcohol Intervention (BI) for Binge Drinking HIV At-Risk and Infected Women\\t\\tCOMPLETED\\tAlcohol; Harmful Use|Binge Drinking|Risk Behavior|HIV Infection\\tBEHAVIORAL: Computerized brief alcohol intervention + IVR booster calls|BEHAVIORAL: Computerized brief alcohol intervention|BEHAVIORAL: Attention Control\\tJohns Hopkins University\\tNational Institute on Alcohol Abuse and Alcoholism (NIAAA)\\t439.0\\tOTHER\\tINTERVENTIONAL\\tAllocation: RANDOMIZED|Intervention Model: PARALLEL|Masking: DOUBLE (INVESTIGATOR\",\" OUTCOMES_ASSESSOR)|Primary Purpose: TREATMENT\\t2011-10\\t2016-06-07\",,,,,,,,,,,,,,,,,,,,,,,,,,,,,,,,,,,,,,,,,,,,,,,,,,,,,,,,,,,,,,,,,,,,,,,,,,,,,,,,,,,,,,,,,,,,,,,,,,,,,,,,,,,,,,,,,,,,,,,,,,,,,,,,,,,,,,,,,,,,,,,,,,,,,,,,,,,,,,,,,,,,,,,,,,,,,,,,,,,,,,,,,,,,,,,,,,,,,,,,,,,,,,,,,\\r\\n\"NCT02554071\\tManitoba Pharmacist Initiated Smoking Cessation Pilot Project\\t\\tCOMPLETED\\tSmoking Cessation\\tOTHER: Pharmacist - Smoking Cessation Support\\tUniversity of Manitoba\\tGovenment of Manitoba|Canadian Foundation for Pharmacy|Neighbourhood Pharmacy Association of Canada\\t119.0\\tOTHER\\tINTERVENTIONAL\\tAllocation: NA|Intervention Model: SINGLE_GROUP|Masking: NONE|Primary Purpose: SUPPORTIVE_CARE\\t2014-01\\t2014-11\",,,,,,,,,,,,,,,,,,,,,,,,,,,,,,,,,,,,,,,,,,,,,,,,,,,,,,,,,,,,,,,,,,,,,,,,,,,,,,,,,,,,,,,,,,,,,,,,,,,,,,,,,,,,,,,,,,,,,,,,,,,,,,,,,,,,,,,,,,,,,,,,,,,,,,,,,,,,,,,,,,,,,,,,,,,,,,,,,,,,,,,,,,,,,,,,,,,,,,,,,,,,,,,,,,\\r\\n\"NCT01772771\\tMolecular Testing for the MD Anderson Cancer Center Personalized Cancer Therapy Program\\t\\tRECRUITING\\tGlioma|Hematopoietic and Lymphoid Cell Neoplasm|Malignant Solid Neoplasm|Melanoma|Sarcoma\\tPROCEDURE: Biospecimen Collection|OTHER: Genetic Testing|OTHER: Medical Chart Review\\tM.D. Anderson Cancer Center\\tNational Cancer Institute (NCI)\\t12000.0\\tOTHER\\tOBSERVATIONAL\\tObservational Model: |Time Perspective: p\\t2012-03-01\\t2033-03-01\",,,,,,,,,,,,,,,,,,,,,,,,,,,,,,,,,,,,,,,,,,,,,,,,,,,,,,,,,,,,,,,,,,,,,,,,,,,,,,,,,,,,,,,,,,,,,,,,,,,,,,,,,,,,,,,,,,,,,,,,,,,,,,,,,,,,,,,,,,,,,,,,,,,,,,,,,,,,,,,,,,,,,,,,,,,,,,,,,,,,,,,,,,,,,,,,,,,,,,,,,,,,,,,,,,\\r\\n\"NCT02633371\\tA Pilot Study Exploring the Efficacy and Safety of Topical Oxybutynin 3% Gel for Primary Focal Hyperhidrosis in Adolescents and Young Adults\\t\\tCOMPLETED\\tHyperhidrosis\\tDRUG: Oxybutynin 3% gel\\tUniversity of Colorado\",\" Denver\\tSociety for Pediatric Dermatology\\t10.0\\tOTHER\\tINTERVENTIONAL\\tAllocation: NA|Intervention Model: SINGLE_GROUP|Masking: NONE|Primary Purpose: TREATMENT\\t2016-02\\t2017-05\",,,,,,,,,,,,,,,,,,,,,,,,,,,,,,,,,,,,,,,,,,,,,,,,,,,,,,,,,,,,,,,,,,,,,,,,,,,,,,,,,,,,,,,,,,,,,,,,,,,,,,,,,,,,,,,,,,,,,,,,,,,,,,,,,,,,,,,,,,,,,,,,,,,,,,,,,,,,,,,,,,,,,,,,,,,,,,,,,,,,,,,,,,,,,,,,,,,,,,,,,,,,,,,,,\\r\\n\"NCT03400371\\tBiology of Juvenile Myoclonic Epilepsy\\tBIOJUME\\tRECRUITING\\tJuvenile Myoclonic Epilepsy\\tOTHER: Blood draw|OTHER: Existing samples\\tKing\\'s College London\\tKing\\'s College Hospital NHS Trust|Charles University\",\" Czech Republic|Hopital Universitaire Robert-Debre|Vestre Viken Hospital Trust|The Hospital for Sick Children|Cardiff University|Odense University Hospital\\t1000.0\\tOTHER\\tOBSERVATIONAL\\tObservational Model: |Time Perspective: p\\t2017-07-13\\t2026-06-30\",,,,,,,,,,,,,,,,,,,,,,,,,,,,,,,,,,,,,,,,,,,,,,,,,,,,,,,,,,,,,,,,,,,,,,,,,,,,,,,,,,,,,,,,,,,,,,,,,,,,,,,,,,,,,,,,,,,,,,,,,,,,,,,,,,,,,,,,,,,,,,,,,,,,,,,,,,,,,,,,,,,,,,,,,,,,,,,,,,,,,,,,,,,,,,,,,,,,,,,,,,,,,,,,,\\r\\n\"NCT00120471\\tSafety and Blood Levels of Tenofovir Disoproxil Fumarate in HIV Infected Pregnant Women and Their Babies\\t\\tCOMPLETED\\tHIV Infections\\tDRUG: Tenofovir disoproxil fumarate|DRUG: Tenofovir disoproxil fumarate|DRUG: Tenofovir disoproxil fumarate\\tNational Institute of Allergy and Infectious Diseases (NIAID)\\tEunice Kennedy Shriver National Institute of Child Health and Human Development (NICHD)|National Institute on Drug Abuse (NIDA)|National Institute of Mental Health (NIMH)\\t122.0\\tNIH\\tINTERVENTIONAL\\tAllocation: RANDOMIZED|Intervention Model: PARALLEL|Masking: NONE|Primary Purpose: PREVENTION\\t2006-11\\t2011-12\",,,,,,,,,,,,,,,,,,,,,,,,,,,,,,,,,,,,,,,,,,,,,,,,,,,,,,,,,,,,,,,,,,,,,,,,,,,,,,,,,,,,,,,,,,,,,,,,,,,,,,,,,,,,,,,,,,,,,,,,,,,,,,,,,,,,,,,,,,,,,,,,,,,,,,,,,,,,,,,,,,,,,,,,,,,,,,,,,,,,,,,,,,,,,,,,,,,,,,,,,,,,,,,,,,\\r\\n\"NCT04784871\\tPromoting Wellbeing: The Five Ways to All Intervention\\t5WaysA\\tCOMPLETED\\tWellbeing|Health Attitude|Quality of Life\\tBEHAVIORAL: 5waysA Intervention|BEHAVIORAL: 5waysA Active wait-list control|BEHAVIORAL: 5waysA Inactive wait-list control\\tUniversity of Oslo\\tNorwegian Institute of Public Health|Norwegian Council for Mental Health|The Dam Foundation\\t970.0\\tOTHER\\tINTERVENTIONAL\\tAllocation: RANDOMIZED|Intervention Model: PARALLEL|Masking: NONE|Primary Purpose: PREVENTION\\t2021-03-04\\t2023-02-24\",,,,,,,,,,,,,,,,,,,,,,,,,,,,,,,,,,,,,,,,,,,,,,,,,,,,,,,,,,,,,,,,,,,,,,,,,,,,,,,,,,,,,,,,,,,,,,,,,,,,,,,,,,,,,,,,,,,,,,,,,,,,,,,,,,,,,,,,,,,,,,,,,,,,,,,,,,,,,,,,,,,,,,,,,,,,,,,,,,,,,,,,,,,,,,,,,,,,,,,,,,,,,,,,,,\\r\\n\"NCT02383771\\tReversal of the Anti-platelet Effects of Ticagrelor\\tREVERSAL\\tCOMPLETED\\tCoronary Artery Disease\\tDRUG: Ticagrelor|DRUG: Aspirin + Ticagrelor|DRUG: Control|DRUG: Aspirin + Ticagrelor\\tThe First Affiliated Hospital with Nanjing Medical University\\tNational Natural Science Foundation of China\\t64.0\\tOTHER\\tINTERVENTIONAL\\tAllocation: RANDOMIZED|Intervention Model: PARALLEL|Masking: SINGLE (INVESTIGATOR)|Primary Purpose: TREATMENT\\t2015-03\\t2016-12\",,,,,,,,,,,,,,,,,,,,,,,,,,,,,,,,,,,,,,,,,,,,,,,,,,,,,,,,,,,,,,,,,,,,,,,,,,,,,,,,,,,,,,,,,,,,,,,,,,,,,,,,,,,,,,,,,,,,,,,,,,,,,,,,,,,,,,,,,,,,,,,,,,,,,,,,,,,,,,,,,,,,,,,,,,,,,,,,,,,,,,,,,,,,,,,,,,,,,,,,,,,,,,,,,,\\r\\n\"NCT03269071\\tNeural Stem Cell Transplantation in Multiple Sclerosis Patients\\tSTEMS\\tCOMPLETED\\tProgressive Multiple Sclerosis\\tDRUG: human fetal-derived Neural Stem Cells (hNSCs)\\tIRCCS San Raffaele\\tFondazione Italiana Sclerosi Multipla\\t4.0\\tOTHER\\tINTERVENTIONAL\\tAllocation: NON_RANDOMIZED|Intervention Model: SEQUENTIAL|Masking: NONE|Primary Purpose: TREATMENT\\t2017-05-17\\t2021-07-31\",,,,,,,,,,,,,,,,,,,,,,,,,,,,,,,,,,,,,,,,,,,,,,,,,,,,,,,,,,,,,,,,,,,,,,,,,,,,,,,,,,,,,,,,,,,,,,,,,,,,,,,,,,,,,,,,,,,,,,,,,,,,,,,,,,,,,,,,,,,,,,,,,,,,,,,,,,,,,,,,,,,,,,,,,,,,,,,,,,,,,,,,,,,,,,,,,,,,,,,,,,,,,,,,,,\\r\\n\"NCT01659671\\tRCT of the Effect of Uvulopalatopharyngoplasty Compared to Expectancy in Patients With Obstructive Sleep Apnea\\tSKUP3\\tCOMPLETED\\tObstructive Sleep Apnea Syndrome\\tPROCEDURE: Uvulopalatopharyngoplasty\\tKarolinska University Hospital\\tKarolinska Institutet\\t65.0\\tOTHER\\tINTERVENTIONAL\\tAllocation: RANDOMIZED|Intervention Model: PARALLEL|Masking: SINGLE (OUTCOMES_ASSESSOR)|Primary Purpose: TREATMENT\\t2007-06\\t2014-05\",,,,,,,,,,,,,,,,,,,,,,,,,,,,,,,,,,,,,,,,,,,,,,,,,,,,,,,,,,,,,,,,,,,,,,,,,,,,,,,,,,,,,,,,,,,,,,,,,,,,,,,,,,,,,,,,,,,,,,,,,,,,,,,,,,,,,,,,,,,,,,,,,,,,,,,,,,,,,,,,,,,,,,,,,,,,,,,,,,,,,,,,,,,,,,,,,,,,,,,,,,,,,,,,,,\\r\\n\"NCT04765371\\tComparison Between Prednisolone and Dexamethasone on Mortality in Patients on Oxygen Therapy\",\" With CoViD-19\\tCOPreDex\\tCOMPLETED\\tCoronavirus Infection\\tDRUG: DEXAMETHASONE|DRUG: PREDNISOLONE\\tHôpital NOVO\\t\\t89.0\\tOTHER\\tINTERVENTIONAL\\tAllocation: RANDOMIZED|Intervention Model: PARALLEL|Masking: NONE|Primary Purpose: TREATMENT\\t2021-03-03\\t2022-05-13\",,,,,,,,,,,,,,,,,,,,,,,,,,,,,,,,,,,,,,,,,,,,,,,,,,,,,,,,,,,,,,,,,,,,,,,,,,,,,,,,,,,,,,,,,,,,,,,,,,,,,,,,,,,,,,,,,,,,,,,,,,,,,,,,,,,,,,,,,,,,,,,,,,,,,,,,,,,,,,,,,,,,,,,,,,,,,,,,,,,,,,,,,,,,,,,,,,,,,,,,,,,,,,,,,\\r\\n\"NCT02830971\\tDeveloping a Standardized Learning Curve\\t\\tCOMPLETED\\tRegistered Nurses|Nursing Personnel|Motor Skills\\tPROCEDURE: Doing Different ICU techniques and skills\\tBaqiyatallah Medical Sciences University\\tShahid Beheshti University|Tehran University of Medical Sciences\\t60.0\\tOTHER\\tINTERVENTIONAL\\tAllocation: NA|Intervention Model: SINGLE_GROUP|Masking: NONE|Primary Purpose: BASIC_SCIENCE\\t2016-07\\t2021-04-12\",,,,,,,,,,,,,,,,,,,,,,,,,,,,,,,,,,,,,,,,,,,,,,,,,,,,,,,,,,,,,,,,,,,,,,,,,,,,,,,,,,,,,,,,,,,,,,,,,,,,,,,,,,,,,,,,,,,,,,,,,,,,,,,,,,,,,,,,,,,,,,,,,,,,,,,,,,,,,,,,,,,,,,,,,,,,,,,,,,,,,,,,,,,,,,,,,,,,,,,,,,,,,,,,,,\\r\\n\"NCT00416871\\tInterleukin-2 and Interferon in Treating Patients With Metastatic Kidney Cancer\\t\\tCOMPLETED\\tKidney Cancer\\tBIOLOGICAL: aldesleukin|BIOLOGICAL: recombinant interferon alfa\\tCentre Leon Berard\\t\\t220.0\\tOTHER\\tINTERVENTIONAL\\tAllocation: RANDOMIZED|Intervention Model: |Masking: NONE|Primary Purpose: TREATMENT\\t\\t2006-02\",,,,,,,,,,,,,,,,,,,,,,,,,,,,,,,,,,,,,,,,,,,,,,,,,,,,,,,,,,,,,,,,,,,,,,,,,,,,,,,,,,,,,,,,,,,,,,,,,,,,,,,,,,,,,,,,,,,,,,,,,,,,,,,,,,,,,,,,,,,,,,,,,,,,,,,,,,,,,,,,,,,,,,,,,,,,,,,,,,,,,,,,,,,,,,,,,,,,,,,,,,,,,,,,,,\\r\\n\"NCT05900271\\tDutch-Depression Outcome Trial Comparing 5 Day Multi Daily Neuronavigated Theta Burst Sessions With 6 Weeks rTMS\\tDDOT\\tACTIVE_NOT_RECRUITING\\tTreatment Resistant Depression\\tDEVICE: rTMS|DEVICE: iTBS\\tAmsterdam UMC\",\" location VUmc\\tRadboud University Medical Center|University Medical Center Groningen|Maastricht University|Trimbos|Academisch Medisch Centrum - Universiteit van Amsterdam (AMC-UvA)\\t108.0\\tOTHER\\tINTERVENTIONAL\\tAllocation: RANDOMIZED|Intervention Model: PARALLEL|Masking: SINGLE (OUTCOMES_ASSESSOR)|Primary Purpose: TREATMENT\\t2023-11-15\\t2027-12\",,,,,,,,,,,,,,,,,,,,,,,,,,,,,,,,,,,,,,,,,,,,,,,,,,,,,,,,,,,,,,,,,,,,,,,,,,,,,,,,,,,,,,,,,,,,,,,,,,,,,,,,,,,,,,,,,,,,,,,,,,,,,,,,,,,,,,,,,,,,,,,,,,,,,,,,,,,,,,,,,,,,,,,,,,,,,,,,,,,,,,,,,,,,,,,,,,,,,,,,,,,,,,,,,\\r\\n\"NCT02469571\\tModulation of Gut Microbiota in Early Sepsis: A Pilot Study\\tMGM-sepsis\\tCOMPLETED\\tSepsis\\tDIETARY_SUPPLEMENT: Winclove 607|DIETARY_SUPPLEMENT: Placebo\\tMedical University of Graz\\t\\t15.0\\tOTHER\\tINTERVENTIONAL\\tAllocation: RANDOMIZED|Intervention Model: PARALLEL|Masking: QUADRUPLE (PARTICIPANT\", CARE_PROVIDER, INVESTIGATOR,\" OUTCOMES_ASSESSOR)|Primary Purpose: PREVENTION\\t2015-09-01\\t2018-03-01\",,,,,,,,,,,,,,,,,,,,,,,,,,,,,,,,,,,,,,,,,,,,,,,,,,,,,,,,,,,,,,,,,,,,,,,,,,,,,,,,,,,,,,,,,,,,,,,,,,,,,,,,,,,,,,,,,,,,,,,,,,,,,,,,,,,,,,,,,,,,,,,,,,,,,,,,,,,,,,,,,,,,,,,,,,,,,,,,,,,,,,,,,,,,,,,,,,,,,,,,,,,,,,,\\r\\n\"NCT05807971\\tAssessment of Safety\", Tolerability, Pharmacokinetics,\" and Pharmacodynamics of ATH-063 in Healthy Subjects\\t\\tRECRUITING\\tInflammatory Bowel Diseases|Crohn Disease|Ulcerative Colitis|Autoimmune Diseases\\tDRUG: ATH-063|DRUG: Placebo\\tAthos Therapeutics Inc\\tSyneos Health|Athos Therapeutics Australia Pty Ltd\\t76.0\\tINDUSTRY\\tINTERVENTIONAL\\tAllocation: RANDOMIZED|Intervention Model: SEQUENTIAL|Masking: QUADRUPLE (PARTICIPANT\", CARE_PROVIDER, INVESTIGATOR,\" OUTCOMES_ASSESSOR)|Primary Purpose: TREATMENT\\t2023-04-06\\t2024-02-08\",,,,,,,,,,,,,,,,,,,,,,,,,,,,,,,,,,,,,,,,,,,,,,,,,,,,,,,,,,,,,,,,,,,,,,,,,,,,,,,,,,,,,,,,,,,,,,,,,,,,,,,,,,,,,,,,,,,,,,,,,,,,,,,,,,,,,,,,,,,,,,,,,,,,,,,,,,,,,,,,,,,,,,,,,,,,,,,,,,,,,,,,,,,,,,,,,,,,,,,,,,,,\\r\\n\"NCT02083471\\tCow\\'s Milk and Hen\\'s Egg Hyposensitization in Adults\\t\\tUNKNOWN\\tEgg Allergy|Cow\\'s Milk Allergy\\tDIETARY_SUPPLEMENT: Specific Oral Tolerance Induction with Egg or Cow\\'s milk\\tTurku University Hospital\\t\\t40.0\\tOTHER_GOV\\tINTERVENTIONAL\\tAllocation: RANDOMIZED|Intervention Model: PARALLEL|Masking: NONE|Primary Purpose: TREATMENT\\t2015-04\\t2017-05\",,,,,,,,,,,,,,,,,,,,,,,,,,,,,,,,,,,,,,,,,,,,,,,,,,,,,,,,,,,,,,,,,,,,,,,,,,,,,,,,,,,,,,,,,,,,,,,,,,,,,,,,,,,,,,,,,,,,,,,,,,,,,,,,,,,,,,,,,,,,,,,,,,,,,,,,,,,,,,,,,,,,,,,,,,,,,,,,,,,,,,,,,,,,,,,,,,,,,,,,,,,,,,,,,,\\r\\n\"NCT01062971\\tClinical Study of A Fixed Combination of Timolol-Brimonidine-Dorzolamide\\t\\tCOMPLETED\\tPrimary Open Angle Glaucoma|Ocular Hypertension\\tDRUG: dorzolamide-timolol-brimonidine\\tLaboratorios Sophia S.A de C.V.\\t\\t124.0\\tINDUSTRY\\tINTERVENTIONAL\\tAllocation: RANDOMIZED|Intervention Model: PARALLEL|Masking: DOUBLE (PARTICIPANT\",\" INVESTIGATOR)|Primary Purpose: TREATMENT\\t2006-02\\t2008-06\",,,,,,,,,,,,,,,,,,,,,,,,,,,,,,,,,,,,,,,,,,,,,,,,,,,,,,,,,,,,,,,,,,,,,,,,,,,,,,,,,,,,,,,,,,,,,,,,,,,,,,,,,,,,,,,,,,,,,,,,,,,,,,,,,,,,,,,,,,,,,,,,,,,,,,,,,,,,,,,,,,,,,,,,,,,,,,,,,,,,,,,,,,,,,,,,,,,,,,,,,,,,,,,,,\\r\\n\"NCT03928171\\tThe Effect of Intra-abdominal Pressure on Peritoneal Perfusion During Laparoscopic Colorectal Surgery\\tPERFUSION\\tCOMPLETED\\tLaparoscopic Surgery|Pneumoperitoneum\\tOTHER: Intra-abdominal pressure during laparoscopy\\tRadboud University Medical Center\\t\\t30.0\\tOTHER\\tINTERVENTIONAL\\tAllocation: RANDOMIZED|Intervention Model: PARALLEL|Masking: TRIPLE (PARTICIPANT\", CARE_PROVIDER,\" OUTCOMES_ASSESSOR)|Primary Purpose: TREATMENT\\t2018-06-13\\t2018-12-24\",,,,,,,,,,,,,,,,,,,,,,,,,,,,,,,,,,,,,,,,,,,,,,,,,,,,,,,,,,,,,,,,,,,,,,,,,,,,,,,,,,,,,,,,,,,,,,,,,,,,,,,,,,,,,,,,,,,,,,,,,,,,,,,,,,,,,,,,,,,,,,,,,,,,,,,,,,,,,,,,,,,,,,,,,,,,,,,,,,,,,,,,,,,,,,,,,,,,,,,,,,,,,,,,\\r\\n\"NCT00897871\\tEvaluating the Side Effects and How Well Anticancer Drugs Work in Very Young Patients With Cancer\\t\\tUNKNOWN\\tUnspecified Childhood Solid Tumor\",\" Protocol Specific\\tDRUG: carboplatin|DRUG: cyclophosphamide|DRUG: etoposide phosphate|GENETIC: gene expression analysis|GENETIC: polymorphism analysis|OTHER: pharmacological study\\tChildren\\'s Cancer and Leukaemia Group\\t\\t60.0\\tOTHER\\tOBSERVATIONAL\\tObservational Model: |Time Perspective: p\\t2007-02\\t\",,,,,,,,,,,,,,,,,,,,,,,,,,,,,,,,,,,,,,,,,,,,,,,,,,,,,,,,,,,,,,,,,,,,,,,,,,,,,,,,,,,,,,,,,,,,,,,,,,,,,,,,,,,,,,,,,,,,,,,,,,,,,,,,,,,,,,,,,,,,,,,,,,,,,,,,,,,,,,,,,,,,,,,,,,,,,,,,,,,,,,,,,,,,,,,,,,,,,,,,,,,,,,,,,\\r\\n\"NCT00848471\\tValidation of the Quark RMR Calorimeter (Cosmed) Versus Deltatrac II (GE Health Care Clinical Systems)\\tProtocol Quark\\tUNKNOWN\\tHealthy|Obesity\\tDEVICE: Quark RMR|DEVICE: Deltatrac II\\tHospices Civils de Lyon\\tCentre de Recherche en Nutrition Humaine Rhone-Alpe\\t30.0\\tOTHER\\tINTERVENTIONAL\\tAllocation: RANDOMIZED|Intervention Model: CROSSOVER|Masking: NONE|Primary Purpose: HEALTH_SERVICES_RESEARCH\\t2009-01\\t2009-12\",,,,,,,,,,,,,,,,,,,,,,,,,,,,,,,,,,,,,,,,,,,,,,,,,,,,,,,,,,,,,,,,,,,,,,,,,,,,,,,,,,,,,,,,,,,,,,,,,,,,,,,,,,,,,,,,,,,,,,,,,,,,,,,,,,,,,,,,,,,,,,,,,,,,,,,,,,,,,,,,,,,,,,,,,,,,,,,,,,,,,,,,,,,,,,,,,,,,,,,,,,,,,,,,,,\\r\\n\"NCT06135571\\tStudy on the No.253 Lymph Node Metastasis Patterns in Left-Sided Colon and Rectal Cancer\\t\\tRECRUITING\\tColorectal Cancer|Lymph Node Metastasis\\tPROCEDURE: Laparoscopic colorectal surgery\\tCancer Institute and Hospital\",\" Chinese Academy of Medical Sciences\\tPeking Union Medical College Hospital|Peking University Cancer Hospital & Institute|China-Japan Friendship Hospital|Chinese PLA General Hospital\\t3000.0\\tOTHER\\tOBSERVATIONAL\\tObservational Model: |Time Perspective: p\\t2023-09-01\\t2026-09-01\",,,,,,,,,,,,,,,,,,,,,,,,,,,,,,,,,,,,,,,,,,,,,,,,,,,,,,,,,,,,,,,,,,,,,,,,,,,,,,,,,,,,,,,,,,,,,,,,,,,,,,,,,,,,,,,,,,,,,,,,,,,,,,,,,,,,,,,,,,,,,,,,,,,,,,,,,,,,,,,,,,,,,,,,,,,,,,,,,,,,,,,,,,,,,,,,,,,,,,,,,,,,,,,,,\\r\\n\"NCT01189071\\tPreoperative Use of Darifenacin (Enablex) to Alleviate Postoperative Ureteral Stent Pain\\t\\tTERMINATED\\tOveractive Bladder|Renal Colic|Pain\",\" Postoperative\\tDRUG: Darifenacin\\tUniversity of Missouri-Columbia\\t\\t3.0\\tOTHER\\tINTERVENTIONAL\\tAllocation: RANDOMIZED|Intervention Model: PARALLEL|Masking: DOUBLE (PARTICIPANT\",\" INVESTIGATOR)|Primary Purpose: TREATMENT\\t2009-08\\t2011-07\",,,,,,,,,,,,,,,,,,,,,,,,,,,,,,,,,,,,,,,,,,,,,,,,,,,,,,,,,,,,,,,,,,,,,,,,,,,,,,,,,,,,,,,,,,,,,,,,,,,,,,,,,,,,,,,,,,,,,,,,,,,,,,,,,,,,,,,,,,,,,,,,,,,,,,,,,,,,,,,,,,,,,,,,,,,,,,,,,,,,,,,,,,,,,,,,,,,,,,,,,,,,,,,,\\r\\n\"NCT00728871\\tThe Correlations Between HPV L1-Specific Immunologic Responses in Cervical Cancer and Cervical Intraepithelial Neoplasia (CIN) Patients and Their Prognosis\\t\\tUNKNOWN\\tCervical Cancer|Cervical Intraepithelial Neoplasia\\tPROCEDURE: peripheral blood isolation\\tNational Taiwan University Hospital\\t\\t600.0\\tOTHER\\tINTERVENTIONAL\\tAllocation: NA|Intervention Model: SINGLE_GROUP|Masking: NONE|Primary Purpose: BASIC_SCIENCE\\t2005-12\\t2011-12\",,,,,,,,,,,,,,,,,,,,,,,,,,,,,,,,,,,,,,,,,,,,,,,,,,,,,,,,,,,,,,,,,,,,,,,,,,,,,,,,,,,,,,,,,,,,,,,,,,,,,,,,,,,,,,,,,,,,,,,,,,,,,,,,,,,,,,,,,,,,,,,,,,,,,,,,,,,,,,,,,,,,,,,,,,,,,,,,,,,,,,,,,,,,,,,,,,,,,,,,,,,,,,,,,,\\r\\n\"NCT05592171\\tOcclusafe® Assisted MW Alone or With DEB-TACE Compared to MW With DEB-TACE in the Treatment of HCC\\tSEASON-HCC\\tRECRUITING\\tHCC\\tPROCEDURE: Microwave ablation + Occlusafe + DEB-TACE|PROCEDURE: Microwave ablation + Occlusafe|PROCEDURE: Microwave ablation + DEB-TACE\\tUniversity of Pisa\\tAzienda Ospedaliera Città della Salute e della Scienza di Torino|Fondazione Policlinico Universitario Agostino Gemelli IRCCS|Azienda Ospedaliera Universitaria Policlinico|IRCCS Azienda Ospedaliero-Universitaria di Bologna|Terumo Europe N.V.|Azienda Ospedaliero\",\" Universitaria Pisana\\t60.0\\tOTHER\\tINTERVENTIONAL\\tAllocation: RANDOMIZED|Intervention Model: PARALLEL|Masking: NONE|Primary Purpose: TREATMENT\\t2022-10-17\\t2025-10-17\",,,,,,,,,,,,,,,,,,,,,,,,,,,,,,,,,,,,,,,,,,,,,,,,,,,,,,,,,,,,,,,,,,,,,,,,,,,,,,,,,,,,,,,,,,,,,,,,,,,,,,,,,,,,,,,,,,,,,,,,,,,,,,,,,,,,,,,,,,,,,,,,,,,,,,,,,,,,,,,,,,,,,,,,,,,,,,,,,,,,,,,,,,,,,,,,,,,,,,,,,,,,,,,,,\\r\\n\"NCT00520871\\tThe Water-Blueberry Study\\t\\tCOMPLETED\\tCardiovascular Disease\\tDRUG: Blueberry juice\\tUniversity of Oslo\\tUllevaal University Hospital\\t62.0\\tOTHER\\tINTERVENTIONAL\\tAllocation: RANDOMIZED|Intervention Model: PARALLEL|Masking: SINGLE|Primary Purpose: PREVENTION\\t2003-03\\t2004-04\",,,,,,,,,,,,,,,,,,,,,,,,,,,,,,,,,,,,,,,,,,,,,,,,,,,,,,,,,,,,,,,,,,,,,,,,,,,,,,,,,,,,,,,,,,,,,,,,,,,,,,,,,,,,,,,,,,,,,,,,,,,,,,,,,,,,,,,,,,,,,,,,,,,,,,,,,,,,,,,,,,,,,,,,,,,,,,,,,,,,,,,,,,,,,,,,,,,,,,,,,,,,,,,,,,\\r\\n\"NCT05913271\\tStudy on the Correlation Between NAT2(N-acetyltransferase2) Gene Polymorphism and CrCl(Creatine Clreance) and the Efficacy and Safety of Levosimendan in Patients With Severe Heart Failure\\t\\tRECRUITING\\tHeart Failure|Levosimendan|Efficacy|Safety\\t\\tYi Han\\tQianfoshan Hospital\\t352.0\\tOTHER\\tOBSERVATIONAL\\tObservational Model: |Time Perspective: p\\t2023-05-30\\t2025-05-30\",,,,,,,,,,,,,,,,,,,,,,,,,,,,,,,,,,,,,,,,,,,,,,,,,,,,,,,,,,,,,,,,,,,,,,,,,,,,,,,,,,,,,,,,,,,,,,,,,,,,,,,,,,,,,,,,,,,,,,,,,,,,,,,,,,,,,,,,,,,,,,,,,,,,,,,,,,,,,,,,,,,,,,,,,,,,,,,,,,,,,,,,,,,,,,,,,,,,,,,,,,,,,,,,,,\\r\\n\"NCT04006171\\tComparison of Serum C Type Natriuretic Peptide Levels Between Polycystic Ovary Syndrome Patients and Healthy Women\\tCNP\\tCOMPLETED\\tPolycystic Ovary Syndrome|c Type Natriuretic Peptide|Menstrual Irregularity|Hyperandrogenism\\tDIAGNOSTIC_TEST: C type natriuretic peptide\\tNear East University\",\" Turkey\\t\\t90.0\\tOTHER\\tINTERVENTIONAL\\tAllocation: NON_RANDOMIZED|Intervention Model: PARALLEL|Masking: NONE|Primary Purpose: DIAGNOSTIC\\t2019-07-15\\t2020-09-01\",,,,,,,,,,,,,,,,,,,,,,,,,,,,,,,,,,,,,,,,,,,,,,,,,,,,,,,,,,,,,,,,,,,,,,,,,,,,,,,,,,,,,,,,,,,,,,,,,,,,,,,,,,,,,,,,,,,,,,,,,,,,,,,,,,,,,,,,,,,,,,,,,,,,,,,,,,,,,,,,,,,,,,,,,,,,,,,,,,,,,,,,,,,,,,,,,,,,,,,,,,,,,,,,,\\r\\n\"NCT04370171\\tManagement of Diabetic Patients With Telemedicine in the Context of the Covid-19 Epidemic\\tTeleCoviDiab\\tCOMPLETED\\tDiabetes|Covid-19\\tOTHER: care modalities|OTHER: Teleconsultation either by phone or by computer consultation\\tUniversity Hospital\", Strasbourg,\" France\\t\\t610.0\\tOTHER\\tOBSERVATIONAL\\tObservational Model: |Time Perspective: p\\t2020-05-04\\t2020-05-29\",,,,,,,,,,,,,,,,,,,,,,,,,,,,,,,,,,,,,,,,,,,,,,,,,,,,,,,,,,,,,,,,,,,,,,,,,,,,,,,,,,,,,,,,,,,,,,,,,,,,,,,,,,,,,,,,,,,,,,,,,,,,,,,,,,,,,,,,,,,,,,,,,,,,,,,,,,,,,,,,,,,,,,,,,,,,,,,,,,,,,,,,,,,,,,,,,,,,,,,,,,,,,,,,\\r\\n\"NCT04340271\\tThe Clinical Utility of Extracorporeal Shock Wave Therapy on Burns\\t\\tCOMPLETED\\tBurn Scar\\tOTHER: Extracorporeal shock wave therapy|OTHER: conventional occupational therapy\\tHangang Sacred Heart Hospital\\t\\t48.0\\tOTHER\\tINTERVENTIONAL\\tAllocation: RANDOMIZED|Inter\n\n*** WARNING: max output size exceeded, skipping output. ***\n\n,,,,,,,,,,,,,,,,,,,,,,,,,,,,,,,,,,,,,,,,,,,,,,,,,,,,,,,,,,,,,,,,,,,,,,,,,,,,,,,,,,,,,,,,,,,,,,,,,,,,,,,,,,,,,,,,,,,,,,,,,,,,,,,,,,,,,,,,,,,,,,,,,\\r\\n\"NCT05974371\\tEpisodic Memory Integration and Interference\\t\\tNOT_YET_RECRUITING\\tEpisodic Memory\\tOTHER: emotional context similarity\\tBoston College\\t\\t150.0\\tOTHER\\tINTERVENTIONAL\\tAllocation: NA|Intervention Model: SINGLE_GROUP|Masking: NONE|Primary Purpose: BASIC_SCIENCE\\t2024-08\\t2027-08\",,,,,,,,,,,,,,,,,,,,,,,,,,,,,,,,,,,,,,,,,,,,,,,,,,,,,,,,,,,,,,,,,,,,,,,,,,,,,,,,,,,,,,,,,,,,,,,,,,,,,,,,,,,,,,,,,,,,,,,,,,,,,,,,,,,,,,,,,,,,,,,,,,,,,,,,,,,,,,,,,,,,,,,,,,,,,,,,,,,,,,,,,,,,,,,,,,,,,,,,,,,,,,,,,,\\r\\n\"NCT03713671\\tGait and Balance Parameters Before and After Parathyroidectomy in Patients With Primary Hyperparathyroidism\\t\\tCOMPLETED\\tPrimary Hyperparathyroidism\\tDIAGNOSTIC_TEST: gait analysis\\tRecep Tayyip Erdogan University Training and Research Hospital\\tHacettepe University|Ankara Education and Research Hospital\\t40.0\\tOTHER\\tINTERVENTIONAL\\tAllocation: RANDOMIZED|Intervention Model: PARALLEL|Masking: SINGLE (OUTCOMES_ASSESSOR)|Primary Purpose: SCREENING\\t2021-10-17\\t2023-08-27\",,,,,,,,,,,,,,,,,,,,,,,,,,,,,,,,,,,,,,,,,,,,,,,,,,,,,,,,,,,,,,,,,,,,,,,,,,,,,,,,,,,,,,,,,,,,,,,,,,,,,,,,,,,,,,,,,,,,,,,,,,,,,,,,,,,,,,,,,,,,,,,,,,,,,,,,,,,,,,,,,,,,,,,,,,,,,,,,,,,,,,,,,,,,,,,,,,,,,,,,,,,,,,,,,,\\r\\n\"NCT02645071\\tBrief Program in Reducing Sedentary Behavior and Promoting Physical Exercise\\t\\tCOMPLETED\\tPhysical Activity\\tBEHAVIORAL: Physical Activity\\tThe University of Hong Kong\\tHong Kong Jockey Club Charities Trust\\t141.0\\tOTHER\\tINTERVENTIONAL\\tAllocation: NA|Intervention Model: SINGLE_GROUP|Masking: NONE|Primary Purpose: PREVENTION\\t2015-07\\t2017-07\",,,,,,,,,,,,,,,,,,,,,,,,,,,,,,,,,,,,,,,,,,,,,,,,,,,,,,,,,,,,,,,,,,,,,,,,,,,,,,,,,,,,,,,,,,,,,,,,,,,,,,,,,,,,,,,,,,,,,,,,,,,,,,,,,,,,,,,,,,,,,,,,,,,,,,,,,,,,,,,,,,,,,,,,,,,,,,,,,,,,,,,,,,,,,,,,,,,,,,,,,,,,,,,,,,\\r\\n\"NCT04004871\\tInduction Chemotherapy With Nab-paclitaxel\",\" Cisplatin and Fluorouracil for Locoregionally Advanced Nasopharyngeal Carcinoma\\t\\tUNKNOWN\\tNasopharyngeal Carcinoma|Nasopharyngeal Cancer|Nasopharynx Cancer\\tDRUG: Nab-paclitaxel\",\" Cisplatin and Fluorouracil|RADIATION: concurrent chemoradiotherapy\\tGuangxi Medical University\\tSecond Affiliated Hospital of Guangxi Medical University|Guilin Medical University\",\" China|Liuzhou Workers Hospital|Wuzhou Red Cross Hospital\\t60.0\\tOTHER\\tINTERVENTIONAL\\tAllocation: NA|Intervention Model: SINGLE_GROUP|Masking: NONE|Primary Purpose: TREATMENT\\t2019-07-05\\t2022-06-30\",,,,,,,,,,,,,,,,,,,,,,,,,,,,,,,,,,,,,,,,,,,,,,,,,,,,,,,,,,,,,,,,,,,,,,,,,,,,,,,,,,,,,,,,,,,,,,,,,,,,,,,,,,,,,,,,,,,,,,,,,,,,,,,,,,,,,,,,,,,,,,,,,,,,,,,,,,,,,,,,,,,,,,,,,,,,,,,,,,,,,,,,,,,,,,,,,,,,,,,,,,,,,,,\\r\\n\"NCT05953571\\tLaparoscopic Assisted Dismembered Pyeloplasty Versus Open Pyeloplasty in (UPJO) With Poorly Function Kidney in Pediatrics\\t\\tCOMPLETED\\tUretro-pelvic Junction Obstruction|Poorly Function Kidney\\tPROCEDURE: Dismembered Pyeloplasty\\tAl-Azhar University\\tUniversity Hospital Fattouma Bourguiba\\t65.0\\tOTHER\\tOBSERVATIONAL\\tObservational Model: |Time Perspective: p\\t2022-01-08\\t2023-06-30\",,,,,,,,,,,,,,,,,,,,,,,,,,,,,,,,,,,,,,,,,,,,,,,,,,,,,,,,,,,,,,,,,,,,,,,,,,,,,,,,,,,,,,,,,,,,,,,,,,,,,,,,,,,,,,,,,,,,,,,,,,,,,,,,,,,,,,,,,,,,,,,,,,,,,,,,,,,,,,,,,,,,,,,,,,,,,,,,,,,,,,,,,,,,,,,,,,,,,,,,,,,,,,,,,,\\r\\n\"NCT02570971\\tMannitol Versus Supportive Care in Ciguatera Fish Poisoning\\t\\tUNKNOWN\\tCiguatoxin\\tDRUG: Mannitol\\tUniversity of South Florida\\tFlorida Poison Control Center\\t200.0\\tOTHER\\tINTERVENTIONAL\\tAllocation: RANDOMIZED|Intervention Model: SINGLE_GROUP|Masking: TRIPLE (PARTICIPANT\", CARE_PROVIDER,\" INVESTIGATOR)|Primary Purpose: TREATMENT\\t2015-10\\t\",,,,,,,,,,,,,,,,,,,,,,,,,,,,,,,,,,,,,,,,,,,,,,,,,,,,,,,,,,,,,,,,,,,,,,,,,,,,,,,,,,,,,,,,,,,,,,,,,,,,,,,,,,,,,,,,,,,,,,,,,,,,,,,,,,,,,,,,,,,,,,,,,,,,,,,,,,,,,,,,,,,,,,,,,,,,,,,,,,,,,,,,,,,,,,,,,,,,,,,,,,,,,,,,\\r\\n\"NCT03987971\\tAcupuncture on GB26 to Treat Chronic Low Back Pain\\t\\tUNKNOWN\\tChronic Low-back Pain\\tOTHER: acupuncture\\tWenzhou Medical University\\tQingtian People\\'s hospital\\t114.0\\tOTHER\\tINTERVENTIONAL\\tAllocation: RANDOMIZED|Intervention Model: PARALLEL|Masking: TRIPLE (PARTICIPANT\", INVESTIGATOR,\" OUTCOMES_ASSESSOR)|Primary Purpose: TREATMENT\\t2020-01\\t2021-07\",,,,,,,,,,,,,,,,,,,,,,,,,,,,,,,,,,,,,,,,,,,,,,,,,,,,,,,,,,,,,,,,,,,,,,,,,,,,,,,,,,,,,,,,,,,,,,,,,,,,,,,,,,,,,,,,,,,,,,,,,,,,,,,,,,,,,,,,,,,,,,,,,,,,,,,,,,,,,,,,,,,,,,,,,,,,,,,,,,,,,,,,,,,,,,,,,,,,,,,,,,,,,,,,\\r\\n\"NCT01425671\\tNeural Oscillations as Genetic and Functional Biomarkers in Normal and Disease States\\t\\tACTIVE_NOT_RECRUITING\\tSchizophrenia|Schizoaffective Disorder|Schizophreniform Disorder\\t\\tUniversity of Maryland\",\" Baltimore\\tNational Institute of Mental Health (NIMH)\\t800.0\\tOTHER\\tOBSERVATIONAL\\tObservational Model: |Time Perspective: p\\t2010-11-30\\t2024-06\",,,,,,,,,,,,,,,,,,,,,,,,,,,,,,,,,,,,,,,,,,,,,,,,,,,,,,,,,,,,,,,,,,,,,,,,,,,,,,,,,,,,,,,,,,,,,,,,,,,,,,,,,,,,,,,,,,,,,,,,,,,,,,,,,,,,,,,,,,,,,,,,,,,,,,,,,,,,,,,,,,,,,,,,,,,,,,,,,,,,,,,,,,,,,,,,,,,,,,,,,,,,,,,,,\\r\\n\"NCT04962971\\tComparative Effect of 3 Different Cranberry Extracts on Cystitis Related Urinary Comfort in Women\\t\\tCOMPLETED\\tRecurrent Cystitis\\tDIETARY_SUPPLEMENT: X|DIETARY_SUPPLEMENT: Y|DIETARY_SUPPLEMENT: Z\\tCEN Biotech\\tNexira|CEN Nutriment\\t216.0\\tINDUSTRY\\tOBSERVATIONAL\\tObservational Model: |Time Perspective: p\\t2020-09-01\\t2022-02-01\",,,,,,,,,,,,,,,,,,,,,,,,,,,,,,,,,,,,,,,,,,,,,,,,,,,,,,,,,,,,,,,,,,,,,,,,,,,,,,,,,,,,,,,,,,,,,,,,,,,,,,,,,,,,,,,,,,,,,,,,,,,,,,,,,,,,,,,,,,,,,,,,,,,,,,,,,,,,,,,,,,,,,,,,,,,,,,,,,,,,,,,,,,,,,,,,,,,,,,,,,,,,,,,,,,\\r\\n\"NCT02827071\\tOcular Imaging Study Using Advanced OCT\\t\\tUNKNOWN\\tRetinal Vascular Disorder|Macular Degeneration\\t\\tUniversity of California\",\" Los Angeles\\t\\t1000.0\\tOTHER\\tOBSERVATIONAL\\tObservational Model: |Time Perspective: p\\t2016-07\\t\",,,,,,,,,,,,,,,,,,,,,,,,,,,,,,,,,,,,,,,,,,,,,,,,,,,,,,,,,,,,,,,,,,,,,,,,,,,,,,,,,,,,,,,,,,,,,,,,,,,,,,,,,,,,,,,,,,,,,,,,,,,,,,,,,,,,,,,,,,,,,,,,,,,,,,,,,,,,,,,,,,,,,,,,,,,,,,,,,,,,,,,,,,,,,,,,,,,,,,,,,,,,,,,,,\\r\\n\"NCT04236271\\tTELEsurveillance of Patients in PostopErative Bridge surgeryAge CoronairE\\tTELE-PEACE\\tCOMPLETED\\tCoronary Artery Bypass\\tDEVICE: connected objects\\tAssistance Publique - Hôpitaux de Paris\\tGFI\\t33.0\\tOTHER\\tINTERVENTIONAL\\tAllocation: NA|Intervention Model: SINGLE_GROUP|Masking: NONE|Primary Purpose: OTHER\\t2020-03-13\\t2022-12-31\",,,,,,,,,,,,,,,,,,,,,,,,,,,,,,,,,,,,,,,,,,,,,,,,,,,,,,,,,,,,,,,,,,,,,,,,,,,,,,,,,,,,,,,,,,,,,,,,,,,,,,,,,,,,,,,,,,,,,,,,,,,,,,,,,,,,,,,,,,,,,,,,,,,,,,,,,,,,,,,,,,,,,,,,,,,,,,,,,,,,,,,,,,,,,,,,,,,,,,,,,,,,,,,,,,\\r\\n\"NCT01780571\\tCPAP/PSV Preoxygenation in Obese Patients\\t\\tCOMPLETED\\tObesity|Anaesthesia\\tPROCEDURE: CPAP 5 cm H2O + PSV 5 cm H2O\\tKarolinska Institutet\\t\\t44.0\\tOTHER\\tINTERVENTIONAL\\tAllocation: RANDOMIZED|Intervention Model: PARALLEL|Masking: SINGLE (PARTICIPANT)|Primary Purpose: PREVENTION\\t2009-05\\t2012-12\",,,,,,,,,,,,,,,,,,,,,,,,,,,,,,,,,,,,,,,,,,,,,,,,,,,,,,,,,,,,,,,,,,,,,,,,,,,,,,,,,,,,,,,,,,,,,,,,,,,,,,,,,,,,,,,,,,,,,,,,,,,,,,,,,,,,,,,,,,,,,,,,,,,,,,,,,,,,,,,,,,,,,,,,,,,,,,,,,,,,,,,,,,,,,,,,,,,,,,,,,,,,,,,,,,\\r\\n\"NCT05078671\\tPharmacokinetic Boosting of Olaparib to Improve Exposure\",\" Tolerance and Cost-effectiveness\\tPROACTIVE\\tRECRUITING\\tCancer\\tDRUG: Olaparib|DRUG: Cobicistat\\tRadboud University Medical Center\\t\\t160.0\\tOTHER\\tINTERVENTIONAL\\tAllocation: RANDOMIZED|Intervention Model: PARALLEL|Masking: NONE|Primary Purpose: TREATMENT\\t2021-12-15\\t2025-12-31\",,,,,,,,,,,,,,,,,,,,,,,,,,,,,,,,,,,,,,,,,,,,,,,,,,,,,,,,,,,,,,,,,,,,,,,,,,,,,,,,,,,,,,,,,,,,,,,,,,,,,,,,,,,,,,,,,,,,,,,,,,,,,,,,,,,,,,,,,,,,,,,,,,,,,,,,,,,,,,,,,,,,,,,,,,,,,,,,,,,,,,,,,,,,,,,,,,,,,,,,,,,,,,,,,\\r\\n\"NCT02529371\\tPre-Marketing Feasibility Evaluation of the UriCap-RM - Urine Collection in Hospitalized Male Patients\\t\\tUNKNOWN\\tUrinary Incontinence\\tDEVICE: UriCap-RM\\tG.R. Dome Medical Ltd.\\t\\t30.0\\tINDUSTRY\\tINTERVENTIONAL\\tAllocation: NA|Intervention Model: SINGLE_GROUP|Masking: NONE|Primary Purpose: SUPPORTIVE_CARE\\t2015-09\\t2015-10\",,,,,,,,,,,,,,,,,,,,,,,,,,,,,,,,,,,,,,,,,,,,,,,,,,,,,,,,,,,,,,,,,,,,,,,,,,,,,,,,,,,,,,,,,,,,,,,,,,,,,,,,,,,,,,,,,,,,,,,,,,,,,,,,,,,,,,,,,,,,,,,,,,,,,,,,,,,,,,,,,,,,,,,,,,,,,,,,,,,,,,,,,,,,,,,,,,,,,,,,,,,,,,,,,,\\r\\n\"NCT02309671\\tA Dose-response Trial Using FE 999049 in Japanese Women Undergoing in Vitro Fertilisation (IVF) / Intracytoplasmic Sperm Injection (ICSI) Treatment\\t\\tCOMPLETED\\tInfertility\\tDRUG: FE 999049|DRUG: follitropin beta\\tFerring Pharmaceuticals\\t\\t159.0\\tINDUSTRY\\tINTERVENTIONAL\\tAllocation: RANDOMIZED|Intervention Model: PARALLEL|Masking: SINGLE (OUTCOMES_ASSESSOR)|Primary Purpose: TREATMENT\\t2014-12\\t2016-09\",,,,,,,,,,,,,,,,,,,,,,,,,,,,,,,,,,,,,,,,,,,,,,,,,,,,,,,,,,,,,,,,,,,,,,,,,,,,,,,,,,,,,,,,,,,,,,,,,,,,,,,,,,,,,,,,,,,,,,,,,,,,,,,,,,,,,,,,,,,,,,,,,,,,,,,,,,,,,,,,,,,,,,,,,,,,,,,,,,,,,,,,,,,,,,,,,,,,,,,,,,,,,,,,,,\\r\\n\"NCT03876171\\tCulturally Modified Family Based Therapy for Haitian Youth in South Florida\\t\\tCOMPLETED\\tProblem Behavior\\tBEHAVIORAL: Haitian youth and family intervention study: family functioning|BEHAVIORAL: Haitian youth intervention study: youth psychoeducational|BEHAVIORAL: Haitian family intervention study: family psychoeducational|BEHAVIORAL: Diversion Programs\\tUniversity of Miami\\tNational Institute on Drug Abuse (NIDA)\\t44.0\\tOTHER\\tINTERVENTIONAL\\tAllocation: RANDOMIZED|Intervention Model: PARALLEL|Masking: SINGLE (PARTICIPANT)|Primary Purpose: TREATMENT\\t2019-04-01\\t2022-12-31\",,,,,,,,,,,,,,,,,,,,,,,,,,,,,,,,,,,,,,,,,,,,,,,,,,,,,,,,,,,,,,,,,,,,,,,,,,,,,,,,,,,,,,,,,,,,,,,,,,,,,,,,,,,,,,,,,,,,,,,,,,,,,,,,,,,,,,,,,,,,,,,,,,,,,,,,,,,,,,,,,,,,,,,,,,,,,,,,,,,,,,,,,,,,,,,,,,,,,,,,,,,,,,,,,,\\r\\n\"NCT05031871\\tPharmacokinetics of HR17031 Injection in Healthy Subjects\\t\\tCOMPLETED\\tType 2 Diabetes Mellitus\\tDRUG: HR17031 injection ；INS068 injection；SHR20004 injection|DRUG: HR17031 injection ；INS068 injection；SHR20004 injection|DRUG: HR17031 injection ；INS068 injection；SHR20004 injection|DRUG: HR17031 injection ；INS068 injection；SHR20004 injection\\tJiangsu HengRui Medicine Co.\",\" Ltd.\\t\\t24.0\\tINDUSTRY\\tINTERVENTIONAL\\tAllocation: RANDOMIZED|Intervention Model: CROSSOVER|Masking: NONE|Primary Purpose: TREATMENT\\t2021-09-02\\t2021-11-19\",,,,,,,,,,,,,,,,,,,,,,,,,,,,,,,,,,,,,,,,,,,,,,,,,,,,,,,,,,,,,,,,,,,,,,,,,,,,,,,,,,,,,,,,,,,,,,,,,,,,,,,,,,,,,,,,,,,,,,,,,,,,,,,,,,,,,,,,,,,,,,,,,,,,,,,,,,,,,,,,,,,,,,,,,,,,,,,,,,,,,,,,,,,,,,,,,,,,,,,,,,,,,,,,,\\r\\n\"NCT04769271\\tIntra-pocket Application of Tea Tree Oil Gel in the Treatment of Stage-2 Periodontitis\\t\\tCOMPLETED\\tPeriodontitis\\tPROCEDURE: Scaling and Root Planing|DRUG: Scaling and Root Planing with tea tree oil\\tAlexandria University\\t\\t30.0\\tOTHER\\tINTERVENTIONAL\\tAllocation: RANDOMIZED|Intervention Model: PARALLEL|Masking: SINGLE (OUTCOMES_ASSESSOR)|Primary Purpose: TREATMENT\\t2019-11-10\\t2020-08-25\",,,,,,,,,,,,,,,,,,,,,,,,,,,,,,,,,,,,,,,,,,,,,,,,,,,,,,,,,,,,,,,,,,,,,,,,,,,,,,,,,,,,,,,,,,,,,,,,,,,,,,,,,,,,,,,,,,,,,,,,,,,,,,,,,,,,,,,,,,,,,,,,,,,,,,,,,,,,,,,,,,,,,,,,,,,,,,,,,,,,,,,,,,,,,,,,,,,,,,,,,,,,,,,,,,\\r\\n\"NCT06044571\\tOptimizing Telehealth-delivery of a Weight Loss Intervention in Older Adults\\t\\tNOT_YET_RECRUITING\\tObesity|Multiple Chronic Conditions\\tOTHER: Prescriptive|BEHAVIORAL: Behavioral\\tUniversity of North Carolina\",\" Chapel Hill\\tNational Institute on Aging (NIA)\\t180.0\\tOTHER\\tINTERVENTIONAL\\tAllocation: RANDOMIZED|Intervention Model: SEQUENTIAL|Masking: DOUBLE (PARTICIPANT\",\" CARE_PROVIDER)|Primary Purpose: TREATMENT\\t2024-03-01\\t2027-09-01\",,,,,,,,,,,,,,,,,,,,,,,,,,,,,,,,,,,,,,,,,,,,,,,,,,,,,,,,,,,,,,,,,,,,,,,,,,,,,,,,,,,,,,,,,,,,,,,,,,,,,,,,,,,,,,,,,,,,,,,,,,,,,,,,,,,,,,,,,,,,,,,,,,,,,,,,,,,,,,,,,,,,,,,,,,,,,,,,,,,,,,,,,,,,,,,,,,,,,,,,,,,,,,,,\\r\\n\"NCT01889771\\tA Cost-effectiveness Study of Nicotine Patches Distributed Through a Quitline\\t\\tCOMPLETED\\tSmoking Cessation\\tDRUG: Nicotine Patch\\tUniversity of Colorado\",\" Denver\\t\\t1495.0\\tOTHER\\tINTERVENTIONAL\\tAllocation: RANDOMIZED|Intervention Model: PARALLEL|Masking: NONE|Primary Purpose: HEALTH_SERVICES_RESEARCH\\t2010-03\\t2012-03\",,,,,,,,,,,,,,,,,,,,,,,,,,,,,,,,,,,,,,,,,,,,,,,,,,,,,,,,,,,,,,,,,,,,,,,,,,,,,,,,,,,,,,,,,,,,,,,,,,,,,,,,,,,,,,,,,,,,,,,,,,,,,,,,,,,,,,,,,,,,,,,,,,,,,,,,,,,,,,,,,,,,,,,,,,,,,,,,,,,,,,,,,,,,,,,,,,,,,,,,,,,,,,,,,\\r\\n\"NCT03077971\\tEffectiveness of Acceptance and Commitment Therapy Self-Help for Carers of People With Multiple Sclerosis\\t\\tUNKNOWN\\tCarer Stress Syndrome\\tBEHAVIORAL: ACT Self-Help|BEHAVIORAL: ACT Self-Help with Telephone Support\\tUniversity of Nottingham\\t\\t24.0\\tOTHER\\tINTERVENTIONAL\\tAllocation: RANDOMIZED|Intervention Model: PARALLEL|Masking: SINGLE (OUTCOMES_ASSESSOR)|Primary Purpose: SUPPORTIVE_CARE\\t2016-12-01\\t2018-06\",,,,,,,,,,,,,,,,,,,,,,,,,,,,,,,,,,,,,,,,,,,,,,,,,,,,,,,,,,,,,,,,,,,,,,,,,,,,,,,,,,,,,,,,,,,,,,,,,,,,,,,,,,,,,,,,,,,,,,,,,,,,,,,,,,,,,,,,,,,,,,,,,,,,,,,,,,,,,,,,,,,,,,,,,,,,,,,,,,,,,,,,,,,,,,,,,,,,,,,,,,,,,,,,,,\\r\\n\"NCT02912871\\tSubthalamotomy by ExAblate Transcranial System to Treat Motor Features of Parkinson\\'s Disease\\t\\tCOMPLETED\\tParkinson\\'s Disease\\tOTHER: MRIgHIFU unilateral subthalamotomy\\tFundación de investigación HM\\tInsightech\\t10.0\\tOTHER\\tINTERVENTIONAL\\tAllocation: NA|Intervention Model: SINGLE_GROUP|Masking: NONE|Primary Purpose: TREATMENT\\t2016-04\\t2017-01\",,,,,,,,,,,,,,,,,,,,,,,,,,,,,,,,,,,,,,,,,,,,,,,,,,,,,,,,,,,,,,,,,,,,,,,,,,,,,,,,,,,,,,,,,,,,,,,,,,,,,,,,,,,,,,,,,,,,,,,,,,,,,,,,,,,,,,,,,,,,,,,,,,,,,,,,,,,,,,,,,,,,,,,,,,,,,,,,,,,,,,,,,,,,,,,,,,,,,,,,,,,,,,,,,,\\r\\n\"NCT03548571\\tDendritic Cell Immunotherapy Against Cancer Stem Cells in Glioblastoma Patients Receiving Standard Therapy\\tDEN-STEM\\tACTIVE_NOT_RECRUITING\\tGlioblastoma\\tBIOLOGICAL: Dendritic cell immunization|DRUG: Adjuvant temozolomide\\tOslo University Hospital\\t\\t60.0\\tOTHER\\tINTERVENTIONAL\\tAllocation: RANDOMIZED|Intervention Model: PARALLEL|Masking: NONE|Primary Purpose: TREATMENT\\t2018-04-26\\t2025-05-01\",,,,,,,,,,,,,,,,,,,,,,,,,,,,,,,,,,,,,,,,,,,,,,,,,,,,,,,,,,,,,,,,,,,,,,,,,,,,,,,,,,,,,,,,,,,,,,,,,,,,,,,,,,,,,,,,,,,,,,,,,,,,,,,,,,,,,,,,,,,,,,,,,,,,,,,,,,,,,,,,,,,,,,,,,,,,,,,,,,,,,,,,,,,,,,,,,,,,,,,,,,,,,,,,,,\\r\\n\"NCT01449071\\tStudy Evaluating the Pharmacokinetics and Safety of Epratuzumab in Japanese Systemic Lupus Erythematosus (SLE)\\t\\tCOMPLETED\\tSystemic Lupus Erythematosus\\tBIOLOGICAL: Placebo|BIOLOGICAL: Epratuzumab 400 mg|BIOLOGICAL: Epratuzumab 1200 mg|BIOLOGICAL: Epratuzumab 100 mg|BIOLOGICAL: Epratuzumab 600 mg\\tUCB Pharma\\t\\t20.0\\tINDUSTRY\\tINTERVENTIONAL\\tAllocation: RANDOMIZED|Intervention Model: PARALLEL|Masking: QUADRUPLE (PARTICIPANT\", CARE_PROVIDER, INVESTIGATOR,\" OUTCOMES_ASSESSOR)|Primary Purpose: TREATMENT\\t2011-10\\t2013-03\",,,,,,,,,,,,,,,,,,,,,,,,,,,,,,,,,,,,,,,,,,,,,,,,,,,,,,,,,,,,,,,,,,,,,,,,,,,,,,,,,,,,,,,,,,,,,,,,,,,,,,,,,,,,,,,,,,,,,,,,,,,,,,,,,,,,,,,,,,,,,,,,,,,,,,,,,,,,,,,,,,,,,,,,,,,,,,,,,,,,,,,,,,,,,,,,,,,,,,,,,,,,,,,\\r\\n\"NCT03530371\\tIntranasal Dexmedetomidine for Sedated Hearing Testing\\t\\tCOMPLETED\\tAuditory Brainstem Response\\tDRUG: Dexmedetomidine Hydrochloride\\tFondation Lenval\\t\\t60.0\\tOTHER\\tINTERVENTIONAL\\tAllocation: NA|Intervention Model: SINGLE_GROUP|Masking: NONE|Primary Purpose: DIAGNOSTIC\\t2019-05-02\\t2021-12-31\",,,,,,,,,,,,,,,,,,,,,,,,,,,,,,,,,,,,,,,,,,,,,,,,,,,,,,,,,,,,,,,,,,,,,,,,,,,,,,,,,,,,,,,,,,,,,,,,,,,,,,,,,,,,,,,,,,,,,,,,,,,,,,,,,,,,,,,,,,,,,,,,,,,,,,,,,,,,,,,,,,,,,,,,,,,,,,,,,,,,,,,,,,,,,,,,,,,,,,,,,,,,,,,,,,\\r\\n\"NCT05921071\\tDo Patients Who Received Tranexamic Acid in Vaginal Hysterectomy Loose Les Blood\",\" Comparing to Patients Who Did Not?\\t\\tRECRUITING\\tVaginal Hysterectomy\\tDRUG: Tranexamic acid|DRUG: Placebo\\tWolfson Medical Center\\t\\t150.0\\tOTHER_GOV\\tINTERVENTIONAL\\tAllocation: RANDOMIZED|Intervention Model: PARALLEL|Masking: TRIPLE (PARTICIPANT\", CARE_PROVIDER,\" OUTCOMES_ASSESSOR)|Primary Purpose: SUPPORTIVE_CARE\\t2023-01-22\\t2025-01-01\",,,,,,,,,,,,,,,,,,,,,,,,,,,,,,,,,,,,,,,,,,,,,,,,,,,,,,,,,,,,,,,,,,,,,,,,,,,,,,,,,,,,,,,,,,,,,,,,,,,,,,,,,,,,,,,,,,,,,,,,,,,,,,,,,,,,,,,,,,,,,,,,,,,,,,,,,,,,,,,,,,,,,,,,,,,,,,,,,,,,,,,,,,,,,,,,,,,,,,,,,,,,,,,\\r\\n\"NCT04974671\\tTrial Of Stereotactic Body Radiation Therapy (SBRT) for Oligoprogression on Immune Checkpoint Inhibitors (ICI) in Metastatic Renal Cell Carcinoma\\t\\tRECRUITING\\tRenal Cell Carcinoma|Metastatic Renal Cell Carcinoma|Oligoprogressive|Progression\\tRADIATION: Stereotactic Body Radiation Therapy\\tYale University\\t\\t30.0\\tOTHER\\tINTERVENTIONAL\\tAllocation: NA|Intervention Model: SINGLE_GROUP|Masking: NONE|Primary Purpose: TREATMENT\\t2022-08-08\\t2027-04-01\",,,,,,,,,,,,,,,,,,,,,,,,,,,,,,,,,,,,,,,,,,,,,,,,,,,,,,,,,,,,,,,,,,,,,,,,,,,,,,,,,,,,,,,,,,,,,,,,,,,,,,,,,,,,,,,,,,,,,,,,,,,,,,,,,,,,,,,,,,,,,,,,,,,,,,,,,,,,,,,,,,,,,,,,,,,,,,,,,,,,,,,,,,,,,,,,,,,,,,,,,,,,,,,,,,\\r\\n\"NCT00080171\\tOsteoarthritis Initiative (OAI): A Knee Health Study\\t\\tCOMPLETED\\tOsteoarthritis|Knee Osteoarthritis\\t\\tNational Institute of Arthritis and Musculoskeletal and Skin Diseases (NIAMS)\\tGlaxoSmithKline|Merck Sharp & Dohme LLC|Novartis|Pfizer\\t4796.0\\tNIH\\tOBSERVATIONAL\\tObservational Model: |Time Perspective: p\\t2004-02\\t2015-10\",,,,,,,,,,,,,,,,,,,,,,,,,,,,,,,,,,,,,,,,,,,,,,,,,,,,,,,,,,,,,,,,,,,,,,,,,,,,,,,,,,,,,,,,,,,,,,,,,,,,,,,,,,,,,,,,,,,,,,,,,,,,,,,,,,,,,,,,,,,,,,,,,,,,,,,,,,,,,,,,,,,,,,,,,,,,,,,,,,,,,,,,,,,,,,,,,,,,,,,,,,,,,,,,,,\\r\\n\"NCT00368771\\tA Six-month Study to Compare Outcome Differences and Visceral Response ... Irritable Bowel Syndrome\\t\\tCOMPLETED\\tIrritable Bowel Syndrome\\tBEHAVIORAL: IBS Stress Management|BEHAVIORAL: IBS Symptom Management|BEHAVIORAL: IBS Educational Training\\tUniversity of California\",\" Los Angeles\\tNational Institute of Nursing Research (NINR)\\t163.0\\tOTHER\\tINTERVENTIONAL\\tAllocation: RANDOMIZED|Intervention Model: PARALLEL|Masking: NONE|Primary Purpose: TREATMENT\\t2002-07\\t2010-05\",,,,,,,,,,,,,,,,,,,,,,,,,,,,,,,,,,,,,,,,,,,,,,,,,,,,,,,,,,,,,,,,,,,,,,,,,,,,,,,,,,,,,,,,,,,,,,,,,,,,,,,,,,,,,,,,,,,,,,,,,,,,,,,,,,,,,,,,,,,,,,,,,,,,,,,,,,,,,,,,,,,,,,,,,,,,,,,,,,,,,,,,,,,,,,,,,,,,,,,,,,,,,,,,,\\r\\n\"NCT04979871\\tSARS-CoV-2 Antibodies and Virus Neutralisation in a Cohort Vaccinted Against COVID-19\\tDER-CoV2-001\\tCOMPLETED\\tVaccine Reaction\\tPROCEDURE: Venous bleeding\\tUniversity of Zurich\\t\\t50.0\\tOTHER\\tOBSERVATIONAL\\tObservational Model: |Time Perspective: p\\t2021-07-22\\t2021-12-31\",,,,,,,,,,,,,,,,,,,,,,,,,,,,,,,,,,,,,,,,,,,,,,,,,,,,,,,,,,,,,,,,,,,,,,,,,,,,,,,,,,,,,,,,,,,,,,,,,,,,,,,,,,,,,,,,,,,,,,,,,,,,,,,,,,,,,,,,,,,,,,,,,,,,,,,,,,,,,,,,,,,,,,,,,,,,,,,,,,,,,,,,,,,,,,,,,,,,,,,,,,,,,,,,,,\\r\\n\"NCT04097171\\tThe Effect of Diet Composition on Performance\", Expenditure, Blood Lipids,\" and Appetite Hormones in Highly Trained Cyclists\\tDCAP\\tCOMPLETED\\tEndurance Cycling Performance\\tOTHER: Diet\\tTexas Christian University\\t\\t34.0\\tOTHER\\tINTERVENTIONAL\\tAllocation: RANDOMIZED|Intervention Model: CROSSOVER|Masking: NONE|Primary Purpose: BASIC_SCIENCE\\t2019-11-11\\t2020-03-30\",,,,,,,,,,,,,,,,,,,,,,,,,,,,,,,,,,,,,,,,,,,,,,,,,,,,,,,,,,,,,,,,,,,,,,,,,,,,,,,,,,,,,,,,,,,,,,,,,,,,,,,,,,,,,,,,,,,,,,,,,,,,,,,,,,,,,,,,,,,,,,,,,,,,,,,,,,,,,,,,,,,,,,,,,,,,,,,,,,,,,,,,,,,,,,,,,,,,,,,,,,,,,,,\\r\\n\"NCT06199271\\tNeoadjuvant Adebrelimab Plus Dalpiciclib in Head and Neck Squamous Cell Carcinoma\\t\\tNOT_YET_RECRUITING\\tHead and Neck Squamous Cell Carcinoma\\tDRUG: Adebrelimab and dalpiciclib\\tZhongzheng Xiang\\t\\t30.0\\tOTHER\\tINTERVENTIONAL\\tAllocation: NA|Intervention Model: SINGLE_GROUP|Masking: NONE|Primary Purpose: TREATMENT\\t2024-01-31\\t2026-12-31\",,,,,,,,,,,,,,,,,,,,,,,,,,,,,,,,,,,,,,,,,,,,,,,,,,,,,,,,,,,,,,,,,,,,,,,,,,,,,,,,,,,,,,,,,,,,,,,,,,,,,,,,,,,,,,,,,,,,,,,,,,,,,,,,,,,,,,,,,,,,,,,,,,,,,,,,,,,,,,,,,,,,,,,,,,,,,,,,,,,,,,,,,,,,,,,,,,,,,,,,,,,,,,,,,,\\r\\n\"NCT04032171\\tStudy of Evobrutinib in Participants With RMS\\t\\tTERMINATED\\tRelapsing-remitting Multiple Sclerosis\\tDRUG: Evobrutinib|DRUG: Avonex®|DRUG: Avonex® matched Placebo|DRUG: Evobrutinib matched Placebo\\tEMD Serono Research & Development Institute\",\" Inc.\\tMerck KGaA\", Darmstadt,\" Germany\\t1.0\\tINDUSTRY\\tINTERVENTIONAL\\tAllocation: RANDOMIZED|Intervention Model: PARALLEL|Masking: QUADRUPLE (PARTICIPANT\", CARE_PROVIDER, INVESTIGATOR,\" OUTCOMES_ASSESSOR)|Primary Purpose: TREATMENT\\t2019-09-10\\t2020-05-20\",,,,,,,,,,,,,,,,,,,,,,,,,,,,,,,,,,,,,,,,,,,,,,,,,,,,,,,,,,,,,,,,,,,,,,,,,,,,,,,,,,,,,,,,,,,,,,,,,,,,,,,,,,,,,,,,,,,,,,,,,,,,,,,,,,,,,,,,,,,,,,,,,,,,,,,,,,,,,,,,,,,,,,,,,,,,,,,,,,,,,,,,,,,,,,,,,,,,,,,,,,,,\\r\\n\"NCT05674071\\tApplying an Osteopathic Intervention to Improve Mental Health Symptoms: a Mixed-methods Feasibility Study Protocol.\\t\\tCOMPLETED\\tMental Health Issue\\tBEHAVIORAL: Articulation/HVT|BEHAVIORAL: Soft-tissue massage|BEHAVIORAL: Craniosacral techniques|BEHAVIORAL: Combination of the three interventions: HVT\",\" soft-tissue and craniosacral techniques\\tSwansea University\\tOsteopathic Foundation|University College of Osteopathy\\t32.0\\tOTHER\\tINTERVENTIONAL\\tAllocation: RANDOMIZED|Intervention Model: PARALLEL|Masking: SINGLE (OUTCOMES_ASSESSOR)|Primary Purpose: TREATMENT\\t2022-12-20\\t2023-08-01\",,,,,,,,,,,,,,,,,,,,,,,,,,,,,,,,,,,,,,,,,,,,,,,,,,,,,,,,,,,,,,,,,,,,,,,,,,,,,,,,,,,,,,,,,,,,,,,,,,,,,,,,,,,,,,,,,,,,,,,,,,,,,,,,,,,,,,,,,,,,,,,,,,,,,,,,,,,,,,,,,,,,,,,,,,,,,,,,,,,,,,,,,,,,,,,,,,,,,,,,,,,,,,,,,\\r\\n\"NCT00858871\\tFirst Line Hepato Cellular Carcinoma (HCC)\\tBRISK FL\\tCOMPLETED\\tHepato Cellular Carcinoma (HCC)\\tDRUG: Brivanib|DRUG: Placebo|DRUG: Sorafenib|DRUG: Placebo\\tBristol-Myers Squibb\\t\\t1714.0\\tINDUSTRY\\tINTERVENTIONAL\\tAllocation: RANDOMIZED|Intervention Model: PARALLEL|Masking: QUADRUPLE (PARTICIPANT\", CARE_PROVIDER, INVESTIGATOR,\" OUTCOMES_ASSESSOR)|Primary Purpose: TREATMENT\\t2009-05\\t2013-09\",,,,,,,,,,,,,,,,,,,,,,,,,,,,,,,,,,,,,,,,,,,,,,,,,,,,,,,,,,,,,,,,,,,,,,,,,,,,,,,,,,,,,,,,,,,,,,,,,,,,,,,,,,,,,,,,,,,,,,,,,,,,,,,,,,,,,,,,,,,,,,,,,,,,,,,,,,,,,,,,,,,,,,,,,,,,,,,,,,,,,,,,,,,,,,,,,,,,,,,,,,,,,,,\\r\\n\"NCT01776671\\tOnce Daily Gabapentin in the Treatment of Post Amputation Pain\\t\\tUNKNOWN\\tPain|Quality of Life\\tDRUG: Gralise\\tChicago Anesthesia Pain Specialists\\t\\t16.0\\tOTHER\\tINTERVENTIONAL\\tAllocation: NA|Intervention Model: SINGLE_GROUP|Masking: NONE|Primary Purpose: TREATMENT\\t2013-02\\t2018-12\",,,,,,,,,,,,,,,,,,,,,,,,,,,,,,,,,,,,,,,,,,,,,,,,,,,,,,,,,,,,,,,,,,,,,,,,,,,,,,,,,,,,,,,,,,,,,,,,,,,,,,,,,,,,,,,,,,,,,,,,,,,,,,,,,,,,,,,,,,,,,,,,,,,,,,,,,,,,,,,,,,,,,,,,,,,,,,,,,,,,,,,,,,,,,,,,,,,,,,,,,,,,,,,,,,\\r\\n\"NCT01363271\\tCost Study of Linezolid Versus Vancomycin Among Previously Hospitalized Patients\\t\\tCOMPLETED\\tComplicated Skin and Structure Infection|Nosocomial Pneumonia\\tDRUG: Linezolid|DRUG: Vancomycin|DRUG: Linezolid|DRUG: Vancomycin\\tPfizer\\tUniversity of Maryland|Lodise & Lodise\",\" LLC\\t7260.0\\tINDUSTRY\\tOBSERVATIONAL\\tObservational Model: |Time Perspective: p\\t2011-05\\t2012-05\",,,,,,,,,,,,,,,,,,,,,,,,,,,,,,,,,,,,,,,,,,,,,,,,,,,,,,,,,,,,,,,,,,,,,,,,,,,,,,,,,,,,,,,,,,,,,,,,,,,,,,,,,,,,,,,,,,,,,,,,,,,,,,,,,,,,,,,,,,,,,,,,,,,,,,,,,,,,,,,,,,,,,,,,,,,,,,,,,,,,,,,,,,,,,,,,,,,,,,,,,,,,,,,,,\\r\\n\"NCT01282671\\tEffects of Deep Breathing Exercises Two Months After Cardiac Surgery\\t\\tCOMPLETED\\tCABG|Valve Surgery\\tOTHER: Breathing exercises\\tUppsala University\\tThe Swedish Research Council|Örebro County Council\\t357.0\\tOTHER\\tINTERVENTIONAL\\tAllocation: RANDOMIZED|Intervention Model: PARALLEL|Masking: SINGLE (OUTCOMES_ASSESSOR)|Primary Purpose: TREATMENT\\t2007-09\\t2012-08\",,,,,,,,,,,,,,,,,,,,,,,,,,,,,,,,,,,,,,,,,,,,,,,,,,,,,,,,,,,,,,,,,,,,,,,,,,,,,,,,,,,,,,,,,,,,,,,,,,,,,,,,,,,,,,,,,,,,,,,,,,,,,,,,,,,,,,,,,,,,,,,,,,,,,,,,,,,,,,,,,,,,,,,,,,,,,,,,,,,,,,,,,,,,,,,,,,,,,,,,,,,,,,,,,,\\r\\n\"NCT05683171\\tA Phase 1/2\",\" Open-label Study of Valemetostat in Combination With Rituximab and Lenalidomide in Relapsed or Refractory Follicular Lymphoma\\t\\tRECRUITING\\tLymphoma\\tDRUG: Rituximab|DRUG: Lenalidomide|DRUG: Valemetostat\\tM.D. Anderson Cancer Center\\tDaiichi Sankyo\\t60.0\\tOTHER\\tINTERVENTIONAL\\tAllocation: NA|Intervention Model: SINGLE_GROUP|Masking: NONE|Primary Purpose: TREATMENT\\t2023-05-19\\t2027-09-30\",,,,,,,,,,,,,,,,,,,,,,,,,,,,,,,,,,,,,,,,,,,,,,,,,,,,,,,,,,,,,,,,,,,,,,,,,,,,,,,,,,,,,,,,,,,,,,,,,,,,,,,,,,,,,,,,,,,,,,,,,,,,,,,,,,,,,,,,,,,,,,,,,,,,,,,,,,,,,,,,,,,,,,,,,,,,,,,,,,,,,,,,,,,,,,,,,,,,,,,,,,,,,,,,,\\r\\n\"NCT05334771\\tEarly Detection of Endolymphatic Hydrops in Hypothyroid Patients\\t\\tNOT_YET_RECRUITING\\tHypothyroidism\\tDEVICE: Dual band pure tune audiometer\\tAssiut University\\t\\t50.0\\tOTHER\\tOBSERVATIONAL\\tObservational Model: |Time Perspective: p\\t2022-09\\t2025-04\",,,,,,,,,,,,,,,,,,,,,,,,,,,,,,,,,,,,,,,,,,,,,,,,,,,,,,,,,,,,,,,,,,,,,,,,,,,,,,,,,,,,,,,,,,,,,,,,,,,,,,,,,,,,,,,,,,,,,,,,,,,,,,,,,,,,,,,,,,,,,,,,,,,,,,,,,,,,,,,,,,,,,,,,,,,,,,,,,,,,,,,,,,,,,,,,,,,,,,,,,,,,,,,,,,\\r\\n\"NCT04718571\\tAn Ecological Analysis of Nontuberculous Mycobacteria in the Geneva Area (2015-2020)\\t\\tCOMPLETED\\tEcology of Nontubercuous Mycobacteria|Geneva Area\\t\\tUniversity Hospital\",\" Geneva\\t\\t231.0\\tOTHER\\tOBSERVATI'"
     ]
    }
   ],
   "source": [
    "file = \"/FileStore/tables/clinicaltrial_2023/clinicaltrial_2023.csv\"\n",
    "\n",
    "dbutils.fs.head(file)"
   ]
  },
  {
   "cell_type": "code",
   "execution_count": 0,
   "metadata": {
    "application/vnd.databricks.v1+cell": {
     "cellMetadata": {
      "byteLimit": 2048000,
      "rowLimit": 10000
     },
     "inputWidgets": {},
     "nuid": "10091503-d489-443e-a969-5b9a2647e47b",
     "showTitle": false,
     "title": ""
    }
   },
   "outputs": [
    {
     "output_type": "stream",
     "name": "stdout",
     "output_type": "stream",
     "text": [
      "Out[40]: ['\"Id\\tStudy Title\\tAcronym\\tStatus\\tConditions\\tInterventions\\tSponsor\\tCollaborators\\tEnrollment\\tFunder Type\\tType\\tStudy Design\\tStart\\tCompletion\",,,,,,,,,,,,,,,,,,,,,,,,,,,,,,,,,,,,,,,,,,,,,,,,,,,,,,,,,,,,,,,,,,,,,,,,,,,,,,,,,,,,,,,,,,,,,,,,,,,,,,,,,,,,,,,,,,,,,,,,,,,,,,,,,,,,,,,,,,,,,,,,,,,,,,,,,,,,,,,,,,,,,,,,,,,,,,,,,,,,,,,,,,,,,,,,,,,,,,,,,,,,,,,,,,',\n '\"NCT03630471\\tEffectiveness of a Problem-solving Intervention for Common Adolescent Mental Health Problems in India\\tPRIDE\\tCOMPLETED\\tMental Health Issue (E.G.\", Depression, Psychosis, Personality Disorder,\" Substance Abuse)\\tBEHAVIORAL: PRIDE \\'Step 1\\' problem-solving intervention|BEHAVIORAL: Enhanced usual care\\tSangath\\tHarvard Medical School (HMS and HSDM)|London School of Hygiene and Tropical Medicine\\t250.0\\tOTHER\\tINTERVENTIONAL\\tAllocation: RANDOMIZED|Intervention Model: PARALLEL|Masking: DOUBLE (INVESTIGATOR\",\" OUTCOMES_ASSESSOR)|Primary Purpose: TREATMENT\\t2018-08-20\\t2019-02-28\",,,,,,,,,,,,,,,,,,,,,,,,,,,,,,,,,,,,,,,,,,,,,,,,,,,,,,,,,,,,,,,,,,,,,,,,,,,,,,,,,,,,,,,,,,,,,,,,,,,,,,,,,,,,,,,,,,,,,,,,,,,,,,,,,,,,,,,,,,,,,,,,,,,,,,,,,,,,,,,,,,,,,,,,,,,,,,,,,,,,,,,,,,,,,,,,,,,,,,,,,,,,,',\n '\"NCT05992571\\tOral Ketone Monoester Supplementation and Resting-state Brain Connectivity\\t\\tRECRUITING\\tCerebrovascular Function|Cognition\\tOTHER: Placebo|DIETARY_SUPPLEMENT: β-OHB\\tMcMaster University\\tAlzheimer\\'s Society of Brant\", Haldimand Norfolk,\" Hamilton Halton\\t30.0\\tOTHER\\tINTERVENTIONAL\\tAllocation: RANDOMIZED|Intervention Model: CROSSOVER|Masking: TRIPLE (PARTICIPANT\", INVESTIGATOR,\" OUTCOMES_ASSESSOR)|Primary Purpose: BASIC_SCIENCE\\t2023-10-25\\t2024-08\",,,,,,,,,,,,,,,,,,,,,,,,,,,,,,,,,,,,,,,,,,,,,,,,,,,,,,,,,,,,,,,,,,,,,,,,,,,,,,,,,,,,,,,,,,,,,,,,,,,,,,,,,,,,,,,,,,,,,,,,,,,,,,,,,,,,,,,,,,,,,,,,,,,,,,,,,,,,,,,,,,,,,,,,,,,,,,,,,,,,,,,,,,,,,,,,,,,,,,,,,,,,,,']"
     ]
    }
   ],
   "source": [
    "# Create rdd\n",
    "\n",
    "rdd1 = sc.textFile(file)\n",
    "\n",
    "rdd1.take(3)"
   ]
  },
  {
   "cell_type": "code",
   "execution_count": 0,
   "metadata": {
    "application/vnd.databricks.v1+cell": {
     "cellMetadata": {
      "byteLimit": 2048000,
      "rowLimit": 10000
     },
     "inputWidgets": {},
     "nuid": "3ae4ba35-acab-40d9-b5bc-6de31ed41cd1",
     "showTitle": true,
     "title": "Data cleaning"
    }
   },
   "outputs": [],
   "source": [
    "def eliminate_double_quotes(resp):\n",
    "    return [i.replace('\"', '') for i in resp]\n",
    "\n",
    "# simplify date\n",
    "def simplify_dates(date):\n",
    "    # questionable approach\n",
    "    date[12] = date[12] + '-01' if len(date[12]) == 7 else date[12]\n",
    "    date[13] = date[13] + '-01' if len(date[13]) == 7 else date[13]\n",
    "    return date\n",
    "\n",
    "# populate with strings\n",
    "def populate_with_strings(item, max_fig):\n",
    "    return item + [''] * (max_fig - len(item))\n",
    "\n",
    "clinicaltrial_2023_rdd = rdd1. \\\n",
    "                         map(lambda y: y.replace(',', '')). \\\n",
    "                         map(lambda y: y.split('\\t')). \\\n",
    "                         map(eliminate_double_quotes). \\\n",
    "                         map(lambda y: populate_with_strings(y, 14)). \\\n",
    "                         filter(lambda y: y[0] != 'Id'). \\\n",
    "                         map(simplify_dates)"
   ]
  },
  {
   "cell_type": "code",
   "execution_count": 0,
   "metadata": {
    "application/vnd.databricks.v1+cell": {
     "cellMetadata": {
      "byteLimit": 2048000,
      "rowLimit": 10000
     },
     "inputWidgets": {},
     "nuid": "7e1c4b09-d2da-47b9-b3dd-82438e196733",
     "showTitle": false,
     "title": ""
    }
   },
   "outputs": [
    {
     "output_type": "stream",
     "name": "stdout",
     "output_type": "stream",
     "text": [
      "Out[63]: [['NCT03630471',\n  'Effectiveness of a Problem-solving Intervention for Common Adolescent Mental Health Problems in India',\n  'PRIDE',\n  'COMPLETED',\n  'Mental Health Issue (E.G. Depression Psychosis Personality Disorder Substance Abuse)',\n  \"BEHAVIORAL: PRIDE 'Step 1' problem-solving intervention|BEHAVIORAL: Enhanced usual care\",\n  'Sangath',\n  'Harvard Medical School (HMS and HSDM)|London School of Hygiene and Tropical Medicine',\n  '250.0',\n  'OTHER',\n  'INTERVENTIONAL',\n  'Allocation: RANDOMIZED|Intervention Model: PARALLEL|Masking: DOUBLE (INVESTIGATOR OUTCOMES_ASSESSOR)|Primary Purpose: TREATMENT',\n  '2018-08-20',\n  '2019-02-28'],\n ['NCT05992571',\n  'Oral Ketone Monoester Supplementation and Resting-state Brain Connectivity',\n  '',\n  'RECRUITING',\n  'Cerebrovascular Function|Cognition',\n  'OTHER: Placebo|DIETARY_SUPPLEMENT: β-OHB',\n  'McMaster University',\n  \"Alzheimer's Society of Brant Haldimand Norfolk Hamilton Halton\",\n  '30.0',\n  'OTHER',\n  'INTERVENTIONAL',\n  'Allocation: RANDOMIZED|Intervention Model: CROSSOVER|Masking: TRIPLE (PARTICIPANT INVESTIGATOR OUTCOMES_ASSESSOR)|Primary Purpose: BASIC_SCIENCE',\n  '2023-10-25',\n  '2024-08-01'],\n ['NCT00237471',\n  'Impact of Tight Glycaemic Control in Acute Myocardial Infarction',\n  '',\n  'TERMINATED',\n  'Myocardial Infarct|Hyperglycemia',\n  'DRUG: Insulin (tight blood glucose control)',\n  'Melbourne Health',\n  'National Health and Medical Research Council Australia|Bristol-Myers Squibb',\n  '40.0',\n  'OTHER',\n  'INTERVENTIONAL',\n  'Allocation: RANDOMIZED|Intervention Model: PARALLEL|Masking: NONE|Primary Purpose: TREATMENT',\n  '2005-10-01',\n  '2006-05-01'],\n ['NCT03820271',\n  'New Prognostic Predictive Models of Mortality of Decompensated Cirrhotic Patients Waiting for Liver Transplantation',\n  'SUPERMELD',\n  'RECRUITING',\n  'Decompensated Cirrhosis|Liver Transplantation',\n  'OTHER: SuperMELD',\n  'Assistance Publique - Hôpitaux de Paris',\n  '',\n  '500.0',\n  'OTHER',\n  'INTERVENTIONAL',\n  'Allocation: NA|Intervention Model: SINGLE_GROUP|Masking: NONE|Primary Purpose: OTHER',\n  '2020-10-01',\n  '2023-10-01'],\n ['NCT06229171',\n  'InTake Care: Development and Validation of an Innovative Personalized Digital Health Solution for Medication Adherence Support in Cardiovascular Prevention',\n  'InTakeCare',\n  'NOT_YET_RECRUITING',\n  'Hypertension|Treatment Adherence and Compliance|Digital Health',\n  'OTHER: adherence support system based on a vocal assistant',\n  'Istituto Auxologico Italiano',\n  'Istituti Clinici Scientifici Maugeri SpA|Politecnico di Milano',\n  '206.0',\n  'OTHER',\n  'INTERVENTIONAL',\n  'Allocation: RANDOMIZED|Intervention Model: PARALLEL|Masking: NONE|Primary Purpose: OTHER',\n  '2024-10-01',\n  '2026-04-01']]"
     ]
    }
   ],
   "source": [
    "#Extract header\n",
    "\n",
    "header = clinicaltrial_2023_rdd.first()\n",
    "\n",
    "clinicaltrial_2023_rdd.take(5)"
   ]
  },
  {
   "cell_type": "code",
   "execution_count": 0,
   "metadata": {
    "application/vnd.databricks.v1+cell": {
     "cellMetadata": {
      "byteLimit": 2048000,
      "rowLimit": 10000
     },
     "inputWidgets": {},
     "nuid": "aee1584c-9497-4b39-9586-c30c4e8d4f81",
     "showTitle": false,
     "title": ""
    },
    "jupyter": {
     "outputs_hidden": true,
     "source_hidden": true
    }
   },
   "outputs": [
    {
     "output_type": "stream",
     "name": "stdout",
     "output_type": "stream",
     "text": [
      "Out[26]: [['NCT Number ',\n  ' Study Title ',\n  ' Acronym ',\n  ' Study Status ',\n  ' Conditions ',\n  ' Interventions ',\n  ' Sponsor ',\n  ' Collaborators ',\n  ' Enrollment ',\n  ' Funder Type ',\n  ' Study Type ',\n  ' Study Design',\n  'Start Date',\n  'Completion Date'],\n ['\"NCT03630471 ',\n  ' Effectiveness of a Problem-solving Intervention for Common Adolescent Mental Health Problems in India ',\n  ' PRIDE ',\n  ' COMPLETED ',\n  ' Mental Health Issue (E.G., Depression, Psychosis, Personality Disorder, Substance Abuse) ',\n  \" BEHAVIORAL: PRIDE 'Step 1' problem-solving intervention|BEHAVIORAL: Enhanced usual care \",\n  ' Sangath ',\n  ' Harvard Medical School (HMS and HSDM)|London School of Hygiene and Tropical Medicine ',\n  ' 250 ',\n  ' OTHER ',\n  ' INTERVENTIONAL ',\n  ' Allocation: RANDOMIZED|Intervention Model: PARALLEL|Masking: DOUBLE (INVESTIGATOR',\n  ' OUTCOMES_ASSESSOR)|Primary Purpose: TREATMENT\"',\n  '20 August 2018',\n  '28 February 2019']]"
     ]
    }
   ],
   "source": [
    "#Define function to split lines in text\n",
    "\n",
    "def split_line(line):\n",
    "    # Split the line by tab character\n",
    "    parts = line.split(\"\\\\t\")\n",
    "    # Split the last part by commas and extend the list\n",
    "    last_part_split = parts[-1].split(\",\")\n",
    "    return parts[:-1] + last_part_split\n",
    "\n",
    "# Apply the split_line function to the input list and save as rdd2\n",
    "rdd2 = rdd1.map(split_line)\n",
    "\n",
    "rdd2.take(2)"
   ]
  },
  {
   "cell_type": "code",
   "execution_count": 0,
   "metadata": {
    "application/vnd.databricks.v1+cell": {
     "cellMetadata": {
      "byteLimit": 2048000,
      "rowLimit": 10000
     },
     "inputWidgets": {},
     "nuid": "95a7b56a-b567-4d49-a1ad-51d11ebd7d74",
     "showTitle": false,
     "title": ""
    },
    "jupyter": {
     "outputs_hidden": true,
     "source_hidden": true
    }
   },
   "outputs": [
    {
     "output_type": "stream",
     "name": "stdout",
     "output_type": "stream",
     "text": [
      "Out[58]: ['Completion', '2019-02-28', '2024-08-01', '2006-05-01']"
     ]
    }
   ],
   "source": [
    "#Cleaning date\n",
    "#Extract first line data\n",
    "first_line = clinicaltrial_2023_rdd.map(lambda x: x[-1])\n",
    "\n",
    "first_line.take(4)"
   ]
  },
  {
   "cell_type": "code",
   "execution_count": 0,
   "metadata": {
    "application/vnd.databricks.v1+cell": {
     "cellMetadata": {
      "byteLimit": 2048000,
      "rowLimit": 10000
     },
     "inputWidgets": {},
     "nuid": "9728a7c4-678e-4505-aa6a-690dd676cea6",
     "showTitle": false,
     "title": ""
    },
    "jupyter": {
     "outputs_hidden": true,
     "source_hidden": true
    }
   },
   "outputs": [
    {
     "output_type": "stream",
     "name": "stdout",
     "output_type": "stream",
     "text": [
      "Out[28]: [('Start Date', 'Completion Date'),\n ('20 August 2018', '28 February 2019'),\n ('25 October 2023', '2024-08'),\n ('2013-08', '2014-12'),\n ('01 October 2020', '01 October 2023'),\n ('01 July 2010', '30 October 2019'),\n ('05 May 2017', '09 October 2020'),\n ('01 September 2022', '15 June 2023'),\n ('01 February 2024', '01 March 2026'),\n ('11 May 2016', '13 December 2017')]"
     ]
    }
   ],
   "source": [
    "# Extract Start Date and Completion Date\n",
    "\n",
    "rdd3 = rdd2.map(lambda row: (row[-2], row[-1]))\n",
    "\n",
    "rdd3.take(10)  #show all data in rdd to examine date format that exist"
   ]
  },
  {
   "cell_type": "code",
   "execution_count": 0,
   "metadata": {
    "application/vnd.databricks.v1+cell": {
     "cellMetadata": {
      "byteLimit": 2048000,
      "rowLimit": 10000
     },
     "inputWidgets": {},
     "nuid": "d6a4ab8c-bea5-4b1c-9082-4a86f0979abb",
     "showTitle": false,
     "title": ""
    },
    "jupyter": {
     "outputs_hidden": true,
     "source_hidden": true
    }
   },
   "outputs": [
    {
     "output_type": "stream",
     "name": "stdout",
     "output_type": "stream",
     "text": [
      "('Start Date', 'Completion Date')\n('20 August 2018', '28 February 2019')\n('25 October 2023', '01 August 2024')\n('01 August 2013', '01 December 2014')\n('01 October 2020', '01 October 2023')\n('01 July 2010', '30 October 2019')\n('05 May 2017', '09 October 2020')\n('01 September 2022', '15 June 2023')\n('01 February 2024', '01 March 2026')\n('11 May 2016', '13 December 2017')\n"
     ]
    }
   ],
   "source": [
    "#Function to clean the date and convert to a consistent date format\n",
    "\n",
    "from datetime import datetime\n",
    "\n",
    "# Define a function to clean date data\n",
    "def clean_date(date_str):\n",
    "    if not date_str:\n",
    "        return \"\"\n",
    "        \n",
    "    formats = ['%d %B %Y', '%Y %m %d', '%d %m %Y', '%Y-%m']\n",
    "    for fmt in formats:\n",
    "        try:\n",
    "            return datetime.strptime(date_str, fmt).strftime('%d %B %Y')\n",
    "        except ValueError:\n",
    "            pass\n",
    "    return date_str\n",
    "\n",
    "# Clean the date data in the RDD\n",
    "cleaned_dates = rdd3.map(lambda x: (clean_date(x[0]), clean_date(x[1])))\n",
    "\n",
    "# Collect and print the cleaned date data\n",
    "for date_pair in cleaned_dates.take(10):\n",
    "    print(date_pair)"
   ]
  },
  {
   "cell_type": "markdown",
   "metadata": {
    "application/vnd.databricks.v1+cell": {
     "cellMetadata": {
      "byteLimit": 2048000,
      "rowLimit": 10000
     },
     "inputWidgets": {},
     "nuid": "28fa12a4-8c57-42ee-aea0-d8fea24a093d",
     "showTitle": false,
     "title": ""
    }
   },
   "source": [
    "Exploratory data analysis"
   ]
  },
  {
   "cell_type": "code",
   "execution_count": 0,
   "metadata": {
    "application/vnd.databricks.v1+cell": {
     "cellMetadata": {
      "byteLimit": 2048000,
      "rowLimit": 10000
     },
     "inputWidgets": {},
     "nuid": "4e25b14e-7712-48ab-9e68-0562d83ebdd2",
     "showTitle": true,
     "title": "Question 1 : What is the Number of Distinct Studies in the Dataset"
    }
   },
   "outputs": [
    {
     "output_type": "stream",
     "name": "stdout",
     "output_type": "stream",
     "text": [
      "Number of distinct studies: 481085\n"
     ]
    }
   ],
   "source": [
    "# Count the number of distinct studies\n",
    "distinct_study_count = clinicaltrial_2023_rdd.map(lambda row: row[1]) \\\n",
    "                          .distinct() \\\n",
    "                          .count()\n",
    "\n",
    "# Output the number of distinct studies\n",
    "print(\"Number of distinct studies:\", distinct_study_count)"
   ]
  },
  {
   "cell_type": "code",
   "execution_count": 0,
   "metadata": {
    "application/vnd.databricks.v1+cell": {
     "cellMetadata": {
      "byteLimit": 2048000,
      "rowLimit": 10000
     },
     "inputWidgets": {},
     "nuid": "4d3c2d8c-a107-4c69-b438-0d440a1fb61c",
     "showTitle": true,
     "title": "Question 2: Frequency of Types of studies in dataset"
    }
   },
   "outputs": [
    {
     "output_type": "stream",
     "name": "stdout",
     "output_type": "stream",
     "text": [
      "Study_Type: INTERVENTIONAL, Frequency: 371382\nStudy_Type: OBSERVATIONAL, Frequency: 110221\nStudy_Type: EXPANDED_ACCESS, Frequency: 928\nStudy_Type: , Frequency: 891\n"
     ]
    }
   ],
   "source": [
    "#First Attempt 1 \n",
    "\n",
    "types = clinicaltrial_2023_rdd \\\n",
    "    .map(lambda x: x[10]) \\\n",
    "    .flatMap(lambda x: x.split(\"|\")) \\\n",
    "    .map(lambda x: (x.strip(), 1)) \\\n",
    "    .reduceByKey(lambda x, y: x + y) \\\n",
    "    .map(lambda x: (x[1], x[0])) \\\n",
    "    .sortByKey(ascending=False) \\\n",
    "    .map(lambda x: (x[1], x[0]))\n",
    "\n",
    "\n",
    "# Output the top 5\n",
    "study_types = types.take(5)\n",
    "\n",
    "for types, frequency in study_types:\n",
    "    print(f\"Study_Type: {types}, Frequency: {frequency}\")\n"
   ]
  },
  {
   "cell_type": "code",
   "execution_count": 0,
   "metadata": {
    "application/vnd.databricks.v1+cell": {
     "cellMetadata": {
      "byteLimit": 2048000,
      "rowLimit": 10000
     },
     "inputWidgets": {},
     "nuid": "061cca8c-13c1-4b8a-af3d-9a71f8b54cd3",
     "showTitle": true,
     "title": "Question 3: The Top 5 Conditions with their frequencies"
    }
   },
   "outputs": [
    {
     "output_type": "stream",
     "name": "stdout",
     "output_type": "stream",
     "text": [
      "Condition: Healthy, Frequency: 9731\nCondition: Breast Cancer, Frequency: 7502\nCondition: Obesity, Frequency: 6549\nCondition: Stroke, Frequency: 4073\nCondition: Hypertension, Frequency: 4024\n"
     ]
    }
   ],
   "source": [
    "#Question 3: The Top 5 Conditions with their frequencies and filter out values that are not condition\n",
    "\n",
    "top5 = clinicaltrial_2023_rdd \\\n",
    "    .filter(lambda x: len(x) > 3) \\\n",
    "    .map(lambda x: x[4]) \\\n",
    "    .flatMap(lambda x: x.split(\"|\")) \\\n",
    "    .map(lambda x: (x.strip(), 1)) \\\n",
    "    .reduceByKey(lambda x, y: x + y) \\\n",
    "    .map(lambda x: (x[1], x[0])) \\\n",
    "    .sortByKey(ascending=False) \\\n",
    "    .map(lambda x: (x[1], x[0]))\n",
    "\n",
    "\n",
    "# Output the top 5\n",
    "top_5_conditions = top5.take(5)\n",
    "\n",
    "for condition, frequency in top_5_conditions:\n",
    "    print(f\"Condition: {condition}, Frequency: {frequency}\")\n"
   ]
  },
  {
   "cell_type": "code",
   "execution_count": 0,
   "metadata": {
    "application/vnd.databricks.v1+cell": {
     "cellMetadata": {
      "byteLimit": 2048000,
      "rowLimit": 10000
     },
     "inputWidgets": {},
     "nuid": "e6e1079e-710f-427e-8953-eb873e1a0690",
     "showTitle": true,
     "title": "10 Most common sponsors that are not pharmacetical companies"
    }
   },
   "outputs": [
    {
     "output_type": "stream",
     "name": "stdout",
     "output_type": "stream",
     "text": [
      "[Truncated to first 65536 bytes]\nOut[91]: '\"Company\",\"Parent_Company\",\"Penalty_Amount\",\"Subtraction_From_Penalty\",\"Penalty_Amount_Adjusted_For_Eliminating_Multiple_Counting\",\"Penalty_Year\",\"Penalty_Date\",\"Offense_Group\",\"Primary_Offense\",\"Secondary_Offense\",\"Description\",\"Level_of_Government\",\"Action_Type\",\"Agency\",\"Civil/Criminal\",\"Prosecution_Agreement\",\"Court\",\"Case_ID\",\"Private_Litigation_Case_Title\",\"Lawsuit_Resolution\",\"Facility_State\",\"City\",\"Address\",\"Zip\",\"NAICS_Code\",\"NAICS_Translation\",\"HQ_Country_of_Parent\",\"HQ_State_of_Parent\",\"Ownership_Structure\",\"Parent_Company_Stock_Ticker\",\"Major_Industry_of_Parent\",\"Specific_Industry_of_Parent\",\"Info_Source\",\"Notes\"\\n\"Abbott Laboratories\",\"Abbott Laboratories\",\"$5,475,000\",\"$0\",\"$5,475,000\",\"2013\",\"20131227\",\"government-contracting-related offenses\",\"False Claims Act and related\",\"kickbacks and bribery\",\"Abbott Laboratories agreed to $5.475 million to resolve allegations that it violated the False Claims Act by paying kickbacks to induce doctors to implant the company\\'s carotid, biliary and peripheral vascular products.\",\"federal\",\"agency action\",\"Justice Department Civil Division\",\"civil\",\"\",\"\",\"\",\"\",\"\",\"\",\"\",\"\",\"\",\"\",\"\",\"USA\",\"Illinois\",\"publicly traded\",\"ABT\",\"pharmaceuticals\",\"pharmaceuticals\",\"https://www.justice.gov/opa/pr/abbott-laboratories-pays-us-5475-million-settle-claims-company-paid-kickbacks-physicians\",\"\"\\n\"Abbott Laboratories Inc.\",\"AbbVie\",\"$1,500,000,000\",\"$0\",\"$1,500,000,000\",\"2012\",\"20120507\",\"healthcare-related offenses\",\"off-label or unapproved promotion of medical products\",\"\",\"Global Health Care Company Abbott Laboratories Inc. has pleaded guilty and agreed to pay $1.5 billion to resolve its criminal and civil liability arising from the company\\'s unlawful promotion of the prescription drug Depakote for uses not approved as safe and effective by the Food and Drug Administration. The resolution - the second largest payment by a drug company - includes a criminal fine and forfeiture totaling $700 million and civil settlements with the federal government and the states totaling $800 million. Abbott also will be subject to court-supervised probation and reporting obligations for Abbotts CEO and Board of Directors.\",\"federal\",\"agency action\",\"Food and Drug Administration referral to the Justice Department\",\"civil and criminal\",\"\",\"\",\"\",\"\",\"\",\"\",\"\",\"\",\"\",\"\",\"\",\"USA\",\"Illinois\",\"publicly traded\",\"ABBV\",\"pharmaceuticals\",\"pharmaceuticals\",\"http://www.justice.gov/opa/pr/abbott-labs-pay-15-billion-resolve-criminal-civil-investigations-label-promotion-depakote\",\"\"\\n\"Abbott Laboratories Inc.\",\"AbbVie\",\"$126,500,000\",\"$0\",\"$126,500,000\",\"2010\",\"20101207\",\"government-contracting-related offenses\",\"False Claims Act and related\",\"\",\"Abbott Laboratories Inc., B. Braun Medical Inc. and Roxane Laboratories Inc. n/k/a Boehringer Ingelheim Roxane Inc. and affiliated entities agreed to pay $421 million to settle False Claims Act allegations, that they engaged in a scheme to report false and inflated prices for numerous pharmaceutical products knowing that federal healthcare programs relied on those reported prices to set payment rates.\",\"federal\",\"agency action\",\"Justice Department Civil Division\",\"civil\",\"\",\"\",\"\",\"\",\"\",\"\",\"\",\"\",\"\",\"\",\"\",\"USA\",\"Illinois\",\"publicly traded\",\"ABBV\",\"pharmaceuticals\",\"pharmaceuticals\",\"https://www.justice.gov/opa/pr/pharmaceutical-manufacturers-pay-4212-million-settle-false-claims-act-cases\",\"\"\\n\"Abbott Laboratories Puerto Rico, Inc.\",\"Abbott Laboratories\",\"$49,045\",\"$0\",\"$49,045\",\"2009\",\"20090305\",\"employment-related offenses\",\"wage and hour violation\",\"Fair Labor Standards Act\",\"\",\"federal\",\"agency action\",\"Labor Department Wage and Hour Division\",\"civil\",\"\",\"\",\"1527129\",\"\",\"\",\"Puerto Rico\",\"San Juan\",\"\",\"\",\"423450\",\"423450: Medical, Dental, and Hospital Equipment and Supplies Merchant Wholesalers\",\"USA\",\"Illinois\",\"publicly traded\",\"ABT\",\"pharmaceuticals\",\"pharmaceuticals\",\"March 7, 2017 download of a dataset posted by the Wage and Hour Division at https://enforcedata.dol.gov/views/data_summary.php\",\"Date and year are the Findings End Date in the dataset posted by the Wage and Hour Division, which does not provide case opening or closing dates. The company name is the Legal Name provided by the dataset unless that field is blank, in which case the Trade Name is used. The dataset provides only one address and does not indicate whether it is the company headquarters address or the establishment address. The penalty amount is the total of civil monetary penalties and mandated back wages. The original dataset provides a breakdown.\"\\n\"Acclarent Inc.\",\"Johnson & Johnson\",\"$18,000,000\",\"$0\",\"$18,000,000\",\"2016\",\"20160722\",\"government-contracting-related offenses\",\"False Claims Act and related\",\"\",\"California-based medical device manufacturer Acclarent Inc., a subsidiary of Johnson & Johnson, agreed to pay $18 million to resolve allegations that the company caused health care providers to submit false claims to Medicare and other federal health care programs by marketing and distributing its sinus spacer product for use as a drug delivery device without Food and Drug Administration approval.\",\"federal\",\"agency action\",\"Justice Department Civil Division\",\"civil\",\"\",\"\",\"\",\"\",\"\",\"\",\"\",\"\",\"\",\"\",\"\",\"USA\",\"New Jersey\",\"publicly traded\",\"JNJ\",\"pharmaceuticals\",\"pharmaceuticals\",\"https://www.justice.gov/opa/pr/johnson-johnson-subsidiary-acclarent-inc-pays-government-18-million-settle-false-claims-act\",\"\"\\n\"Advanced Medical Optics\",\"Abbott Laboratories\",\"$16,800\",\"$0\",\"$16,800\",\"2004\",\"20040412\",\"employment-related offenses\",\"labor relations violation\",\"\",\"back pay award in unfair labor practices case\",\"federal\",\"agency action\",\"National Labor Relations Board\",\"civil\",\"\",\"\",\"21-CA-36104-001\",\"\",\"\",\"California\",\"Irvine\",\"\",\"92606\",\"333314\",\"333314: Optical Instrument and Lens Manufacturing\",\"USA\",\"Illinois\",\"publicly traded\",\"ABT\",\"pharmaceuticals\",\"pharmaceuticals\",\"Extracted from an NLRB dataset covering 1999-2011 downloaded at https://catalog.data.gov/dataset/nlrb-cats-final-c-case-data-bulk-19990101-20110930-in-xml\",\"\"\\n\"Advanced Neuromodulation Systems, Inc.\",\"Abbott Laboratories\",\"$2,950,000\",\"$0\",\"$2,950,000\",\"2007\",\"20070702\",\"healthcare-related offenses\",\"HHS civil monetary penalties\",\"kickbacks and bribery\",\"The HHS Inspector General announced that Advanced Neuromodulation Systems, Inc.,  a medical device manufacturer specializing in spinal cord stimulation used for pain management, agreed to pay $2.95 million to settle allegations that it paid kickbacks to physicians in violation of the Civil Monetary Penalties Law (CMPL). The company also entered into a 3-year Corporate Integrity Agreement.\",\"federal\",\"agency action\",\"Health & Human Services Department Office of Inspector General\",\"civil\",\"\",\"\",\"\",\"\",\"\",\"\",\"\",\"\",\"\",\"\",\"\",\"USA\",\"Illinois\",\"publicly traded\",\"ABT\",\"pharmaceuticals\",\"pharmaceuticals\",\"https://oig.hhs.gov/publications/docs/press/2007/ANS%20Press%20Release.pdf\",\"\"\\n\"Advanced Sterilization Products\",\"Johnson & Johnson\",\"$136,800\",\"$0\",\"$136,800\",\"2014\",\"20140520\",\"environment-related offenses\",\"environmental violation\",\"\",\"The U.S. Environmental Protection Agency announced that an Irvine, Calif. company, Advanced Sterilization Products, has agreed to pay a $136,800 penalty for the sale and distribution of unregistered and misbranded pesticides to veterinary clinics and laboratories nationwide.\",\"federal\",\"agency action\",\"Environmental Protection Agency\",\"civil\",\"\",\"\",\"\",\"\",\"\",\"California\",\"Irvine\",\"\",\"\",\"\",\"\",\"USA\",\"New Jersey\",\"publicly traded\",\"JNJ\",\"pharmaceuticals\",\"pharmaceuticals\",\"https://archive.epa.gov/epapages/newsroom_archive/newsreleases/8e820317c86e4c5685257cde00717855.html\",\"\"\\n\"Advanced Sterilization Products, a division of Ethicon Inc.\",\"Johnson & Johnson\",\"$1,200,000\",\"$0\",\"$1,200,000\",\"2013\",\"20131204\",\"safety-related offenses\",\"drug or medical equipment safety violation\",\"\",\"Settlement of a civil money penalty action against Advanced Sterilization Products, a division of Ethicon Inc., a Johnson & Johnson company, and two of ASP\\'s executives alleging that ASP manufactured and distributed adulterated and misbranded sterilization monitoring products.\",\"federal\",\"agency action\",\"Food and Drug Administration\",\"civil\",\"\",\"\",\"\",\"\",\"\",\"California\",\"Irvine\",\"\",\"\",\"\",\"\",\"USA\",\"New Jersey\",\"publicly traded\",\"JNJ\",\"pharmaceuticals\",\"pharmaceuticals\",\"http://www.fda.gov/NewsEvents/Newsroom/PressAnnouncements/ucm377588.htm\",\"\"\\n\"Alere San Diego Inc.\",\"Abbott Laboratories\",\"$10,572\",\"$0\",\"$10,572\",\"2017\",\"20170309\",\"employment-related offenses\",\"wage and hour violation\",\"Fair Labor Standards Act\",\"\",\"federal\",\"agency action\",\"Labor Department Wage and Hour Division\",\"civil\",\"\",\"\",\"1813371\",\"\",\"\",\"California\",\"Pomona\",\"828 Towne Center Dr.\",\"91767\",\"\",\"\",\"USA\",\"Illinois\",\"publicly traded\",\"ABT\",\"pharmaceuticals\",\"pharmaceuticals\",\"July 23, 2017 download of a dataset posted by the Wage and Hour Division at https://enforcedata.dol.gov/views/data_summary.php\",\"Date and year are the Findings End Date in the dataset posted by the Wage and Hour Division, which does not provide case opening or closing dates. The company name is the Legal Name provided by the dataset unless that field is blank, in which case the Trade Name is used. The dataset provides only one address and does not indicate whether it is the company headquarters address or the establishment address. The penalty amount is the total of civil monetary penalties and mandated back wages. The original dataset provides a breakdown.\"\\n\"Allergan Inc.\",\"AbbVie\",\"$600,000,000\",\"$0\",\"$600,000,000\",\"2010\",\"20100901\",\"healthcare-related offenses\",\"off-label or unapproved promotion of medical products\",\"\",\"American pharmaceutical manufacturer Allergan Inc. has agreed to plead guilty and pay $600 million to resolve its criminal and civil liability arising from the company\\'s unlawful promotion of its biological product, Botox Therapeutic, for uses not approved as safe and effective by the Food and Drug Administration. The resolution included a criminal fine and forfeiture totaling $375 million and a civil settlement with the federal government and the states of $225 million.\",\"federal\",\"agency action\",\"Food and Drug Administration referral to the Justice Department\",\"civil and criminal\",\"\",\"\",\"\",\"\",\"\",\"\",\"\",\"\",\"\",\"\",\"\",\"USA\",\"Illinois\",\"publicly traded\",\"ABBV\",\"pharmaceuticals\",\"pharmaceuticals\",\"http://www.justice.gov/opa/pr/allergan-agrees-plead-guilty-and-pay-600-million-resolve-allegations-label-promotion-botox\",\"\"\\n\"Allergan Inc.\",\"AbbVie\",\"$15,000,000\",\"$0\",\"$15,000,000\",\"2017\",\"20170117\",\"financial offenses\",\"investor protection violation\",\"\",\"Allergan Inc. admitted securities law violations and agreed to pay a $15 million penalty for disclosure failures in the wake of a hostile takeover bid.\",\"federal\",\"agency action\",\"Securities and Exchange Commission\",\"civil\",\"\",\"\",\"\",\"\",\"\",\"\",\"\",\"\",\"\",\"\",\"\",\"USA\",\"Illinois\",\"publicly traded\",\"ABBV\",\"pharmaceuticals\",\"pharmaceuticals\",\"https://www.sec.gov/news/pressrelease/2017-16.html\",\"\"\\n\"Alpharma Inc.\",\"Pfizer\",\"$42,500,000\",\"$0\",\"$42,500,000\",\"2010\",\"20100316\",\"government-contracting-related offenses\",\"False Claims Act and related\",\"kickbacks and bribery\",\"Alpharma Inc. agreed to pay $42.5 million to resolve False Claims Act allegations in connection with the marketing of the morphine-based drug Kadian. The settlement resolved allegations that between January 1, 2000 and December 29, 2008 Alpharma paid health care providers to induce them to promote or prescribe Kadian, and made misrepresentations about the safety and efficacy of the drug. \",\"federal\",\"agency action\",\"Justice Department Civil Division\",\"civil\",\"\",\"\",\"\",\"\",\"\",\"\",\"\",\"\",\"\",\"\",\"\",\"USA\",\"New York\",\"publicly traded\",\"PFE\",\"pharmaceuticals\",\"pharmaceuticals\",\"https://www.justice.gov/opa/pr/alpharma-pay-425-million-resolve-false-claims-act-allegations-connection-promotion-drug\",\"\"\\n\"Alpharma, Inc.\",\"Pfizer\",\"$2,500,000\",\"$0\",\"$2,500,000\",\"2004\",\"20040812\",\"competition-related offenses\",\"price-fixing or anti-competitive practices\",\"consumer protection violation\",\"Generic drug manufacturers Alpharma Inc. and Perrigo Company agreed to give up a total of $6.25 million in illegal profits to settle Federal Trade Commission allegations that their agreement to limit competition for over-the-counter store-brand children\\'s liquid ibuprofen drove up prices and violated federal law.\",\"federal\",\"agency action\",\"Federal Trade Commission\",\"civil\",\"\",\"\",\"\",\"\",\"\",\"\",\"\",\"\",\"\",\"\",\"\",\"USA\",\"New York\",\"publicly traded\",\"PFE\",\"pharmaceuticals\",\"pharmaceuticals\",\"https://www.ftc.gov/news-events/press-releases/2004/08/generic-drug-marketers-settle-ftc-charges\",\"\"\\n\"American Pharmaceutical Partners, Inc.\",\"Bristol-Myers Squibb\",\"$160,203\",\"$0\",\"$160,203\",\"2004\",\"20041226\",\"employment-related offenses\",\"wage and hour violation\",\"Fair Labor Standards Act\",\"\",\"federal\",\"agency action\",\"Labor Department Wage and Hour Division\",\"civil\",\"\",\"\",\"1379241\",\"\",\"\",\"New York\",\"Grand Island\",\"\",\"14072\",\"32541\",\"32541: Pharmaceutical and Medicine Manufacturing\",\"USA\",\"New York\",\"publicly traded\",\"BMY\",\"pharmaceuticals\",\"pharmaceuticals\",\"March 7, 2017 download of a dataset posted by the Wage and Hour Division at https://enforcedata.dol.gov/views/data_summary.php\",\"Date and year are the Findings End Date in the dataset posted by the Wage and Hour Division, which does not provide case opening or closing dates. The company name is the Legal Name provided by the dataset unless that field is blank, in which case the Trade Name is used. The dataset provides only one address and does not indicate whether it is the company headquarters address or the establishment address. The penalty amount is the total of civil monetary penalties and mandated back wages. The original dataset provides a breakdown.\"\\n\"Amgen Inc.\",\"Amgen\",\"$762,000,000\",\"$0\",\"$762,000,000\",\"2012\",\"20121219\",\"healthcare-related offenses\",\"off-label or unapproved promotion of medical products\",\"\",\"U.S. District Judge Sterling Johnson, Jr. accepted a guilty plea by American biotechnology giant Amgen Inc. for illegally introducing a misbranded drug into interstate commerce. The plea is part of a global settlement with the United States in which Amgen agreed to pay $762 million to resolve criminal and civil liability arising from its sale and promotion of certain drugs.\",\"federal\",\"agency action\",\"Food and Drug Administration referral to the Justice Department\",\"civil and criminal\",\"\",\"\",\"\",\"\",\"\",\"\",\"\",\"\",\"\",\"\",\"\",\"USA\",\"California\",\"publicly traded\",\"AMGN\",\"pharmaceuticals\",\"pharmaceuticals\",\"http://www.justice.gov/opa/pr/amgen-inc-pleads-guilty-federal-charge-brooklyn-ny-pays-762-million-resolve-criminal\",\"\"\\n\"Amgen Inc.\",\"Amgen\",\"$24,900,000\",\"$0\",\"$24,900,000\",\"2013\",\"20130416\",\"government-contracting-related offenses\",\"False Claims Act and related\",\"kickbacks and bribery\",\"Amgen Inc. agreed to pay the United States $24.9 million to settle allegations that it violated the False Claims Act. The company was accused of paying kickbacks  to long-term care pharmacy providers Omnicare Inc., PharMerica Corporation and Kindred Healthcare Inc. in return for implementing \"\"therapeutic interchange\"\" programs that were designed to switch Medicare and Medicaid beneficiaries from a competitor drug to Amgen\\'s Aranesp.\",\"federal\",\"agency action\",\"Justice Department Civil Division\",\"civil\",\"\",\"\",\"\",\"\",\"\",\"\",\"\",\"\",\"\",\"\",\"\",\"USA\",\"California\",\"publicly traded\",\"AMGN\",\"pharmaceuticals\",\"pharmaceuticals\",\"https://www.justice.gov/opa/pr/amgen-pay-us-249-million-resolve-false-claims-act-allegations\",\"\"\\n\"Amgen, Inc.\",\"Amgen\",\"$40,000\",\"$0\",\"$40,000\",\"2011\",\"20110302\",\"employment-related offenses\",\"labor relations violation\",\"\",\"back pay award in unfair labor practices case\",\"federal\",\"agency action\",\"National Labor Relations Board\",\"civil\",\"\",\"\",\"14-CA-30273-001\",\"\",\"\",\"Missouri\",\"St. Louis\",\"\",\"63130\",\"541720\",\"541720: Research and Development in the Social Sciences and Humanities\",\"USA\",\"California\",\"publicly traded\",\"AMGN\",\"pharmaceuticals\",\"pharmaceuticals\",\"Extracted from an NLRB dataset covering 1999-2011 downloaded at https://catalog.data.gov/dataset/nlrb-cats-final-c-case-data-bulk-19990101-20110930-in-xml\",\"\"\\n\"Amneal Pharmaceuticals of NY, LLC\",\"Amneal Pharmaceuticals\",\"$99,000\",\"$0\",\"$99,000\",\"2015\",\"20150930\",\"employment-related offenses\",\"employment discrimination\",\"\",\"\",\"federal\",\"agency action\",\"Office of Federal Contract Compliance Programs\",\"civil\",\"\",\"\",\"\",\"\",\"\",\"\",\"\",\"\",\"\",\"\",\"\",\"USA\",\"New Jersey\",\"publicly traded\",\"AMRX\",\"pharmaceuticals\",\"pharmaceuticals\",\"https://www.dol.gov/ofccp/foia/files/AmnealPharmaceuticalsCA_Redacted.pdf\",\"\"\\n\"Astellas Pharma US Inc.\",\"Astellas Pharma\",\"$7,300,000\",\"$0\",\"$7,300,000\",\"2014\",\"20140416\",\"government-contracting-related offenses\",\"False Claims Act and related\",\"off-label or unapproved promotion of medical products\",\"Astellas Pharma US Inc. agreed to pay $7.3 million to resolve allegations that it violated the False Claims Act in connection with its marketing and promotion of the drug Mycamine for pediatric use, which had not received FDA approval.\",\"federal\",\"agency action\",\"Justice Department Civil Division\",\"civil\",\"\",\"\",\"\",\"\",\"\",\"\",\"\",\"\",\"\",\"\",\"\",\"Japan\",\"\",\"publicly traded\",\"\",\"pharmaceuticals\",\"pharmaceuticals\",\"https://www.justice.gov/opa/pr/astellas-pharma-us-inc-pay-73-million-resolve-false-claims-act-allegations-relating-marketing\",\"\"\\n\"AstraZeneca\",\"AstraZeneca\",\"$250,000\",\"$0\",\"$250,000\",\"2011\",\"20110606\",\"employment-related offenses\",\"employment discrimination\",\"\",\"AstraZeneca agreed to pay $250,000 to 124 women who allegedly were subjected to pay discrimination while working at the corporation\\'s Philadelphia Business Center in Wayne, Pa. The action resolved a lawsuit filed by the U.S. Department of Labor in May 2010 alleging that the company discriminated against female sales specialists by paying them salaries that were, on average, $1,700 less than their male counterparts. \",\"federal\",\"agency action\",\"Office of Federal Contract Compliance Programs\",\"civil\",\"\",\"\",\"\",\"\",\"\",\"Pennsylvania\",\"Wayne\",\"\",\"\",\"\",\"\",\"United Kingdom\",\"\",\"publicly traded\",\"LSE: AZN\",\"pharmaceuticals\",\"pharmaceuticals\",\"https://www.dol.gov/opa/media/press/ofccp/OFCCP20110829.htm\",\"\"\\n\"AstraZeneca LP\",\"AstraZeneca\",\"$520,000,000\",\"$0\",\"$520,000,000\",\"2010\",\"20100427\",\"healthcare-related offenses\",\"off-label or unapproved promotion of medical products\",\"\",\"AstraZeneca LP and AstraZeneca Pharmaceuticals LP will pay $520 million to resolve allegations that AstraZeneca illegally marketed the anti-psychotic drug Seroquel for uses not approved as safe and effective by the Food and Drug Administration, the Departments of Justice and Health and Human Services\\' Health Care Fraud Enforcement Action Team.\",\"federal\",\"agency action\",\"Food and Drug Administration referral to the Justice Department\",\"civil\",\"\",\"\",\"\",\"\",\"\",\"\",\"\",\"\",\"\",\"\",\"\",\"United Kingdom\",\"\",\"publicly traded\",\"LSE: AZN\",\"pharmaceuticals\",\"pharmaceuticals\",\"http://www.justice.gov/opa/pr/pharmaceutical-giant-astrazeneca-pay-520-million-label-drug-marketing\",\"\"\\n\"AstraZeneca LP\",\"AstraZeneca\",\"$46,500,000\",\"$0\",\"$46,500,000\",\"2015\",\"20150706\",\"government-contracting-related offenses\",\"False Claims Act and related\",\"\",\"AstraZeneca LP agreed to pay the United States and participating states a total of $46.5 million, plus interest, to resolve allegations that it knowingly underpaid rebates owed under the Medicaid Drug Rebate Program.\",\"federal\",\"agency action\",\"Justice Department Civil Division\",\"civil\",\"\",\"\",\"\",\"\",\"\",\"\",\"\",\"\",\"\",\"\",\"\",\"United Kingdom\",\"\",\"publicly traded\",\"LSE: AZN\",\"pharmaceuticals\",\"pharmaceuticals\",\"https://www.justice.gov/opa/pr/astrazeneca-and-cephalon-pay-465-million-and-75-million-respectively-allegedly-underpaying\",\"\"\\n\"AstraZeneca LP\",\"AstraZeneca\",\"$7,900,000\",\"$0\",\"$7,900,000\",\"2015\",\"20150211\",\"government-contracting-related offenses\",\"False Claims Act and related\",\"kickbacks and bribery\",\"AstraZeneca LP, a pharmaceutical manufacturer based in Delaware, agreed to pay the government $7.9 million to settle allegations that it engaged in a kickback scheme in violation of the False Claims Act.\",\"federal\",\"agency action\",\"Justice Department Civil Division\",\"civil\",\"\",\"\",\"\",\"\",\"\",\"\",\"\",\"\",\"\",\"\",\"\",\"United Kingdom\",\"\",\"publicly traded\",\"LSE: AZN\",\"pharmaceuticals\",\"pharmaceuticals\",\"https://www.justice.gov/opa/pr/astrazeneca-pay-79-million-resolve-kickback-allegations\",\"\"\\n\"AstraZeneca Pharmaceuticals\",\"AstraZeneca\",\"$2,600,000\",\"$0\",\"$2,600,000\",\"2009\",\"20091019\",\"government-contracting-related offenses\",\"False Claims Act and related\",\"\",\"Mylan Pharmaceuticals, UDL Laboratories, AstraZeneca Pharmaceuticals and Ortho McNeil Pharmaceutical entered into settlement agreements for a total of $124 million to resolve claims that they violated the False Claims Act by failing to pay appropriate rebates to state Medicaid programs for drugs paid for by those programs.\",\"federal\",\"agency action\",\"Justice Department Civil Division\",\"civil\",\"\",\"\",\"\",\"\",\"\",\"\",\"\",\"\",\"\",\"\",\"\",\"United Kingdom\",\"\",\"publicly traded\",\"LSE: AZN\",\"pharmaceuticals\",\"pharmaceuticals\",\"https://www.justice.gov/opa/pr/four-pharmaceutical-companies-pay-124-million-submission-false-claims-medicaid\",\"\"\\n\"AstraZeneca Pharmaceuticals LP\",\"AstraZeneca\",\"$354,900,000\",\"$0\",\"$354,900,000\",\"2003\",\"20030620\",\"government-contracting-related offenses\",\"False Claims Act and related\",\"\",\"AstraZeneca Pharmaceuticals LP pleaded guilty in federal district court in Wilmington, Delaware and agreed to pay $354.9 million to resolve criminal charges and civil liabilities in connection with its drug pricing and marketing practices with regard to Zoladex, a drug used primarily for the treatment of prostate cancer. AstraZeneca agreed to pay a criminal fine of $63.9 million as part of pleaded guilty to conspiring to violate the Prescription Drug Marketing Act by causing to be submitted claims for payment for the prescription of Zoladex which had been provided as free samples to urologists. AstraZeneca agreed to settle its federal civil False Claim Act liabilities and to pay the U.S. government $266.1 million to resolve allegations it caused false and fraudulent claims to be filed with the Medicare; another $24.9 million was to be paid to states to resolve similar claims concerning Medicaid.\",\"federal\",\"agency action\",\"Justice Department Civil Division\",\"civil and criminal\",\"\",\"\",\"\",\"\",\"\",\"\",\"\",\"\",\"\",\"\",\"\",\"United Kingdom\",\"\",\"publicly traded\",\"LSE: AZN\",\"pharmaceuticals\",\"pharmaceuticals\",\"https://www.justice.gov/archive/opa/pr/2003/June/03_civ_371.htm\",\"\"\\n\"AstraZeneca PLC\",\"AstraZeneca\",\"$5,522,000\",\"$0\",\"$5,522,000\",\"2016\",\"20160830\",\"competition-related offenses\",\"kickbacks and bribery\",\"\",\"\",\"federal\",\"agency action\",\"Securities and Exchange Commission\",\"civil\",\"\",\"\",\"\",\"\",\"\",\"\",\"\",\"\",\"\",\"\",\"\",\"United Kingdom\",\"\",\"publicly traded\",\"LSE: AZN\",\"pharmaceuticals\",\"pharmaceuticals\",\"https://www.sec.gov/litigation/admin/2016/34-78730.pdf\",\"\"\\n\"Aventis Pharmaceutical Inc.\",\"Sanofi\",\"$95,500,000\",\"$0\",\"$95,500,000\",\"2009\",\"20090528\",\"government-contracting-related offenses\",\"False Claims Act and related\",\"\",\"Aventis Pharmaceutical Inc. agreed to pay the United States $95.5 million to settle allegations that it violated the False Claims Act by misreporting drug prices in order to reduce its Medicaid Drug Rebate obligations.\",\"federal\",\"agency action\",\"Justice Department Civil Division\",\"civil\",\"\",\"\",\"\",\"\",\"\",\"\",\"\",\"\",\"\",\"\",\"\",\"France\",\"\",\"publicly traded\",\"\",\"pharmaceuticals\",\"pharmaceuticals\",\"https://www.justice.gov/opa/pr/aventis-pharmaceutical-pay-us-955-million-settle-false-claims-act-allegations\",\"\"\\n\"Aventis Pharmaceuticals Inc.\",\"Sanofi\",\"$190,000,000\",\"$0\",\"$190,000,000\",\"2007\",\"20070910\",\"government-contracting-related offenses\",\"False Claims Act and related\",\"fraud\",\"Aventis Pharmaceuticals Inc. paid the United States and a number of states, as well as the District of Columbia, over $190 million to resolve allegations that the company caused false claims to be filed with Medicare and other federal health programs as a result of the company\\'s alleged fraudulent pricing and marketing of drugs. Aventis, which changed its name to Sanofi-Aventis,  agreed to settle False Claims Act allegations concerning its pricing and marketing of Anzemet, an antiemetic drug used primarily in conjunction with oncology and radiation treatment to prevent nausea and vomiting. \",\"federal\",\"agency action\",\"Justice Department Civil Division\",\"civil\",\"\",\"\",\"\",\"\",\"\",\"\",\"\",\"\",\"\",\"\",\"\",\"France\",\"\",\"publicly traded\",\"\",\"pharmaceuticals\",\"pharmaceuticals\",\"https://www.justice.gov/archive/opa/pr/2007/September/07_civ_694.html\",\"\"\\n\"AVEO Pharmaceuticals Inc.\",\"AVEO Pharmaceuticals\",\"$4,000,000\",\"$0\",\"$4,000,000\",\"2016\",\"20160329\",\"financial offenses\",\"investor protection violation\",\"\",\"The SEC announced fraud charges against a Massachusetts-based biotech\n\n*** WARNING: max output size exceeded, skipping output. ***\n\n$1,200,000,000\",\"$0\",\"$1,200,000,000\",\"2015\",\"20150528\",\"consumer-protection-related offenses\",\"consumer protection violation\",\"price-fixing or anti-competitive practices\",\"The Federal Trade Commission reached a settlement resolving a suit accusing Cephalon, Inc. of illegally blocking generic competition to its blockbuster sleep-disorder drug Provigil. The settlement ensures that Teva Pharmaceutical Industries, Ltd., which acquired Cephalon in 2012, will make a total of $1.2 billion available to compensate purchasers, including drug wholesalers, pharmacies, and insurers, who overpaid because of Cephalon\\'s illegal conduct.\",\"federal\",\"agency action\",\"Federal Trade Commission\",\"civil\",\"\",\"\",\"\",\"\",\"\",\"\",\"\",\"\",\"\",\"\",\"\",\"Israel\",\"\",\"publicly traded\",\"TEVA\",\"pharmaceuticals\",\"pharmaceuticals\",\"https://www.ftc.gov/news-events/press-releases/2015/05/ftc-settlement-cephalon-pay-delay-case-ensures-12-billion-ill\",\"\"\\n\"CHEROKEE PHARMACEUTICALS LLC\",\"Merck\",\"$10,001\",\"$0\",\"$10,001\",\"2011\",\"20110613\",\"employment-related offenses\",\"benefit plan administrator violation\",\"\",\"Deficient Filer\",\"federal\",\"agency action\",\"Employee Benefits Security Administration\",\"civil\",\"\",\"\",\"\",\"\",\"\",\"Pennsylvania\",\"\",\"\",\"\",\"\",\"\",\"USA\",\"New Jersey\",\"publicly traded\",\"MRK\",\"pharmaceuticals\",\"pharmaceuticals\",\"Included in a dataset downloaded at https://enforcedata.dol.gov/views/data_summary.php\",\"Company is plan administrator. Penalty amount reported in range of $10,001 to $50,000. \"\\n\"Chiron Corporation Ltd\",\"Novartis\",\"$168,500\",\"$0\",\"$168,500\",\"2004\",\"20040604\",\"financial offenses\",\"economic sanction violation\",\"\",\"\",\"federal\",\"agency action\",\"Office of Foreign Assets Control\",\"civil\",\"\",\"\",\"\",\"\",\"\",\"\",\"\",\"\",\"\",\"\",\"\",\"Switzerland\",\"\",\"publicly traded\",\"NYSE: NVS\",\"pharmaceuticals\",\"pharmaceuticals\",\"https://www.treasury.gov/resource-center/sanctions/OFAC-Enforcement/Documents/06042004.pdf\",\"\"\\n\"Cypress Pharmaceutical Inc.\",\"Currax Pharmaceuticals\",\"$2,800,000\",\"$0\",\"$2,800,000\",\"2012\",\"20120328\",\"healthcare-related offenses\",\"off-label or unapproved promotion of medical products\",\"\",\"Mississippi-based Cypress Pharmaceutical Inc., its subsidiary Hawthorn Pharmaceuticals Inc. and its CEO, Max Draughn, have agreed to pay $2.8 million to resolve civil allegations under the False Claims Act, the Justice Department announced. The government alleged that between 2003 and 2009, Cypress, Hawthorn and Draughn were responsible for marketing three pharmaceutical products that were not approved as safe and effective by the Food and Drug Administration (FDA). The products were Hylira, a gel used for the treatment of dry skin, Zaclir, an acne treatment and Zacare, another acne treatment.\",\"federal\",\"agency action\",\"Food and Drug Administration referral to the Justice Department\",\"civil\",\"\",\"\",\"\",\"\",\"\",\"\",\"\",\"\",\"\",\"\",\"\",\"USA\",\"New Jersey\",\"privately held\",\"\",\"pharmaceuticals\",\"pharmaceuticals\",\"http://www.justice.gov/opa/pr/mississippi-pharmaceutical-firm-and-ceo-pay-28-million-resolve-allegations-illegal-marketing\",\"\"\\n\"Daiichi Sankyo Inc.\",\"Daiichi Sankyo\",\"$39,000,000\",\"$0\",\"$39,000,000\",\"2015\",\"20150109\",\"government-contracting-related offenses\",\"False Claims Act and related\",\"kickbacks and bribery\",\"Daiichi Sankyo Inc., a global pharmaceutical company with its U.S. headquarters in New Jersey, agreed to pay the United States and state Medicaid programs $39 million to resolve allegations that it violated the False Claims Act by paying kickbacks to induce physicians to prescribe Daiichi drugs.\",\"federal\",\"agency action\",\"Justice Department Civil Division\",\"civil\",\"\",\"\",\"\",\"\",\"\",\"\",\"\",\"\",\"\",\"\",\"\",\"Japan\",\"\",\"publicly traded\",\"\",\"pharmaceuticals\",\"pharmaceuticals\",\"https://www.justice.gov/opa/pr/daiichi-sankyo-inc-agrees-pay-39-million-settle-kickback-allegations-under-false-claims-act\",\"\"\\n\"Dava Pharmaceuticals Inc.\",\"Endo International\",\"$11,000,000\",\"$0\",\"$11,000,000\",\"2012\",\"20120208\",\"government-contracting-related offenses\",\"False Claims Act and related\",\"\",\"Dava Pharmaceuticals Inc. agreed to pay the United States $11 million to settle allegations that it violated the False Claims Act by misreporting drug prices in order to reduce its Medicaid Drug Rebate obligations.\",\"federal\",\"agency action\",\"Justice Department Civil Division\",\"civil\",\"\",\"\",\"\",\"\",\"\",\"\",\"\",\"\",\"\",\"\",\"\",\"Ireland\",\"\",\"publicly traded\",\"ENDP\",\"pharmaceuticals\",\"pharmaceuticals\",\"https://www.justice.gov/opa/pr/dava-pharmaceuticals-pay-us-11-million-settle-false-claims-act-allegations\",\"\"\\n\"Dey Inc.\",\"Viatris\",\"$280,000,000\",\"$0\",\"$280,000,000\",\"2010\",\"20101220\",\"government-contracting-related offenses\",\"False Claims Act and related\",\"\",\"Dey Inc., Dey Pharma L.P. and Dey L.P. Inc. agreed to pay $280 million to settle False Claims Act allegations that they engaged in a scheme to report false and inflated prices for numerous pharmaceutical products, knowing that federal health care programs relied on those reported prices to set payment rates.\",\"federal\",\"agency action\",\"Justice Department Civil Division\",\"civil\",\"\",\"\",\"\",\"\",\"\",\"\",\"\",\"\",\"\",\"\",\"\",\"USA\",\"Pennsylvania\",\"publicly traded\",\"VTRS\",\"pharmaceuticals\",\"pharmaceuticals\",\"https://www.justice.gov/opa/pr/pharmaceutical-manufacturer-pay-280-million-settle-false-claims-act-case\",\"\"\\n\"Dey, Inc.\",\"Viatris\",\"$18,500,000\",\"$0\",\"$18,500,000\",\"2003\",\"20030611\",\"government-contracting-related offenses\",\"False Claims Act and related\",\"fraud\",\"Dey, Inc., a manufacturer of prescription drugs for the treatment of allergies and respiratory diseases, agreed to pay the United States and the state of Texas $18.5 million to settle allegations of health care fraud.\",\"federal\",\"agency action\",\"Justice Department Civil Division\",\"civil\",\"\",\"\",\"\",\"\",\"\",\"\",\"\",\"\",\"\",\"\",\"\",\"USA\",\"Pennsylvania\",\"publicly traded\",\"VTRS\",\"pharmaceuticals\",\"pharmaceuticals\",\"https://www.justice.gov/archive/opa/pr/2003/June/03_civ_350.htm\",\"\"\\n\"DuPont Pharmaceuticals Company\",\"Bristol-Myers Squibb\",\"$6,600\",\"$0\",\"$6,600\",\"2004\",\"20040806\",\"financial offenses\",\"economic sanction violation\",\"\",\"\",\"federal\",\"agency action\",\"Office of Foreign Assets Control\",\"civil\",\"\",\"\",\"\",\"\",\"\",\"\",\"\",\"\",\"\",\"\",\"\",\"USA\",\"New York\",\"publicly traded\",\"BMY\",\"pharmaceuticals\",\"pharmaceuticals\",\"https://www.treasury.gov/resource-center/sanctions/OFAC-Enforcement/Documents/08062004.pdf\",\"\"\\n\"Eisai Inc.\",\"Eisai\",\"$11,000,000\",\"$0\",\"$11,000,000\",\"2010\",\"20101215\",\"healthcare-related offenses\",\"off-label or unapproved promotion of medical products\",\"\",\"Irish pharmaceutical manufacturer Elan Corporation PLC and its U.S. subsidiary Elan Pharmaceuticals Inc. agreed to pay more than $203 million to resolve criminal and civil liability arising from the illegal promotion of the epilepsy drug Zonegran. In a separate civil settlement, Japanese drug marketer Eisai Inc., which purchased the drug from Elan, will pay $11 million to resolve civil liability for off-label marketing of Zonegran.\",\"federal\",\"agency action\",\"Food and Drug Administration referral to the Justice Department\",\"civil and criminal\",\"\",\"\",\"\",\"\",\"\",\"\",\"\",\"\",\"\",\"\",\"\",\"Japan\",\"\",\"publicly traded\",\"\",\"pharmaceuticals\",\"pharmaceuticals\",\"http://www.justice.gov/opa/pr/pharmaceutical-companies-pay-2145-million-resolve-allegations-label-promotion-zonegran\",\"\"\\n\"Elan Pharmaceuticals Inc.\",\"Perrigo\",\"$31,000\",\"$0\",\"$31,000\",\"2005\",\"20050620\",\"competition-related offenses\",\"export control violation\",\"\",\"\",\"federal\",\"agency action\",\"Bureau of Industry and Security\",\"civil\",\"\",\"\",\"\",\"\",\"\",\"\",\"\",\"\",\"\",\"\",\"\",\"Ireland\",\"\",\"publicly traded\",\"PRGO\",\"pharmaceuticals\",\"pharmaceuticals\",\"FOIA204\",\"Source document obtained through a Freedom of Information Act request to the agency.\"\\n\"Elan Corporation PLC\",\"Perrigo\",\"$203,000,000\",\"$0\",\"$203,000,000\",\"2010\",\"20101215\",\"healthcare-related offenses\",\"off-label or unapproved promotion of medical products\",\"\",\"Irish pharmaceutical manufacturer Elan Corporation PLC and its U.S. subsidiary Elan Pharmaceuticals Inc. agreed to pay more than $203 million to resolve criminal and civil liability arising from the illegal promotion of the epilepsy drug Zonegran. In a separate civil settlement, Japanese drug marketer Eisai Inc., which purchased the drug from Elan, will pay $11 million to resolve civil liability for off-label marketing of Zonegran.\",\"federal\",\"agency action\",\"Food and Drug Administration referral to the Justice Department\",\"civil and criminal\",\"\",\"\",\"\",\"\",\"\",\"\",\"\",\"\",\"\",\"\",\"\",\"Ireland\",\"\",\"publicly traded\",\"PRGO\",\"pharmaceuticals\",\"pharmaceuticals\",\"http://www.justice.gov/opa/pr/pharmaceutical-companies-pay-2145-million-resolve-allegations-label-promotion-zonegran\",\"\"\\n\"Elan Corporation, plc\",\"Perrigo\",\"$15,000,000\",\"$0\",\"$15,000,000\",\"2005\",\"20050208\",\"financial offenses\",\"accounting fraud or deficiencies\",\"\",\"\",\"federal\",\"agency action\",\"Securities and Exchange Commission\",\"civil\",\"\",\"\",\"\",\"\",\"\",\"\",\"\",\"\",\"\",\"\",\"\",\"Ireland\",\"\",\"publicly traded\",\"PRGO\",\"pharmaceuticals\",\"pharmaceuticals\",\"https://www.sec.gov/litigation/litreleases/lr19066.htm\",\"\"\\n\"Eli Lilly and Company\",\"Eli Lilly\",\"$1,415,000,000\",\"$0\",\"$1,415,000,000\",\"2009\",\"20090115\",\"healthcare-related offenses\",\"off-label or unapproved promotion of medical products\",\"\",\"Eli Lilly and Company agreed to plead guilty and pay $1.415 billion for promoting its drug Zyprexa for uses not approved by the Food and Drug Administration. This resolution included a criminal fine of $515 million, the forfeiture of $100 million in assets, and up to $800 million in a civil settlement with the federal government and the states.\",\"federal\",\"agency action\",\"Justice Department Civil Division\",\"civil and criminal\",\"\",\"\",\"\",\"\",\"\",\"\",\"\",\"\",\"\",\"\",\"\",\"USA\",\"Indiana\",\"publicly traded\",\"LLY\",\"pharmaceuticals\",\"pharmaceuticals\",\"https://www.justice.gov/opa/pr/eli-lilly-and-company-agrees-pay-1415-billion-resolve-allegations-label-promotion-zyprexa\",\"\"\\n\"Eli Lilly and Company\",\"Eli Lilly\",\"$36,000,000\",\"$0\",\"$36,000,000\",\"2005\",\"20051221\",\"healthcare-related offenses\",\"off-label or unapproved promotion of medical products\",\"\",\"Eli Lilly and Company agreed to plead guilty and to pay $36 million in connection with its illegal promotion of its pharmaceutical drug Evista.\",\"federal\",\"agency action\",\"Justice Department Criminal Division\",\"criminal\",\"\",\"\",\"\",\"\",\"\",\"\",\"\",\"\",\"\",\"\",\"\",\"USA\",\"Indiana\",\"publicly traded\",\"LLY\",\"pharmaceuticals\",\"pharmaceuticals\",\"https://www.justice.gov/archive/opa/pr/2005/December/05_civ_685.html\",\"\"\\n\"Eli Lilly and Company\",\"Eli Lilly\",\"$29,398,734\",\"$0\",\"$29,398,734\",\"2012\",\"20121220\",\"competition-related offenses\",\"Foreign Corrupt Practices Act\",\"\",\"\",\"federal\",\"agency action\",\"Securities and Exchange Commission\",\"civil\",\"\",\"\",\"\",\"\",\"\",\"\",\"\",\"\",\"\",\"\",\"\",\"USA\",\"Indiana\",\"publicly traded\",\"LLY\",\"pharmaceuticals\",\"pharmaceuticals\",\"https://www.sec.gov/News/PressRelease/Detail/PressRelease/1365171487116\",\"\"\\n\"EMD CHEMICALS INCORPORATED\",\"Merck KGaA (EMD)\",\"$13,170\",\"$0\",\"$13,170\",\"2004\",\"20041229\",\"safety-related offenses\",\"motor vehicle safety violation\",\"\",\"OH-2004-0250-US0482\",\"federal\",\"agency action\",\"Federal Motor Carrier Safety Administration\",\"civil\",\"\",\"\",\"\",\"\",\"\",\"Ohio\",\"CINCINNATI\",\"\",\"\",\"\",\"\",\"Germany\",\"\",\"publicly traded\",\"\",\"pharmaceuticals\",\"pharmaceuticals\",\"https://www.fmcsa.dot.gov/regulations/enforcement/national-listing-enforcement-cases-subject-name-closed-fiscal-year-2005-pdf\",\"\"\\n\"EMD CHEMICALS INCORPORATED\",\"Merck KGaA (EMD)\",\"$7,614\",\"$0\",\"$7,614\",\"2006\",\"20060523\",\"safety-related offenses\",\"motor vehicle safety violation\",\"\",\"OH-2006-0107-US0482\",\"federal\",\"agency action\",\"Federal Motor Carrier Safety Administration\",\"civil\",\"\",\"\",\"\",\"\",\"\",\"Ohio\",\"CINCINNATI\",\"\",\"\",\"\",\"\",\"Germany\",\"\",\"publicly traded\",\"\",\"pharmaceuticals\",\"pharmaceuticals\",\"https://www.fmcsa.dot.gov/regulations/enforcement/national-listing-enforcement-cases-subject-name-closed-fiscal-year-2006-pdf\",\"Year is fiscal year. Date is closing date.\"\\n\"EMD Chemicals, Inc.\",\"Merck KGaA (EMD)\",\"$8,250\",\"$0\",\"$8,250\",\"2007\",\"20070202\",\"financial offenses\",\"economic sanction violation\",\"\",\"\",\"federal\",\"agency action\",\"Office of Foreign Assets Control\",\"civil\",\"\",\"\",\"\",\"\",\"\",\"\",\"\",\"\",\"\",\"\",\"\",\"Germany\",\"\",\"publicly traded\",\"\",\"pharmaceuticals\",\"pharmaceuticals\",\"https://www.treasury.gov/resource-center/sanctions/OFAC-Enforcement/Documents/02022007.pdf\",\"\"\\n\"EMD Chemicals, Inc.\",\"Merck KGaA (EMD)\",\"$44,000\",\"$0\",\"$44,000\",\"2007\",\"20070309\",\"competition-related offenses\",\"export control violation\",\"\",\"\",\"federal\",\"agency action\",\"Bureau of Industry and Security\",\"civil\",\"\",\"\",\"\",\"\",\"\",\"\",\"\",\"\",\"\",\"\",\"\",\"Germany\",\"\",\"publicly traded\",\"\",\"pharmaceuticals\",\"pharmaceuticals\",\"https://efoia.bis.doc.gov/index.php/component/docman/?task=doc_download&gid=341&Itemid=\",\"\"\\n\"EMD Millipore Corp.\",\"Merck KGaA (EMD)\",\"$385,000\",\"$0\",\"$385,000\",\"2017\",\"20170206\",\"environment-related offenses\",\"environmental violation\",\"\",\"Under the terms of a Consent Decree lodged in federal court, EMD Millipore Corp. of Jaffrey, N.H., agreed to upgrade its on-site wastewater treatment system to comply with the terms of the company\\'s industrial wastewater discharge permit and prevent pretreatment violations of the federal Clean Water Act (CWA). The company also agreed to pay a civil penalty of $385,000 for alleged violations of the CWA.\",\"federal\",\"agency action\",\"Environmental Protection Agency referral to the Justice Department\",\"civil\",\"\",\"\",\"\",\"\",\"\",\"New Hampshire\",\"Jaffrey\",\"\",\"\",\"\",\"\",\"Germany\",\"\",\"publicly traded\",\"\",\"pharmaceuticals\",\"pharmaceuticals\",\"https://www.epa.gov/enforcement/reference-news-release-jaffrey-nh-facility-upgrade-its-wastewater-treatment-systems\",\"\"\\n\"EMD Millipore Corporation\",\"Merck KGaA (EMD)\",\"$2,681,500\",\"$0\",\"$2,681,500\",\"2013\",\"20130731\",\"environment-related offenses\",\"environmental violation\",\"\",\"EMD Millipore Corporation, of Billerica, Mass., has agreed to pay $2,681,500 in civil penalties to settle EPA allegations that it violated the federal pesticide law and regulations on numerous instances over many years.\",\"federal\",\"agency action\",\"Environmental Protection Agency\",\"civil\",\"\",\"\",\"\",\"\",\"\",\"Massachusetts\",\"Billerica\",\"\",\"\",\"\",\"\",\"Germany\",\"\",\"publicly traded\",\"\",\"pharmaceuticals\",\"pharmaceuticals\",\"https://archive.epa.gov/epapages/newsroom_archive/newsreleases/ce0d13ac337fe52685257bb900603f21.html\",\"\"\\n\"Endo Health Solutions Inc.\",\"Endo International\",\"$192,700,000\",\"$0\",\"$192,700,000\",\"2014\",\"20140221\",\"healthcare-related offenses\",\"off-label or unapproved promotion of medical products\",\"\",\"Pharmaceutical company Endo Health Solutions Inc. and its subsidiary Endo Pharmaceuticals Inc. agreed to pay $192.7 million to resolve criminal and civil liability arising from Endo\\'s marketing of the prescription drug Lidoderm for uses not approved as safe and effective by the Food and Drug Administration. The resolution included a deferred prosecution agreement and forfeiture totaling $20.8 million and civil false claims settlements with the federal government and the states and the District of Columbia totaling $171.9 million. \",\"federal\",\"agency action\",\"Food and Drug Administration referral to the Justice Department\",\"civil and criminal\",\"deferred prosecution agreement\",\"\",\"\",\"\",\"\",\"\",\"\",\"\",\"\",\"\",\"\",\"Ireland\",\"\",\"publicly traded\",\"ENDP\",\"pharmaceuticals\",\"pharmaceuticals\",\"http://www.justice.gov/opa/pr/endo-pharmaceuticals-and-endo-health-solutions-pay-1927-million-resolve-criminal-and-civil\",\"\"\\n\"Endo Pharmaceuticals Inc. and Vintage Pharmaceuticals, LLC d/b/a Qualitest Pharmaceuticals\",\"Endo International\",\"$39,000,000\",\"$0\",\"$39,000,000\",\"2015\",\"20151216\",\"safety-related offenses\",\"drug or medical equipment safety violation\",\"fraud\",\"The United States Attorney for the Southern District of New York and the Office of Inspector General for the Department of Health and Human Services announced a $39 million settlement against Vintage Pharmaceuticals, LLC d/b/a Qualitest Pharmaceuticals and  Vintage\\'s corporate parent Endo Pharmaceuticals, Inc. in a civil fraud lawsuit.\",\"federal\",\"agency action\",\"U.S. Attorney-Southern District of New York\",\"civil\",\"\",\"\",\"\",\"\",\"\",\"\",\"\",\"\",\"\",\"\",\"\",\"Ireland\",\"\",\"publicly traded\",\"ENDP\",\"pharmaceuticals\",\"pharmaceuticals\",\"https://www.justice.gov/usao-sdny/pr/manhattan-us-attorney-announces-39-million-civil-fraud-settlement-against-qualitest\",\"\"\\n\"Eon Labs Inc.\",\"Novartis\",\"$3,500,000\",\"$0\",\"$3,500,000\",\"2010\",\"20100222\",\"government-contracting-related offenses\",\"False Claims Act and related\",\"\",\"Eon Labs Inc. agreed to pay the United States $3.5 million to resolve False Claims Act allegations relating to the company\\'s drug Nitroglycerin Sustained Release (SR) capsules.\",\"federal\",\"agency action\",\"Justice Department Civil Division\",\"civil\",\"\",\"\",\"\",\"\",\"\",\"\",\"\",\"\",\"\",\"\",\"\",\"Switzerland\",\"\",\"publicly traded\",\"NYSE: NVS\",\"pharmaceuticals\",\"pharmaceuticals\",\"https://www.justice.gov/opa/pr/eon-labs-pays-us-35-million-settle-allegations-submitting-false-claims-medicaid\",\"\"\\n\"Ethex Corporation\",\"KV Pharmaceutical\",\"$27,600,000\",\"$0\",\"$27,600,000\",\"2010\",\"20100302\",\"safety-related offenses\",\"drug or medical equipment safety violation\",\"\",\"Ethex Corporation, a wholly owned subsidiary of St. Louis-based drug manufacturer, KV Pharmaceutical Company, pleaded guilty to two felonies and was sentenced in connection with the manufacturing of oversized prescription drug tablets. The government had charged that, despite having knowledge that the two drugs did not meet required specifications, Ethex violated the law by intentionally withholding this information from the Food and Drug Administration (FDA). Given the seriousness of Ethex\\'s conduct and the risk it posed to consumers of its drugs, the Justice Department pursued felony charges. According to charges presented in U.S. District Court in St. Louis, Ethex failed to submit required \"\"field alert reports\"\" to the FDA in 2008 concerning two drugs, propafenone and dextroamphetamine sulfate.  Following the recommendations of a plea agreement, Judge E. Richard Webber sentenced Ethex to pay a fine of more than $23.4 million, pay approximately $2.3 million in restitution to Medicare and Medicaid for their approximate losses, and forfeit nearly $1.8 million to the United States.\",\"federal\",\"agency action\",\"Food and Drug Administration referral to the Justice Department\",\"criminal\",\"\",\"\",\"\",\"\",\"\",\"\",\"\",\"\",\"\",\"\",\"\",\"USA\",\"Missouri\",\"out of business\",\"\",\"pharmaceuticals\",\"pharmaceuticals\",\"http://www.justice.gov/opa/pr/kv-pharmaceutical-subsidiary-pleads-guilty-two-felonies-regarding-oversized-drugs\",\"\"\\n\"ExecuPharm, Inc.\",\"Parexel International\",\"$5,900\",\"$0\",\"$5,900\",\"2017\",\"20170401\",\"employment-related offenses\",\"Family and Medical Leave Act\",\"\",\"\",\"federal\",\"agency action\",\"Labor Department Wage and Hour Division\",\"civil\",\"\",\"\",\"1808162\",\"\",\"\",\"Pennsylvania\",\"King of Prussia\",\"610 Freedom Business Center Suite 200\",\"19406\",\"\",\"\",\"USA\",\"Massachusetts\",\"privately held\",\"\",\"pharmaceuticals\",\"pharmaceuticals\",\"July 23, 2017 download of a dataset posted by the Wage and Hour Division at https://enforcedata.dol.gov/views/data_summary.php\",\"Date and year are the Findings End Date in the dataset posted by the Wage and Hour Division, which does not provide case opening or closing dates. The company name is the Legal Name provided by the dataset unless that field is blank, in which case the Trade Name is used. The dataset provides only one address and does not indicate whether it is the company headquarters address or the establishment address. The penalty amount is the total of civil monetary penalties and mandated back wages. The original dataset provides a breakdown.\"\\n\"Forest Laboratories and Forest Pharmaceuticals\",\"AbbVie\",\"$38,000,000\",\"$0\",\"$38,000,000\",\"2016\",\"20161215\",\"government-contracting-related offenses\",\"False Claims Act and related\",\"kickbacks and bribery\",\"Forest Laboratories LLC, located in New York, New York, and its subsidiary, Forest Pharmaceuticals Inc., agreed to pay $38 million to resolve allegations that they violated the False Claims Act by paying kickbacks to induce physicians to prescribe the drugs Bystolic, Savella, and Namenda.\",\"federal\",\"agency action\",\"Justice Department Civil Division\",\"civil\",\"\",\"\",\"\",\"\",\"\",\"\",\"\",\"\",\"\",\"\",\"\",\"USA\",\"Illinois\",\"publicly traded\",\"ABBV\",\"pharmaceuticals\",\"pharmaceuticals\",\"https://www.justice.gov/opa/pr/forest-laboratories-and-forest-pharmaceuticals-pay-38-million-resolve-kickback-allegations\",\"\"\\n\"Forest Pharmaceuticals Inc.\",\"AbbVie\",\"$164,000,000\",\"$0\",\"$164,000,000\",\"2011\",\"20110302\",\"healthcare-related offenses\",\"off-label or unapproved promotion of medical products\",\"\",\"Drug manufacturer Forest Pharmaceuticals Inc. was sentenced by U.S. District Judge Nancy Gertner to pay a criminal fine of $150 million and forfeit assets of $14 million following the company\\'s guilty plea in November 2010 to one felony count of obstructing justice, one misdemeanor count of distributing an unapproved new drug in interstate commerce and one misdemeanor count of distributing a misbranded drug in interstate commerce, the Justice Department announced. The company, a subsidiary of New York City-based Forest Laboratories Inc., pleaded guilty to charges related to obstruction of an FDA regulatory inspection, to the distribution of Levothroid, which at the time was an unapproved new drug, and to the illegal promotion of the anti-depressant drug Celexa for use in treating children and adolescents.\",\"federal\",\"agency action\",\"Food and Drug Administration referral to the Justice Department\",\"civil and criminal\",\"\",\"\",\"\",\"\",\"\",\"\",\"\",\"\",\"\",\"\",\"\",\"USA\",\"Illinois\",\"publicly traded\",\"ABBV\",\"pharmaceuticals\",\"pharmaceuticals\",\"http://www.justice.gov/opa/pr/forest-pharmaceuticals-sentenced-pay-164-million-criminal-violations\",\"\"\\n\"Fort Dodge Animal Health\",\"Zoetis\",\"$26,956\",\"$0\",\"$26,956\",\"2004\",\"20041105\",\"financial offenses\",\"economic sanction violation\",\"\",\"\",\"federal\",\"agency action\",\"Office of Foreign Assets Control\",\"civil\",\"\",\"\",\"\",\"\",\"\",\"\",\"\",\"\",\"\",\"\",\"\",\"USA\",\"New Jersey\",\"publicly traded\",\"ZTS\",\"pharmaceuticals\",\"animal health products\",\"https://www.treasury.gov/resource-center/sanctions/OFAC-Enforcement/Documents/11052004.pdf\",\"\"\\n\"Galena Biopharma, Inc.\",\"SELLAS Life Sciences Group\",\"$200,000\",\"$0\",\"$200,000\",\"2017\",\"20170410\",\"financial offenses\",\"accounting fraud or deficiencies\",\"\",\"\",\"federal\",\"agency action\",\"Securities and Exchange Commission\",\"civil\",\"\",\"\",\"\",\"\",\"\",\"\",\"\",\"\",\"\",\"\",\"\",\"USA\",\"New York\",\"publicly traded\",\"SLS\",\"pharmaceuticals\",\"pharmaceuticals\",\"https://www.sec.gov/litigation/admin/2017/33-10337.pdf\",\"\"\\n\"Genentech Inc.\",\"Roche\",\"$33,500,000\",\"$0\",\"$33,500,000\",\"2016\",\"20160606\",\"government-contracting-related offenses\",\"False Claims Act and related\",\"\",\"Pharmaceutical companies Genentech Inc. and OSI Pharmaceuticals LLC agreed to pay $67 million to resolve False Claims Act allegations that they made misleading statements about the effectiveness of the drug Tarceva to treat non-small cell lung cancer. The announcement did not indicate how much each company would pay. Here we assume the total was split evenly between them.\",\"federal\",\"agency action\",\"Justice Department Civil Division\",\"civil\",\"\",\"\",\"\",\"\",\"\",\"\",\"\",\"\",\"\",\"\",\"\",\"Switzerland\",\"\",\"publicly traded\",\"\",\"pharmaceuticals\",\"pharmaceuticals\",\"https://www.justice.gov/opa/pr/pharmaceutical-companies-pay-67-million-resolve-false-claims-act-allegations-relating-tarceva\",\"\"\\n\"Genzyme Corp.\",\"Sanofi\",\"$22,280,000\",\"$0\",\"$22,280,000\",\"2013\",\"20131220\",\"government-contracting-related offenses\",\"False Claims Act and related\",\"\",\"Genzyme Corp. agreed to pay $22.28 million to resolve allegations that it marketed, and caused false claims to be submitted to federal and state health care programs for use of, a \"\"slurry\"\" version of its Seprafilm adhesion barrier.\",\"federal\",\"agency action\",\"Justice Department Civil Division\",\"civil\",\"\",\"\",\"\",\"\",\"\",\"\",\"\",\"\",\"\",\"\",\"\",\"France\",\"\",\"publicly traded\",\"\",\"pharmaceuticals\",\"pharmaceuticals\",\"https://www.justice.gov/opa/pr/genzyme-corp-pay-2228-million-resolve-false-claims-allegations-related-slurry-used-patients\",\"\"\\n\"Genzyme Corporation\",\"Sanofi\",\"$32,587,439\",\"$0\",\"$32,587,439\",\"2015\",\"20150903\",\"safety-related offenses\",\"drug or medical equipment safety violation\",\"\",\"Genzyme Corporation, a wholly-owned biotechnology subsidiary of French pharmaceutical company Sanofi, agreed to resolve criminal charges that it violated the federal Food, Drug and Cosmetic Act with regard to the unlawful distribution of Seprafilm, a surgical device it marketed and promoted. As part of the agreed resolution, the department filed a two-count criminal information in the U.S. District Court for the Middle District of Florida charging that between 2005 and 2010, Genzyme caused a medical device to become adulterated and misbranded while being held for sale.  The conduct occurred prior to Sanofi\\'s acquisition of Genzyme, based in Cambridge, Massachusetts, in 2011.  To resolve these charges, Genzyme agreed to'"
     ]
    }
   ],
   "source": [
    "#Pharma unzipped, Let's view the file\n",
    "\n",
    "pharma_file = \"/FileStore/tables/pharma/pharma.csv\"\n",
    "\n",
    "dbutils.fs.head(pharma_file)"
   ]
  },
  {
   "cell_type": "code",
   "execution_count": 0,
   "metadata": {
    "application/vnd.databricks.v1+cell": {
     "cellMetadata": {
      "byteLimit": 2048000,
      "rowLimit": 10000
     },
     "inputWidgets": {},
     "nuid": "a5d5a6fb-cf2a-4bf9-b491-4d312ae16f4f",
     "showTitle": false,
     "title": ""
    }
   },
   "outputs": [
    {
     "output_type": "stream",
     "name": "stdout",
     "output_type": "stream",
     "text": [
      "Out[93]: ['\"Company\",\"Parent_Company\",\"Penalty_Amount\",\"Subtraction_From_Penalty\",\"Penalty_Amount_Adjusted_For_Eliminating_Multiple_Counting\",\"Penalty_Year\",\"Penalty_Date\",\"Offense_Group\",\"Primary_Offense\",\"Secondary_Offense\",\"Description\",\"Level_of_Government\",\"Action_Type\",\"Agency\",\"Civil/Criminal\",\"Prosecution_Agreement\",\"Court\",\"Case_ID\",\"Private_Litigation_Case_Title\",\"Lawsuit_Resolution\",\"Facility_State\",\"City\",\"Address\",\"Zip\",\"NAICS_Code\",\"NAICS_Translation\",\"HQ_Country_of_Parent\",\"HQ_State_of_Parent\",\"Ownership_Structure\",\"Parent_Company_Stock_Ticker\",\"Major_Industry_of_Parent\",\"Specific_Industry_of_Parent\",\"Info_Source\",\"Notes\"',\n '\"Abbott Laboratories\",\"Abbott Laboratories\",\"$5,475,000\",\"$0\",\"$5,475,000\",\"2013\",\"20131227\",\"government-contracting-related offenses\",\"False Claims Act and related\",\"kickbacks and bribery\",\"Abbott Laboratories agreed to $5.475 million to resolve allegations that it violated the False Claims Act by paying kickbacks to induce doctors to implant the company\\'s carotid, biliary and peripheral vascular products.\",\"federal\",\"agency action\",\"Justice Department Civil Division\",\"civil\",\"\",\"\",\"\",\"\",\"\",\"\",\"\",\"\",\"\",\"\",\"\",\"USA\",\"Illinois\",\"publicly traded\",\"ABT\",\"pharmaceuticals\",\"pharmaceuticals\",\"https://www.justice.gov/opa/pr/abbott-laboratories-pays-us-5475-million-settle-claims-company-paid-kickbacks-physicians\",\"\"',\n '\"Abbott Laboratories Inc.\",\"AbbVie\",\"$1,500,000,000\",\"$0\",\"$1,500,000,000\",\"2012\",\"20120507\",\"healthcare-related offenses\",\"off-label or unapproved promotion of medical products\",\"\",\"Global Health Care Company Abbott Laboratories Inc. has pleaded guilty and agreed to pay $1.5 billion to resolve its criminal and civil liability arising from the company\\'s unlawful promotion of the prescription drug Depakote for uses not approved as safe and effective by the Food and Drug Administration. The resolution - the second largest payment by a drug company - includes a criminal fine and forfeiture totaling $700 million and civil settlements with the federal government and the states totaling $800 million. Abbott also will be subject to court-supervised probation and reporting obligations for Abbotts CEO and Board of Directors.\",\"federal\",\"agency action\",\"Food and Drug Administration referral to the Justice Department\",\"civil and criminal\",\"\",\"\",\"\",\"\",\"\",\"\",\"\",\"\",\"\",\"\",\"\",\"USA\",\"Illinois\",\"publicly traded\",\"ABBV\",\"pharmaceuticals\",\"pharmaceuticals\",\"http://www.justice.gov/opa/pr/abbott-labs-pay-15-billion-resolve-criminal-civil-investigations-label-promotion-depakote\",\"\"']"
     ]
    }
   ],
   "source": [
    "#Create rdd\n",
    "\n",
    "pharma_rdd = sc.textFile(pharma_file)\n",
    "\n",
    "pharma_rdd.take(3)"
   ]
  },
  {
   "cell_type": "code",
   "execution_count": 0,
   "metadata": {
    "application/vnd.databricks.v1+cell": {
     "cellMetadata": {
      "byteLimit": 2048000,
      "rowLimit": 10000
     },
     "inputWidgets": {},
     "nuid": "46046cd1-5d7b-4fe3-8b0a-a5e7d55d958b",
     "showTitle": false,
     "title": ""
    }
   },
   "outputs": [
    {
     "output_type": "stream",
     "name": "stdout",
     "output_type": "stream",
     "text": [
      "Out[94]: [['\"Company\"',\n  '\"Parent_Company\"',\n  '\"Penalty_Amount\"',\n  '\"Subtraction_From_Penalty\"',\n  '\"Penalty_Amount_Adjusted_For_Eliminating_Multiple_Counting\"',\n  '\"Penalty_Year\"',\n  '\"Penalty_Date\"',\n  '\"Offense_Group\"',\n  '\"Primary_Offense\"',\n  '\"Secondary_Offense\"',\n  '\"Description\"',\n  '\"Level_of_Government\"',\n  '\"Action_Type\"',\n  '\"Agency\"',\n  '\"Civil/Criminal\"',\n  '\"Prosecution_Agreement\"',\n  '\"Court\"',\n  '\"Case_ID\"',\n  '\"Private_Litigation_Case_Title\"',\n  '\"Lawsuit_Resolution\"',\n  '\"Facility_State\"',\n  '\"City\"',\n  '\"Address\"',\n  '\"Zip\"',\n  '\"NAICS_Code\"',\n  '\"NAICS_Translation\"',\n  '\"HQ_Country_of_Parent\"',\n  '\"HQ_State_of_Parent\"',\n  '\"Ownership_Structure\"',\n  '\"Parent_Company_Stock_Ticker\"',\n  '\"Major_Industry_of_Parent\"',\n  '\"Specific_Industry_of_Parent\"',\n  '\"Info_Source\"',\n  '\"Notes\"'],\n ['\"Abbott Laboratories\"',\n  '\"Abbott Laboratories\"',\n  '\"$5',\n  '475',\n  '000\"',\n  '\"$0\"',\n  '\"$5',\n  '475',\n  '000\"',\n  '\"2013\"',\n  '\"20131227\"',\n  '\"government-contracting-related offenses\"',\n  '\"False Claims Act and related\"',\n  '\"kickbacks and bribery\"',\n  '\"Abbott Laboratories agreed to $5.475 million to resolve allegations that it violated the False Claims Act by paying kickbacks to induce doctors to implant the company\\'s carotid',\n  ' biliary and peripheral vascular products.\"',\n  '\"federal\"',\n  '\"agency action\"',\n  '\"Justice Department Civil Division\"',\n  '\"civil\"',\n  '\"\"',\n  '\"\"',\n  '\"\"',\n  '\"\"',\n  '\"\"',\n  '\"\"',\n  '\"\"',\n  '\"\"',\n  '\"\"',\n  '\"\"',\n  '\"\"',\n  '\"USA\"',\n  '\"Illinois\"',\n  '\"publicly traded\"',\n  '\"ABT\"',\n  '\"pharmaceuticals\"',\n  '\"pharmaceuticals\"',\n  '\"https://www.justice.gov/opa/pr/abbott-laboratories-pays-us-5475-million-settle-claims-company-paid-kickbacks-physicians\"',\n  '\"\"'],\n ['\"Abbott Laboratories Inc.\"',\n  '\"AbbVie\"',\n  '\"$1',\n  '500',\n  '000',\n  '000\"',\n  '\"$0\"',\n  '\"$1',\n  '500',\n  '000',\n  '000\"',\n  '\"2012\"',\n  '\"20120507\"',\n  '\"healthcare-related offenses\"',\n  '\"off-label or unapproved promotion of medical products\"',\n  '\"\"',\n  '\"Global Health Care Company Abbott Laboratories Inc. has pleaded guilty and agreed to pay $1.5 billion to resolve its criminal and civil liability arising from the company\\'s unlawful promotion of the prescription drug Depakote for uses not approved as safe and effective by the Food and Drug Administration. The resolution - the second largest payment by a drug company - includes a criminal fine and forfeiture totaling $700 million and civil settlements with the federal government and the states totaling $800 million. Abbott also will be subject to court-supervised probation and reporting obligations for Abbotts CEO and Board of Directors.\"',\n  '\"federal\"',\n  '\"agency action\"',\n  '\"Food and Drug Administration referral to the Justice Department\"',\n  '\"civil and criminal\"',\n  '\"\"',\n  '\"\"',\n  '\"\"',\n  '\"\"',\n  '\"\"',\n  '\"\"',\n  '\"\"',\n  '\"\"',\n  '\"\"',\n  '\"\"',\n  '\"\"',\n  '\"USA\"',\n  '\"Illinois\"',\n  '\"publicly traded\"',\n  '\"ABBV\"',\n  '\"pharmaceuticals\"',\n  '\"pharmaceuticals\"',\n  '\"http://www.justice.gov/opa/pr/abbott-labs-pay-15-billion-resolve-criminal-civil-investigations-label-promotion-depakote\"',\n  '\"\"']]"
     ]
    }
   ],
   "source": [
    "#Split by line and delimiter\n",
    "\n",
    "pharma_rdd1 = pharma_rdd \\\n",
    "    .flatMap(lambda x: x.split('\\n')) \\\n",
    "    .map(lambda line: line.split(\",\"))\n",
    "\n",
    "pharma_rdd1.take(3)"
   ]
  },
  {
   "cell_type": "code",
   "execution_count": 0,
   "metadata": {
    "application/vnd.databricks.v1+cell": {
     "cellMetadata": {
      "byteLimit": 2048000,
      "rowLimit": 10000
     },
     "inputWidgets": {},
     "nuid": "373008a1-8efc-4651-ad2a-2718b3224c5d",
     "showTitle": false,
     "title": ""
    }
   },
   "outputs": [
    {
     "output_type": "stream",
     "name": "stdout",
     "output_type": "stream",
     "text": [
      "Out[95]: ['Parent_Company', 'Abbott Laboratories']"
     ]
    }
   ],
   "source": [
    "# Pharma list\n",
    "\n",
    "pharma_list = pharma_rdd1 \\\n",
    "    .map(lambda x: (x[1][1:-1])) \\\n",
    "    .filter(lambda x: x[0].strip() != \"\") \\\n",
    "\n",
    "pharma_list.take(2)"
   ]
  },
  {
   "cell_type": "code",
   "execution_count": 0,
   "metadata": {
    "application/vnd.databricks.v1+cell": {
     "cellMetadata": {
      "byteLimit": 2048000,
      "rowLimit": 10000
     },
     "inputWidgets": {},
     "nuid": "0a74d6f5-c0f0-4c72-b833-561564fa95f4",
     "showTitle": false,
     "title": ""
    }
   },
   "outputs": [
    {
     "output_type": "stream",
     "name": "stdout",
     "output_type": "stream",
     "text": [
      "Out[97]: ['Harvard Medical School (HMS and HSDM)|London School of Hygiene and Tropical Medicine',\n \"Alzheimer's Society of Brant Haldimand Norfolk Hamilton Halton\",\n 'National Health and Medical Research Council Australia|Bristol-Myers Squibb',\n 'Istituti Clinici Scientifici Maugeri SpA|Politecnico di Milano',\n 'National Institute on Alcohol Abuse and Alcoholism (NIAAA)',\n 'National Institute on Alcohol Abuse and Alcoholism (NIAAA)',\n 'Govenment of Manitoba|Canadian Foundation for Pharmacy|Neighbourhood Pharmacy Association of Canada',\n 'National Cancer Institute (NCI)',\n 'Society for Pediatric Dermatology',\n \"King's College Hospital NHS Trust|Charles University Czech Republic|Hopital Universitaire Robert-Debre|Vestre Viken Hospital Trust|The Hospital for Sick Children|Cardiff University|Odense University Hospital\"]"
     ]
    }
   ],
   "source": [
    "# Sponsor list\n",
    "\n",
    "sponsor_list = clinicaltrial_2023_rdd \\\n",
    "    .filter(lambda x: len(x) > 9) \\\n",
    "    .map(lambda x: x[7]) \\\n",
    "    .filter(lambda x: x != \"\") \\\n",
    "\n",
    "# Output the sponsor counts\n",
    "sponsor_list.take(10)"
   ]
  },
  {
   "cell_type": "code",
   "execution_count": 0,
   "metadata": {
    "application/vnd.databricks.v1+cell": {
     "cellMetadata": {
      "byteLimit": 2048000,
      "rowLimit": 10000
     },
     "inputWidgets": {},
     "nuid": "438db353-af1e-416d-8ad5-586e287db6d7",
     "showTitle": false,
     "title": ""
    }
   },
   "outputs": [
    {
     "output_type": "stream",
     "name": "stdout",
     "output_type": "stream",
     "text": [
      "Out[75]: [('Inc.', 142),\n ('Merck', 64),\n ('Pfizer', 52),\n ('Johnson & Johnson', 39),\n ('AbbVie', 38),\n ('INC.', 38),\n ('Teva Pharmaceutical Industries', 36),\n ('Bristol-Myers Squibb', 36),\n ('Novartis', 34),\n ('GlaxoSmithKline', 31),\n ('Viatris', 31),\n ('Merck KGaA (EMD)', 29),\n ('Abbott Laboratories', 26),\n ('LLC', 26),\n ('Sanofi', 24),\n ('AstraZeneca', 22),\n ('Takeda Pharmaceutical', 17),\n ('Eli Lilly', 16),\n ('Roche', 16),\n ('Endo International', 15),\n ('Perrigo', 14),\n ('Mallinckrodt', 13),\n ('Amgen', 12),\n ('Bausch Health', 11),\n ('Purdue Pharma', 9),\n ('Novo Holdings A/S', 8),\n ('Otsuka Pharmaceutical', 8),\n ('INC', 8),\n ('Eisai', 7),\n ('KV Pharmaceutical', 7),\n ('Astellas Pharma', 7),\n ('Zoetis', 7),\n ('Phibro Animal Health', 7),\n ('Boehringer Ingelheim', 6),\n ('Daiichi Sankyo', 5),\n ('Alcami', 5),\n ('UCB', 5),\n ('Sun Pharmaceuticals', 4),\n ('Lannett Co.', 4),\n ('Amneal Pharmaceuticals', 4),\n ('Inc', 4),\n ('Hikma Pharmaceuticals', 4),\n ('Amryt Pharma', 3),\n ('Insys Therapeutics', 3),\n ('Inc. et al.', 3),\n ('CSL Limited', 2),\n ('Anika Therapeutics', 2),\n ('Aceto', 2),\n ('Apotex Corp.', 2),\n ('L.P.', 2),\n ('Elanco Animal Health', 2),\n ('Biogen Idec', 2),\n ('Currax Pharmaceuticals', 2),\n ('LLC.', 2),\n ('Jazz Pharmaceuticals', 2),\n ('Amphastar Pharmaceuticals', 2),\n ('Gilead Sciences', 2),\n ('Organon & Co.', 2),\n ('Indivior Inc.', 2),\n ('a division of Ethicon Inc.', 1),\n ('AVEO Pharmaceuticals', 1),\n ('plc', 1),\n ('LLC d/b/a Qualitest Pharmaceuticals', 1),\n (\"INC. EMPLOYEES' 401(K) SAVINGS PLAN\", 1),\n ('Div of Ethicon', 1),\n ('NC.', 1),\n ('Limited', 1),\n ('CIDR', 1),\n ('Arbor Pharmaceuticals', 1),\n ('LLC and Actavis Elizabet', 1),\n ('LP', 1),\n ('Inc. and Aventis Behrin', 1),\n ('L', 1),\n ('Janssen Pharmaceutical Products L', 1),\n ('Inc. and Pharmacia Corporation', 1),\n ('Inc. and Purdue Pharm', 1),\n ('n/k/a Actavis Elizabet', 1),\n ('Wockhardt Limited', 1),\n ('et al.', 1),\n ('Parent_Company', 1),\n ('Clovis Oncology', 1),\n ('Sharp & Dohme', 1),\n ('SciClone Pharmaceuticals', 1),\n ('S.A.', 1),\n ('INC. (SB)', 1),\n ('INC. ( SB)', 1),\n ('N.A', 1),\n ('SELLAS Life Sciences Group', 1),\n (\"Dr. Reddy's Laboratories\", 1),\n ('United Therapeutics', 1),\n ('CytRx', 1),\n ('Lundbeck', 1),\n ('Inc. and Purepac Pharmaceutical Co.', 1),\n ('Inc. and Duramed Pharmaceutical', 1),\n ('Inc. and Mylan Pharmaceutical', 1),\n ('Taro Pharmaceutical Industries', 1),\n ('IVAX Corporatio', 1),\n ('Pacira BioSciences', 1),\n ('Incorporated', 1),\n ('Incyte Corp.', 1)]"
     ]
    }
   ],
   "source": [
    "#Extract Parent Company\n",
    "pharma_rdd2 = pharma_rdd1 \\\n",
    "    .map(lambda x: (x[1][1:-1], 1)) \\\n",
    "    .filter(lambda x: x[0].strip() != \"\") \\\n",
    "    .reduceByKey(lambda x, y: x + y) \\\n",
    "    .sortBy(lambda x: x[1], ascending=False) \\\n",
    "\n",
    "pharma_rdd2.collect()\n",
    "#pharma_rdd2.distinct().count()"
   ]
  },
  {
   "cell_type": "code",
   "execution_count": 0,
   "metadata": {
    "application/vnd.databricks.v1+cell": {
     "cellMetadata": {
      "byteLimit": 2048000,
      "rowLimit": 10000
     },
     "inputWidgets": {},
     "nuid": "30295f75-8d8e-4381-b93a-78532a1801c6",
     "showTitle": true,
     "title": "Answer: 10 Most common sponsors that are not pharmacetical companies"
    }
   },
   "outputs": [
    {
     "output_type": "stream",
     "name": "stdout",
     "output_type": "stream",
     "text": [
      "Sponsor: National Cancer Institute (NCI), Frequency: 7918\nSponsor: National Heart Lung and Blood Institute (NHLBI), Frequency: 1690\nSponsor: National Institute of Mental Health (NIMH), Frequency: 1590\nSponsor: National Institute on Drug Abuse (NIDA), Frequency: 1394\nSponsor: Merck Sharp & Dohme LLC, Frequency: 1334\nSponsor: National Institute of Diabetes and Digestive and Kidney Diseases (NIDDK), Frequency: 1119\nSponsor: National Institute on Aging (NIA), Frequency: 872\nSponsor: Eunice Kennedy Shriver National Institute of Child Health and Human Development (NICHD), Frequency: 751\nSponsor: National Institutes of Health (NIH), Frequency: 705\nSponsor: Genentech Inc., Frequency: 636\n"
     ]
    }
   ],
   "source": [
    "# Collect the pharma_list on the driver node\n",
    "pharma_list_local = pharma_list.collect()\n",
    "\n",
    "filtered_sponsor = sponsor_list.filter(lambda x: x not in pharma_list_local)\n",
    "\n",
    "filtered_sponsor_counts = filtered_sponsor.map(lambda x: (x, 1)).reduceByKey(lambda x, y: x + y)\n",
    "\n",
    "sorted_filtered_sponsor_counts = filtered_sponsor_counts.sortBy(lambda x: x[1], ascending=False)\n",
    "\n",
    "# Take the top 10 sponsors\n",
    "top_10_sponsors_not_pharma = sorted_filtered_sponsor_counts.take(10)\n",
    "\n",
    "# Print the top 10 sponsors and their frequencies\n",
    "for sponsor, frequency in top_10_sponsors_not_pharma:\n",
    "    print(f\"Sponsor: {sponsor}, Frequency: {frequency}\")\n",
    "\n",
    "\n",
    "#I collect the pharma_list RDD into a local Python list (pharma_list_local) on the driver node before filtering the sponsor list."
   ]
  },
  {
   "cell_type": "code",
   "execution_count": 0,
   "metadata": {
    "application/vnd.databricks.v1+cell": {
     "cellMetadata": {
      "byteLimit": 2048000,
      "rowLimit": 10000
     },
     "inputWidgets": {},
     "nuid": "be108ab9-9cb1-48de-bcc1-ff09e71140f1",
     "showTitle": true,
     "title": "Number of completed studies for each month in 2023"
    }
   },
   "outputs": [],
   "source": [
    "#flattened_rdd.take(5)"
   ]
  },
  {
   "cell_type": "code",
   "execution_count": 0,
   "metadata": {
    "application/vnd.databricks.v1+cell": {
     "cellMetadata": {
      "byteLimit": 2048000,
      "rowLimit": 10000
     },
     "inputWidgets": {},
     "nuid": "534dd07f-b299-4f97-850b-db327cfd2e9e",
     "showTitle": false,
     "title": ""
    }
   },
   "outputs": [],
   "source": [
    "#flattened_rdd.take(5)\n",
    "\n",
    "#header = rdd.first()\n",
    "#rdd = rdd.filter(lambda x: x != header)\n",
    "\n",
    "# Extract the last column (completion date) and the first column (NCT Number)\n",
    "nct_completion_rdd = clinicaltrial_2023_rdd.map(lambda x: (x[-1], x[0]))\n",
    "nct_completion_2023_rdd = nct_completion_rdd.filter(lambda x: x[0].endswith('2023'))\n",
    "nct_month_count_rdd = nct_completion_2023_rdd.map(lambda x: (x[0].split()[-2], 1))\n",
    "monthly_nct_counts_rdd = nct_month_count_rdd.reduceByKey(lambda x, y: x + y)\n",
    "\n",
    "# Output the results\n",
    "for month, count in monthly_nct_counts_rdd.collect():\n",
    "    print(f\"Month: {month}, Count: {count}\")"
   ]
  },
  {
   "cell_type": "code",
   "execution_count": 0,
   "metadata": {
    "application/vnd.databricks.v1+cell": {
     "cellMetadata": {
      "byteLimit": 2048000,
      "rowLimit": 10000
     },
     "inputWidgets": {},
     "nuid": "5d7bea32-c087-4188-b3e1-95c93955e21c",
     "showTitle": false,
     "title": ""
    }
   },
   "outputs": [
    {
     "output_type": "stream",
     "name": "stdout",
     "output_type": "stream",
     "text": [
      "Month: 01, Count: 2567\nMonth: 02, Count: 2112\nMonth: 03, Count: 2947\nMonth: 04, Count: 2402\nMonth: 05, Count: 2627\nMonth: 06, Count: 3634\nMonth: 07, Count: 2752\nMonth: 08, Count: 2696\nMonth: 09, Count: 2878\nMonth: 10, Count: 2616\nMonth: 11, Count: 2313\nMonth: 12, Count: 9283\n"
     ]
    }
   ],
   "source": [
    "# Extract the last column (completion date) and the first column (NCT Number)\n",
    "\n",
    "nct_completion_rdd = clinicaltrial_2023_rdd.map(lambda x: (x[-1], x[0]))\n",
    "nct_completion_2023_rdd = nct_completion_rdd.filter(lambda x: x[0].startswith('2023'))\n",
    "nct_month_count_rdd = nct_completion_2023_rdd.map(lambda x: (x[0].split('-')[1], 1))\n",
    "monthly_nct_counts_rdd = nct_month_count_rdd.reduceByKey(lambda x, y: x + y)\n",
    "sorted_monthly_nct_counts_rdd = monthly_nct_counts_rdd.sortByKey()\n",
    "\n",
    "# Output the results\n",
    "for month, count in sorted_monthly_nct_counts_rdd.collect():\n",
    "    print(f\"Month: {month}, Count: {count}\")"
   ]
  }
 ],
 "metadata": {
  "application/vnd.databricks.v1+notebook": {
   "dashboards": [],
   "language": "python",
   "notebookMetadata": {
    "mostRecentlyExecutedCommandWithImplicitDF": {
     "commandId": 1401034296588560,
     "dataframes": [
      "_sqldf"
     ]
    },
    "pythonIndentUnit": 4
   },
   "notebookName": "Soliu_Fatai_rdd",
   "widgets": {}
  }
 },
 "nbformat": 4,
 "nbformat_minor": 0
}
