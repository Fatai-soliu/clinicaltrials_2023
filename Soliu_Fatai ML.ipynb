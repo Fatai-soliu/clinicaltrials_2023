{
 "cells": [
  {
   "cell_type": "code",
   "execution_count": 0,
   "metadata": {
    "application/vnd.databricks.v1+cell": {
     "cellMetadata": {
      "byteLimit": 2048000,
      "rowLimit": 10000
     },
     "inputWidgets": {},
     "nuid": "4bbc4f1b-c164-48fb-9eaa-10771a505663",
     "showTitle": false,
     "title": ""
    }
   },
   "outputs": [],
   "source": [
    "# import mlflow and autolog machine learning runs\n",
    "\n",
    "import mlflow\n",
    "\n",
    "mlflow.pyspark.ml.autolog()"
   ]
  },
  {
   "cell_type": "code",
   "execution_count": 0,
   "metadata": {
    "application/vnd.databricks.v1+cell": {
     "cellMetadata": {
      "byteLimit": 2048000,
      "rowLimit": 10000
     },
     "inputWidgets": {},
     "nuid": "6efe1c99-8ddc-4c0d-83e1-15a107c71d69",
     "showTitle": false,
     "title": ""
    }
   },
   "outputs": [
    {
     "output_type": "stream",
     "name": "stdout",
     "output_type": "stream",
     "text": [
      "Out[81]: [FileInfo(path='dbfs:/FileStore/tables/account-models/', name='account-models/', size=0, modificationTime=0),\n FileInfo(path='dbfs:/FileStore/tables/accounts/', name='accounts/', size=0, modificationTime=0),\n FileInfo(path='dbfs:/FileStore/tables/accounts.zip', name='accounts.zip', size=5297592, modificationTime=1706721501000),\n FileInfo(path='dbfs:/FileStore/tables/accounts2/', name='accounts2/', size=0, modificationTime=0),\n FileInfo(path='dbfs:/FileStore/tables/activations/', name='activations/', size=0, modificationTime=0),\n FileInfo(path='dbfs:/FileStore/tables/activations.zip', name='activations.zip', size=8411369, modificationTime=1706718610000),\n FileInfo(path='dbfs:/FileStore/tables/clinicaltrial_2023/', name='clinicaltrial_2023/', size=0, modificationTime=0),\n FileInfo(path='dbfs:/FileStore/tables/clinicaltrial_2023-1.zip', name='clinicaltrial_2023-1.zip', size=57166668, modificationTime=1714296754000),\n FileInfo(path='dbfs:/FileStore/tables/clinicaltrial_2023.zip', name='clinicaltrial_2023.zip', size=57166668, modificationTime=1714171560000),\n FileInfo(path='dbfs:/FileStore/tables/flood.csv', name='flood.csv', size=128984, modificationTime=1707931801000),\n FileInfo(path='dbfs:/FileStore/tables/logs/', name='logs/', size=0, modificationTime=0),\n FileInfo(path='dbfs:/FileStore/tables/logs.zip', name='logs.zip', size=18168065, modificationTime=1706721504000),\n FileInfo(path='dbfs:/FileStore/tables/logs2/', name='logs2/', size=0, modificationTime=0),\n FileInfo(path='dbfs:/FileStore/tables/pharma/', name='pharma/', size=0, modificationTime=0),\n FileInfo(path='dbfs:/FileStore/tables/pharma-1.zip', name='pharma-1.zip', size=109982, modificationTime=1714296353000),\n FileInfo(path='dbfs:/FileStore/tables/steam_200k.csv', name='steam_200k.csv', size=8059447, modificationTime=1714404637000),\n FileInfo(path='dbfs:/FileStore/tables/test.json', name='test.json', size=17958, modificationTime=1706113735000),\n FileInfo(path='dbfs:/FileStore/tables/webpage/', name='webpage/', size=0, modificationTime=0),\n FileInfo(path='dbfs:/FileStore/tables/webpage-1.zip', name='webpage-1.zip', size=1582, modificationTime=1707324494000),\n FileInfo(path='dbfs:/FileStore/tables/webpage.zip', name='webpage.zip', size=1582, modificationTime=1707324436000),\n FileInfo(path='dbfs:/FileStore/tables/webpage_files_all/', name='webpage_files_all/', size=0, modificationTime=0),\n FileInfo(path='dbfs:/FileStore/tables/webpage_files_jpg/', name='webpage_files_jpg/', size=0, modificationTime=0)]"
     ]
    }
   ],
   "source": [
    "dbutils.fs.ls(\"/FileStore/tables/\")"
   ]
  },
  {
   "cell_type": "code",
   "execution_count": 0,
   "metadata": {
    "application/vnd.databricks.v1+cell": {
     "cellMetadata": {},
     "inputWidgets": {},
     "nuid": "2e378a6a-c237-4b30-b955-00485bf0544f",
     "showTitle": false,
     "title": ""
    }
   },
   "outputs": [],
   "source": []
  },
  {
   "cell_type": "code",
   "execution_count": 0,
   "metadata": {
    "application/vnd.databricks.v1+cell": {
     "cellMetadata": {
      "byteLimit": 2048000,
      "rowLimit": 10000
     },
     "inputWidgets": {},
     "nuid": "daaad0c2-9316-40ef-9750-06a1b4a820b2",
     "showTitle": false,
     "title": ""
    }
   },
   "outputs": [
    {
     "output_type": "stream",
     "name": "stdout",
     "output_type": "stream",
     "text": [
      "+---------+--------------------+--------+-----+\n|      _c0|                 _c1|     _c2|  _c3|\n+---------+--------------------+--------+-----+\n|151603712|The Elder Scrolls...|purchase|  1.0|\n|151603712|The Elder Scrolls...|    play|273.0|\n|151603712|           Fallout 4|purchase|  1.0|\n|151603712|           Fallout 4|    play| 87.0|\n|151603712|               Spore|purchase|  1.0|\n+---------+--------------------+--------+-----+\nonly showing top 5 rows\n\n"
     ]
    }
   ],
   "source": [
    "\n",
    "steam_200k = spark.read.csv(\"/FileStore/tables/steam_200k.csv\",\n",
    "                    header = \"False\",\n",
    "                    inferSchema=\"true\")\n",
    "\n",
    "steam_200k.show(5)"
   ]
  },
  {
   "cell_type": "code",
   "execution_count": 0,
   "metadata": {
    "application/vnd.databricks.v1+cell": {
     "cellMetadata": {
      "byteLimit": 2048000,
      "rowLimit": 10000
     },
     "inputWidgets": {},
     "nuid": "3e6c7edb-1e7b-445c-bd74-833b3bc95576",
     "showTitle": false,
     "title": ""
    }
   },
   "outputs": [
    {
     "output_type": "stream",
     "name": "stdout",
     "output_type": "stream",
     "text": [
      "+---------+--------------------+---------+-----+\n|   userId|                game|behaviour|value|\n+---------+--------------------+---------+-----+\n|151603712|The Elder Scrolls...| purchase|  1.0|\n|151603712|The Elder Scrolls...|     play|273.0|\n|151603712|           Fallout 4| purchase|  1.0|\n|151603712|           Fallout 4|     play| 87.0|\n|151603712|               Spore| purchase|  1.0|\n+---------+--------------------+---------+-----+\nonly showing top 5 rows\n\n"
     ]
    }
   ],
   "source": [
    "steam_200k = steam_200k.toDF(\"userId\", \"game\", \"behaviour\", \"value\")\n",
    "\n",
    "steam_200k.show(5)"
   ]
  },
  {
   "cell_type": "code",
   "execution_count": 0,
   "metadata": {
    "application/vnd.databricks.v1+cell": {
     "cellMetadata": {
      "byteLimit": 2048000,
      "rowLimit": 10000
     },
     "inputWidgets": {},
     "nuid": "ba706f6f-9b7d-46ed-b993-4b4704889457",
     "showTitle": false,
     "title": ""
    }
   },
   "outputs": [
    {
     "output_type": "stream",
     "name": "stdout",
     "output_type": "stream",
     "text": [
      "+--------------------+-------+\n|                game|game_id|\n+--------------------+-------+\n|              Dota 2|      0|\n|METAL GEAR SOLID ...|      1|\n|LEGO Batman The V...|      2|\n|                RIFT|      3|\n|             Anodyne|      4|\n|  Legend of Grimrock|      5|\n|Divinity Original...|      6|\n|            Meltdown|      7|\n|SanctuaryRPG Blac...|      8|\n|       Snuggle Truck|      9|\n+--------------------+-------+\nonly showing top 10 rows\n\n"
     ]
    }
   ],
   "source": [
    "# Add Unique id to each game\n",
    "\n",
    "from pyspark.sql.functions import monotonically_increasing_id\n",
    "\n",
    "game_id = steam_200k.groupBy(\"game\").agg(monotonically_increasing_id().alias(\"game_id\"))\n",
    "\n",
    "game_id = game_id.withColumn(\"game_id\", col(\"game_id\").cast(\"integer\"))\n",
    "\n",
    "game_id.show(10)"
   ]
  },
  {
   "cell_type": "code",
   "execution_count": 0,
   "metadata": {
    "application/vnd.databricks.v1+cell": {
     "cellMetadata": {
      "byteLimit": 2048000,
      "rowLimit": 10000
     },
     "inputWidgets": {},
     "nuid": "b0285050-1acc-4b27-9386-39f77b1b9bef",
     "showTitle": false,
     "title": ""
    }
   },
   "outputs": [
    {
     "output_type": "stream",
     "name": "stdout",
     "output_type": "stream",
     "text": [
      "+--------------------+---------+---------+-----+-------+\n|                game|   userId|behaviour|value|game_id|\n+--------------------+---------+---------+-----+-------+\n|The Elder Scrolls...|151603712| purchase|  1.0|   2609|\n|The Elder Scrolls...|151603712|     play|273.0|   2609|\n|           Fallout 4|151603712| purchase|  1.0|    410|\n|           Fallout 4|151603712|     play| 87.0|    410|\n|               Spore|151603712| purchase|  1.0|   3868|\n+--------------------+---------+---------+-----+-------+\nonly showing top 5 rows\n\n"
     ]
    }
   ],
   "source": [
    "steam_200k_id = steam_200k.join(game_id, [\"game\"], \"left\")\n",
    "\n",
    "steam_200k_id.show(5)"
   ]
  },
  {
   "cell_type": "code",
   "execution_count": 0,
   "metadata": {
    "application/vnd.databricks.v1+cell": {
     "cellMetadata": {
      "byteLimit": 2048000,
      "rowLimit": 10000
     },
     "inputWidgets": {},
     "nuid": "443356fc-ee75-4d30-aa6a-aa0ce750d285",
     "showTitle": false,
     "title": ""
    }
   },
   "outputs": [
    {
     "output_type": "stream",
     "name": "stdout",
     "output_type": "stream",
     "text": [
      "root\n |-- game: string (nullable = true)\n |-- userId: integer (nullable = true)\n |-- behaviour: string (nullable = true)\n |-- value: double (nullable = true)\n |-- game_id: integer (nullable = true)\n\n"
     ]
    }
   ],
   "source": [
    "steam_200k_id.printSchema()"
   ]
  },
  {
   "cell_type": "code",
   "execution_count": 0,
   "metadata": {
    "application/vnd.databricks.v1+cell": {
     "cellMetadata": {
      "byteLimit": 2048000,
      "rowLimit": 10000
     },
     "inputWidgets": {},
     "nuid": "ca777727-9e85-4e62-bf97-98edd4c47906",
     "showTitle": false,
     "title": ""
    }
   },
   "outputs": [
    {
     "output_type": "display_data",
     "data": {
      "text/html": [
       "<style scoped>\n",
       "  .table-result-container {\n",
       "    max-height: 300px;\n",
       "    overflow: auto;\n",
       "  }\n",
       "  table, th, td {\n",
       "    border: 1px solid black;\n",
       "    border-collapse: collapse;\n",
       "  }\n",
       "  th, td {\n",
       "    padding: 5px;\n",
       "  }\n",
       "  th {\n",
       "    text-align: left;\n",
       "  }\n",
       "</style><div class='table-result-container'><table class='table-result'><thead style='background-color: white'><tr><th>game</th><th>count</th></tr></thead><tbody><tr><td>Dota 2</td><td>9682</td></tr><tr><td>Team Fortress 2</td><td>4646</td></tr><tr><td>Counter-Strike Global Offensive</td><td>2789</td></tr><tr><td>Unturned</td><td>2632</td></tr><tr><td>Left 4 Dead 2</td><td>1752</td></tr><tr><td>Counter-Strike Source</td><td>1693</td></tr><tr><td>Counter-Strike</td><td>1424</td></tr><tr><td>Garry's Mod</td><td>1397</td></tr><tr><td>The Elder Scrolls V Skyrim</td><td>1394</td></tr><tr><td>Warframe</td><td>1271</td></tr></tbody></table></div>"
      ]
     },
     "metadata": {
      "application/vnd.databricks.v1+output": {
       "addedWidgets": {},
       "aggData": [],
       "aggError": "",
       "aggOverflow": false,
       "aggSchema": [],
       "aggSeriesLimitReached": false,
       "aggType": "",
       "arguments": {},
       "columnCustomDisplayInfos": {},
       "data": [
        [
         "Dota 2",
         9682
        ],
        [
         "Team Fortress 2",
         4646
        ],
        [
         "Counter-Strike Global Offensive",
         2789
        ],
        [
         "Unturned",
         2632
        ],
        [
         "Left 4 Dead 2",
         1752
        ],
        [
         "Counter-Strike Source",
         1693
        ],
        [
         "Counter-Strike",
         1424
        ],
        [
         "Garry's Mod",
         1397
        ],
        [
         "The Elder Scrolls V Skyrim",
         1394
        ],
        [
         "Warframe",
         1271
        ]
       ],
       "datasetInfos": [],
       "dbfsResultPath": null,
       "isJsonSchema": true,
       "metadata": {},
       "overflow": false,
       "plotOptions": {
        "customPlotOptions": {},
        "displayType": "table",
        "pivotAggregation": null,
        "pivotColumns": null,
        "xColumns": null,
        "yColumns": null
       },
       "removedWidgets": [],
       "schema": [
        {
         "metadata": "{}",
         "name": "game",
         "type": "\"string\""
        },
        {
         "metadata": "{}",
         "name": "count",
         "type": "\"long\""
        }
       ],
       "type": "table"
      }
     },
     "output_type": "display_data"
    }
   ],
   "source": [
    "#Movies with highest number of members\n",
    "steam_200k.groupBy(\"game\").count().orderBy(\"count\", ascending=False).limit(10).display()"
   ]
  },
  {
   "cell_type": "code",
   "execution_count": 0,
   "metadata": {
    "application/vnd.databricks.v1+cell": {
     "cellMetadata": {
      "byteLimit": 2048000,
      "rowLimit": 10000
     },
     "inputWidgets": {},
     "nuid": "17bff0e6-2237-4ddb-abc2-41fee54efdee",
     "showTitle": false,
     "title": ""
    }
   },
   "outputs": [],
   "source": [
    "steam_200k.createOrReplaceTempView(\"steam_200kView\")"
   ]
  },
  {
   "cell_type": "code",
   "execution_count": 0,
   "metadata": {
    "application/vnd.databricks.v1+cell": {
     "cellMetadata": {
      "byteLimit": 2048000,
      "implicitDf": true,
      "rowLimit": 10000
     },
     "inputWidgets": {},
     "nuid": "dbead0cd-a4f5-46ef-b2b8-433d425ba24d",
     "showTitle": false,
     "title": ""
    }
   },
   "outputs": [
    {
     "output_type": "display_data",
     "data": {
      "text/html": [
       "<style scoped>\n",
       "  .table-result-container {\n",
       "    max-height: 300px;\n",
       "    overflow: auto;\n",
       "  }\n",
       "  table, th, td {\n",
       "    border: 1px solid black;\n",
       "    border-collapse: collapse;\n",
       "  }\n",
       "  th, td {\n",
       "    padding: 5px;\n",
       "  }\n",
       "  th {\n",
       "    text-align: left;\n",
       "  }\n",
       "</style><div class='table-result-container'><table class='table-result'><thead style='background-color: white'><tr><th>game</th><th>count</th></tr></thead><tbody><tr><td>Dota 2</td><td>9682</td></tr><tr><td>Team Fortress 2</td><td>4646</td></tr><tr><td>Counter-Strike Global Offensive</td><td>2789</td></tr><tr><td>Unturned</td><td>2632</td></tr><tr><td>Left 4 Dead 2</td><td>1752</td></tr><tr><td>Counter-Strike Source</td><td>1693</td></tr><tr><td>Counter-Strike</td><td>1424</td></tr><tr><td>Garry's Mod</td><td>1397</td></tr><tr><td>The Elder Scrolls V Skyrim</td><td>1394</td></tr><tr><td>Warframe</td><td>1271</td></tr></tbody></table></div>"
      ]
     },
     "metadata": {
      "application/vnd.databricks.v1+output": {
       "addedWidgets": {},
       "aggData": [],
       "aggError": "",
       "aggOverflow": false,
       "aggSchema": [],
       "aggSeriesLimitReached": false,
       "aggType": "",
       "arguments": {},
       "columnCustomDisplayInfos": {},
       "data": [
        [
         "Dota 2",
         9682
        ],
        [
         "Team Fortress 2",
         4646
        ],
        [
         "Counter-Strike Global Offensive",
         2789
        ],
        [
         "Unturned",
         2632
        ],
        [
         "Left 4 Dead 2",
         1752
        ],
        [
         "Counter-Strike Source",
         1693
        ],
        [
         "Counter-Strike",
         1424
        ],
        [
         "Garry's Mod",
         1397
        ],
        [
         "The Elder Scrolls V Skyrim",
         1394
        ],
        [
         "Warframe",
         1271
        ]
       ],
       "datasetInfos": [],
       "dbfsResultPath": null,
       "isJsonSchema": true,
       "metadata": {},
       "overflow": false,
       "plotOptions": {
        "customPlotOptions": {},
        "displayType": "table",
        "pivotAggregation": null,
        "pivotColumns": null,
        "xColumns": null,
        "yColumns": null
       },
       "removedWidgets": [],
       "schema": [
        {
         "metadata": "{}",
         "name": "game",
         "type": "\"string\""
        },
        {
         "metadata": "{}",
         "name": "count",
         "type": "\"long\""
        }
       ],
       "type": "table"
      }
     },
     "output_type": "display_data"
    }
   ],
   "source": [
    "%sql\n",
    "\n",
    "select steam_200kView.game, count(*) as count from steam_200kView group by 1 order by count(*) desc limit 10"
   ]
  },
  {
   "cell_type": "code",
   "execution_count": 0,
   "metadata": {
    "application/vnd.databricks.v1+cell": {
     "cellMetadata": {
      "byteLimit": 2048000,
      "rowLimit": 10000
     },
     "inputWidgets": {},
     "nuid": "4f1ce8ed-f293-4e4b-9fea-56ad6a8dd708",
     "showTitle": false,
     "title": ""
    }
   },
   "outputs": [
    {
     "output_type": "stream",
     "name": "stdout",
     "output_type": "stream",
     "text": [
      "+--------------------+---------+---------+-----+-------+\n|                game|   userId|behaviour|value|game_id|\n+--------------------+---------+---------+-----+-------+\n|The Elder Scrolls...|151603712|     play|273.0|   2609|\n|           Fallout 4|151603712|     play| 87.0|    410|\n|               Spore|151603712|     play| 14.9|   3868|\n|   Fallout New Vegas|151603712|     play| 12.1|   3820|\n|       Left 4 Dead 2|151603712|     play|  8.9|     69|\n+--------------------+---------+---------+-----+-------+\nonly showing top 5 rows\n\n+--------------------+---------+---------+-----+-------+\n|                game|   userId|behaviour|value|game_id|\n+--------------------+---------+---------+-----+-------+\n|The Elder Scrolls...|151603712| purchase|  1.0|   2609|\n|           Fallout 4|151603712| purchase|  1.0|    410|\n|               Spore|151603712| purchase|  1.0|   3868|\n|   Fallout New Vegas|151603712| purchase|  1.0|   3820|\n|       Left 4 Dead 2|151603712| purchase|  1.0|     69|\n+--------------------+---------+---------+-----+-------+\nonly showing top 5 rows\n\n"
     ]
    }
   ],
   "source": [
    "#Split the data based on the behaviour and then train the model seperately\n",
    "from pyspark.sql.functions import col\n",
    "\n",
    "game_play = steam_200k_id.filter(steam_200k.behaviour == \"play\")\n",
    "game_purchase = steam_200k_id.filter(steam_200k.behaviour == \"purchase\")\n",
    "\n",
    "game_play.show(5)\n",
    "game_purchase.show(5)"
   ]
  },
  {
   "cell_type": "code",
   "execution_count": 0,
   "metadata": {
    "application/vnd.databricks.v1+cell": {
     "cellMetadata": {
      "byteLimit": 2048000,
      "rowLimit": 10000
     },
     "inputWidgets": {},
     "nuid": "059009a6-c26e-4b05-bdce-6d4c92d1e7aa",
     "showTitle": false,
     "title": ""
    }
   },
   "outputs": [
    {
     "output_type": "display_data",
     "data": {
      "text/html": [
       "<style scoped>\n",
       "  .table-result-container {\n",
       "    max-height: 300px;\n",
       "    overflow: auto;\n",
       "  }\n",
       "  table, th, td {\n",
       "    border: 1px solid black;\n",
       "    border-collapse: collapse;\n",
       "  }\n",
       "  th, td {\n",
       "    padding: 5px;\n",
       "  }\n",
       "  th {\n",
       "    text-align: left;\n",
       "  }\n",
       "</style><div class='table-result-container'><table class='table-result'><thead style='background-color: white'><tr><th>behaviour</th><th>count</th></tr></thead><tbody><tr><td>purchase</td><td>129511</td></tr></tbody></table></div>"
      ]
     },
     "metadata": {
      "application/vnd.databricks.v1+output": {
       "addedWidgets": {},
       "aggData": [],
       "aggError": "",
       "aggOverflow": false,
       "aggSchema": [],
       "aggSeriesLimitReached": false,
       "aggType": "",
       "arguments": {},
       "columnCustomDisplayInfos": {},
       "data": [
        [
         "purchase",
         129511
        ]
       ],
       "datasetInfos": [],
       "dbfsResultPath": null,
       "isJsonSchema": true,
       "metadata": {},
       "overflow": false,
       "plotOptions": {
        "customPlotOptions": {},
        "displayType": "table",
        "pivotAggregation": null,
        "pivotColumns": null,
        "xColumns": null,
        "yColumns": null
       },
       "removedWidgets": [],
       "schema": [
        {
         "metadata": "{}",
         "name": "behaviour",
         "type": "\"string\""
        },
        {
         "metadata": "{}",
         "name": "count",
         "type": "\"long\""
        }
       ],
       "type": "table"
      }
     },
     "output_type": "display_data"
    },
    {
     "output_type": "display_data",
     "data": {
      "text/html": [
       "<style scoped>\n",
       "  .table-result-container {\n",
       "    max-height: 300px;\n",
       "    overflow: auto;\n",
       "  }\n",
       "  table, th, td {\n",
       "    border: 1px solid black;\n",
       "    border-collapse: collapse;\n",
       "  }\n",
       "  th, td {\n",
       "    padding: 5px;\n",
       "  }\n",
       "  th {\n",
       "    text-align: left;\n",
       "  }\n",
       "</style><div class='table-result-container'><table class='table-result'><thead style='background-color: white'><tr><th>behaviour</th><th>count</th></tr></thead><tbody><tr><td>play</td><td>70489</td></tr></tbody></table></div>"
      ]
     },
     "metadata": {
      "application/vnd.databricks.v1+output": {
       "addedWidgets": {},
       "aggData": [],
       "aggError": "",
       "aggOverflow": false,
       "aggSchema": [],
       "aggSeriesLimitReached": false,
       "aggType": "",
       "arguments": {},
       "columnCustomDisplayInfos": {},
       "data": [
        [
         "play",
         70489
        ]
       ],
       "datasetInfos": [],
       "dbfsResultPath": null,
       "isJsonSchema": true,
       "metadata": {},
       "overflow": false,
       "plotOptions": {
        "customPlotOptions": {},
        "displayType": "table",
        "pivotAggregation": null,
        "pivotColumns": null,
        "xColumns": null,
        "yColumns": null
       },
       "removedWidgets": [],
       "schema": [
        {
         "metadata": "{}",
         "name": "behaviour",
         "type": "\"string\""
        },
        {
         "metadata": "{}",
         "name": "count",
         "type": "\"long\""
        }
       ],
       "type": "table"
      }
     },
     "output_type": "display_data"
    }
   ],
   "source": [
    "# Are there any instances of game not purchased\n",
    "\n",
    "game_purchase.groupBy(\"behaviour\").count().orderBy(\"count\", ascending=False).display()\n",
    "game_play.groupBy(\"behaviour\").count().orderBy(\"count\", ascending=False).display()\n",
    "\n",
    "#There are more games purchased than games played."
   ]
  },
  {
   "cell_type": "code",
   "execution_count": 0,
   "metadata": {
    "application/vnd.databricks.v1+cell": {
     "cellMetadata": {
      "byteLimit": 2048000,
      "rowLimit": 10000
     },
     "inputWidgets": {},
     "nuid": "9d453c20-1ad7-468a-8b2e-6f93b385f451",
     "showTitle": false,
     "title": ""
    }
   },
   "outputs": [
    {
     "output_type": "stream",
     "name": "stdout",
     "output_type": "stream",
     "text": [
      "+---------+-----+-------+\n|   userId|value|game_id|\n+---------+-----+-------+\n|151603712|273.0|   2609|\n|151603712| 87.0|    410|\n|151603712| 14.9|   3868|\n|151603712| 12.1|   3820|\n|151603712|  8.9|     69|\n+---------+-----+-------+\nonly showing top 5 rows\n\n+---------+-----+-------+\n|   userId|value|game_id|\n+---------+-----+-------+\n|151603712|  1.0|   2609|\n|151603712|  1.0|    410|\n|151603712|  1.0|   3868|\n|151603712|  1.0|   3820|\n|151603712|  1.0|     69|\n+---------+-----+-------+\nonly showing top 5 rows\n\n"
     ]
    }
   ],
   "source": [
    "#Drop behaviour column\n",
    "\n",
    "game_play = game_play.drop(\"game\", \"behaviour\")\n",
    "game_purchase = game_purchase.drop(\"game\", \"behaviour\")\n",
    "\n",
    "game_play.show(5)\n",
    "game_purchase.show(5)"
   ]
  },
  {
   "cell_type": "code",
   "execution_count": 0,
   "metadata": {
    "application/vnd.databricks.v1+cell": {
     "cellMetadata": {
      "byteLimit": 2048000,
      "rowLimit": 10000
     },
     "inputWidgets": {},
     "nuid": "25be0394-fd72-4f7e-a742-5f969b9b54b6",
     "showTitle": true,
     "title": "Splitting the dataset"
    }
   },
   "outputs": [],
   "source": [
    "# Train on played game\n",
    "# Train, test, splitting\n",
    "\n",
    "(training, test) = game_play.randomSplit([0.8, 0.2], seed=10)"
   ]
  },
  {
   "cell_type": "code",
   "execution_count": 0,
   "metadata": {
    "application/vnd.databricks.v1+cell": {
     "cellMetadata": {
      "byteLimit": 2048000,
      "rowLimit": 10000
     },
     "inputWidgets": {},
     "nuid": "08d3e381-15d7-4f23-a476-0d1652631223",
     "showTitle": true,
     "title": "Creating the model"
    }
   },
   "outputs": [
    {
     "output_type": "stream",
     "name": "stderr",
     "output_type": "stream",
     "text": [
      "2024/04/30 00:47:25 INFO mlflow.utils.autologging_utils: Created MLflow autologging run with ID '880ba9d74df842cfbcc5b940a7e3c070', which will track hyperparameters, performance metrics, model artifacts, and lineage information for the current pyspark.ml workflow\n2024/04/30 00:47:44 WARNING mlflow.pyspark.ml: Model ALS_8abd62290c52 will not be autologged because it is not allowlisted or or because one or more of its nested models are not allowlisted. Call mlflow.spark.log_model() to explicitly log the model, or specify a custom allowlist via the spark.mlflow.pysparkml.autolog.logModelAllowlistFile Spark conf (see mlflow.pyspark.ml.autolog docs for more info).\n"
     ]
    }
   ],
   "source": [
    "from pyspark.ml.recommendation import ALS\n",
    "\n",
    "recommender_1 = ALS(maxIter=5, regParam=0.01, userCol=\"userId\", itemCol=\"game_id\", ratingCol=\"value\",seed=12)\n",
    "\n",
    "model_1 = recommender_1.fit(training)"
   ]
  },
  {
   "cell_type": "code",
   "execution_count": 0,
   "metadata": {
    "application/vnd.databricks.v1+cell": {
     "cellMetadata": {
      "byteLimit": 2048000,
      "rowLimit": 10000
     },
     "inputWidgets": {},
     "nuid": "c5a34a09-9da9-4d5e-88ce-9f02d340b22b",
     "showTitle": true,
     "title": "Prediciting using the test dataset"
    }
   },
   "outputs": [],
   "source": [
    "predictions = model_1.transform(test).dropna()"
   ]
  },
  {
   "cell_type": "code",
   "execution_count": 0,
   "metadata": {
    "application/vnd.databricks.v1+cell": {
     "cellMetadata": {
      "byteLimit": 2048000,
      "rowLimit": 10000
     },
     "inputWidgets": {},
     "nuid": "b61200e7-9798-411a-8b0e-891e1f1b0927",
     "showTitle": false,
     "title": ""
    }
   },
   "outputs": [
    {
     "output_type": "stream",
     "name": "stdout",
     "output_type": "stream",
     "text": [
      "+--------+------+-------+----------+\n|  userId| value|game_id|prediction|\n+--------+------+-------+----------+\n|  298950|  65.0|      6| 13.990758|\n| 1936551|  12.1|      5| 11.421807|\n| 1950243|   1.1|      0|  35.72331|\n| 2083767|   3.1|      0|  12.77536|\n| 4834220| 175.0|     17| 26.099392|\n|11161178|   1.0|      6|  9.195946|\n|11373749|   2.2|      0|  75.48928|\n|11373749|   6.7|      4| 7.9728937|\n|11403772|  13.7|      6|  -4.05429|\n|11403772|2443.0|      0| 27.728891|\n|11813637|2341.0|      0| 17.134727|\n|12529679|   0.5|      0| 25.701632|\n|13565651| 201.0|     17| 1.6733923|\n|14417857|  57.0|      0| 163.61313|\n|17995238| 462.0|      3| 49.716846|\n|20464587|   0.8|      3| -8.597855|\n|21061921|   0.1|     37| 11.374548|\n|24366790| 190.0|      3|  71.13456|\n|24469287|   2.2|      0| 12.043607|\n|24469287|  54.0|      1| 12.562393|\n+--------+------+-------+----------+\nonly showing top 20 rows\n\n"
     ]
    }
   ],
   "source": [
    "predictions.show()"
   ]
  },
  {
   "cell_type": "code",
   "execution_count": 0,
   "metadata": {
    "application/vnd.databricks.v1+cell": {
     "cellMetadata": {
      "byteLimit": 2048000,
      "rowLimit": 10000
     },
     "inputWidgets": {},
     "nuid": "313d3063-9fb9-43b0-8352-8823f3acbb61",
     "showTitle": true,
     "title": "Evaluate the model"
    }
   },
   "outputs": [
    {
     "output_type": "stream",
     "name": "stdout",
     "output_type": "stream",
     "text": [
      "Root Mean Square Error is 715.521\n"
     ]
    }
   ],
   "source": [
    "from pyspark.ml.evaluation import RegressionEvaluator\n",
    "\n",
    "evaluator_1 = RegressionEvaluator(metricName=\"rmse\", labelCol=\"value\", predictionCol=\"prediction\")\n",
    "\n",
    "rmse = evaluator_1.evaluate(predictions)\n",
    "\n",
    "print('Root Mean Square Error is %g' %rmse)"
   ]
  },
  {
   "cell_type": "code",
   "execution_count": 0,
   "metadata": {
    "application/vnd.databricks.v1+cell": {
     "cellMetadata": {},
     "inputWidgets": {},
     "nuid": "7b8179ea-d483-4e24-b14b-880f0fd0ec15",
     "showTitle": false,
     "title": ""
    }
   },
   "outputs": [],
   "source": []
  }
 ],
 "metadata": {
  "application/vnd.databricks.v1+notebook": {
   "dashboards": [],
   "language": "python",
   "notebookMetadata": {
    "mostRecentlyExecutedCommandWithImplicitDF": {
     "commandId": 1720607711467829,
     "dataframes": [
      "_sqldf"
     ]
    },
    "pythonIndentUnit": 4
   },
   "notebookName": "Soliu_Fatai ML",
   "widgets": {}
  }
 },
 "nbformat": 4,
 "nbformat_minor": 0
}
