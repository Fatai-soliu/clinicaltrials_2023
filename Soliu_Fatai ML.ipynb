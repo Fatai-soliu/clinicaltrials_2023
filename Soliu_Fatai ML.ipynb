{
 "cells": [
  {
   "cell_type": "code",
   "execution_count": 0,
   "metadata": {
    "application/vnd.databricks.v1+cell": {
     "cellMetadata": {
      "byteLimit": 2048000,
      "rowLimit": 10000
     },
     "inputWidgets": {},
     "nuid": "8b5ecc23-99e5-4746-93a1-90f18f7ddeb9",
     "showTitle": false,
     "title": ""
    }
   },
   "outputs": [],
   "source": [
    "#Remove directory\n",
    "\n",
    "#dbutils.fs.rm(\"dbfs:/FileStore/tables/steam_200k.csv/\", recurse=True)"
   ]
  },
  {
   "cell_type": "code",
   "execution_count": 0,
   "metadata": {
    "application/vnd.databricks.v1+cell": {
     "cellMetadata": {
      "byteLimit": 2048000,
      "rowLimit": 10000
     },
     "inputWidgets": {},
     "nuid": "4bbc4f1b-c164-48fb-9eaa-10771a505663",
     "showTitle": false,
     "title": ""
    }
   },
   "outputs": [],
   "source": [
    "# import mlflow and autolog machine learning runs\n",
    "\n",
    "import mlflow\n",
    "\n",
    "mlflow.pyspark.ml.autolog()"
   ]
  },
  {
   "cell_type": "code",
   "execution_count": 0,
   "metadata": {
    "application/vnd.databricks.v1+cell": {
     "cellMetadata": {
      "byteLimit": 2048000,
      "rowLimit": 10000
     },
     "inputWidgets": {},
     "nuid": "6efe1c99-8ddc-4c0d-83e1-15a107c71d69",
     "showTitle": false,
     "title": ""
    }
   },
   "outputs": [
    {
     "output_type": "stream",
     "name": "stdout",
     "output_type": "stream",
     "text": [
      "Out[4]: [FileInfo(path='dbfs:/FileStore/tables/account-models/', name='account-models/', size=0, modificationTime=0),\n FileInfo(path='dbfs:/FileStore/tables/accounts/', name='accounts/', size=0, modificationTime=0),\n FileInfo(path='dbfs:/FileStore/tables/accounts.zip', name='accounts.zip', size=5297592, modificationTime=1706721501000),\n FileInfo(path='dbfs:/FileStore/tables/accounts2/', name='accounts2/', size=0, modificationTime=0),\n FileInfo(path='dbfs:/FileStore/tables/activations/', name='activations/', size=0, modificationTime=0),\n FileInfo(path='dbfs:/FileStore/tables/activations.zip', name='activations.zip', size=8411369, modificationTime=1706718610000),\n FileInfo(path='dbfs:/FileStore/tables/clinicaltrial_2023/', name='clinicaltrial_2023/', size=0, modificationTime=0),\n FileInfo(path='dbfs:/FileStore/tables/clinicaltrial_2023-1.zip', name='clinicaltrial_2023-1.zip', size=57166668, modificationTime=1714296754000),\n FileInfo(path='dbfs:/FileStore/tables/clinicaltrial_2023.zip', name='clinicaltrial_2023.zip', size=57166668, modificationTime=1714171560000),\n FileInfo(path='dbfs:/FileStore/tables/flood.csv', name='flood.csv', size=128984, modificationTime=1707931801000),\n FileInfo(path='dbfs:/FileStore/tables/logs/', name='logs/', size=0, modificationTime=0),\n FileInfo(path='dbfs:/FileStore/tables/logs.zip', name='logs.zip', size=18168065, modificationTime=1706721504000),\n FileInfo(path='dbfs:/FileStore/tables/logs2/', name='logs2/', size=0, modificationTime=0),\n FileInfo(path='dbfs:/FileStore/tables/pharma/', name='pharma/', size=0, modificationTime=0),\n FileInfo(path='dbfs:/FileStore/tables/pharma-1.zip', name='pharma-1.zip', size=109982, modificationTime=1714296353000),\n FileInfo(path='dbfs:/FileStore/tables/steam_200k.csv', name='steam_200k.csv', size=8059447, modificationTime=1714556784000),\n FileInfo(path='dbfs:/FileStore/tables/test.json', name='test.json', size=17958, modificationTime=1706113735000),\n FileInfo(path='dbfs:/FileStore/tables/webpage/', name='webpage/', size=0, modificationTime=0),\n FileInfo(path='dbfs:/FileStore/tables/webpage-1.zip', name='webpage-1.zip', size=1582, modificationTime=1707324494000),\n FileInfo(path='dbfs:/FileStore/tables/webpage.zip', name='webpage.zip', size=1582, modificationTime=1707324436000),\n FileInfo(path='dbfs:/FileStore/tables/webpage_files_all/', name='webpage_files_all/', size=0, modificationTime=0),\n FileInfo(path='dbfs:/FileStore/tables/webpage_files_jpg/', name='webpage_files_jpg/', size=0, modificationTime=0)]"
     ]
    }
   ],
   "source": [
    "dbutils.fs.ls(\"/FileStore/tables/\")"
   ]
  },
  {
   "cell_type": "code",
   "execution_count": 0,
   "metadata": {
    "application/vnd.databricks.v1+cell": {
     "cellMetadata": {
      "byteLimit": 2048000,
      "rowLimit": 10000
     },
     "inputWidgets": {},
     "nuid": "daaad0c2-9316-40ef-9750-06a1b4a820b2",
     "showTitle": false,
     "title": ""
    }
   },
   "outputs": [
    {
     "output_type": "stream",
     "name": "stdout",
     "output_type": "stream",
     "text": [
      "+---------+--------------------+--------+-----+\n|      _c0|                 _c1|     _c2|  _c3|\n+---------+--------------------+--------+-----+\n|151603712|The Elder Scrolls...|purchase|  1.0|\n|151603712|The Elder Scrolls...|    play|273.0|\n|151603712|           Fallout 4|purchase|  1.0|\n|151603712|           Fallout 4|    play| 87.0|\n|151603712|               Spore|purchase|  1.0|\n+---------+--------------------+--------+-----+\nonly showing top 5 rows\n\n"
     ]
    }
   ],
   "source": [
    "\n",
    "steam_200k = spark.read.csv(\"/FileStore/tables/steam_200k.csv\",\n",
    "                    header = \"False\",\n",
    "                    inferSchema=\"true\")\n",
    "\n",
    "steam_200k.show(5)"
   ]
  },
  {
   "cell_type": "code",
   "execution_count": 0,
   "metadata": {
    "application/vnd.databricks.v1+cell": {
     "cellMetadata": {
      "byteLimit": 2048000,
      "rowLimit": 10000
     },
     "inputWidgets": {},
     "nuid": "3e6c7edb-1e7b-445c-bd74-833b3bc95576",
     "showTitle": false,
     "title": ""
    }
   },
   "outputs": [
    {
     "output_type": "stream",
     "name": "stdout",
     "output_type": "stream",
     "text": [
      "+---------+--------------------+---------+-----+\n|   userId|                game|behaviour|value|\n+---------+--------------------+---------+-----+\n|151603712|The Elder Scrolls...| purchase|  1.0|\n|151603712|The Elder Scrolls...|     play|273.0|\n|151603712|           Fallout 4| purchase|  1.0|\n|151603712|           Fallout 4|     play| 87.0|\n|151603712|               Spore| purchase|  1.0|\n+---------+--------------------+---------+-----+\nonly showing top 5 rows\n\n"
     ]
    }
   ],
   "source": [
    "steam_200k = steam_200k.toDF(\"userId\", \"game\", \"behaviour\", \"value\")\n",
    "\n",
    "steam_200k.show(5)"
   ]
  },
  {
   "cell_type": "markdown",
   "metadata": {
    "application/vnd.databricks.v1+cell": {
     "cellMetadata": {
      "byteLimit": 2048000,
      "rowLimit": 10000
     },
     "inputWidgets": {},
     "nuid": "c15e31aa-0029-48e3-8387-badf8d50a2ae",
     "showTitle": false,
     "title": ""
    }
   },
   "source": [
    "## Exploratory Data Analysis"
   ]
  },
  {
   "cell_type": "code",
   "execution_count": 0,
   "metadata": {
    "application/vnd.databricks.v1+cell": {
     "cellMetadata": {
      "byteLimit": 2048000,
      "rowLimit": 10000
     },
     "inputWidgets": {},
     "nuid": "6674feab-f598-4a13-a80b-f2f257cae361",
     "showTitle": false,
     "title": ""
    }
   },
   "outputs": [
    {
     "output_type": "stream",
     "name": "stdout",
     "output_type": "stream",
     "text": [
      "+-------+-------------------+----------------+---------+------------------+\n|summary|             userId|            game|behaviour|             value|\n+-------+-------------------+----------------+---------+------------------+\n|  count|             200000|          200000|   200000|            200000|\n|   mean|  1.0365586594664E8|           140.0|     null|17.874383999999914|\n| stddev|7.208073512913968E7|             0.0|     null|138.05695165086792|\n|    min|               5250|     007 Legends|     play|               0.1|\n|    max|          309903146|theHunter Primal| purchase|           11754.0|\n+-------+-------------------+----------------+---------+------------------+\n\n"
     ]
    }
   ],
   "source": [
    "steam_200k.describe().show()"
   ]
  },
  {
   "cell_type": "code",
   "execution_count": 0,
   "metadata": {
    "application/vnd.databricks.v1+cell": {
     "cellMetadata": {
      "byteLimit": 2048000,
      "rowLimit": 10000
     },
     "inputWidgets": {},
     "nuid": "23509eb9-ff75-40c5-a535-bac293c4bd00",
     "showTitle": false,
     "title": ""
    }
   },
   "outputs": [
    {
     "output_type": "stream",
     "name": "stdout",
     "output_type": "stream",
     "text": [
      "+------+----+---------+-----+\n|userId|game|behaviour|value|\n+------+----+---------+-----+\n|     0|   0|        0|    0|\n+------+----+---------+-----+\n\n"
     ]
    }
   ],
   "source": [
    "#Creating a dataframe to check null values counts\n",
    "from pyspark.sql.functions import count, col, when, isnan\n",
    "\n",
    "null_df = steam_200k.select([count(when(col(c).contains('None') | \\\n",
    "                                        col(c).contains('NULL') | \\\n",
    "                                        (col(c) == '') | \\\n",
    "                                        col(c).isNull() | \\\n",
    "                                        isnan(c), c\n",
    "                                        )).alias(c)\n",
    "                            for c in steam_200k.columns])\n",
    "\n",
    "null_df.show()\n",
    "\n",
    "# There is no null values"
   ]
  },
  {
   "cell_type": "code",
   "execution_count": 0,
   "metadata": {
    "application/vnd.databricks.v1+cell": {
     "cellMetadata": {
      "byteLimit": 2048000,
      "rowLimit": 10000
     },
     "inputWidgets": {},
     "nuid": "ba706f6f-9b7d-46ed-b993-4b4704889457",
     "showTitle": false,
     "title": ""
    }
   },
   "outputs": [
    {
     "output_type": "stream",
     "name": "stderr",
     "output_type": "stream",
     "text": [
      "2024/05/02 10:41:48 INFO mlflow.utils.autologging_utils: Created MLflow autologging run with ID '6077ebca7ff94baa8d9cb97646d46d67', which will track hyperparameters, performance metrics, model artifacts, and lineage information for the current pyspark.ml workflow\n"
     ]
    },
    {
     "output_type": "stream",
     "name": "stdout",
     "output_type": "stream",
     "text": [
      "+---------+--------------------+---------+-----+-------+\n|   userId|                game|behaviour|value|game_id|\n+---------+--------------------+---------+-----+-------+\n|151603712|The Elder Scrolls...| purchase|  1.0|      8|\n|151603712|The Elder Scrolls...|     play|273.0|      8|\n|151603712|           Fallout 4| purchase|  1.0|    100|\n|151603712|           Fallout 4|     play| 87.0|    100|\n|151603712|               Spore| purchase|  1.0|    332|\n|151603712|               Spore|     play| 14.9|    332|\n|151603712|   Fallout New Vegas| purchase|  1.0|     29|\n|151603712|   Fallout New Vegas|     play| 12.1|     29|\n|151603712|       Left 4 Dead 2| purchase|  1.0|      4|\n|151603712|       Left 4 Dead 2|     play|  8.9|      4|\n+---------+--------------------+---------+-----+-------+\nonly showing top 10 rows\n\n"
     ]
    }
   ],
   "source": [
    "from pyspark.ml.feature import StringIndexer\n",
    "\n",
    "stringIndexer = StringIndexer(inputCol=\"game\", outputCol=\"game_id\")\n",
    "\n",
    "model = stringIndexer.fit(steam_200k)\n",
    "steam_200k_indexed = model.transform(steam_200k)\n",
    "steam_200k_indexed = steam_200k_indexed.withColumn('game_id', steam_200k_indexed['game_id'].cast('integer'))\n",
    "\n",
    "steam_200k_indexed.show(10)\n"
   ]
  },
  {
   "cell_type": "code",
   "execution_count": 0,
   "metadata": {
    "application/vnd.databricks.v1+cell": {
     "cellMetadata": {
      "byteLimit": 2048000,
      "rowLimit": 10000
     },
     "inputWidgets": {},
     "nuid": "6f42e78d-6178-4ba6-8f22-8b9c83129cb7",
     "showTitle": false,
     "title": ""
    }
   },
   "outputs": [],
   "source": [
    "from pyspark.sql.types import IntegerType\n",
    "\n",
    "steam_200k_indexed = steam_200k_indexed.withColumn('value', steam_200k_indexed['value'].cast(IntegerType()))\n"
   ]
  },
  {
   "cell_type": "code",
   "execution_count": 0,
   "metadata": {
    "application/vnd.databricks.v1+cell": {
     "cellMetadata": {
      "byteLimit": 2048000,
      "rowLimit": 10000
     },
     "inputWidgets": {},
     "nuid": "443356fc-ee75-4d30-aa6a-aa0ce750d285",
     "showTitle": false,
     "title": ""
    }
   },
   "outputs": [
    {
     "output_type": "stream",
     "name": "stdout",
     "output_type": "stream",
     "text": [
      "root\n |-- userId: integer (nullable = true)\n |-- game: string (nullable = true)\n |-- behaviour: string (nullable = true)\n |-- value: integer (nullable = true)\n |-- game_id: integer (nullable = true)\n\n"
     ]
    }
   ],
   "source": [
    "steam_200k_indexed.printSchema()"
   ]
  },
  {
   "cell_type": "code",
   "execution_count": 0,
   "metadata": {
    "application/vnd.databricks.v1+cell": {
     "cellMetadata": {
      "byteLimit": 2048000,
      "rowLimit": 10000
     },
     "inputWidgets": {},
     "nuid": "ca777727-9e85-4e62-bf97-98edd4c47906",
     "showTitle": false,
     "title": ""
    }
   },
   "outputs": [
    {
     "output_type": "display_data",
     "data": {
      "text/html": [
       "<style scoped>\n",
       "  .table-result-container {\n",
       "    max-height: 300px;\n",
       "    overflow: auto;\n",
       "  }\n",
       "  table, th, td {\n",
       "    border: 1px solid black;\n",
       "    border-collapse: collapse;\n",
       "  }\n",
       "  th, td {\n",
       "    padding: 5px;\n",
       "  }\n",
       "  th {\n",
       "    text-align: left;\n",
       "  }\n",
       "</style><div class='table-result-container'><table class='table-result'><thead style='background-color: white'><tr><th>game</th><th>count</th></tr></thead><tbody><tr><td>Dota 2</td><td>9682</td></tr><tr><td>Team Fortress 2</td><td>4646</td></tr><tr><td>Counter-Strike Global Offensive</td><td>2789</td></tr><tr><td>Unturned</td><td>2632</td></tr><tr><td>Left 4 Dead 2</td><td>1752</td></tr><tr><td>Counter-Strike Source</td><td>1693</td></tr><tr><td>Counter-Strike</td><td>1424</td></tr><tr><td>Garry's Mod</td><td>1397</td></tr><tr><td>The Elder Scrolls V Skyrim</td><td>1394</td></tr><tr><td>Warframe</td><td>1271</td></tr></tbody></table></div>"
      ]
     },
     "metadata": {
      "application/vnd.databricks.v1+output": {
       "addedWidgets": {},
       "aggData": [],
       "aggError": "",
       "aggOverflow": false,
       "aggSchema": [],
       "aggSeriesLimitReached": false,
       "aggType": "",
       "arguments": {},
       "columnCustomDisplayInfos": {},
       "data": [
        [
         "Dota 2",
         9682
        ],
        [
         "Team Fortress 2",
         4646
        ],
        [
         "Counter-Strike Global Offensive",
         2789
        ],
        [
         "Unturned",
         2632
        ],
        [
         "Left 4 Dead 2",
         1752
        ],
        [
         "Counter-Strike Source",
         1693
        ],
        [
         "Counter-Strike",
         1424
        ],
        [
         "Garry's Mod",
         1397
        ],
        [
         "The Elder Scrolls V Skyrim",
         1394
        ],
        [
         "Warframe",
         1271
        ]
       ],
       "datasetInfos": [],
       "dbfsResultPath": null,
       "isJsonSchema": true,
       "metadata": {},
       "overflow": false,
       "plotOptions": {
        "customPlotOptions": {},
        "displayType": "table",
        "pivotAggregation": null,
        "pivotColumns": null,
        "xColumns": null,
        "yColumns": null
       },
       "removedWidgets": [],
       "schema": [
        {
         "metadata": "{}",
         "name": "game",
         "type": "\"string\""
        },
        {
         "metadata": "{}",
         "name": "count",
         "type": "\"long\""
        }
       ],
       "type": "table"
      }
     },
     "output_type": "display_data"
    },
    {
     "output_type": "display_data",
     "data": {
      "text/plain": [
       "Databricks visualization. Run in Databricks to view."
      ]
     },
     "metadata": {
      "application/vnd.databricks.v1.subcommand+json": {
       "baseErrorDetails": null,
       "bindings": {},
       "collapsed": false,
       "command": "%python\n__backend_agg_display_orig = display\n__backend_agg_dfs = []\ndef __backend_agg_display_new(df):\n    __backend_agg_df_modules = [\"pandas.core.frame\", \"databricks.koalas.frame\", \"pyspark.sql.dataframe\", \"pyspark.pandas.frame\", \"pyspark.sql.connect.dataframe\"]\n    if (type(df).__module__ in __backend_agg_df_modules and type(df).__name__ == 'DataFrame') or isinstance(df, list):\n        __backend_agg_dfs.append(df)\n\ndisplay = __backend_agg_display_new\n\ndef __backend_agg_user_code_fn():\n    import base64\n    exec(base64.standard_b64decode(\"I01vdmllcyB3aXRoIGhpZ2hlc3QgbnVtYmVyIG9mIG1lbWJlcnMKCnN0ZWFtXzIwMGtfaW5kZXhlZC5ncm91cEJ5KCJnYW1lIikuY291bnQoKS5vcmRlckJ5KCJjb3VudCIsIGFzY2VuZGluZz1GYWxzZSkubGltaXQoMTApLmRpc3BsYXkoKQ==\").decode())\n\ntry:\n    # run user code\n    __backend_agg_user_code_fn()\n\n    #reset display function\n    display = __backend_agg_display_orig\n\n    if len(__backend_agg_dfs) > 0:\n        # create a temp view\n        if type(__backend_agg_dfs[0]).__module__ == \"databricks.koalas.frame\":\n            # koalas dataframe\n            __backend_agg_dfs[0].to_spark().createOrReplaceTempView(\"DatabricksView8e76532\")\n        elif type(__backend_agg_dfs[0]).__module__ == \"pandas.core.frame\" or isinstance(__backend_agg_dfs[0], list):\n            # pandas dataframe\n            spark.createDataFrame(__backend_agg_dfs[0]).createOrReplaceTempView(\"DatabricksView8e76532\")\n        else:\n            __backend_agg_dfs[0].createOrReplaceTempView(\"DatabricksView8e76532\")\n        #run backend agg\n        display(spark.sql(\"\"\"WITH q AS (select * from DatabricksView8e76532) SELECT `game`,SUM(`count`) `column_e9b90ebd2` FROM q GROUP BY `game`\"\"\"))\n    else:\n        displayHTML(\"dataframe no longer exists. If you're using dataframe.display(), use display(dataframe) instead.\")\n\n\nfinally:\n    spark.sql(\"drop view if exists DatabricksView8e76532\")\n    display = __backend_agg_display_orig\n    del __backend_agg_display_new\n    del __backend_agg_display_orig\n    del __backend_agg_dfs\n    del __backend_agg_user_code_fn\n\n",
       "commandTitle": "Visualization 1",
       "commandType": "auto",
       "commandVersion": 0,
       "commentThread": [],
       "commentsVisible": false,
       "contentSha256Hex": null,
       "customPlotOptions": {
        "redashChart": [
         {
          "key": "type",
          "value": "CHART"
         },
         {
          "key": "options",
          "value": {
           "alignYAxesAtZero": true,
           "coefficient": 1,
           "columnConfigurationMap": {
            "x": {
             "column": "game",
             "id": "column_e9b90ebd1"
            },
            "y": [
             {
              "column": "count",
              "id": "column_e9b90ebd2",
              "transform": "SUM"
             }
            ]
           },
           "dateTimeFormat": "DD/MM/YYYY HH:mm",
           "direction": {
            "type": "counterclockwise"
           },
           "error_y": {
            "type": "data",
            "visible": true
           },
           "globalSeriesType": "column",
           "isAggregationOn": true,
           "legend": {
            "traceorder": "normal"
           },
           "missingValuesAsZero": true,
           "numberFormat": "0,0.[00000]",
           "percentFormat": "0[.]00%",
           "series": {
            "error_y": {
             "type": "data",
             "visible": true
            },
            "stacking": null
           },
           "seriesOptions": {
            "column_e9b90ebd2": {
             "name": "count",
             "yAxis": 0
            }
           },
           "showDataLabels": false,
           "sizemode": "diameter",
           "sortX": true,
           "sortY": true,
           "swappedAxes": false,
           "textFormat": "",
           "useAggregationsUi": true,
           "valuesOptions": {},
           "version": 2,
           "xAxis": {
            "labels": {
             "enabled": true
            },
            "type": "-"
           },
           "yAxis": [
            {
             "type": "-"
            },
            {
             "opposite": true,
             "type": "-"
            }
           ]
          }
         }
        ]
       },
       "datasetPreviewNameToCmdIdMap": {},
       "diffDeletes": [],
       "diffInserts": [],
       "displayType": "redashChart",
       "error": null,
       "errorDetails": null,
       "errorSummary": null,
       "errorTraceType": null,
       "finishTime": 0,
       "globalVars": {},
       "guid": "",
       "height": "auto",
       "hideCommandCode": false,
       "hideCommandResult": false,
       "iPythonMetadata": null,
       "inputWidgets": {},
       "isLockedInExamMode": false,
       "latestUser": "a user",
       "latestUserId": null,
       "listResultMetadata": null,
       "metadata": {
        "byteLimit": 2048000,
        "rowLimit": 10000
       },
       "nuid": "b48c5d2b-813a-4464-9b5b-cca02abb79f8",
       "origId": 0,
       "parentHierarchy": [],
       "pivotAggregation": null,
       "pivotColumns": null,
       "position": 8.0,
       "resultDbfsErrorMessage": null,
       "resultDbfsStatus": "INLINED_IN_TREE",
       "results": null,
       "showCommandTitle": false,
       "startTime": 0,
       "state": "finished",
       "streamStates": {},
       "subcommandOptions": {
        "queryPlan": {
         "groups": [
          {
           "column": "game",
           "type": "column"
          }
         ],
         "selects": [
          {
           "column": "game",
           "type": "column"
          },
          {
           "alias": "column_e9b90ebd2",
           "args": [
            {
             "column": "count",
             "type": "column"
            }
           ],
           "function": "SUM",
           "type": "function"
          }
         ]
        }
       },
       "submitTime": 0,
       "subtype": "tableResultSubCmd.visualization",
       "tableResultIndex": 0,
       "useConsistentColors": false,
       "version": "CommandV1",
       "width": "auto",
       "workflows": [],
       "xColumns": null,
       "yColumns": null
      }
     },
     "output_type": "display_data"
    }
   ],
   "source": [
    "#Movies with highest number of members\n",
    "\n",
    "steam_200k_indexed.groupBy(\"game\").count().orderBy(\"count\", ascending=False).limit(10).display()"
   ]
  },
  {
   "cell_type": "code",
   "execution_count": 0,
   "metadata": {
    "application/vnd.databricks.v1+cell": {
     "cellMetadata": {
      "byteLimit": 2048000,
      "rowLimit": 10000
     },
     "inputWidgets": {},
     "nuid": "17bff0e6-2237-4ddb-abc2-41fee54efdee",
     "showTitle": false,
     "title": ""
    }
   },
   "outputs": [],
   "source": [
    "steam_200k.createOrReplaceTempView(\"steam_200kView\")"
   ]
  },
  {
   "cell_type": "code",
   "execution_count": 0,
   "metadata": {
    "application/vnd.databricks.v1+cell": {
     "cellMetadata": {
      "byteLimit": 2048000,
      "implicitDf": true,
      "rowLimit": 10000
     },
     "inputWidgets": {},
     "nuid": "dbead0cd-a4f5-46ef-b2b8-433d425ba24d",
     "showTitle": false,
     "title": ""
    }
   },
   "outputs": [
    {
     "output_type": "display_data",
     "data": {
      "text/html": [
       "<style scoped>\n",
       "  .table-result-container {\n",
       "    max-height: 300px;\n",
       "    overflow: auto;\n",
       "  }\n",
       "  table, th, td {\n",
       "    border: 1px solid black;\n",
       "    border-collapse: collapse;\n",
       "  }\n",
       "  th, td {\n",
       "    padding: 5px;\n",
       "  }\n",
       "  th {\n",
       "    text-align: left;\n",
       "  }\n",
       "</style><div class='table-result-container'><table class='table-result'><thead style='background-color: white'><tr><th>game</th><th>count</th></tr></thead><tbody><tr><td>Dota 2</td><td>9682</td></tr><tr><td>Team Fortress 2</td><td>4646</td></tr><tr><td>Counter-Strike Global Offensive</td><td>2789</td></tr><tr><td>Unturned</td><td>2632</td></tr><tr><td>Left 4 Dead 2</td><td>1752</td></tr><tr><td>Counter-Strike Source</td><td>1693</td></tr><tr><td>Counter-Strike</td><td>1424</td></tr><tr><td>Garry's Mod</td><td>1397</td></tr><tr><td>The Elder Scrolls V Skyrim</td><td>1394</td></tr><tr><td>Warframe</td><td>1271</td></tr></tbody></table></div>"
      ]
     },
     "metadata": {
      "application/vnd.databricks.v1+output": {
       "addedWidgets": {},
       "aggData": [],
       "aggError": "",
       "aggOverflow": false,
       "aggSchema": [],
       "aggSeriesLimitReached": false,
       "aggType": "",
       "arguments": {},
       "columnCustomDisplayInfos": {},
       "data": [
        [
         "Dota 2",
         9682
        ],
        [
         "Team Fortress 2",
         4646
        ],
        [
         "Counter-Strike Global Offensive",
         2789
        ],
        [
         "Unturned",
         2632
        ],
        [
         "Left 4 Dead 2",
         1752
        ],
        [
         "Counter-Strike Source",
         1693
        ],
        [
         "Counter-Strike",
         1424
        ],
        [
         "Garry's Mod",
         1397
        ],
        [
         "The Elder Scrolls V Skyrim",
         1394
        ],
        [
         "Warframe",
         1271
        ]
       ],
       "datasetInfos": [],
       "dbfsResultPath": null,
       "isJsonSchema": true,
       "metadata": {},
       "overflow": false,
       "plotOptions": {
        "customPlotOptions": {},
        "displayType": "table",
        "pivotAggregation": null,
        "pivotColumns": null,
        "xColumns": null,
        "yColumns": null
       },
       "removedWidgets": [],
       "schema": [
        {
         "metadata": "{}",
         "name": "game",
         "type": "\"string\""
        },
        {
         "metadata": "{}",
         "name": "count",
         "type": "\"long\""
        }
       ],
       "type": "table"
      }
     },
     "output_type": "display_data"
    }
   ],
   "source": [
    "%sql\n",
    "\n",
    "select steam_200kView.game, count(*) as count from steam_200kView group by 1 order by count(*) desc limit 10"
   ]
  },
  {
   "cell_type": "code",
   "execution_count": 0,
   "metadata": {
    "application/vnd.databricks.v1+cell": {
     "cellMetadata": {
      "byteLimit": 2048000,
      "rowLimit": 10000
     },
     "inputWidgets": {},
     "nuid": "4f1ce8ed-f293-4e4b-9fea-56ad6a8dd708",
     "showTitle": false,
     "title": ""
    }
   },
   "outputs": [
    {
     "output_type": "stream",
     "name": "stdout",
     "output_type": "stream",
     "text": [
      "+---------+--------------------+---------+-----+-------+\n|   userId|                game|behaviour|value|game_id|\n+---------+--------------------+---------+-----+-------+\n|151603712|The Elder Scrolls...|     play|  273|      8|\n|151603712|           Fallout 4|     play|   87|    100|\n|151603712|               Spore|     play|   14|    332|\n|151603712|   Fallout New Vegas|     play|   12|     29|\n|151603712|       Left 4 Dead 2|     play|    8|      4|\n+---------+--------------------+---------+-----+-------+\nonly showing top 5 rows\n\n+---------+--------------------+---------+-----+-------+\n|   userId|                game|behaviour|value|game_id|\n+---------+--------------------+---------+-----+-------+\n|151603712|The Elder Scrolls...| purchase|    1|      8|\n|151603712|           Fallout 4| purchase|    1|    100|\n|151603712|               Spore| purchase|    1|    332|\n|151603712|   Fallout New Vegas| purchase|    1|     29|\n|151603712|       Left 4 Dead 2| purchase|    1|      4|\n+---------+--------------------+---------+-----+-------+\nonly showing top 5 rows\n\n"
     ]
    }
   ],
   "source": [
    "#Split the data based on the behaviour and then train the model seperately\n",
    "from pyspark.sql.functions import col\n",
    "\n",
    "game_play = steam_200k_indexed.filter(steam_200k.behaviour == \"play\")\n",
    "game_purchase = steam_200k_indexed.filter(steam_200k.behaviour == \"purchase\")\n",
    "\n",
    "game_play.show(5)\n",
    "game_purchase.show(5)"
   ]
  },
  {
   "cell_type": "code",
   "execution_count": 0,
   "metadata": {
    "application/vnd.databricks.v1+cell": {
     "cellMetadata": {
      "byteLimit": 2048000,
      "rowLimit": 10000
     },
     "inputWidgets": {},
     "nuid": "059009a6-c26e-4b05-bdce-6d4c92d1e7aa",
     "showTitle": false,
     "title": ""
    }
   },
   "outputs": [
    {
     "output_type": "display_data",
     "data": {
      "text/html": [
       "<style scoped>\n",
       "  .table-result-container {\n",
       "    max-height: 300px;\n",
       "    overflow: auto;\n",
       "  }\n",
       "  table, th, td {\n",
       "    border: 1px solid black;\n",
       "    border-collapse: collapse;\n",
       "  }\n",
       "  th, td {\n",
       "    padding: 5px;\n",
       "  }\n",
       "  th {\n",
       "    text-align: left;\n",
       "  }\n",
       "</style><div class='table-result-container'><table class='table-result'><thead style='background-color: white'><tr><th>behaviour</th><th>count</th></tr></thead><tbody><tr><td>purchase</td><td>129511</td></tr></tbody></table></div>"
      ]
     },
     "metadata": {
      "application/vnd.databricks.v1+output": {
       "addedWidgets": {},
       "aggData": [],
       "aggError": "",
       "aggOverflow": false,
       "aggSchema": [],
       "aggSeriesLimitReached": false,
       "aggType": "",
       "arguments": {},
       "columnCustomDisplayInfos": {},
       "data": [
        [
         "purchase",
         129511
        ]
       ],
       "datasetInfos": [],
       "dbfsResultPath": null,
       "isJsonSchema": true,
       "metadata": {},
       "overflow": false,
       "plotOptions": {
        "customPlotOptions": {},
        "displayType": "table",
        "pivotAggregation": null,
        "pivotColumns": null,
        "xColumns": null,
        "yColumns": null
       },
       "removedWidgets": [],
       "schema": [
        {
         "metadata": "{}",
         "name": "behaviour",
         "type": "\"string\""
        },
        {
         "metadata": "{}",
         "name": "count",
         "type": "\"long\""
        }
       ],
       "type": "table"
      }
     },
     "output_type": "display_data"
    },
    {
     "output_type": "display_data",
     "data": {
      "text/html": [
       "<style scoped>\n",
       "  .table-result-container {\n",
       "    max-height: 300px;\n",
       "    overflow: auto;\n",
       "  }\n",
       "  table, th, td {\n",
       "    border: 1px solid black;\n",
       "    border-collapse: collapse;\n",
       "  }\n",
       "  th, td {\n",
       "    padding: 5px;\n",
       "  }\n",
       "  th {\n",
       "    text-align: left;\n",
       "  }\n",
       "</style><div class='table-result-container'><table class='table-result'><thead style='background-color: white'><tr><th>behaviour</th><th>count</th></tr></thead><tbody><tr><td>play</td><td>70489</td></tr></tbody></table></div>"
      ]
     },
     "metadata": {
      "application/vnd.databricks.v1+output": {
       "addedWidgets": {},
       "aggData": [],
       "aggError": "",
       "aggOverflow": false,
       "aggSchema": [],
       "aggSeriesLimitReached": false,
       "aggType": "",
       "arguments": {},
       "columnCustomDisplayInfos": {},
       "data": [
        [
         "play",
         70489
        ]
       ],
       "datasetInfos": [],
       "dbfsResultPath": null,
       "isJsonSchema": true,
       "metadata": {},
       "overflow": false,
       "plotOptions": {
        "customPlotOptions": {},
        "displayType": "table",
        "pivotAggregation": null,
        "pivotColumns": null,
        "xColumns": null,
        "yColumns": null
       },
       "removedWidgets": [],
       "schema": [
        {
         "metadata": "{}",
         "name": "behaviour",
         "type": "\"string\""
        },
        {
         "metadata": "{}",
         "name": "count",
         "type": "\"long\""
        }
       ],
       "type": "table"
      }
     },
     "output_type": "display_data"
    }
   ],
   "source": [
    "# Are there any instances of game not purchased\n",
    "\n",
    "game_purchase.groupBy(\"behaviour\").count().orderBy(\"count\", ascending=False).display()\n",
    "game_play.groupBy(\"behaviour\").count().orderBy(\"count\", ascending=False).display()\n",
    "\n",
    "#There are more games purchased than games played. Decided to train the model on the two implicit feedback"
   ]
  },
  {
   "cell_type": "code",
   "execution_count": 0,
   "metadata": {
    "application/vnd.databricks.v1+cell": {
     "cellMetadata": {
      "byteLimit": 2048000,
      "rowLimit": 10000
     },
     "inputWidgets": {},
     "nuid": "25be0394-fd72-4f7e-a742-5f969b9b54b6",
     "showTitle": true,
     "title": "Splitting the dataset"
    }
   },
   "outputs": [],
   "source": [
    "# Train on played game\n",
    "# Train, test, splitting\n",
    "\n",
    "(training, test) = game_purchase.randomSplit([0.7, 0.3])"
   ]
  },
  {
   "cell_type": "code",
   "execution_count": 0,
   "metadata": {
    "application/vnd.databricks.v1+cell": {
     "cellMetadata": {
      "byteLimit": 2048000,
      "rowLimit": 10000
     },
     "inputWidgets": {},
     "nuid": "1b418e50-7c6d-4c16-abeb-ae4da0dd964f",
     "showTitle": false,
     "title": ""
    }
   },
   "outputs": [
    {
     "output_type": "stream",
     "name": "stdout",
     "output_type": "stream",
     "text": [
      "+------+--------------------+---------+-----+-------+\n|userId|                game|behaviour|value|game_id|\n+------+--------------------+---------+-----+-------+\n|  5250|         Alien Swarm| purchase|    1|     32|\n|  5250|     Cities Skylines| purchase|    1|    158|\n|  5250|Counter-Strike So...| purchase|    1|      5|\n|  5250|       Day of Defeat| purchase|    1|     28|\n|  5250|  Deathmatch Classic| purchase|    1|     34|\n|  5250|Deus Ex Human Rev...| purchase|    1|    118|\n|  5250|              Dota 2| purchase|    1|      0|\n|  5250|           Half-Life| purchase|    1|     45|\n|  5250|         Half-Life 2| purchase|    1|     16|\n|  5250|Half-Life 2 Death...| purchase|    1|     13|\n|  5250|Half-Life 2 Episo...| purchase|    1|     37|\n|  5250|Half-Life 2 Episo...| purchase|    1|     44|\n|  5250|Half-Life Opposin...| purchase|    1|     75|\n|  5250|              Portal| purchase|    1|     14|\n|  5250|            Ricochet| purchase|    1|     35|\n|  5250|     Team Fortress 2| purchase|    1|      1|\n|  5250|Team Fortress Cla...| purchase|    1|     79|\n| 76767|Age of Empires II...| purchase|    1|     61|\n| 76767|         Alien Swarm| purchase|    1|     32|\n| 76767|Arma 2 Operation ...| purchase|    1|    129|\n+------+--------------------+---------+-----+-------+\nonly showing top 20 rows\n\n"
     ]
    }
   ],
   "source": [
    "training.show()"
   ]
  },
  {
   "cell_type": "code",
   "execution_count": 0,
   "metadata": {
    "application/vnd.databricks.v1+cell": {
     "cellMetadata": {
      "byteLimit": 2048000,
      "rowLimit": 10000
     },
     "inputWidgets": {},
     "nuid": "08d3e381-15d7-4f23-a476-0d1652631223",
     "showTitle": true,
     "title": "Creating the model"
    }
   },
   "outputs": [
    {
     "output_type": "stream",
     "name": "stderr",
     "output_type": "stream",
     "text": [
      "2024/05/02 10:42:01 INFO mlflow.utils.autologging_utils: Created MLflow autologging run with ID '4b79f6e56e054f899660bfe385667e60', which will track hyperparameters, performance metrics, model artifacts, and lineage information for the current pyspark.ml workflow\n2024/05/02 10:42:17 WARNING mlflow.pyspark.ml: Model ALS_4521b97d88d5 will not be autologged because it is not allowlisted or or because one or more of its nested models are not allowlisted. Call mlflow.spark.log_model() to explicitly log the model, or specify a custom allowlist via the spark.mlflow.pysparkml.autolog.logModelAllowlistFile Spark conf (see mlflow.pyspark.ml.autolog docs for more info).\n"
     ]
    }
   ],
   "source": [
    "from pyspark.ml.recommendation import ALS\n",
    "\n",
    "recommender = ALS(maxIter=5, regParam=0.01, userCol=\"userId\", itemCol=\"game_id\", ratingCol=\"value\")\n",
    "\n",
    "model = recommender.fit(training)"
   ]
  },
  {
   "cell_type": "code",
   "execution_count": 0,
   "metadata": {
    "application/vnd.databricks.v1+cell": {
     "cellMetadata": {
      "byteLimit": 2048000,
      "rowLimit": 10000
     },
     "inputWidgets": {},
     "nuid": "c5a34a09-9da9-4d5e-88ce-9f02d340b22b",
     "showTitle": true,
     "title": "Prediciting using the test dataset"
    }
   },
   "outputs": [],
   "source": [
    "predictions = model.transform(test).dropna()"
   ]
  },
  {
   "cell_type": "code",
   "execution_count": 0,
   "metadata": {
    "application/vnd.databricks.v1+cell": {
     "cellMetadata": {
      "byteLimit": 2048000,
      "rowLimit": 10000
     },
     "inputWidgets": {},
     "nuid": "b61200e7-9798-411a-8b0e-891e1f1b0927",
     "showTitle": false,
     "title": ""
    }
   },
   "outputs": [
    {
     "output_type": "stream",
     "name": "stdout",
     "output_type": "stream",
     "text": [
      "+--------+--------------------+---------+-----+-------+----------+\n|  userId|                game|behaviour|value|game_id|prediction|\n+--------+--------------------+---------+-----+-------+----------+\n|16167221|    Anno 1404 Venice| purchase|    1|   2102| 0.8999708|\n|16167221|Dark Messiah of M...| purchase|    1|    638| 0.9913661|\n|16167221|         Half-Life 2| purchase|    1|     16| 0.9942625|\n|16167221|  Hitman Blood Money| purchase|    1|    413|0.99875677|\n|16167221|Oddworld Abe's Ex...| purchase|    1|   1106| 1.0095332|\n|16167221|              Portal| purchase|    1|     14|  0.992677|\n|16167221|            Warframe| purchase|    1|      9|  0.943786|\n|35264447|  Bejeweled 2 Deluxe| purchase|    1|   2637| 0.5058149|\n|35264447|     BookWorm Deluxe| purchase|    1|   2107| 1.0739595|\n|35264447|Bookworm Adventur...| purchase|    1|   2215| 1.0524024|\n|35264447|Insaniquarium! De...| purchase|    1|   2066| 1.0379715|\n|35264447|       Peggle Deluxe| purchase|    1|   1061| 1.0513273|\n|35264447|         Zuma Deluxe| purchase|    1|   3045| 0.9893326|\n|41310195|Half-Life 2 Death...| purchase|    1|     13|0.99382305|\n|84471496|12 Labours of Her...| purchase|    1|   1466| 1.0123106|\n|84471496|              Arma 3| purchase|    1|    110|0.98186666|\n|84471496|         Arma 3 Zeus| purchase|    1|    253| 0.9843962|\n|84471496|Arma Cold War Ass...| purchase|    1|    376| 1.0023391|\n|84471496|      Blade Symphony| purchase|    1|   1245| 1.0071671|\n|84471496|    Fistful of Frags| purchase|    1|    163| 0.9284247|\n+--------+--------------------+---------+-----+-------+----------+\nonly showing top 20 rows\n\n"
     ]
    }
   ],
   "source": [
    "predictions.show()"
   ]
  },
  {
   "cell_type": "code",
   "execution_count": 0,
   "metadata": {
    "application/vnd.databricks.v1+cell": {
     "cellMetadata": {
      "byteLimit": 2048000,
      "rowLimit": 10000
     },
     "inputWidgets": {},
     "nuid": "313d3063-9fb9-43b0-8352-8823f3acbb61",
     "showTitle": true,
     "title": "Evaluate the model"
    }
   },
   "outputs": [
    {
     "output_type": "stream",
     "name": "stdout",
     "output_type": "stream",
     "text": [
      "Root Mean Square Error is 0.0889128\n"
     ]
    }
   ],
   "source": [
    "from pyspark.ml.evaluation import RegressionEvaluator\n",
    "\n",
    "evaluator = RegressionEvaluator(metricName=\"rmse\", labelCol=\"value\", predictionCol=\"prediction\")\n",
    "\n",
    "rmse = evaluator.evaluate(predictions)\n",
    "\n",
    "print('Root Mean Square Error is %g' %rmse)"
   ]
  },
  {
   "cell_type": "code",
   "execution_count": 0,
   "metadata": {
    "application/vnd.databricks.v1+cell": {
     "cellMetadata": {
      "byteLimit": 2048000,
      "rowLimit": 10000
     },
     "inputWidgets": {},
     "nuid": "df7ffbbf-0f01-4160-97b1-22e075dbcc39",
     "showTitle": true,
     "title": "Hyperparamter tuning using GridSearch"
    }
   },
   "outputs": [],
   "source": [
    "from pyspark.ml.tuning import ParamGridBuilder\n",
    " \n",
    "als = ALS(maxIter=10, userCol=\"userId\", itemCol=\"game_id\", ratingCol=\"value\", coldStartStrategy=\"drop\", seed=100)\n",
    " \n",
    "# Create a parameter grid\n",
    " \n",
    "parameters = ParamGridBuilder()\\\n",
    ".addGrid(als.rank, [5, 10, 15,20])\\\n",
    ".addGrid(als.regParam, [0.001, 0.005, 0.01, 0.05, 0.1])\\\n",
    ".build()"
   ]
  },
  {
   "cell_type": "code",
   "execution_count": 0,
   "metadata": {
    "application/vnd.databricks.v1+cell": {
     "cellMetadata": {
      "byteLimit": 2048000,
      "rowLimit": 10000
     },
     "inputWidgets": {},
     "nuid": "08e5aaf4-c778-4b0a-a786-e38953e6f0c9",
     "showTitle": false,
     "title": ""
    }
   },
   "outputs": [],
   "source": [
    "from pyspark.ml.tuning import TrainValidationSplit\n",
    " \n",
    "# Define TrainValidationSplit\n",
    " \n",
    "tvs = TrainValidationSplit()\\\n",
    ".setSeed(100)\\\n",
    ".setTrainRatio(0.75)\\\n",
    ".setEstimatorParamMaps(parameters)\\\n",
    ".setEstimator(recommender)\\\n",
    ".setEvaluator(evaluator)"
   ]
  },
  {
   "cell_type": "code",
   "execution_count": 0,
   "metadata": {
    "application/vnd.databricks.v1+cell": {
     "cellMetadata": {
      "byteLimit": 2048000,
      "rowLimit": 10000
     },
     "inputWidgets": {},
     "nuid": "37c37747-0af3-4991-9961-33188c26639d",
     "showTitle": false,
     "title": ""
    }
   },
   "outputs": [
    {
     "output_type": "stream",
     "name": "stderr",
     "output_type": "stream",
     "text": [
      "2024/05/02 10:42:29 INFO mlflow.utils.autologging_utils: Created MLflow autologging run with ID '7ab41f77097d4e3e8836b10f9c061d8d', which will track hyperparameters, performance metrics, model artifacts, and lineage information for the current pyspark.ml workflow\n2024/05/02 10:47:46 WARNING mlflow.utils.autologging_utils: Encountered unexpected error during pyspark.ml autologging: Tuning params should not include params not owned by the tuned estimator, but found a param ALS_effe246793ba__rank\n"
     ]
    }
   ],
   "source": [
    "# Train model using grid search\n",
    " \n",
    "gridsearchModel = tvs.fit(training)"
   ]
  },
  {
   "cell_type": "code",
   "execution_count": 0,
   "metadata": {
    "application/vnd.databricks.v1+cell": {
     "cellMetadata": {
      "byteLimit": 2048000,
      "rowLimit": 10000
     },
     "inputWidgets": {},
     "nuid": "245b3c38-b6b1-4f31-9f13-bd84dd260e03",
     "showTitle": false,
     "title": ""
    }
   },
   "outputs": [
    {
     "output_type": "stream",
     "name": "stdout",
     "output_type": "stream",
     "text": [
      "Parameters for the best model:\nRank Parameter: 10\nRegParam Parameter: 0.01\n"
     ]
    }
   ],
   "source": [
    "# Select best model and identify the parameters\n",
    " \n",
    "bestModel = gridsearchModel.bestModel\n",
    " \n",
    "print(\"Parameters for the best model:\")\n",
    "print(\"Rank Parameter: %g\" %bestModel.rank)\n",
    "print(\"RegParam Parameter: %g\" %bestModel._java_obj.parent().getRegParam())"
   ]
  },
  {
   "cell_type": "code",
   "execution_count": 0,
   "metadata": {
    "application/vnd.databricks.v1+cell": {
     "cellMetadata": {
      "byteLimit": 2048000,
      "rowLimit": 10000
     },
     "inputWidgets": {},
     "nuid": "16987355-bc84-4a98-b830-d8bf3e99e03e",
     "showTitle": false,
     "title": ""
    }
   },
   "outputs": [
    {
     "output_type": "stream",
     "name": "stdout",
     "output_type": "stream",
     "text": [
      "Out[27]: 0.08891277362182896"
     ]
    }
   ],
   "source": [
    "evaluator.evaluate(bestModel.transform(test).dropna())"
   ]
  },
  {
   "cell_type": "code",
   "execution_count": 0,
   "metadata": {
    "application/vnd.databricks.v1+cell": {
     "cellMetadata": {
      "byteLimit": 2048000,
      "rowLimit": 10000
     },
     "inputWidgets": {},
     "nuid": "0d83ed3b-5734-4593-a5d7-0a50e73713dd",
     "showTitle": false,
     "title": ""
    }
   },
   "outputs": [],
   "source": [
    "# Recommended to all users\n",
    "\n",
    "userRecs = model.recommendForAllUsers(10)"
   ]
  },
  {
   "cell_type": "code",
   "execution_count": 0,
   "metadata": {
    "application/vnd.databricks.v1+cell": {
     "cellMetadata": {
      "byteLimit": 2048000,
      "rowLimit": 10000
     },
     "inputWidgets": {},
     "nuid": "ddb10361-2568-4847-a5c0-df851c0baecb",
     "showTitle": false,
     "title": ""
    }
   },
   "outputs": [
    {
     "output_type": "stream",
     "name": "stdout",
     "output_type": "stream",
     "text": [
      "+--------+--------------------+\n|  userId|     recommendations|\n+--------+--------------------+\n|   76767|[{1909, 1.4789294...|\n|  144736|[{1909, 1.4735514...|\n|  229911|[{1909, 1.4789824...|\n|  835015|[{1909, 1.4730397...|\n|  948368|[{1909, 1.4958116...|\n|  975449|[{1222, 1.2975358...|\n| 1268792|[{1909, 1.4785532...|\n| 2531540|[{1457, 1.4706628...|\n| 2753525|[{1352, 1.5829908...|\n| 3450426|[{1909, 1.448066}...|\n| 7923954|[{1457, 1.4623661...|\n| 7987640|[{1909, 1.5123131...|\n| 8259307|[{1457, 1.4236703...|\n| 8567888|[{1909, 1.4315543...|\n| 8585433|[{1457, 1.3505102...|\n| 8784496|[{1909, 1.398669}...|\n| 8795607|[{1909, 1.4337885...|\n|10144413|[{1457, 1.3930854...|\n|10595342|[{1457, 1.4211575...|\n|10599862|[{1352, 1.646375}...|\n+--------+--------------------+\nonly showing top 20 rows\n\n"
     ]
    }
   ],
   "source": [
    "userRecs.show()"
   ]
  },
  {
   "cell_type": "code",
   "execution_count": 0,
   "metadata": {
    "application/vnd.databricks.v1+cell": {
     "cellMetadata": {},
     "inputWidgets": {},
     "nuid": "b00d2db9-69e9-482d-8312-c1a007c131b4",
     "showTitle": false,
     "title": ""
    }
   },
   "outputs": [],
   "source": []
  }
 ],
 "metadata": {
  "application/vnd.databricks.v1+notebook": {
   "dashboards": [],
   "language": "python",
   "notebookMetadata": {
    "mostRecentlyExecutedCommandWithImplicitDF": {
     "commandId": 1720607711467829,
     "dataframes": [
      "_sqldf"
     ]
    },
    "pythonIndentUnit": 4
   },
   "notebookName": "Soliu_Fatai ML",
   "widgets": {}
  }
 },
 "nbformat": 4,
 "nbformat_minor": 0
}
